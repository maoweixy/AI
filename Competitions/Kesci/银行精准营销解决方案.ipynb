{
 "cells": [
  {
   "cell_type": "code",
   "execution_count": 7,
   "metadata": {
    "ExecuteTime": {
     "end_time": "2020-02-25T07:55:49.952831Z",
     "start_time": "2020-02-25T07:55:46.311670Z"
    },
    "execution": {
     "iopub.execute_input": "2020-02-27T01:32:42.988598Z",
     "iopub.status.busy": "2020-02-27T01:32:42.986196Z",
     "iopub.status.idle": "2020-02-27T01:32:43.014950Z",
     "shell.execute_reply": "2020-02-27T01:32:43.012806Z",
     "shell.execute_reply.started": "2020-02-27T01:32:42.987969Z"
    }
   },
   "outputs": [],
   "source": [
    "# package imports\n",
    "import pandas as pd\n",
    "import numpy as np \n",
    "from IPython.core.interactiveshell import InteractiveShell\n",
    "InteractiveShell.ast_node_interactivity = \"all\"\n",
    "\n",
    "import matplotlib.pyplot as plt\n",
    "%matplotlib inline\n",
    "\n",
    "from sklearn import metrics\n",
    "\n",
    "from sklearn.model_selection import cross_validate, GridSearchCV\n",
    "from sklearn.model_selection import train_test_split"
   ]
  },
  {
   "cell_type": "markdown",
   "metadata": {},
   "source": [
    "# 查看数据"
   ]
  },
  {
   "cell_type": "code",
   "execution_count": 6,
   "metadata": {
    "ExecuteTime": {
     "end_time": "2020-02-25T07:55:50.224138Z",
     "start_time": "2020-02-25T07:55:49.957064Z"
    },
    "execution": {
     "iopub.execute_input": "2020-02-27T01:33:03.013794Z",
     "iopub.status.busy": "2020-02-27T01:33:03.013155Z",
     "iopub.status.idle": "2020-02-27T01:33:03.357661Z",
     "shell.execute_reply": "2020-02-27T01:33:03.356542Z",
     "shell.execute_reply.started": "2020-02-27T01:33:03.013693Z"
    }
   },
   "outputs": [],
   "source": [
    "# load train data to play with \n",
    "banking = pd.read_csv('train_set.csv')\n",
    "test = pd.read_csv('test_set.csv')\n",
    "banking.drop(columns = ['ID'], inplace = True)\n",
    "test.drop(columns = ['ID'], inplace = True)\n"
   ]
  },
  {
   "cell_type": "code",
   "execution_count": 8,
   "metadata": {
    "ExecuteTime": {
     "end_time": "2020-02-25T07:56:52.902101Z",
     "start_time": "2020-02-25T07:56:52.765120Z"
    },
    "scrolled": true
   },
   "outputs": [
    {
     "data": {
      "text/plain": [
       "(25317, 17)"
      ]
     },
     "execution_count": 8,
     "metadata": {},
     "output_type": "execute_result"
    },
    {
     "data": {
      "text/html": [
       "<div>\n",
       "<style scoped>\n",
       "    .dataframe tbody tr th:only-of-type {\n",
       "        vertical-align: middle;\n",
       "    }\n",
       "\n",
       "    .dataframe tbody tr th {\n",
       "        vertical-align: top;\n",
       "    }\n",
       "\n",
       "    .dataframe thead th {\n",
       "        text-align: right;\n",
       "    }\n",
       "</style>\n",
       "<table border=\"1\" class=\"dataframe\">\n",
       "  <thead>\n",
       "    <tr style=\"text-align: right;\">\n",
       "      <th></th>\n",
       "      <th>age</th>\n",
       "      <th>job</th>\n",
       "      <th>marital</th>\n",
       "      <th>education</th>\n",
       "      <th>default</th>\n",
       "      <th>balance</th>\n",
       "      <th>housing</th>\n",
       "      <th>loan</th>\n",
       "      <th>contact</th>\n",
       "      <th>day</th>\n",
       "      <th>month</th>\n",
       "      <th>duration</th>\n",
       "      <th>campaign</th>\n",
       "      <th>pdays</th>\n",
       "      <th>previous</th>\n",
       "      <th>poutcome</th>\n",
       "      <th>y</th>\n",
       "    </tr>\n",
       "  </thead>\n",
       "  <tbody>\n",
       "    <tr>\n",
       "      <th>0</th>\n",
       "      <td>43</td>\n",
       "      <td>management</td>\n",
       "      <td>married</td>\n",
       "      <td>tertiary</td>\n",
       "      <td>no</td>\n",
       "      <td>291</td>\n",
       "      <td>yes</td>\n",
       "      <td>no</td>\n",
       "      <td>unknown</td>\n",
       "      <td>9</td>\n",
       "      <td>may</td>\n",
       "      <td>150</td>\n",
       "      <td>2</td>\n",
       "      <td>-1</td>\n",
       "      <td>0</td>\n",
       "      <td>unknown</td>\n",
       "      <td>0</td>\n",
       "    </tr>\n",
       "    <tr>\n",
       "      <th>1</th>\n",
       "      <td>42</td>\n",
       "      <td>technician</td>\n",
       "      <td>divorced</td>\n",
       "      <td>primary</td>\n",
       "      <td>no</td>\n",
       "      <td>5076</td>\n",
       "      <td>yes</td>\n",
       "      <td>no</td>\n",
       "      <td>cellular</td>\n",
       "      <td>7</td>\n",
       "      <td>apr</td>\n",
       "      <td>99</td>\n",
       "      <td>1</td>\n",
       "      <td>251</td>\n",
       "      <td>2</td>\n",
       "      <td>other</td>\n",
       "      <td>0</td>\n",
       "    </tr>\n",
       "    <tr>\n",
       "      <th>2</th>\n",
       "      <td>47</td>\n",
       "      <td>admin.</td>\n",
       "      <td>married</td>\n",
       "      <td>secondary</td>\n",
       "      <td>no</td>\n",
       "      <td>104</td>\n",
       "      <td>yes</td>\n",
       "      <td>yes</td>\n",
       "      <td>cellular</td>\n",
       "      <td>14</td>\n",
       "      <td>jul</td>\n",
       "      <td>77</td>\n",
       "      <td>2</td>\n",
       "      <td>-1</td>\n",
       "      <td>0</td>\n",
       "      <td>unknown</td>\n",
       "      <td>0</td>\n",
       "    </tr>\n",
       "    <tr>\n",
       "      <th>3</th>\n",
       "      <td>28</td>\n",
       "      <td>management</td>\n",
       "      <td>single</td>\n",
       "      <td>secondary</td>\n",
       "      <td>no</td>\n",
       "      <td>-994</td>\n",
       "      <td>yes</td>\n",
       "      <td>yes</td>\n",
       "      <td>cellular</td>\n",
       "      <td>18</td>\n",
       "      <td>jul</td>\n",
       "      <td>174</td>\n",
       "      <td>2</td>\n",
       "      <td>-1</td>\n",
       "      <td>0</td>\n",
       "      <td>unknown</td>\n",
       "      <td>0</td>\n",
       "    </tr>\n",
       "    <tr>\n",
       "      <th>4</th>\n",
       "      <td>42</td>\n",
       "      <td>technician</td>\n",
       "      <td>divorced</td>\n",
       "      <td>secondary</td>\n",
       "      <td>no</td>\n",
       "      <td>2974</td>\n",
       "      <td>yes</td>\n",
       "      <td>no</td>\n",
       "      <td>unknown</td>\n",
       "      <td>21</td>\n",
       "      <td>may</td>\n",
       "      <td>187</td>\n",
       "      <td>5</td>\n",
       "      <td>-1</td>\n",
       "      <td>0</td>\n",
       "      <td>unknown</td>\n",
       "      <td>0</td>\n",
       "    </tr>\n",
       "  </tbody>\n",
       "</table>\n",
       "</div>"
      ],
      "text/plain": [
       "   age         job   marital  education default  balance housing loan  \\\n",
       "0   43  management   married   tertiary      no      291     yes   no   \n",
       "1   42  technician  divorced    primary      no     5076     yes   no   \n",
       "2   47      admin.   married  secondary      no      104     yes  yes   \n",
       "3   28  management    single  secondary      no     -994     yes  yes   \n",
       "4   42  technician  divorced  secondary      no     2974     yes   no   \n",
       "\n",
       "    contact  day month  duration  campaign  pdays  previous poutcome  y  \n",
       "0   unknown    9   may       150         2     -1         0  unknown  0  \n",
       "1  cellular    7   apr        99         1    251         2    other  0  \n",
       "2  cellular   14   jul        77         2     -1         0  unknown  0  \n",
       "3  cellular   18   jul       174         2     -1         0  unknown  0  \n",
       "4   unknown   21   may       187         5     -1         0  unknown  0  "
      ]
     },
     "execution_count": 8,
     "metadata": {},
     "output_type": "execute_result"
    },
    {
     "name": "stdout",
     "output_type": "stream",
     "text": [
      "<class 'pandas.core.frame.DataFrame'>\n",
      "RangeIndex: 25317 entries, 0 to 25316\n",
      "Data columns (total 17 columns):\n",
      " #   Column     Non-Null Count  Dtype \n",
      "---  ------     --------------  ----- \n",
      " 0   age        25317 non-null  int64 \n",
      " 1   job        25317 non-null  object\n",
      " 2   marital    25317 non-null  object\n",
      " 3   education  25317 non-null  object\n",
      " 4   default    25317 non-null  object\n",
      " 5   balance    25317 non-null  int64 \n",
      " 6   housing    25317 non-null  object\n",
      " 7   loan       25317 non-null  object\n",
      " 8   contact    25317 non-null  object\n",
      " 9   day        25317 non-null  int64 \n",
      " 10  month      25317 non-null  object\n",
      " 11  duration   25317 non-null  int64 \n",
      " 12  campaign   25317 non-null  int64 \n",
      " 13  pdays      25317 non-null  int64 \n",
      " 14  previous   25317 non-null  int64 \n",
      " 15  poutcome   25317 non-null  object\n",
      " 16  y          25317 non-null  int64 \n",
      "dtypes: int64(8), object(9)\n",
      "memory usage: 3.3+ MB\n"
     ]
    },
    {
     "data": {
      "text/html": [
       "<div>\n",
       "<style scoped>\n",
       "    .dataframe tbody tr th:only-of-type {\n",
       "        vertical-align: middle;\n",
       "    }\n",
       "\n",
       "    .dataframe tbody tr th {\n",
       "        vertical-align: top;\n",
       "    }\n",
       "\n",
       "    .dataframe thead th {\n",
       "        text-align: right;\n",
       "    }\n",
       "</style>\n",
       "<table border=\"1\" class=\"dataframe\">\n",
       "  <thead>\n",
       "    <tr style=\"text-align: right;\">\n",
       "      <th></th>\n",
       "      <th>age</th>\n",
       "      <th>balance</th>\n",
       "      <th>day</th>\n",
       "      <th>duration</th>\n",
       "      <th>campaign</th>\n",
       "      <th>pdays</th>\n",
       "      <th>previous</th>\n",
       "      <th>y</th>\n",
       "    </tr>\n",
       "  </thead>\n",
       "  <tbody>\n",
       "    <tr>\n",
       "      <th>count</th>\n",
       "      <td>25317.000000</td>\n",
       "      <td>25317.000000</td>\n",
       "      <td>25317.000000</td>\n",
       "      <td>25317.000000</td>\n",
       "      <td>25317.000000</td>\n",
       "      <td>25317.000000</td>\n",
       "      <td>25317.000000</td>\n",
       "      <td>25317.000000</td>\n",
       "    </tr>\n",
       "    <tr>\n",
       "      <th>mean</th>\n",
       "      <td>40.935379</td>\n",
       "      <td>1357.555082</td>\n",
       "      <td>15.835289</td>\n",
       "      <td>257.732393</td>\n",
       "      <td>2.772050</td>\n",
       "      <td>40.248766</td>\n",
       "      <td>0.591737</td>\n",
       "      <td>0.116957</td>\n",
       "    </tr>\n",
       "    <tr>\n",
       "      <th>std</th>\n",
       "      <td>10.634289</td>\n",
       "      <td>2999.822811</td>\n",
       "      <td>8.319480</td>\n",
       "      <td>256.975151</td>\n",
       "      <td>3.136097</td>\n",
       "      <td>100.213541</td>\n",
       "      <td>2.568313</td>\n",
       "      <td>0.321375</td>\n",
       "    </tr>\n",
       "    <tr>\n",
       "      <th>min</th>\n",
       "      <td>18.000000</td>\n",
       "      <td>-8019.000000</td>\n",
       "      <td>1.000000</td>\n",
       "      <td>0.000000</td>\n",
       "      <td>1.000000</td>\n",
       "      <td>-1.000000</td>\n",
       "      <td>0.000000</td>\n",
       "      <td>0.000000</td>\n",
       "    </tr>\n",
       "    <tr>\n",
       "      <th>25%</th>\n",
       "      <td>33.000000</td>\n",
       "      <td>73.000000</td>\n",
       "      <td>8.000000</td>\n",
       "      <td>103.000000</td>\n",
       "      <td>1.000000</td>\n",
       "      <td>-1.000000</td>\n",
       "      <td>0.000000</td>\n",
       "      <td>0.000000</td>\n",
       "    </tr>\n",
       "    <tr>\n",
       "      <th>50%</th>\n",
       "      <td>39.000000</td>\n",
       "      <td>448.000000</td>\n",
       "      <td>16.000000</td>\n",
       "      <td>181.000000</td>\n",
       "      <td>2.000000</td>\n",
       "      <td>-1.000000</td>\n",
       "      <td>0.000000</td>\n",
       "      <td>0.000000</td>\n",
       "    </tr>\n",
       "    <tr>\n",
       "      <th>75%</th>\n",
       "      <td>48.000000</td>\n",
       "      <td>1435.000000</td>\n",
       "      <td>21.000000</td>\n",
       "      <td>317.000000</td>\n",
       "      <td>3.000000</td>\n",
       "      <td>-1.000000</td>\n",
       "      <td>0.000000</td>\n",
       "      <td>0.000000</td>\n",
       "    </tr>\n",
       "    <tr>\n",
       "      <th>max</th>\n",
       "      <td>95.000000</td>\n",
       "      <td>102127.000000</td>\n",
       "      <td>31.000000</td>\n",
       "      <td>3881.000000</td>\n",
       "      <td>55.000000</td>\n",
       "      <td>854.000000</td>\n",
       "      <td>275.000000</td>\n",
       "      <td>1.000000</td>\n",
       "    </tr>\n",
       "  </tbody>\n",
       "</table>\n",
       "</div>"
      ],
      "text/plain": [
       "                age        balance           day      duration      campaign  \\\n",
       "count  25317.000000   25317.000000  25317.000000  25317.000000  25317.000000   \n",
       "mean      40.935379    1357.555082     15.835289    257.732393      2.772050   \n",
       "std       10.634289    2999.822811      8.319480    256.975151      3.136097   \n",
       "min       18.000000   -8019.000000      1.000000      0.000000      1.000000   \n",
       "25%       33.000000      73.000000      8.000000    103.000000      1.000000   \n",
       "50%       39.000000     448.000000     16.000000    181.000000      2.000000   \n",
       "75%       48.000000    1435.000000     21.000000    317.000000      3.000000   \n",
       "max       95.000000  102127.000000     31.000000   3881.000000     55.000000   \n",
       "\n",
       "              pdays      previous             y  \n",
       "count  25317.000000  25317.000000  25317.000000  \n",
       "mean      40.248766      0.591737      0.116957  \n",
       "std      100.213541      2.568313      0.321375  \n",
       "min       -1.000000      0.000000      0.000000  \n",
       "25%       -1.000000      0.000000      0.000000  \n",
       "50%       -1.000000      0.000000      0.000000  \n",
       "75%       -1.000000      0.000000      0.000000  \n",
       "max      854.000000    275.000000      1.000000  "
      ]
     },
     "execution_count": 8,
     "metadata": {},
     "output_type": "execute_result"
    }
   ],
   "source": [
    "banking.shape\n",
    "banking.head()\n",
    "banking.info()\n",
    "banking.describe()"
   ]
  },
  {
   "cell_type": "markdown",
   "metadata": {},
   "source": [
    "## 查看类别数据"
   ]
  },
  {
   "cell_type": "code",
   "execution_count": 4,
   "metadata": {
    "ExecuteTime": {
     "end_time": "2020-02-25T07:55:50.590111Z",
     "start_time": "2020-02-25T07:55:50.365281Z"
    }
   },
   "outputs": [
    {
     "data": {
      "text/plain": [
       "'job'"
      ]
     },
     "execution_count": 4,
     "metadata": {},
     "output_type": "execute_result"
    },
    {
     "data": {
      "text/plain": [
       "blue-collar      5456\n",
       "management       5296\n",
       "technician       4241\n",
       "admin.           2909\n",
       "services         2342\n",
       "retired          1273\n",
       "self-employed     884\n",
       "entrepreneur      856\n",
       "unemployed        701\n",
       "housemaid         663\n",
       "student           533\n",
       "unknown           163\n",
       "Name: job, dtype: int64"
      ]
     },
     "execution_count": 4,
     "metadata": {},
     "output_type": "execute_result"
    },
    {
     "data": {
      "text/plain": [
       "'marital'"
      ]
     },
     "execution_count": 4,
     "metadata": {},
     "output_type": "execute_result"
    },
    {
     "data": {
      "text/plain": [
       "married     15245\n",
       "single       7157\n",
       "divorced     2915\n",
       "Name: marital, dtype: int64"
      ]
     },
     "execution_count": 4,
     "metadata": {},
     "output_type": "execute_result"
    },
    {
     "data": {
      "text/plain": [
       "'education'"
      ]
     },
     "execution_count": 4,
     "metadata": {},
     "output_type": "execute_result"
    },
    {
     "data": {
      "text/plain": [
       "secondary    12957\n",
       "tertiary      7447\n",
       "primary       3848\n",
       "unknown       1065\n",
       "Name: education, dtype: int64"
      ]
     },
     "execution_count": 4,
     "metadata": {},
     "output_type": "execute_result"
    },
    {
     "data": {
      "text/plain": [
       "'default'"
      ]
     },
     "execution_count": 4,
     "metadata": {},
     "output_type": "execute_result"
    },
    {
     "data": {
      "text/plain": [
       "no     24869\n",
       "yes      448\n",
       "Name: default, dtype: int64"
      ]
     },
     "execution_count": 4,
     "metadata": {},
     "output_type": "execute_result"
    },
    {
     "data": {
      "text/plain": [
       "'housing'"
      ]
     },
     "execution_count": 4,
     "metadata": {},
     "output_type": "execute_result"
    },
    {
     "data": {
      "text/plain": [
       "yes    14020\n",
       "no     11297\n",
       "Name: housing, dtype: int64"
      ]
     },
     "execution_count": 4,
     "metadata": {},
     "output_type": "execute_result"
    },
    {
     "data": {
      "text/plain": [
       "'loan'"
      ]
     },
     "execution_count": 4,
     "metadata": {},
     "output_type": "execute_result"
    },
    {
     "data": {
      "text/plain": [
       "no     21258\n",
       "yes     4059\n",
       "Name: loan, dtype: int64"
      ]
     },
     "execution_count": 4,
     "metadata": {},
     "output_type": "execute_result"
    },
    {
     "data": {
      "text/plain": [
       "'contact'"
      ]
     },
     "execution_count": 4,
     "metadata": {},
     "output_type": "execute_result"
    },
    {
     "data": {
      "text/plain": [
       "cellular     16391\n",
       "unknown       7281\n",
       "telephone     1645\n",
       "Name: contact, dtype: int64"
      ]
     },
     "execution_count": 4,
     "metadata": {},
     "output_type": "execute_result"
    },
    {
     "data": {
      "text/plain": [
       "'month'"
      ]
     },
     "execution_count": 4,
     "metadata": {},
     "output_type": "execute_result"
    },
    {
     "data": {
      "text/plain": [
       "may    7655\n",
       "jul    3937\n",
       "aug    3482\n",
       "jun    2968\n",
       "nov    2243\n",
       "apr    1669\n",
       "feb    1464\n",
       "jan     777\n",
       "oct     411\n",
       "sep     339\n",
       "mar     269\n",
       "dec     103\n",
       "Name: month, dtype: int64"
      ]
     },
     "execution_count": 4,
     "metadata": {},
     "output_type": "execute_result"
    },
    {
     "data": {
      "text/plain": [
       "'poutcome'"
      ]
     },
     "execution_count": 4,
     "metadata": {},
     "output_type": "execute_result"
    },
    {
     "data": {
      "text/plain": [
       "unknown    20677\n",
       "failure     2735\n",
       "other       1070\n",
       "success      835\n",
       "Name: poutcome, dtype: int64"
      ]
     },
     "execution_count": 4,
     "metadata": {},
     "output_type": "execute_result"
    }
   ],
   "source": [
    "#划分为数字特征、类别特征\n",
    "cate_features = ['job', 'marital','education','default','housing','loan','contact','month','poutcome']\n",
    "\n",
    "num_features = ['age', 'balance','day','duration','campaign','pdays','previous']\n",
    "\n",
    "for feature in cate_features:\n",
    "    feature\n",
    "    banking[feature].value_counts()"
   ]
  },
  {
   "cell_type": "markdown",
   "metadata": {},
   "source": [
    "## 查看相关系数"
   ]
  },
  {
   "cell_type": "code",
   "execution_count": 5,
   "metadata": {
    "ExecuteTime": {
     "end_time": "2020-02-25T07:55:50.652953Z",
     "start_time": "2020-02-25T07:55:50.600580Z"
    }
   },
   "outputs": [
    {
     "data": {
      "text/plain": [
       "y           1.000000\n",
       "duration    0.394746\n",
       "pdays       0.107565\n",
       "previous    0.088337\n",
       "balance     0.057564\n",
       "age         0.029916\n",
       "day        -0.031886\n",
       "campaign   -0.075173\n",
       "Name: y, dtype: float64"
      ]
     },
     "execution_count": 5,
     "metadata": {},
     "output_type": "execute_result"
    }
   ],
   "source": [
    "corr_matrix = banking.corr()\n",
    "corr_matrix['y'].sort_values(ascending=False)"
   ]
  },
  {
   "cell_type": "markdown",
   "metadata": {},
   "source": [
    "## 划分训练集和测试集"
   ]
  },
  {
   "cell_type": "code",
   "execution_count": 6,
   "metadata": {
    "ExecuteTime": {
     "end_time": "2020-02-25T07:55:50.735912Z",
     "start_time": "2020-02-25T07:55:50.657353Z"
    }
   },
   "outputs": [],
   "source": [
    "X_banking = banking.drop('y', axis = 1)\n",
    "label = banking['y']\n",
    "\n",
    "\n",
    "# 将数据集按照`2:8`的比例，切分为训练集和测试集\n",
    "X_train, X_test, Y_train, Y_test = train_test_split(X_banking, label, test_size = 0.2, random_state = 1)\n"
   ]
  },
  {
   "cell_type": "markdown",
   "metadata": {},
   "source": [
    "# 特征工程"
   ]
  },
  {
   "cell_type": "markdown",
   "metadata": {},
   "source": [
    "## 删除缺省值过多的特征（待定）"
   ]
  },
  {
   "cell_type": "raw",
   "metadata": {
    "ExecuteTime": {
     "end_time": "2020-02-24T09:27:19.452380Z",
     "start_time": "2020-02-24T09:27:19.444361Z"
    }
   },
   "source": [
    "cate_features = ['job', 'marital','education','default','housing','loan','contact','month']\n",
    "def delete_unknown_features(X):\n",
    "    return X.drop(['poutcome'], axis = 1)\n",
    "# features_del = FunctionTransformer(delete_unknown_features)\n",
    "X_train = delete_unknown_features(X_train)\n",
    "X_test = delete_unknown_features(X_test)"
   ]
  },
  {
   "cell_type": "markdown",
   "metadata": {},
   "source": [
    "## StandardScaler、OneHot"
   ]
  },
  {
   "cell_type": "code",
   "execution_count": 7,
   "metadata": {
    "ExecuteTime": {
     "end_time": "2020-02-25T07:55:50.877110Z",
     "start_time": "2020-02-25T07:55:50.739878Z"
    }
   },
   "outputs": [],
   "source": [
    "# from sklearn.pipeline import Pipeline\n",
    "from sklearn.preprocessing import StandardScaler\n",
    "from sklearn.preprocessing import OneHotEncoder\n",
    "from sklearn.compose import ColumnTransformer\n",
    "\n",
    "full_pipeline = ColumnTransformer([\n",
    "        ('std_scaler', StandardScaler(), num_features),\n",
    "        (\"cat\", OneHotEncoder(), cate_features)\n",
    "    ])\n",
    "\n",
    "train_prepared = full_pipeline.fit_transform(X_train)"
   ]
  },
  {
   "cell_type": "code",
   "execution_count": 13,
   "metadata": {
    "ExecuteTime": {
     "end_time": "2020-02-25T07:57:12.429488Z",
     "start_time": "2020-02-25T07:57:12.411268Z"
    }
   },
   "outputs": [
    {
     "data": {
      "text/plain": [
       "array([[ 0.0046424 , -0.35006117, -0.93815229, ...,  0.        ,\n",
       "         0.        ,  1.        ],\n",
       "       [-0.83987151, -0.07321703, -1.41708048, ...,  0.        ,\n",
       "         1.        ,  0.        ],\n",
       "       [ 0.66148655, -0.33697161, -1.77627663, ...,  0.        ,\n",
       "         0.        ,  1.        ],\n",
       "       ...,\n",
       "       [-1.12137614, -0.43579777,  0.85782842, ...,  0.        ,\n",
       "         0.        ,  1.        ],\n",
       "       [-0.18302736, -0.31962795,  1.21702457, ...,  0.        ,\n",
       "         0.        ,  0.        ],\n",
       "       [-0.65220175,  0.19871852, -1.05788434, ...,  0.        ,\n",
       "         0.        ,  1.        ]])"
      ]
     },
     "execution_count": 13,
     "metadata": {},
     "output_type": "execute_result"
    }
   ],
   "source": [
    "train_prepared"
   ]
  },
  {
   "cell_type": "markdown",
   "metadata": {},
   "source": [
    "# 模型选择"
   ]
  },
  {
   "cell_type": "code",
   "execution_count": 29,
   "metadata": {
    "ExecuteTime": {
     "end_time": "2020-02-24T11:48:39.842032Z",
     "start_time": "2020-02-24T11:48:39.800619Z"
    }
   },
   "outputs": [],
   "source": [
    "#对测试集特征工程\n",
    "test_prepared = full_pipeline.transform(X_test)"
   ]
  },
  {
   "cell_type": "markdown",
   "metadata": {
    "ExecuteTime": {
     "end_time": "2020-02-24T09:43:54.058569Z",
     "start_time": "2020-02-24T09:43:54.022152Z"
    }
   },
   "source": [
    "## GradientBoostingClassifier模型"
   ]
  },
  {
   "cell_type": "code",
   "execution_count": 30,
   "metadata": {
    "ExecuteTime": {
     "end_time": "2020-02-24T11:48:41.725089Z",
     "start_time": "2020-02-24T11:48:41.508352Z"
    }
   },
   "outputs": [],
   "source": [
    "from sklearn.ensemble import GradientBoostingClassifier\n",
    "model = GradientBoostingClassifier(random_state=10)"
   ]
  },
  {
   "cell_type": "markdown",
   "metadata": {},
   "source": [
    "## RandomForestClassifier"
   ]
  },
  {
   "cell_type": "code",
   "execution_count": null,
   "metadata": {
    "ExecuteTime": {
     "end_time": "2020-02-24T09:37:57.955547Z",
     "start_time": "2020-02-24T09:37:52.721787Z"
    }
   },
   "outputs": [],
   "source": [
    "from sklearn.ensemble import RandomForestClassifier\n",
    "model = RandomForestClassifier(n_estimators=500, max_leaf_nodes=16, n_jobs=-1, random_state=42)"
   ]
  },
  {
   "cell_type": "markdown",
   "metadata": {},
   "source": [
    "## LinearSVC"
   ]
  },
  {
   "cell_type": "code",
   "execution_count": 19,
   "metadata": {
    "ExecuteTime": {
     "end_time": "2020-02-24T11:33:44.480337Z",
     "start_time": "2020-02-24T11:33:44.471543Z"
    }
   },
   "outputs": [],
   "source": [
    "from sklearn.svm import LinearSVC\n",
    "\n",
    "model = LinearSVC(random_state=42)"
   ]
  },
  {
   "cell_type": "markdown",
   "metadata": {},
   "source": [
    "## 训练并验证模型"
   ]
  },
  {
   "cell_type": "code",
   "execution_count": 31,
   "metadata": {
    "ExecuteTime": {
     "end_time": "2020-02-24T11:48:56.242482Z",
     "start_time": "2020-02-24T11:48:48.908200Z"
    }
   },
   "outputs": [
    {
     "data": {
      "text/plain": [
       "GradientBoostingClassifier(ccp_alpha=0.0, criterion='friedman_mse', init=None,\n",
       "                           learning_rate=0.1, loss='deviance', max_depth=3,\n",
       "                           max_features=None, max_leaf_nodes=None,\n",
       "                           min_impurity_decrease=0.0, min_impurity_split=None,\n",
       "                           min_samples_leaf=1, min_samples_split=2,\n",
       "                           min_weight_fraction_leaf=0.0, n_estimators=100,\n",
       "                           n_iter_no_change=None, presort='deprecated',\n",
       "                           random_state=10, subsample=1.0, tol=0.0001,\n",
       "                           validation_fraction=0.1, verbose=0,\n",
       "                           warm_start=False)"
      ]
     },
     "execution_count": 31,
     "metadata": {},
     "output_type": "execute_result"
    },
    {
     "name": "stdout",
     "output_type": "stream",
     "text": [
      "Accuracy : 0.9111\n",
      "AUC Score (Train): 0.925350\n"
     ]
    }
   ],
   "source": [
    "model.fit(train_prepared, Y_train) \n",
    "\n",
    "Y_pred = model.predict(test_prepared)\n",
    "Y_predprob = model.predict_proba(test_prepared)\n",
    "Y_predprob = Y_predprob[:,1]\n",
    "\n",
    "print(\"Accuracy : %.4g\" % metrics.accuracy_score(Y_test, Y_pred))\n",
    "print(\"AUC Score (Train): %f\" % metrics.roc_auc_score(Y_test, Y_predprob))"
   ]
  },
  {
   "cell_type": "markdown",
   "metadata": {},
   "source": [
    "## 交叉验证拟合情况"
   ]
  },
  {
   "cell_type": "markdown",
   "metadata": {},
   "source": [
    "## 网格搜索选出最佳超参数"
   ]
  },
  {
   "cell_type": "markdown",
   "metadata": {},
   "source": [
    "# 预测test.csv并写入Result.csv"
   ]
  },
  {
   "cell_type": "code",
   "execution_count": 35,
   "metadata": {
    "ExecuteTime": {
     "end_time": "2020-02-24T11:50:37.144677Z",
     "start_time": "2020-02-24T11:50:36.891876Z"
    }
   },
   "outputs": [],
   "source": [
    "test = full_pipeline.transform(test)\n",
    "\n",
    "y_pred = model.predict(test)\n",
    "y_predprob = model.predict_proba(test)\n",
    "y_predprob = y_predprob[:,1]\n",
    "\n",
    "ID = list(range(25318,36170))\n",
    "submission = pd.DataFrame(ID, columns = ['ID'])\n",
    "\n",
    "# 将pred_y从array转化成DataFrame\n",
    "y_predprob = pd.DataFrame(y_predprob)\n",
    "\n",
    "submission['pred'] =y_predprob\n",
    "\n",
    "submission.to_csv('Result.csv', index = False)"
   ]
  },
  {
   "cell_type": "code",
   "execution_count": null,
   "metadata": {},
   "outputs": [],
   "source": []
  }
 ],
 "metadata": {
  "kernelspec": {
   "display_name": "Python 3",
   "language": "python",
   "name": "python3"
  },
  "language_info": {
   "codemirror_mode": {
    "name": "ipython",
    "version": 3
   },
   "file_extension": ".py",
   "mimetype": "text/x-python",
   "name": "python",
   "nbconvert_exporter": "python",
   "pygments_lexer": "ipython3",
   "version": "3.7.6"
  },
  "record_timing": false,
  "toc": {
   "base_numbering": 1,
   "nav_menu": {},
   "number_sections": true,
   "sideBar": true,
   "skip_h1_title": false,
   "title_cell": "Table of Contents",
   "title_sidebar": "Contents",
   "toc_cell": false,
   "toc_position": {},
   "toc_section_display": true,
   "toc_window_display": true
  },
  "toc-autonumbering": true
 },
 "nbformat": 4,
 "nbformat_minor": 4
}
