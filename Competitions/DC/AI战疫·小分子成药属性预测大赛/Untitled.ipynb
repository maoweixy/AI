{
 "cells": [
  {
   "cell_type": "code",
   "execution_count": 225,
   "metadata": {},
   "outputs": [],
   "source": [
    "# package imports\n",
    "import random\n",
    "import pandas as pd\n",
    "import numpy as np \n",
    "from IPython.core.interactiveshell import InteractiveShell\n",
    "InteractiveShell.ast_node_interactivity = \"all\"\n",
    "\n",
    "import matplotlib.pyplot as plt\n",
    "%matplotlib inline\n",
    "\n",
    "from sklearn import metrics\n",
    "\n",
    "from sklearn.model_selection import cross_validate, GridSearchCV\n",
    "from sklearn.model_selection import train_test_split"
   ]
  },
  {
   "cell_type": "code",
   "execution_count": 226,
   "metadata": {},
   "outputs": [],
   "source": [
    "random.seed(2020)"
   ]
  },
  {
   "cell_type": "code",
   "execution_count": 227,
   "metadata": {},
   "outputs": [],
   "source": [
    "data_train = pd.read_csv('train_0312.csv')\n",
    "data_test = pd.read_csv('test_noLabel_0312.csv')\n",
    "data = pd.concat([data_train, data_test], sort=False)"
   ]
  },
  {
   "cell_type": "markdown",
   "metadata": {},
   "source": [
    "# EDA"
   ]
  },
  {
   "cell_type": "code",
   "execution_count": 228,
   "metadata": {
    "collapsed": true,
    "jupyter": {
     "outputs_hidden": true
    }
   },
   "outputs": [
    {
     "data": {
      "text/html": [
       "<div>\n",
       "<style scoped>\n",
       "    .dataframe tbody tr th:only-of-type {\n",
       "        vertical-align: middle;\n",
       "    }\n",
       "\n",
       "    .dataframe tbody tr th {\n",
       "        vertical-align: top;\n",
       "    }\n",
       "\n",
       "    .dataframe thead th {\n",
       "        text-align: right;\n",
       "    }\n",
       "</style>\n",
       "<table border=\"1\" class=\"dataframe\">\n",
       "  <thead>\n",
       "    <tr style=\"text-align: right;\">\n",
       "      <th></th>\n",
       "      <th>ID</th>\n",
       "      <th>Molecule_max_phase</th>\n",
       "      <th>Molecular weight</th>\n",
       "      <th>RO5_violations</th>\n",
       "      <th>AlogP</th>\n",
       "      <th>Features</th>\n",
       "      <th>Label</th>\n",
       "    </tr>\n",
       "  </thead>\n",
       "  <tbody>\n",
       "    <tr>\n",
       "      <th>0</th>\n",
       "      <td>train_0</td>\n",
       "      <td>0</td>\n",
       "      <td>0.153946</td>\n",
       "      <td>0.0</td>\n",
       "      <td>0.691234</td>\n",
       "      <td>[0, 0, 0, 0, 0, 0, 3, 0, 0, 0, 0, 9, 1, 0, 0, ...</td>\n",
       "      <td>9.441452</td>\n",
       "    </tr>\n",
       "    <tr>\n",
       "      <th>1</th>\n",
       "      <td>train_1</td>\n",
       "      <td>0</td>\n",
       "      <td>0.215663</td>\n",
       "      <td>0.0</td>\n",
       "      <td>0.682300</td>\n",
       "      <td>[0, 0, 0, 0, 0, 0, 0, 0, 10, 0, 0, 8, 4, 0, 0,...</td>\n",
       "      <td>13.146080</td>\n",
       "    </tr>\n",
       "    <tr>\n",
       "      <th>2</th>\n",
       "      <td>train_2</td>\n",
       "      <td>0</td>\n",
       "      <td>0.264946</td>\n",
       "      <td>2.0</td>\n",
       "      <td>0.781686</td>\n",
       "      <td>[0, 0, 0, 0, 0, 0, 0, 0, 3, 0, 0, 8, 0, 0, 1, ...</td>\n",
       "      <td>10.085809</td>\n",
       "    </tr>\n",
       "    <tr>\n",
       "      <th>3</th>\n",
       "      <td>train_3</td>\n",
       "      <td>4</td>\n",
       "      <td>0.106954</td>\n",
       "      <td>0.0</td>\n",
       "      <td>0.556114</td>\n",
       "      <td>[0, 0, 0, 0, 0, 0, 0, 0, 6, 0, 0, 4, 0, 0, 0, ...</td>\n",
       "      <td>-2.995732</td>\n",
       "    </tr>\n",
       "    <tr>\n",
       "      <th>4</th>\n",
       "      <td>train_4</td>\n",
       "      <td>4</td>\n",
       "      <td>0.098934</td>\n",
       "      <td>0.0</td>\n",
       "      <td>0.651591</td>\n",
       "      <td>[0, 0, 0, 0, 0, 0, 1, 0, 0, 0, 0, 9, 1, 0, 0, ...</td>\n",
       "      <td>0.470004</td>\n",
       "    </tr>\n",
       "  </tbody>\n",
       "</table>\n",
       "</div>"
      ],
      "text/plain": [
       "        ID  Molecule_max_phase  Molecular weight  RO5_violations     AlogP  \\\n",
       "0  train_0                   0          0.153946             0.0  0.691234   \n",
       "1  train_1                   0          0.215663             0.0  0.682300   \n",
       "2  train_2                   0          0.264946             2.0  0.781686   \n",
       "3  train_3                   4          0.106954             0.0  0.556114   \n",
       "4  train_4                   4          0.098934             0.0  0.651591   \n",
       "\n",
       "                                            Features      Label  \n",
       "0  [0, 0, 0, 0, 0, 0, 3, 0, 0, 0, 0, 9, 1, 0, 0, ...   9.441452  \n",
       "1  [0, 0, 0, 0, 0, 0, 0, 0, 10, 0, 0, 8, 4, 0, 0,...  13.146080  \n",
       "2  [0, 0, 0, 0, 0, 0, 0, 0, 3, 0, 0, 8, 0, 0, 1, ...  10.085809  \n",
       "3  [0, 0, 0, 0, 0, 0, 0, 0, 6, 0, 0, 4, 0, 0, 0, ...  -2.995732  \n",
       "4  [0, 0, 0, 0, 0, 0, 1, 0, 0, 0, 0, 9, 1, 0, 0, ...   0.470004  "
      ]
     },
     "execution_count": 228,
     "metadata": {},
     "output_type": "execute_result"
    },
    {
     "name": "stdout",
     "output_type": "stream",
     "text": [
      "<class 'pandas.core.frame.DataFrame'>\n",
      "RangeIndex: 6924 entries, 0 to 6923\n",
      "Data columns (total 7 columns):\n",
      " #   Column              Non-Null Count  Dtype  \n",
      "---  ------              --------------  -----  \n",
      " 0   ID                  6924 non-null   object \n",
      " 1   Molecule_max_phase  6924 non-null   int64  \n",
      " 2   Molecular weight    6924 non-null   float64\n",
      " 3   RO5_violations      6853 non-null   float64\n",
      " 4   AlogP               6853 non-null   float64\n",
      " 5   Features            6924 non-null   object \n",
      " 6   Label               6924 non-null   float64\n",
      "dtypes: float64(4), int64(1), object(2)\n",
      "memory usage: 378.8+ KB\n"
     ]
    }
   ],
   "source": [
    "data_train.head()\n",
    "data_train.info()"
   ]
  },
  {
   "cell_type": "code",
   "execution_count": 229,
   "metadata": {},
   "outputs": [
    {
     "name": "stdout",
     "output_type": "stream",
     "text": [
      "<class 'pandas.core.frame.DataFrame'>\n",
      "RangeIndex: 1731 entries, 0 to 1730\n",
      "Data columns (total 6 columns):\n",
      " #   Column              Non-Null Count  Dtype  \n",
      "---  ------              --------------  -----  \n",
      " 0   ID                  1731 non-null   object \n",
      " 1   Molecule_max_phase  1731 non-null   int64  \n",
      " 2   Molecular weight    1731 non-null   float64\n",
      " 3   RO5_violations      1708 non-null   float64\n",
      " 4   AlogP               1708 non-null   float64\n",
      " 5   Features            1731 non-null   object \n",
      "dtypes: float64(3), int64(1), object(2)\n",
      "memory usage: 81.3+ KB\n"
     ]
    }
   ],
   "source": [
    "data_test.info()"
   ]
  },
  {
   "cell_type": "code",
   "execution_count": 230,
   "metadata": {},
   "outputs": [
    {
     "data": {
      "text/html": [
       "<div>\n",
       "<style scoped>\n",
       "    .dataframe tbody tr th:only-of-type {\n",
       "        vertical-align: middle;\n",
       "    }\n",
       "\n",
       "    .dataframe tbody tr th {\n",
       "        vertical-align: top;\n",
       "    }\n",
       "\n",
       "    .dataframe thead th {\n",
       "        text-align: right;\n",
       "    }\n",
       "</style>\n",
       "<table border=\"1\" class=\"dataframe\">\n",
       "  <thead>\n",
       "    <tr style=\"text-align: right;\">\n",
       "      <th></th>\n",
       "      <th>ID</th>\n",
       "      <th>Molecule_max_phase</th>\n",
       "      <th>Molecular weight</th>\n",
       "      <th>RO5_violations</th>\n",
       "      <th>AlogP</th>\n",
       "      <th>Features</th>\n",
       "      <th>Label</th>\n",
       "    </tr>\n",
       "  </thead>\n",
       "  <tbody>\n",
       "    <tr>\n",
       "      <th>0</th>\n",
       "      <td>train_0</td>\n",
       "      <td>0</td>\n",
       "      <td>0.153946</td>\n",
       "      <td>0.0</td>\n",
       "      <td>0.691234</td>\n",
       "      <td>[0, 0, 0, 0, 0, 0, 3, 0, 0, 0, 0, 9, 1, 0, 0, ...</td>\n",
       "      <td>9.441452</td>\n",
       "    </tr>\n",
       "    <tr>\n",
       "      <th>1</th>\n",
       "      <td>train_1</td>\n",
       "      <td>0</td>\n",
       "      <td>0.215663</td>\n",
       "      <td>0.0</td>\n",
       "      <td>0.682300</td>\n",
       "      <td>[0, 0, 0, 0, 0, 0, 0, 0, 10, 0, 0, 8, 4, 0, 0,...</td>\n",
       "      <td>13.146080</td>\n",
       "    </tr>\n",
       "    <tr>\n",
       "      <th>2</th>\n",
       "      <td>train_2</td>\n",
       "      <td>0</td>\n",
       "      <td>0.264946</td>\n",
       "      <td>2.0</td>\n",
       "      <td>0.781686</td>\n",
       "      <td>[0, 0, 0, 0, 0, 0, 0, 0, 3, 0, 0, 8, 0, 0, 1, ...</td>\n",
       "      <td>10.085809</td>\n",
       "    </tr>\n",
       "    <tr>\n",
       "      <th>3</th>\n",
       "      <td>train_3</td>\n",
       "      <td>4</td>\n",
       "      <td>0.106954</td>\n",
       "      <td>0.0</td>\n",
       "      <td>0.556114</td>\n",
       "      <td>[0, 0, 0, 0, 0, 0, 0, 0, 6, 0, 0, 4, 0, 0, 0, ...</td>\n",
       "      <td>-2.995732</td>\n",
       "    </tr>\n",
       "    <tr>\n",
       "      <th>4</th>\n",
       "      <td>train_4</td>\n",
       "      <td>4</td>\n",
       "      <td>0.098934</td>\n",
       "      <td>0.0</td>\n",
       "      <td>0.651591</td>\n",
       "      <td>[0, 0, 0, 0, 0, 0, 1, 0, 0, 0, 0, 9, 1, 0, 0, ...</td>\n",
       "      <td>0.470004</td>\n",
       "    </tr>\n",
       "  </tbody>\n",
       "</table>\n",
       "</div>"
      ],
      "text/plain": [
       "        ID  Molecule_max_phase  Molecular weight  RO5_violations     AlogP  \\\n",
       "0  train_0                   0          0.153946             0.0  0.691234   \n",
       "1  train_1                   0          0.215663             0.0  0.682300   \n",
       "2  train_2                   0          0.264946             2.0  0.781686   \n",
       "3  train_3                   4          0.106954             0.0  0.556114   \n",
       "4  train_4                   4          0.098934             0.0  0.651591   \n",
       "\n",
       "                                            Features      Label  \n",
       "0  [0, 0, 0, 0, 0, 0, 3, 0, 0, 0, 0, 9, 1, 0, 0, ...   9.441452  \n",
       "1  [0, 0, 0, 0, 0, 0, 0, 0, 10, 0, 0, 8, 4, 0, 0,...  13.146080  \n",
       "2  [0, 0, 0, 0, 0, 0, 0, 0, 3, 0, 0, 8, 0, 0, 1, ...  10.085809  \n",
       "3  [0, 0, 0, 0, 0, 0, 0, 0, 6, 0, 0, 4, 0, 0, 0, ...  -2.995732  \n",
       "4  [0, 0, 0, 0, 0, 0, 1, 0, 0, 0, 0, 9, 1, 0, 0, ...   0.470004  "
      ]
     },
     "execution_count": 230,
     "metadata": {},
     "output_type": "execute_result"
    },
    {
     "name": "stdout",
     "output_type": "stream",
     "text": [
      "<class 'pandas.core.frame.DataFrame'>\n",
      "Int64Index: 8655 entries, 0 to 1730\n",
      "Data columns (total 7 columns):\n",
      " #   Column              Non-Null Count  Dtype  \n",
      "---  ------              --------------  -----  \n",
      " 0   ID                  8655 non-null   object \n",
      " 1   Molecule_max_phase  8655 non-null   int64  \n",
      " 2   Molecular weight    8655 non-null   float64\n",
      " 3   RO5_violations      8561 non-null   float64\n",
      " 4   AlogP               8561 non-null   float64\n",
      " 5   Features            8655 non-null   object \n",
      " 6   Label               6924 non-null   float64\n",
      "dtypes: float64(4), int64(1), object(2)\n",
      "memory usage: 540.9+ KB\n"
     ]
    }
   ],
   "source": [
    "data.head()\n",
    "data.info()"
   ]
  },
  {
   "cell_type": "code",
   "execution_count": 231,
   "metadata": {},
   "outputs": [],
   "source": [
    "num_features = ['Molecule_max_phase', 'Molecular weight', 'RO5_violations', 'AlogP']"
   ]
  },
  {
   "cell_type": "markdown",
   "metadata": {},
   "source": [
    "# 特征工程 "
   ]
  },
  {
   "cell_type": "markdown",
   "metadata": {},
   "source": [
    "## 解决缺省值 "
   ]
  },
  {
   "cell_type": "code",
   "execution_count": 232,
   "metadata": {},
   "outputs": [],
   "source": [
    "from sklearn.impute import SimpleImputer\n",
    "\n",
    "imputer = SimpleImputer(strategy='most_frequent')\n",
    "data[['RO5_violations','AlogP']] = imputer.fit_transform(data[['RO5_violations','AlogP']])\n"
   ]
  },
  {
   "cell_type": "code",
   "execution_count": 233,
   "metadata": {},
   "outputs": [
    {
     "name": "stdout",
     "output_type": "stream",
     "text": [
      "<class 'pandas.core.frame.DataFrame'>\n",
      "Int64Index: 8655 entries, 0 to 1730\n",
      "Data columns (total 7 columns):\n",
      " #   Column              Non-Null Count  Dtype  \n",
      "---  ------              --------------  -----  \n",
      " 0   ID                  8655 non-null   object \n",
      " 1   Molecule_max_phase  8655 non-null   int64  \n",
      " 2   Molecular weight    8655 non-null   float64\n",
      " 3   RO5_violations      8655 non-null   float64\n",
      " 4   AlogP               8655 non-null   float64\n",
      " 5   Features            8655 non-null   object \n",
      " 6   Label               6924 non-null   float64\n",
      "dtypes: float64(4), int64(1), object(2)\n",
      "memory usage: 540.9+ KB\n"
     ]
    }
   ],
   "source": [
    "data.info()"
   ]
  },
  {
   "cell_type": "markdown",
   "metadata": {},
   "source": [
    "## 特征缩放"
   ]
  },
  {
   "cell_type": "code",
   "execution_count": 234,
   "metadata": {},
   "outputs": [],
   "source": [
    "from sklearn.preprocessing import StandardScaler\n",
    "scaler = StandardScaler()\n",
    "data[num_features] = scaler.fit_transform(data[num_features])"
   ]
  },
  {
   "cell_type": "markdown",
   "metadata": {},
   "source": [
    "## 组合特征 "
   ]
  },
  {
   "cell_type": "code",
   "execution_count": 235,
   "metadata": {},
   "outputs": [],
   "source": [
    "# data['Features'].apply(lambda x: type(x))\n",
    "# type(data['Features'][1])\n",
    "# data['Features'][5000]"
   ]
  },
  {
   "cell_type": "code",
   "execution_count": 236,
   "metadata": {},
   "outputs": [],
   "source": [
    "# data['Features_sum'] = data['Features'].apply(lambda x: sum(x))\n",
    "# data['Features_mean'] = data['Features'].apply(lambda x: np.mean(x))\n",
    "data['Features_max'] = data['Features'].apply(lambda x: float(max(x.strip('][').split(', '))))\n",
    "data['Features_min'] = data['Features'].apply(lambda x: float(min(x.strip('][').split(', '))))\n",
    "data['Features_greater_than_zero'] = data['Features'].apply(lambda x: sum(float(i) > 0 for i in x.strip('][').split(', ')))\n"
   ]
  },
  {
   "cell_type": "code",
   "execution_count": 237,
   "metadata": {},
   "outputs": [],
   "source": [
    "data.drop(columns =['ID','Features'], inplace=True)\n",
    "# data.drop(columns =['Features'], inplace=True)"
   ]
  },
  {
   "cell_type": "code",
   "execution_count": 238,
   "metadata": {},
   "outputs": [
    {
     "data": {
      "text/html": [
       "<div>\n",
       "<style scoped>\n",
       "    .dataframe tbody tr th:only-of-type {\n",
       "        vertical-align: middle;\n",
       "    }\n",
       "\n",
       "    .dataframe tbody tr th {\n",
       "        vertical-align: top;\n",
       "    }\n",
       "\n",
       "    .dataframe thead th {\n",
       "        text-align: right;\n",
       "    }\n",
       "</style>\n",
       "<table border=\"1\" class=\"dataframe\">\n",
       "  <thead>\n",
       "    <tr style=\"text-align: right;\">\n",
       "      <th></th>\n",
       "      <th>Molecule_max_phase</th>\n",
       "      <th>Molecular weight</th>\n",
       "      <th>RO5_violations</th>\n",
       "      <th>AlogP</th>\n",
       "      <th>Label</th>\n",
       "      <th>Features_max</th>\n",
       "      <th>Features_min</th>\n",
       "      <th>Features_greater_than_zero</th>\n",
       "    </tr>\n",
       "  </thead>\n",
       "  <tbody>\n",
       "    <tr>\n",
       "      <th>0</th>\n",
       "      <td>-0.575085</td>\n",
       "      <td>-0.419343</td>\n",
       "      <td>-0.499598</td>\n",
       "      <td>0.240900</td>\n",
       "      <td>9.441452</td>\n",
       "      <td>9.0</td>\n",
       "      <td>-0.494533</td>\n",
       "      <td>216</td>\n",
       "    </tr>\n",
       "    <tr>\n",
       "      <th>1</th>\n",
       "      <td>-0.575085</td>\n",
       "      <td>0.289831</td>\n",
       "      <td>-0.499598</td>\n",
       "      <td>0.142152</td>\n",
       "      <td>13.146080</td>\n",
       "      <td>8.0</td>\n",
       "      <td>-0.349011</td>\n",
       "      <td>261</td>\n",
       "    </tr>\n",
       "    <tr>\n",
       "      <th>2</th>\n",
       "      <td>-0.575085</td>\n",
       "      <td>0.856137</td>\n",
       "      <td>2.603393</td>\n",
       "      <td>1.240725</td>\n",
       "      <td>10.085809</td>\n",
       "      <td>9.0</td>\n",
       "      <td>-0.405788</td>\n",
       "      <td>268</td>\n",
       "    </tr>\n",
       "    <tr>\n",
       "      <th>3</th>\n",
       "      <td>1.773004</td>\n",
       "      <td>-0.959307</td>\n",
       "      <td>-0.499598</td>\n",
       "      <td>-1.252665</td>\n",
       "      <td>-2.995732</td>\n",
       "      <td>98.0</td>\n",
       "      <td>-0.378793</td>\n",
       "      <td>160</td>\n",
       "    </tr>\n",
       "    <tr>\n",
       "      <th>4</th>\n",
       "      <td>1.773004</td>\n",
       "      <td>-1.051470</td>\n",
       "      <td>-0.499598</td>\n",
       "      <td>-0.197294</td>\n",
       "      <td>0.470004</td>\n",
       "      <td>96.0</td>\n",
       "      <td>-0.480788</td>\n",
       "      <td>135</td>\n",
       "    </tr>\n",
       "  </tbody>\n",
       "</table>\n",
       "</div>"
      ],
      "text/plain": [
       "   Molecule_max_phase  Molecular weight  RO5_violations     AlogP      Label  \\\n",
       "0           -0.575085         -0.419343       -0.499598  0.240900   9.441452   \n",
       "1           -0.575085          0.289831       -0.499598  0.142152  13.146080   \n",
       "2           -0.575085          0.856137        2.603393  1.240725  10.085809   \n",
       "3            1.773004         -0.959307       -0.499598 -1.252665  -2.995732   \n",
       "4            1.773004         -1.051470       -0.499598 -0.197294   0.470004   \n",
       "\n",
       "   Features_max  Features_min  Features_greater_than_zero  \n",
       "0           9.0     -0.494533                         216  \n",
       "1           8.0     -0.349011                         261  \n",
       "2           9.0     -0.405788                         268  \n",
       "3          98.0     -0.378793                         160  \n",
       "4          96.0     -0.480788                         135  "
      ]
     },
     "execution_count": 238,
     "metadata": {},
     "output_type": "execute_result"
    },
    {
     "name": "stdout",
     "output_type": "stream",
     "text": [
      "<class 'pandas.core.frame.DataFrame'>\n",
      "Int64Index: 8655 entries, 0 to 1730\n",
      "Data columns (total 8 columns):\n",
      " #   Column                      Non-Null Count  Dtype  \n",
      "---  ------                      --------------  -----  \n",
      " 0   Molecule_max_phase          8655 non-null   float64\n",
      " 1   Molecular weight            8655 non-null   float64\n",
      " 2   RO5_violations              8655 non-null   float64\n",
      " 3   AlogP                       8655 non-null   float64\n",
      " 4   Label                       6924 non-null   float64\n",
      " 5   Features_max                8654 non-null   float64\n",
      " 6   Features_min                8655 non-null   float64\n",
      " 7   Features_greater_than_zero  8655 non-null   int64  \n",
      "dtypes: float64(7), int64(1)\n",
      "memory usage: 608.6 KB\n",
      "<class 'pandas.core.frame.DataFrame'>\n",
      "Int64Index: 8655 entries, 0 to 1730\n",
      "Data columns (total 8 columns):\n",
      " #   Column                      Non-Null Count  Dtype  \n",
      "---  ------                      --------------  -----  \n",
      " 0   Molecule_max_phase          8655 non-null   float64\n",
      " 1   Molecular weight            8655 non-null   float64\n",
      " 2   RO5_violations              8655 non-null   float64\n",
      " 3   AlogP                       8655 non-null   float64\n",
      " 4   Label                       6924 non-null   float64\n",
      " 5   Features_max                8655 non-null   float64\n",
      " 6   Features_min                8655 non-null   float64\n",
      " 7   Features_greater_than_zero  8655 non-null   int64  \n",
      "dtypes: float64(7), int64(1)\n",
      "memory usage: 608.6 KB\n"
     ]
    }
   ],
   "source": [
    "data.head()\n",
    "data.info()\n",
    "data['Features_max'] = imputer.fit_transform(data[['Features_max']])\n",
    "data.info()"
   ]
  },
  {
   "cell_type": "markdown",
   "metadata": {},
   "source": [
    "# 模型"
   ]
  },
  {
   "cell_type": "code",
   "execution_count": 239,
   "metadata": {},
   "outputs": [],
   "source": [
    "data_test_pre = data[data['Label'].isnull()].copy()\n",
    "data_test_pre['uid'] = range(1731)\n",
    "data_train_pre = data[data['Label'].notnull()].copy()\n",
    "data_train_pre['uid'] = range(6924)\n",
    "\n",
    "x_train = data_train_pre.drop('Label', axis = 1)\n",
    "y_train = data_train_pre[['Label']]"
   ]
  },
  {
   "cell_type": "code",
   "execution_count": 240,
   "metadata": {},
   "outputs": [
    {
     "name": "stdout",
     "output_type": "stream",
     "text": [
      "<class 'pandas.core.frame.DataFrame'>\n",
      "Int64Index: 6924 entries, 0 to 6923\n",
      "Data columns (total 8 columns):\n",
      " #   Column                      Non-Null Count  Dtype  \n",
      "---  ------                      --------------  -----  \n",
      " 0   Molecule_max_phase          6924 non-null   float64\n",
      " 1   Molecular weight            6924 non-null   float64\n",
      " 2   RO5_violations              6924 non-null   float64\n",
      " 3   AlogP                       6924 non-null   float64\n",
      " 4   Features_max                6924 non-null   float64\n",
      " 5   Features_min                6924 non-null   float64\n",
      " 6   Features_greater_than_zero  6924 non-null   int64  \n",
      " 7   uid                         6924 non-null   int64  \n",
      "dtypes: float64(6), int64(2)\n",
      "memory usage: 486.8 KB\n",
      "<class 'pandas.core.frame.DataFrame'>\n",
      "Int64Index: 6924 entries, 0 to 6923\n",
      "Data columns (total 1 columns):\n",
      " #   Column  Non-Null Count  Dtype  \n",
      "---  ------  --------------  -----  \n",
      " 0   Label   6924 non-null   float64\n",
      "dtypes: float64(1)\n",
      "memory usage: 108.2 KB\n"
     ]
    }
   ],
   "source": [
    "\n",
    "# x_train = x_train.astype({'Molecule_max_phase':'float32','Molecular weight': 'float32', 'RO5_violations':'float32','AlogP':'float32','Features_max':'float32','Features_min':'float32'})\n",
    "# y_train = y_train.astype('float32')\n",
    "x_train.info()\n",
    "y_train.info()"
   ]
  },
  {
   "cell_type": "markdown",
   "metadata": {},
   "source": [
    "## RandomForest"
   ]
  },
  {
   "cell_type": "code",
   "execution_count": 241,
   "metadata": {},
   "outputs": [
    {
     "name": "stderr",
     "output_type": "stream",
     "text": [
      "/Users/maowei/anaconda3/lib/python3.7/site-packages/ipykernel_launcher.py:5: DataConversionWarning: A column-vector y was passed when a 1d array was expected. Please change the shape of y to (n_samples,), for example using ravel().\n",
      "  \"\"\"\n"
     ]
    },
    {
     "data": {
      "text/plain": [
       "RandomForestRegressor(bootstrap=True, ccp_alpha=0.0, criterion='mse',\n",
       "                      max_depth=None, max_features='auto', max_leaf_nodes=350,\n",
       "                      max_samples=None, min_impurity_decrease=0.0,\n",
       "                      min_impurity_split=None, min_samples_leaf=1,\n",
       "                      min_samples_split=2, min_weight_fraction_leaf=0.0,\n",
       "                      n_estimators=100, n_jobs=None, oob_score=False,\n",
       "                      random_state=None, verbose=0, warm_start=False)"
      ]
     },
     "execution_count": 241,
     "metadata": {},
     "output_type": "execute_result"
    }
   ],
   "source": [
    "from sklearn.ensemble import RandomForestRegressor\n",
    "\n",
    "model = RandomForestRegressor(max_leaf_nodes=350)\n",
    "\n",
    "model.fit(x_train, y_train)"
   ]
  },
  {
   "cell_type": "code",
   "execution_count": 242,
   "metadata": {},
   "outputs": [
    {
     "data": {
      "text/plain": [
       "array([0.43738255, 0.10928535, 0.00338677, 0.09478646, 0.05695756,\n",
       "       0.17834193, 0.0740522 , 0.04580718])"
      ]
     },
     "execution_count": 242,
     "metadata": {},
     "output_type": "execute_result"
    }
   ],
   "source": [
    "model.feature_importances_"
   ]
  },
  {
   "cell_type": "markdown",
   "metadata": {},
   "source": [
    "## xgb"
   ]
  },
  {
   "cell_type": "code",
   "execution_count": 202,
   "metadata": {},
   "outputs": [
    {
     "name": "stdout",
     "output_type": "stream",
     "text": [
      "[13:18:05] WARNING: src/objective/regression_obj.cu:152: reg:linear is now deprecated in favor of reg:squarederror.\n"
     ]
    },
    {
     "data": {
      "text/plain": [
       "XGBRegressor(base_score=0.5, booster='gbtree', colsample_bylevel=1,\n",
       "             colsample_bynode=1, colsample_bytree=1, gamma=0,\n",
       "             importance_type='gain', learning_rate=0.1, max_delta_step=0,\n",
       "             max_depth=3, min_child_weight=1, missing=None, n_estimators=100,\n",
       "             n_jobs=1, nthread=None, objective='reg:linear', random_state=0,\n",
       "             reg_alpha=0, reg_lambda=1, scale_pos_weight=1, seed=None,\n",
       "             silent=None, subsample=1, verbosity=1)"
      ]
     },
     "execution_count": 202,
     "metadata": {},
     "output_type": "execute_result"
    }
   ],
   "source": [
    "import xgboost as xgb\n",
    "\n",
    "model = xgb.XGBRegressor()\n",
    "model.fit(x_train, y_train)"
   ]
  },
  {
   "cell_type": "markdown",
   "metadata": {},
   "source": [
    "# 保存结果"
   ]
  },
  {
   "cell_type": "code",
   "execution_count": 243,
   "metadata": {},
   "outputs": [],
   "source": [
    "output = pd.DataFrame({'ID': data_test.ID})\n",
    "del data_test_pre['Label']\n",
    "\n",
    "predictions = model.predict(data_test_pre)\n",
    "output['Label'] = predictions\n",
    "output.to_csv('my_submission.csv', index=False)"
   ]
  },
  {
   "cell_type": "code",
   "execution_count": null,
   "metadata": {},
   "outputs": [],
   "source": []
  }
 ],
 "metadata": {
  "kernelspec": {
   "display_name": "Python 3",
   "language": "python",
   "name": "python3"
  },
  "language_info": {
   "codemirror_mode": {
    "name": "ipython",
    "version": 3
   },
   "file_extension": ".py",
   "mimetype": "text/x-python",
   "name": "python",
   "nbconvert_exporter": "python",
   "pygments_lexer": "ipython3",
   "version": "3.7.6"
  }
 },
 "nbformat": 4,
 "nbformat_minor": 4
}
