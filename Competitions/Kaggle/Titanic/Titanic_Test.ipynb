{
 "cells": [
  {
   "cell_type": "code",
   "execution_count": 92,
   "metadata": {
    "ExecuteTime": {
     "end_time": "2020-02-26T08:58:40.899892Z",
     "start_time": "2020-02-26T08:58:40.879334Z"
    },
    "execution": {
     "iopub.execute_input": "2020-03-02T01:55:46.795228Z",
     "iopub.status.busy": "2020-03-02T01:55:46.794561Z",
     "iopub.status.idle": "2020-03-02T01:55:46.832524Z",
     "shell.execute_reply": "2020-03-02T01:55:46.829433Z",
     "shell.execute_reply.started": "2020-03-02T01:55:46.794973Z"
    }
   },
   "outputs": [],
   "source": [
    "# package imports\n",
    "import pandas as pd\n",
    "import numpy as np \n",
    "from IPython.core.interactiveshell import InteractiveShell\n",
    "InteractiveShell.ast_node_interactivity = \"all\"\n",
    "\n",
    "import matplotlib.pyplot as plt\n",
    "%matplotlib inline\n",
    "plt.rcParams['font.sans-serif'] = ['Arial Unicode MS'] #正常显示中文\n",
    "plt.rcParams['axes.unicode_minus']=False #用来正常显示负号\n",
    "plt.rc('figure', figsize=(10, 10))\n",
    "\n",
    "from sklearn import metrics\n",
    "\n",
    "from sklearn.model_selection import cross_validate, GridSearchCV\n",
    "from sklearn.model_selection import train_test_split"
   ]
  },
  {
   "cell_type": "markdown",
   "metadata": {},
   "source": [
    "# EDA（Exploratory Data Analysis）"
   ]
  },
  {
   "cell_type": "code",
   "execution_count": 93,
   "metadata": {
    "ExecuteTime": {
     "end_time": "2020-02-26T08:58:40.967537Z",
     "start_time": "2020-02-26T08:58:40.903693Z"
    },
    "execution": {
     "iopub.execute_input": "2020-03-02T01:35:39.015715Z",
     "iopub.status.busy": "2020-03-02T01:35:39.015242Z",
     "iopub.status.idle": "2020-03-02T01:35:39.037640Z",
     "shell.execute_reply": "2020-03-02T01:35:39.036463Z",
     "shell.execute_reply.started": "2020-03-02T01:35:39.015631Z"
    },
    "scrolled": true
   },
   "outputs": [],
   "source": [
    "titanic = pd.read_csv('train.csv')\n",
    "titanic.drop(columns = ['PassengerId','Name','Ticket','Embarked','Parch','SibSp'], inplace = True)\n"
   ]
  },
  {
   "cell_type": "code",
   "execution_count": 94,
   "metadata": {
    "ExecuteTime": {
     "end_time": "2020-02-26T08:58:40.992927Z",
     "start_time": "2020-02-26T08:58:40.972712Z"
    },
    "execution": {
     "iopub.execute_input": "2020-03-02T01:35:39.041357Z",
     "iopub.status.busy": "2020-03-02T01:35:39.040375Z",
     "iopub.status.idle": "2020-03-02T01:35:39.226324Z",
     "shell.execute_reply": "2020-03-02T01:35:39.224806Z",
     "shell.execute_reply.started": "2020-03-02T01:35:39.040872Z"
    }
   },
   "outputs": [
    {
     "data": {
      "text/plain": [
       "(891, 6)"
      ]
     },
     "execution_count": 94,
     "metadata": {},
     "output_type": "execute_result"
    },
    {
     "name": "stdout",
     "output_type": "stream",
     "text": [
      "<class 'pandas.core.frame.DataFrame'>\n",
      "RangeIndex: 891 entries, 0 to 890\n",
      "Data columns (total 6 columns):\n",
      " #   Column    Non-Null Count  Dtype  \n",
      "---  ------    --------------  -----  \n",
      " 0   Survived  891 non-null    int64  \n",
      " 1   Pclass    891 non-null    int64  \n",
      " 2   Sex       891 non-null    object \n",
      " 3   Age       714 non-null    float64\n",
      " 4   Fare      891 non-null    float64\n",
      " 5   Cabin     204 non-null    object \n",
      "dtypes: float64(2), int64(2), object(2)\n",
      "memory usage: 41.9+ KB\n"
     ]
    }
   ],
   "source": [
    "titanic.shape\n",
    "titanic.info()"
   ]
  },
  {
   "cell_type": "code",
   "execution_count": 95,
   "metadata": {
    "ExecuteTime": {
     "end_time": "2020-02-26T08:58:41.035649Z",
     "start_time": "2020-02-26T08:58:40.999678Z"
    },
    "execution": {
     "iopub.execute_input": "2020-03-02T01:35:39.242401Z",
     "iopub.status.busy": "2020-03-02T01:35:39.241922Z",
     "iopub.status.idle": "2020-03-02T01:35:39.293709Z",
     "shell.execute_reply": "2020-03-02T01:35:39.291339Z",
     "shell.execute_reply.started": "2020-03-02T01:35:39.242322Z"
    }
   },
   "outputs": [
    {
     "data": {
      "text/plain": [
       "'Pclass'"
      ]
     },
     "execution_count": 95,
     "metadata": {},
     "output_type": "execute_result"
    },
    {
     "data": {
      "text/plain": [
       "3    491\n",
       "1    216\n",
       "2    184\n",
       "Name: Pclass, dtype: int64"
      ]
     },
     "execution_count": 95,
     "metadata": {},
     "output_type": "execute_result"
    },
    {
     "data": {
      "text/plain": [
       "'Sex'"
      ]
     },
     "execution_count": 95,
     "metadata": {},
     "output_type": "execute_result"
    },
    {
     "data": {
      "text/plain": [
       "male      577\n",
       "female    314\n",
       "Name: Sex, dtype: int64"
      ]
     },
     "execution_count": 95,
     "metadata": {},
     "output_type": "execute_result"
    }
   ],
   "source": [
    "# num_features = ['Age', 'SibSp','Parch','Fare', 'Cabin']\n",
    "num_features = ['Age', 'Fare', 'Cabin']\n",
    "cate_features = ['Pclass', 'Sex']\n",
    "\n",
    "\n",
    "for feature in cate_features:\n",
    "    feature\n",
    "    titanic[feature].value_counts()"
   ]
  },
  {
   "cell_type": "markdown",
   "metadata": {},
   "source": [
    "## 相关系数"
   ]
  },
  {
   "cell_type": "code",
   "execution_count": 96,
   "metadata": {
    "ExecuteTime": {
     "end_time": "2020-02-26T08:58:41.055694Z",
     "start_time": "2020-02-26T08:58:41.041346Z"
    },
    "execution": {
     "iopub.execute_input": "2020-03-02T01:35:39.298426Z",
     "iopub.status.busy": "2020-03-02T01:35:39.297907Z",
     "iopub.status.idle": "2020-03-02T01:35:39.321625Z",
     "shell.execute_reply": "2020-03-02T01:35:39.319853Z",
     "shell.execute_reply.started": "2020-03-02T01:35:39.298331Z"
    }
   },
   "outputs": [
    {
     "data": {
      "text/plain": [
       "Pclass     -0.338481\n",
       "Age        -0.077221\n",
       "Fare        0.257307\n",
       "Survived    1.000000\n",
       "Name: Survived, dtype: float64"
      ]
     },
     "execution_count": 96,
     "metadata": {},
     "output_type": "execute_result"
    }
   ],
   "source": [
    "corr_matrix = titanic.corr()\n",
    "corr_matrix['Survived'].sort_values()"
   ]
  },
  {
   "cell_type": "markdown",
   "metadata": {
    "toc-hr-collapsed": false
   },
   "source": [
    "# 特征工程"
   ]
  },
  {
   "cell_type": "markdown",
   "metadata": {},
   "source": [
    "## 去掉某些feature"
   ]
  },
  {
   "cell_type": "raw",
   "metadata": {
    "execution": {
     "iopub.execute_input": "2020-03-02T01:35:39.323983Z",
     "iopub.status.busy": "2020-03-02T01:35:39.323522Z",
     "iopub.status.idle": "2020-03-02T01:35:39.330767Z",
     "shell.execute_reply": "2020-03-02T01:35:39.329092Z",
     "shell.execute_reply.started": "2020-03-02T01:35:39.323900Z"
    }
   },
   "source": [
    "def del_Embarked_feature(df):\n",
    "    return titanic.drop(columns='Embarked')\n",
    "temp = del_Embarked_feature(titanic)\n",
    "temp.info()"
   ]
  },
  {
   "cell_type": "markdown",
   "metadata": {},
   "source": [
    "## 用模型填补缺失值（Age）"
   ]
  },
  {
   "cell_type": "code",
   "execution_count": 97,
   "metadata": {
    "execution": {
     "iopub.execute_input": "2020-03-02T01:35:39.333986Z",
     "iopub.status.busy": "2020-03-02T01:35:39.333648Z",
     "iopub.status.idle": "2020-03-02T01:35:39.362767Z",
     "shell.execute_reply": "2020-03-02T01:35:39.358776Z",
     "shell.execute_reply.started": "2020-03-02T01:35:39.333930Z"
    }
   },
   "outputs": [],
   "source": [
    "from sklearn.ensemble import RandomForestRegressor\n",
    "def set_missing_ages(df):\n",
    "\n",
    "    # 把已有的数值型特征取出来丢进Random Forest Regressor中\n",
    "    age_df = df[['Age','Fare', 'Pclass']]\n",
    "\n",
    "    # 乘客分成已知年龄和未知年龄两部分\n",
    "    known_age = age_df[age_df['Age'].notna()]\n",
    "    unknown_age = age_df[age_df['Age'].isna()]\n",
    "\n",
    "    # y即目标年龄\n",
    "    y = known_age.iloc[:, 0]\n",
    "\n",
    "    # X即特征属性值\n",
    "    X = known_age.iloc[:, 1:]\n",
    "\n",
    "    # fit到RandomForestRegressor之中\n",
    "    rfr = RandomForestRegressor()\n",
    "    rfr.fit(X, y)\n",
    "\n",
    "    # 用得到的模型进行未知年龄结果预测\n",
    "    predictedAges = rfr.predict(unknown_age.iloc[:, 1:])\n",
    "#     print predictedAges\n",
    "    # 用得到的预测结果填补原缺失数据\n",
    "    df.loc[df['Age'].isna(), 'Age' ] = predictedAges \n",
    "\n",
    "    return df, rfr"
   ]
  },
  {
   "cell_type": "markdown",
   "metadata": {},
   "source": [
    "## Age<10 =is_cild"
   ]
  },
  {
   "cell_type": "code",
   "execution_count": 98,
   "metadata": {
    "execution": {
     "iopub.execute_input": "2020-03-02T01:35:39.371692Z",
     "iopub.status.busy": "2020-03-02T01:35:39.368836Z",
     "iopub.status.idle": "2020-03-02T01:35:39.380117Z",
     "shell.execute_reply": "2020-03-02T01:35:39.377501Z",
     "shell.execute_reply.started": "2020-03-02T01:35:39.369559Z"
    }
   },
   "outputs": [],
   "source": [
    "def set_child_type(df):\n",
    "    df['is_child'] = 0\n",
    "    df.loc[df['is_child']<14, 'is_child'] = 1\n",
    "    return df"
   ]
  },
  {
   "cell_type": "markdown",
   "metadata": {},
   "source": [
    "## 用有无缺失值去重新定义（Cabin）"
   ]
  },
  {
   "cell_type": "code",
   "execution_count": 99,
   "metadata": {
    "execution": {
     "iopub.execute_input": "2020-03-02T01:35:39.439540Z",
     "iopub.status.busy": "2020-03-02T01:35:39.438704Z",
     "iopub.status.idle": "2020-03-02T01:35:39.456975Z",
     "shell.execute_reply": "2020-03-02T01:35:39.453002Z",
     "shell.execute_reply.started": "2020-03-02T01:35:39.439394Z"
    }
   },
   "outputs": [],
   "source": [
    "def set_Cabin_type(df):\n",
    "    df.loc[df['Cabin'].notna(), 'Cabin'] = 1\n",
    "    df.loc[df['Cabin'].isna(), 'Cabin'] = 0\n",
    "    return df"
   ]
  },
  {
   "cell_type": "markdown",
   "metadata": {},
   "source": [
    "## 处理numeric、categorical数据"
   ]
  },
  {
   "cell_type": "code",
   "execution_count": 100,
   "metadata": {
    "ExecuteTime": {
     "end_time": "2020-02-26T08:58:41.116782Z",
     "start_time": "2020-02-26T08:58:41.101796Z"
    },
    "execution": {
     "iopub.execute_input": "2020-03-02T01:35:39.461279Z",
     "iopub.status.busy": "2020-03-02T01:35:39.460648Z",
     "iopub.status.idle": "2020-03-02T01:35:39.480673Z",
     "shell.execute_reply": "2020-03-02T01:35:39.479213Z",
     "shell.execute_reply.started": "2020-03-02T01:35:39.461181Z"
    },
    "slideshow": {
     "slide_type": "notes"
    }
   },
   "outputs": [],
   "source": [
    "from sklearn.pipeline import make_pipeline\n",
    "from sklearn.impute import SimpleImputer\n",
    "from sklearn.preprocessing import StandardScaler\n",
    "from sklearn.preprocessing import OneHotEncoder\n",
    "from sklearn.preprocessing import FunctionTransformer\n",
    "\n",
    "num_pipeline = make_pipeline(\n",
    "    FunctionTransformer(set_Cabin_type),\n",
    "    FunctionTransformer(set_child_type),  \n",
    "    SimpleImputer(strategy=\"median\"), #缺失值用中位数代替\n",
    "    StandardScaler()#标准化\n",
    ")\n",
    "cate_pipeline = make_pipeline(\n",
    "#     SimpleImputer(strategy='most_frequent'), #离散型数据用unknown补全\n",
    "    OneHotEncoder(sparse=False)\n",
    ")\n",
    "\n",
    "# tmep = cate_pipeline.fit_transform(titanic[cate_features])\n",
    "# temp.shape"
   ]
  },
  {
   "cell_type": "code",
   "execution_count": 101,
   "metadata": {
    "ExecuteTime": {
     "end_time": "2020-02-26T08:58:41.136478Z",
     "start_time": "2020-02-26T08:58:41.121883Z"
    },
    "execution": {
     "iopub.execute_input": "2020-03-02T01:35:39.482932Z",
     "iopub.status.busy": "2020-03-02T01:35:39.482516Z",
     "iopub.status.idle": "2020-03-02T01:35:39.494821Z",
     "shell.execute_reply": "2020-03-02T01:35:39.491170Z",
     "shell.execute_reply.started": "2020-03-02T01:35:39.482853Z"
    }
   },
   "outputs": [],
   "source": [
    "from sklearn.compose import make_column_transformer\n",
    "\n",
    "data_pipeline = make_column_transformer(\n",
    "    (num_pipeline, num_features),\n",
    "    (cate_pipeline, cate_features),\n",
    "    remainder='passthrough'\n",
    "    )\n",
    "# train_prepared = full_pipeline.fit_transform()\n",
    "# type(train_prepared)\n",
    "# train_prepared.shape\n",
    "\n",
    "# train_prepared = pd.DataFrame(train_prepared, columns=X_train.columns)\n",
    "# train_prepared.info()"
   ]
  },
  {
   "cell_type": "markdown",
   "metadata": {},
   "source": [
    "## 特征选择。比如：查看特征工程后的相关系数。待定"
   ]
  },
  {
   "cell_type": "code",
   "execution_count": 102,
   "metadata": {
    "ExecuteTime": {
     "end_time": "2020-02-26T08:58:41.145870Z",
     "start_time": "2020-02-26T08:58:41.140034Z"
    },
    "execution": {
     "iopub.execute_input": "2020-03-02T01:35:39.506058Z",
     "iopub.status.busy": "2020-03-02T01:35:39.505584Z",
     "iopub.status.idle": "2020-03-02T01:35:39.539018Z",
     "shell.execute_reply": "2020-03-02T01:35:39.537621Z",
     "shell.execute_reply.started": "2020-03-02T01:35:39.505964Z"
    }
   },
   "outputs": [],
   "source": [
    "# corr_matrix = titanic.corr()\n",
    "# corr_matrix['Survived'].sort_values()"
   ]
  },
  {
   "cell_type": "markdown",
   "metadata": {},
   "source": [
    "# 模型选择"
   ]
  },
  {
   "cell_type": "markdown",
   "metadata": {},
   "source": [
    "## 划分数据集"
   ]
  },
  {
   "cell_type": "code",
   "execution_count": 103,
   "metadata": {
    "ExecuteTime": {
     "end_time": "2020-02-26T08:58:41.166564Z",
     "start_time": "2020-02-26T08:58:41.148687Z"
    },
    "execution": {
     "iopub.execute_input": "2020-03-02T01:35:39.542786Z",
     "iopub.status.busy": "2020-03-02T01:35:39.542322Z",
     "iopub.status.idle": "2020-03-02T01:35:39.613290Z",
     "shell.execute_reply": "2020-03-02T01:35:39.612158Z",
     "shell.execute_reply.started": "2020-03-02T01:35:39.542701Z"
    }
   },
   "outputs": [
    {
     "data": {
      "text/plain": [
       "pandas.core.frame.DataFrame"
      ]
     },
     "execution_count": 103,
     "metadata": {},
     "output_type": "execute_result"
    }
   ],
   "source": [
    "X_titanic = titanic.drop('Survived', axis = 1)\n",
    "label = titanic['Survived']\n",
    "\n",
    "\n",
    "# 将数据集按照`3:7`的比例，切分为训练集和测试集\n",
    "X_train, X_test, Y_train, Y_test = train_test_split(X_titanic, label, test_size = 0.3, random_state = 42)\n",
    "type(X_test)"
   ]
  },
  {
   "cell_type": "markdown",
   "metadata": {},
   "source": [
    "Todo"
   ]
  },
  {
   "cell_type": "code",
   "execution_count": 104,
   "metadata": {
    "execution": {
     "iopub.execute_input": "2020-03-02T01:35:39.616118Z",
     "iopub.status.busy": "2020-03-02T01:35:39.615503Z",
     "iopub.status.idle": "2020-03-02T01:35:39.624508Z",
     "shell.execute_reply": "2020-03-02T01:35:39.622653Z",
     "shell.execute_reply.started": "2020-03-02T01:35:39.616039Z"
    }
   },
   "outputs": [],
   "source": [
    "# 用模型填补Age缺失值（思考怎么加入Pipline）\n",
    "# X_train, rfr = set_missing_ages(X_train)\n",
    "# tmp_df = X_test[['Age','Fare', 'Parch', 'SibSp', 'Pclass']]\n",
    "# null_age = tmp_df[X_test['Age'].isna()]\n",
    "# X = null_age.iloc[:, 1:]\n",
    "# predictedAges = rfr.predict(X)\n",
    "# X_test.loc[X_test['Age'].isna(), 'Age'] = predictedAges\n",
    "\n",
    "# X_train.loc[X_train['Embarked'].isna(), 'Embarked'] = 's'\n",
    "# X_test.loc[X_test['Embarked'].isna(), 'Embarked'] = 's'\n",
    "\n",
    "#加入pipeline出错，先手动处理\n",
    "# X_train = set_child_type(X_train)\n",
    "# X_train = set_Cabin_type(X_train)\n",
    "\n",
    "# X_test = set_child_type(X_test)\n",
    "# X_test = set_Cabin_type(X_test)"
   ]
  },
  {
   "cell_type": "markdown",
   "metadata": {},
   "source": [
    "test"
   ]
  },
  {
   "cell_type": "raw",
   "metadata": {
    "execution": {
     "iopub.execute_input": "2020-03-02T01:10:28.737395Z",
     "iopub.status.busy": "2020-03-02T01:10:28.737096Z",
     "iopub.status.idle": "2020-03-02T01:10:31.709382Z",
     "shell.execute_reply": "2020-03-02T01:10:31.690645Z",
     "shell.execute_reply.started": "2020-03-02T01:10:28.737347Z"
    }
   },
   "source": [
    "# tem = data_pipeline.fit_transform(X_train)\n",
    "tem = data_pipeline.fit_transform(X_train)\n",
    "type(tem)\n",
    "tem.shape\n"
   ]
  },
  {
   "cell_type": "markdown",
   "metadata": {},
   "source": [
    "## 组合pipeline（模型+数据处理）"
   ]
  },
  {
   "cell_type": "markdown",
   "metadata": {
    "toc-hr-collapsed": false
   },
   "source": [
    "## 模型训练"
   ]
  },
  {
   "cell_type": "code",
   "execution_count": 105,
   "metadata": {
    "execution": {
     "iopub.execute_input": "2020-03-02T01:35:39.649457Z",
     "iopub.status.busy": "2020-03-02T01:35:39.649034Z",
     "iopub.status.idle": "2020-03-02T01:35:39.660200Z",
     "shell.execute_reply": "2020-03-02T01:35:39.658264Z",
     "shell.execute_reply.started": "2020-03-02T01:35:39.649387Z"
    }
   },
   "outputs": [],
   "source": [
    "from sklearn.ensemble import RandomForestClassifier, GradientBoostingClassifier, AdaBoostClassifier, VotingClassifier\n",
    "from sklearn.linear_model import LogisticRegression\n",
    "from sklearn.svm import SVC\n",
    "from sklearn.neural_network import MLPClassifier"
   ]
  },
  {
   "cell_type": "markdown",
   "metadata": {},
   "source": [
    "### LogisticRegression"
   ]
  },
  {
   "cell_type": "code",
   "execution_count": 17,
   "metadata": {},
   "outputs": [
    {
     "data": {
      "text/plain": [
       "LogisticRegression(C=0.1, class_weight=None, dual=False, fit_intercept=True,\n",
       "                   intercept_scaling=1, l1_ratio=None, max_iter=100,\n",
       "                   multi_class='auto', n_jobs=None, penalty='l2',\n",
       "                   random_state=None, solver='lbfgs', tol=0.0001, verbose=0,\n",
       "                   warm_start=False)"
      ]
     },
     "execution_count": 17,
     "metadata": {},
     "output_type": "execute_result"
    }
   ],
   "source": [
    "model = LogisticRegression(C=0.1)\n",
    "model"
   ]
  },
  {
   "cell_type": "code",
   "execution_count": 53,
   "metadata": {
    "execution": {
     "iopub.execute_input": "2020-03-02T01:46:24.226029Z",
     "iopub.status.busy": "2020-03-02T01:46:24.222917Z",
     "iopub.status.idle": "2020-03-02T01:46:24.246711Z",
     "shell.execute_reply": "2020-03-02T01:46:24.244504Z",
     "shell.execute_reply.started": "2020-03-02T01:46:24.225780Z"
    }
   },
   "outputs": [],
   "source": [
    "model = GradientBoostingClassifier()"
   ]
  },
  {
   "cell_type": "markdown",
   "metadata": {},
   "source": [
    "### RandomForestClassifier"
   ]
  },
  {
   "cell_type": "code",
   "execution_count": 19,
   "metadata": {
    "execution": {
     "iopub.execute_input": "2020-03-02T01:37:05.391057Z",
     "iopub.status.busy": "2020-03-02T01:37:05.387928Z",
     "iopub.status.idle": "2020-03-02T01:37:05.412056Z",
     "shell.execute_reply": "2020-03-02T01:37:05.408238Z",
     "shell.execute_reply.started": "2020-03-02T01:37:05.390250Z"
    }
   },
   "outputs": [],
   "source": [
    "model = RandomForestClassifier(max_leaf_nodes=350)"
   ]
  },
  {
   "cell_type": "markdown",
   "metadata": {},
   "source": [
    "### VotingClassifier"
   ]
  },
  {
   "cell_type": "code",
   "execution_count": 42,
   "metadata": {
    "ExecuteTime": {
     "end_time": "2020-02-26T08:58:43.246542Z",
     "start_time": "2020-02-26T08:58:41.200272Z"
    },
    "execution": {
     "iopub.execute_input": "2020-03-02T04:08:15.770312Z",
     "iopub.status.busy": "2020-03-02T04:08:15.769833Z",
     "iopub.status.idle": "2020-03-02T04:08:15.789723Z",
     "shell.execute_reply": "2020-03-02T04:08:15.788192Z",
     "shell.execute_reply.started": "2020-03-02T04:08:15.770201Z"
    }
   },
   "outputs": [],
   "source": [
    "# model = RandomForestClassifier(random_state=42)\n",
    "# model = LogisticRegression(random_state=42)\n",
    "# model = GradientBoostingClassifier(random_state=42)\n",
    "model = VotingClassifier(\n",
    "    estimators=[\n",
    "        ('log_clf', LogisticRegression()),\n",
    "        ('ab_clf', AdaBoostClassifier()),\n",
    "#         ('svm_clf', SVC(probability=True)),\n",
    "        ('rf_clf', RandomForestClassifier()),\n",
    "        ('gbdt_clf', GradientBoostingClassifier())\n",
    "    ], voting='soft')\n",
    "\n",
    "# gg.get_params('votingclassifier')\n",
    "# for m in model.estimators_:\n",
    "#     m\n",
    "#     X_test = data_pipeline.transform(X_test)\n",
    "#     m.score(X_test, Y_test)\n"
   ]
  },
  {
   "cell_type": "markdown",
   "metadata": {},
   "source": [
    "### Stacking"
   ]
  },
  {
   "cell_type": "code",
   "execution_count": 89,
   "metadata": {
    "execution": {
     "iopub.execute_input": "2020-03-02T04:01:03.894919Z",
     "iopub.status.busy": "2020-03-02T04:01:03.890912Z",
     "iopub.status.idle": "2020-03-02T04:01:04.182805Z",
     "shell.execute_reply": "2020-03-02T04:01:04.179376Z",
     "shell.execute_reply.started": "2020-03-02T04:01:03.894653Z"
    }
   },
   "outputs": [],
   "source": [
    "from sklearn.model_selection import KFold\n",
    "from sklearn.model_selection import cross_val_score\n",
    "from sklearn.ensemble import StackingClassifier\n",
    "\n",
    "# models = [\n",
    "#     AdaBoostClassifier(),\n",
    "#     SVC(probability=True),\n",
    "#     LogisticRegression(C=0.1,max_iter=100),\n",
    "#     RandomForestClassifier(n_estimators=100,max_depth=6,oob_score=True),\n",
    "#     GradientBoostingClassifier(learning_rate=0.3,max_depth=6,n_estimators=100)\n",
    "# ]\n",
    "\n",
    "\n",
    "models=[\n",
    "    ('ab_clf', AdaBoostClassifier()),\n",
    "    ('log_clf', LogisticRegression()),\n",
    "    ('svm_clf', SVC(probability=True)),\n",
    "    ('rf_clf', RandomForestClassifier()),\n",
    "    ('gbdt_clf', GradientBoostingClassifier())\n",
    "]\n",
    "\n",
    "\n",
    "model = StackingClassifier(estimators=models, final_estimator=LogisticRegression())\n"
   ]
  },
  {
   "cell_type": "markdown",
   "metadata": {},
   "source": [
    "## 模型验证"
   ]
  },
  {
   "cell_type": "markdown",
   "metadata": {},
   "source": [
    "### 交叉验证"
   ]
  },
  {
   "cell_type": "code",
   "execution_count": 106,
   "metadata": {
    "execution": {
     "iopub.execute_input": "2020-03-02T04:08:18.663805Z",
     "iopub.status.busy": "2020-03-02T04:08:18.663164Z",
     "iopub.status.idle": "2020-03-02T04:08:18.675946Z",
     "shell.execute_reply": "2020-03-02T04:08:18.674306Z",
     "shell.execute_reply.started": "2020-03-02T04:08:18.663570Z"
    }
   },
   "outputs": [],
   "source": [
    "from sklearn.model_selection import cross_val_score\n",
    "from sklearn.pipeline import Pipeline\n",
    "gg =  Pipeline([('data_pipeline', data_pipeline), ('model', model)])\n",
    "\n",
    "# lin_scores = cross_val_score(gg, X_train, Y_train, cv=10)\n",
    "# lin_scores\n",
    "# lin_scores.mean()\n",
    "\n",
    "# gg.score(X_test, Y_test)\n",
    "# Y_pred = gg.predict(X_test)\n",
    "# print(\"Accuracy : %.4g\" % metrics.accuracy_score(Y_test, Y_pred))"
   ]
  },
  {
   "cell_type": "markdown",
   "metadata": {},
   "source": [
    "### learning curve"
   ]
  },
  {
   "cell_type": "code",
   "execution_count": 107,
   "metadata": {
    "execution": {
     "iopub.execute_input": "2020-03-02T04:08:21.128997Z",
     "iopub.status.busy": "2020-03-02T04:08:21.128507Z",
     "iopub.status.idle": "2020-03-02T04:08:48.323151Z",
     "shell.execute_reply": "2020-03-02T04:08:48.320892Z",
     "shell.execute_reply.started": "2020-03-02T04:08:21.128803Z"
    }
   },
   "outputs": [
    {
     "data": {
      "image/png": "[encoded data removed]",
      "text/plain": [
       "<Figure size 720x720 with 1 Axes>"
      ]
     },
     "metadata": {
      "needs_background": "light"
     },
     "output_type": "display_data"
    },
    {
     "data": {
      "text/plain": [
       "(0.8599716328409635, 0.13645309733761657)"
      ]
     },
     "execution_count": 107,
     "metadata": {},
     "output_type": "execute_result"
    }
   ],
   "source": [
    "from sklearn.model_selection import learning_curve\n",
    "def plot_learning_curve(estimator, title, X, y, ylim=None, cv=None, n_jobs=1, \n",
    "                        train_sizes=np.linspace(.05, 1., 10), verbose=0, plot=True):\n",
    "    \"\"\"\n",
    "    画出data在某模型上的learning curve.\n",
    "    参数解释\n",
    "    ----------\n",
    "    estimator : 你用的分类器。\n",
    "    title : 表格的标题。\n",
    "    X : 输入的feature，numpy类型\n",
    "    y : 输入的target vector\n",
    "    ylim : tuple格式的(ymin, ymax), 设定图像中纵坐标的最低点和最高点\n",
    "    cv : 做cross-validation的时候，数据分成的份数，其中一份作为cv集，其余n-1份作为training(默认为5份)\n",
    "    n_jobs : 并行的的任务数(默认1)\n",
    "    \"\"\"\n",
    "    train_sizes, train_scores, test_scores = learning_curve(\n",
    "        estimator, X, y, cv=cv, n_jobs=n_jobs, train_sizes=train_sizes, verbose=verbose)\n",
    "    train_scores_mean = np.mean(train_scores, axis=1)\n",
    "    train_scores_std = np.std(train_scores, axis=1)\n",
    "    test_scores_mean = np.mean(test_scores, axis=1)\n",
    "    test_scores_std = np.std(test_scores, axis=1)\n",
    "    \n",
    "    if plot:\n",
    "        plt.figure()\n",
    "        plt.title(title)\n",
    "        if ylim is not None:\n",
    "            plt.ylim(*ylim)\n",
    "        plt.xlabel(u\"训练样本数\")\n",
    "        plt.ylabel(u\"得分\")\n",
    "        plt.gca().invert_yaxis()\n",
    "        plt.grid()\n",
    "    \n",
    "        plt.fill_between(train_sizes, train_scores_mean - train_scores_std, train_scores_mean + train_scores_std, \n",
    "                         alpha=0.1, color=\"b\")\n",
    "        plt.fill_between(train_sizes, test_scores_mean - test_scores_std, test_scores_mean + test_scores_std, \n",
    "                         alpha=0.1, color=\"r\")\n",
    "        plt.plot(train_sizes, train_scores_mean, 'o-', color=\"b\", label=u\"训练集上得分\")\n",
    "        plt.plot(train_sizes, test_scores_mean, 'o-', color=\"r\", label=u\"交叉验证集上得分\")\n",
    "    \n",
    "        plt.legend(loc=\"best\")\n",
    "        \n",
    "        plt.draw()\n",
    "        plt.gca().invert_yaxis()\n",
    "        plt.show()\n",
    "    \n",
    "    midpoint = ((train_scores_mean[-1] + train_scores_std[-1]) + (test_scores_mean[-1] - test_scores_std[-1])) / 2\n",
    "    diff = (train_scores_mean[-1] + train_scores_std[-1]) - (test_scores_mean[-1] - test_scores_std[-1])\n",
    "    return midpoint, diff\n",
    "\n",
    "plot_learning_curve(gg, gg['model'].__class__.__name__+'学习曲线', X_train, Y_train)"
   ]
  },
  {
   "cell_type": "markdown",
   "metadata": {},
   "source": [
    "# 保存结果"
   ]
  },
  {
   "cell_type": "code",
   "execution_count": 60,
   "metadata": {
    "ExecuteTime": {
     "end_time": "2020-02-26T08:58:43.424389Z",
     "start_time": "2020-02-26T08:58:43.252887Z"
    },
    "execution": {
     "iopub.execute_input": "2020-03-02T01:46:57.822072Z",
     "iopub.status.busy": "2020-03-02T01:46:57.821230Z",
     "iopub.status.idle": "2020-03-02T01:46:58.200412Z",
     "shell.execute_reply": "2020-03-02T01:46:58.199359Z",
     "shell.execute_reply.started": "2020-03-02T01:46:57.821920Z"
    }
   },
   "outputs": [
    {
     "data": {
      "text/plain": [
       "Pipeline(memory=None,\n",
       "         steps=[('data_pipeline',\n",
       "                 ColumnTransformer(n_jobs=None, remainder='passthrough',\n",
       "                                   sparse_threshold=0.3,\n",
       "                                   transformer_weights=None,\n",
       "                                   transformers=[('pipeline-1',\n",
       "                                                  Pipeline(memory=None,\n",
       "                                                           steps=[('functiontransformer-1',\n",
       "                                                                   FunctionTransformer(accept_sparse=False,\n",
       "                                                                                       check_inverse=True,\n",
       "                                                                                       func=<function set_Cabin_type at 0x1a17de5b90>,\n",
       "                                                                                       inv_kw_args=None,\n",
       "                                                                                       inve...\n",
       "                                            learning_rate=0.1, loss='deviance',\n",
       "                                            max_depth=3, max_features=None,\n",
       "                                            max_leaf_nodes=None,\n",
       "                                            min_impurity_decrease=0.0,\n",
       "                                            min_impurity_split=None,\n",
       "                                            min_samples_leaf=1,\n",
       "                                            min_samples_split=2,\n",
       "                                            min_weight_fraction_leaf=0.0,\n",
       "                                            n_estimators=100,\n",
       "                                            n_iter_no_change=None,\n",
       "                                            presort='deprecated',\n",
       "                                            random_state=None, subsample=1.0,\n",
       "                                            tol=0.0001, validation_fraction=0.1,\n",
       "                                            verbose=0, warm_start=False))],\n",
       "         verbose=False)"
      ]
     },
     "execution_count": 60,
     "metadata": {},
     "output_type": "execute_result"
    },
    {
     "name": "stdout",
     "output_type": "stream",
     "text": [
      "Your submission was successfully saved!\n"
     ]
    }
   ],
   "source": [
    "gg.fit(X_train, Y_train) \n",
    "test_data = pd.read_csv('test.csv')\n",
    "output = pd.DataFrame({'PassengerId': test_data.PassengerId})\n",
    "test_data.drop(columns = ['PassengerId','Name','Ticket','Embarked','Parch','SibSp'], inplace = True)\n",
    "\n",
    "predictions = gg.predict(test_data)\n",
    "output['Survived'] = predictions\n",
    "output.to_csv('my_submission.csv', index=False)\n",
    "print(\"Your submission was successfully saved!\")"
   ]
  },
  {
   "cell_type": "code",
   "execution_count": null,
   "metadata": {
    "execution": {
     "iopub.execute_input": "2020-03-02T01:16:22.547120Z",
     "iopub.status.busy": "2020-03-02T01:34:48.405786Z",
     "iopub.status.idle": "2020-03-02T01:34:48.407837Z",
     "shell.execute_reply": "2020-03-02T01:16:22.560450Z",
     "shell.execute_reply.started": "2020-03-02T01:16:22.547045Z"
    }
   },
   "outputs": [],
   "source": [
    "# model.coef"
   ]
  },
  {
   "cell_type": "code",
   "execution_count": null,
   "metadata": {
    "execution": {
     "iopub.execute_input": "2020-03-02T01:16:22.565900Z",
     "iopub.status.busy": "2020-03-02T01:34:48.416482Z",
     "iopub.status.idle": "2020-03-02T01:34:48.417579Z",
     "shell.execute_reply": "2020-03-02T01:16:22.581183Z",
     "shell.execute_reply.started": "2020-03-02T01:16:22.565812Z"
    }
   },
   "outputs": [],
   "source": [
    "# data_pipeline.get_feature_names()"
   ]
  },
  {
   "cell_type": "code",
   "execution_count": null,
   "metadata": {},
   "outputs": [],
   "source": []
  }
 ],
 "metadata": {
  "kernelspec": {
   "display_name": "Python 3",
   "language": "python",
   "name": "python3"
  },
  "language_info": {
   "codemirror_mode": {
    "name": "ipython",
    "version": 3
   },
   "file_extension": ".py",
   "mimetype": "text/x-python",
   "name": "python",
   "nbconvert_exporter": "python",
   "pygments_lexer": "ipython3",
   "version": "3.7.6"
  },
  "record_timing": false,
  "toc": {
   "base_numbering": 1,
   "nav_menu": {},
   "number_sections": true,
   "sideBar": true,
   "skip_h1_title": false,
   "title_cell": "Table of Contents",
   "title_sidebar": "Contents",
   "toc_cell": false,
   "toc_position": {},
   "toc_section_display": true,
   "toc_window_display": true
  },
  "toc-autonumbering": true,
  "toc-showcode": false,
  "toc-showmarkdowntxt": true,
  "toc-showtags": false
 },
 "nbformat": 4,
 "nbformat_minor": 4
}
