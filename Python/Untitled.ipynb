{
 "cells": [
  {
   "cell_type": "code",
   "execution_count": 57,
   "metadata": {
    "ExecuteTime": {
     "end_time": "2021-08-27T11:38:30.851010Z",
     "start_time": "2021-08-27T11:38:30.829516Z"
    }
   },
   "outputs": [],
   "source": [
    "from IPython.core.interactiveshell import InteractiveShell\n",
    "InteractiveShell.ast_node_interactivity = \"all\"\n",
    "\n",
    "import math"
   ]
  },
  {
   "cell_type": "code",
   "execution_count": 8,
   "metadata": {
    "ExecuteTime": {
     "end_time": "2021-08-31T11:24:15.114766Z",
     "start_time": "2021-08-31T11:24:15.088196Z"
    }
   },
   "outputs": [
    {
     "data": {
      "text/plain": [
       "(1, 0)"
      ]
     },
     "execution_count": 8,
     "metadata": {},
     "output_type": "execute_result"
    }
   ],
   "source": [
    "def searchMatrix(matrix, target):\n",
    "    n = len(matrix)\n",
    "    m = len(matrix[0])\n",
    "    top = 0\n",
    "    bot = n - 1\n",
    "    for i in range(n):\n",
    "        if matrix[i][0] > target:\n",
    "            bot = i - 1\n",
    "            break\n",
    "    for i in range(bot):\n",
    "        if matrix[i][-1] < target:\n",
    "            top = i + 1\n",
    "            break\n",
    "#     print(top, bot)\n",
    "    def binarySearch(num):\n",
    "        left = 0\n",
    "        right = len(num) - 1\n",
    "        while left <= right:\n",
    "            mid = (left + right) // 2\n",
    "            if num[mid] == target:\n",
    "                return mid\n",
    "            if num[mid] < target:\n",
    "                left = mid + 1\n",
    "            if num[mid] > target:\n",
    "                right = mid - 1\n",
    "        return -1\n",
    "    for i in range(top, bot + 1):\n",
    "#         print(matrix[i])\n",
    "        res = binarySearch(matrix[i])\n",
    "        if res != -1:\n",
    "            return i, res\n",
    "    return -1\n",
    "num=[[0,1,2,3,5],[4,5,6,7,8]]\n",
    "target=4\n",
    "searchMatrix(num, target)"
   ]
  },
  {
   "cell_type": "code",
   "execution_count": null,
   "metadata": {},
   "outputs": [],
   "source": [
    "0 1 2 3\n",
    "4 5 6 7\n",
    "8 9 10 11"
   ]
  },
  {
   "cell_type": "code",
   "execution_count": 9,
   "metadata": {
    "ExecuteTime": {
     "end_time": "2021-08-31T11:39:22.720208Z",
     "start_time": "2021-08-31T11:39:22.705778Z"
    }
   },
   "outputs": [
    {
     "data": {
      "text/plain": [
       "(1, 0)"
      ]
     },
     "execution_count": 9,
     "metadata": {},
     "output_type": "execute_result"
    }
   ],
   "source": [
    "def searchMatrix(matrix, target):\n",
    "    n = len(matrix)\n",
    "    m = len(matrix[0])\n",
    "    \n",
    "    row = n - 1\n",
    "    col = 0\n",
    "    while row >= 0 and col < m:\n",
    "        if matrix[row][col] == target:\n",
    "            return row, col\n",
    "        if matrix[row][col] > target:\n",
    "            row -= 1\n",
    "        if matrix[row][col] < target:\n",
    "            col += 1\n",
    "    return -1\n",
    "num=[[0,1,2,3,5],[4,5,6,7,8]]\n",
    "target=4\n",
    "searchMatrix(num, target)"
   ]
  },
  {
   "cell_type": "code",
   "execution_count": null,
   "metadata": {},
   "outputs": [],
   "source": []
  }
 ],
 "metadata": {
  "kernelspec": {
   "display_name": "Python 3",
   "language": "python",
   "name": "python3"
  },
  "language_info": {
   "codemirror_mode": {
    "name": "ipython",
    "version": 3
   },
   "file_extension": ".py",
   "mimetype": "text/x-python",
   "name": "python",
   "nbconvert_exporter": "python",
   "pygments_lexer": "ipython3",
   "version": "3.7.6"
  },
  "toc": {
   "base_numbering": 1,
   "nav_menu": {},
   "number_sections": true,
   "sideBar": true,
   "skip_h1_title": false,
   "title_cell": "Table of Contents",
   "title_sidebar": "Contents",
   "toc_cell": false,
   "toc_position": {},
   "toc_section_display": true,
   "toc_window_display": false
  }
 },
 "nbformat": 4,
 "nbformat_minor": 4
}
