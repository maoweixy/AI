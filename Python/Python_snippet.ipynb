{
 "cells": [
  {
   "cell_type": "code",
   "execution_count": 1,
   "metadata": {
    "ExecuteTime": {
     "end_time": "2021-10-20T10:54:13.183750Z",
     "start_time": "2021-10-20T10:54:08.508309Z"
    }
   },
   "outputs": [],
   "source": [
    "from IPython.core.interactiveshell import InteractiveShell\n",
    "InteractiveShell.ast_node_interactivity = \"all\"\n",
    "\n",
    "from datetime import datetime, timedelta, timezone\n",
    "import time\n",
    "import numpy as np\n",
    "import sys\n",
    "import math"
   ]
  },
  {
   "cell_type": "markdown",
   "metadata": {},
   "source": [
    "# temp"
   ]
  },
  {
   "cell_type": "code",
   "execution_count": 12,
   "metadata": {
    "ExecuteTime": {
     "end_time": "2021-10-20T10:56:50.577007Z",
     "start_time": "2021-10-20T10:56:50.569747Z"
    }
   },
   "outputs": [
    {
     "data": {
      "text/plain": [
       "int"
      ]
     },
     "execution_count": 12,
     "metadata": {},
     "output_type": "execute_result"
    },
    {
     "data": {
      "text/plain": [
       "str"
      ]
     },
     "execution_count": 12,
     "metadata": {},
     "output_type": "execute_result"
    },
    {
     "data": {
      "text/plain": [
       "object"
      ]
     },
     "execution_count": 12,
     "metadata": {},
     "output_type": "execute_result"
    }
   ],
   "source": [
    "a = 1\n",
    "b = '123'\n",
    "type(a)\n",
    "type(b)\n",
    "type.__base__"
   ]
  },
  {
   "cell_type": "markdown",
   "metadata": {},
   "source": [
    "# 基础"
   ]
  },
  {
   "cell_type": "markdown",
   "metadata": {},
   "source": [
    "## 数据结构"
   ]
  },
  {
   "cell_type": "markdown",
   "metadata": {},
   "source": [
    "### list"
   ]
  },
  {
   "cell_type": "code",
   "execution_count": 13,
   "metadata": {
    "ExecuteTime": {
     "end_time": "2021-09-01T15:08:22.591324Z",
     "start_time": "2021-09-01T15:08:22.579608Z"
    }
   },
   "outputs": [
    {
     "data": {
      "text/plain": [
       "4520305040"
      ]
     },
     "execution_count": 13,
     "metadata": {},
     "output_type": "execute_result"
    },
    {
     "data": {
      "text/plain": [
       "4520305072"
      ]
     },
     "execution_count": 13,
     "metadata": {},
     "output_type": "execute_result"
    },
    {
     "data": {
      "text/plain": [
       "140243869154272"
      ]
     },
     "execution_count": 13,
     "metadata": {},
     "output_type": "execute_result"
    },
    {
     "data": {
      "text/plain": [
       "140243869154272"
      ]
     },
     "execution_count": 13,
     "metadata": {},
     "output_type": "execute_result"
    }
   ],
   "source": [
    "a = 1\n",
    "id(a)\n",
    "a = 2\n",
    "id(a)\n",
    "l1 = [1 ,2]\n",
    "id(l1)\n",
    "l1[0] = 4\n",
    "id(l1)"
   ]
  },
  {
   "cell_type": "markdown",
   "metadata": {},
   "source": [
    "### dict"
   ]
  },
  {
   "cell_type": "code",
   "execution_count": 8,
   "metadata": {
    "ExecuteTime": {
     "end_time": "2021-08-30T07:06:23.545269Z",
     "start_time": "2021-08-30T07:06:23.540645Z"
    }
   },
   "outputs": [
    {
     "name": "stdout",
     "output_type": "stream",
     "text": [
      "a\n"
     ]
    }
   ],
   "source": [
    "dict = {'Alice': '2341', 'Beth': '9102', 'Cecil': '3258'}\n",
    "if not dict.get('aa'):\n",
    "    print('a')"
   ]
  },
  {
   "cell_type": "markdown",
   "metadata": {},
   "source": [
    "# 变量引用\n",
    "\n",
    "1. 对于不可变对象作为函数参数，相当于C系语言的值传递；\n",
    "2. 对于可变对象作为函数参数，且参数不指向其他对象时，相当于C系语言的引用传递。\n",
    "3. 对于可变对象作为函数参数，参数指向其他对象，参数与原变量会脱钩。\n",
    "\n",
    "总结来说：\n",
    "\n",
    "对于不可变对象，要改变其值，只能通过引用全局的办法，或者函数返回值\n",
    "\n",
    "对于可变对象，既可以通过引用全局，也可以传参数，但是要注意不能让参数指向其他对象\n",
    "\n",
    "1. https://segmentfault.com/q/1010000010178371\n",
    "2. https://stackoverflow.com/questions/986006/how-do-i-pass-a-variable-by-reference"
   ]
  },
  {
   "cell_type": "code",
   "execution_count": 5,
   "metadata": {
    "ExecuteTime": {
     "end_time": "2020-05-24T07:43:57.685157Z",
     "start_time": "2020-05-24T07:43:57.670674Z"
    }
   },
   "outputs": [
    {
     "name": "stdout",
     "output_type": "stream",
     "text": [
      "before, outer_string = 周杰伦\n",
      "inner string = 周杰伦\n",
      "inner string set to 林俊杰\n",
      "after, outer_string = 周杰伦\n",
      "before, outer_list = ['one', 'two', 'three']\n",
      "inner list = ['one', 'two', 'three']\n",
      "changed to ['one', 'two', 'three', 'four']\n",
      "after, outer_list = ['one', 'two', 'three', 'four']\n"
     ]
    }
   ],
   "source": [
    "#String - an immutable type，值传递\n",
    "def try_to_change_string_reference(the_string):\n",
    "    print('inner string =', the_string)\n",
    "    the_string = '林俊杰'\n",
    "    print('inner string set to', the_string)\n",
    "\n",
    "outer_string = '周杰伦'\n",
    "\n",
    "print('before, outer_string =', outer_string)\n",
    "try_to_change_string_reference(outer_string)\n",
    "print('after, outer_string =', outer_string)\n",
    "\n",
    "\n",
    "#List - a mutable type，引用传递\n",
    "def try_to_change_list_contents(the_list):\n",
    "    print('inner list =', the_list)\n",
    "    the_list.append('four')\n",
    "    print('inner list changed to', the_list)\n",
    "\n",
    "outer_list = ['one', 'two', 'three']\n",
    "\n",
    "print('before, outer_list =', outer_list)\n",
    "try_to_change_list_contents(outer_list)\n",
    "print('after, outer_list =', outer_list)"
   ]
  },
  {
   "cell_type": "code",
   "execution_count": 16,
   "metadata": {
    "ExecuteTime": {
     "end_time": "2020-05-24T08:23:14.609126Z",
     "start_time": "2020-05-24T08:23:14.443326Z"
    }
   },
   "outputs": [
    {
     "name": "stdout",
     "output_type": "stream",
     "text": [
      "before, outer_list = ['one', 'two', 'three']\n",
      "inner list = ['one', 'two', 'three']\n",
      "inner local list changed to ['mw']\n",
      "after, outer_list = ['one', 'two', 'three']\n"
     ]
    }
   ],
   "source": [
    "#List - a mutable type，引用传递，但是参数指向了其他对象（这里是['mw']），所以参数与原变量会脱钩\n",
    "def try_to_change_list_contents(the_list):\n",
    "    print('inner list =', the_list)\n",
    "    #就算传全局变量都不行\n",
    "#     the_list = outer_list[0]\n",
    "    the_list = ['mw']\n",
    "    \n",
    "    print('inner local list changed to', the_list)\n",
    "\n",
    "outer_list = ['one', 'two', 'three']\n",
    "print('before, outer_list =', outer_list)\n",
    "try_to_change_list_contents(outer_list)\n",
    "print('after, outer_list =', outer_list)"
   ]
  },
  {
   "cell_type": "code",
   "execution_count": 18,
   "metadata": {
    "ExecuteTime": {
     "end_time": "2020-05-24T08:29:22.625751Z",
     "start_time": "2020-05-24T08:29:22.561065Z"
    }
   },
   "outputs": [
    {
     "name": "stdout",
     "output_type": "stream",
     "text": [
      "before, outer_list = ['one', 'two', 'three']\n",
      "inner list = ['one', 'two', 'three']\n",
      "inner global list changed to ['mw']\n",
      "after, outer_list = ['mw']\n"
     ]
    }
   ],
   "source": [
    "#还有一种办法，不传参数，直接使用全局变量\n",
    "def try_to_change_list_contents():\n",
    "    global outer_list\n",
    "    print('inner list =', outer_list)\n",
    "    outer_list = ['mw']\n",
    "    print('inner global list changed to', outer_list)\n",
    "    \n",
    "outer_list = ['one', 'two', 'three']\n",
    "print('before, outer_list =', outer_list)\n",
    "try_to_change_list_contents()\n",
    "print('after, outer_list =', outer_list)"
   ]
  },
  {
   "cell_type": "markdown",
   "metadata": {},
   "source": [
    "# 数据类型 "
   ]
  },
  {
   "cell_type": "code",
   "execution_count": 4,
   "metadata": {
    "ExecuteTime": {
     "end_time": "2020-06-27T08:58:46.275038Z",
     "start_time": "2020-06-27T08:58:46.269779Z"
    }
   },
   "outputs": [
    {
     "data": {
      "text/plain": [
       "int"
      ]
     },
     "execution_count": 4,
     "metadata": {},
     "output_type": "execute_result"
    }
   ],
   "source": [
    "a = 4\n",
    "type(a)\n",
    "# a.dtype"
   ]
  },
  {
   "cell_type": "code",
   "execution_count": 8,
   "metadata": {
    "ExecuteTime": {
     "end_time": "2020-06-27T09:51:18.625281Z",
     "start_time": "2020-06-27T09:51:18.613894Z"
    }
   },
   "outputs": [
    {
     "name": "stdout",
     "output_type": "stream",
     "text": [
      "type(a)= <class 'list'>\n",
      "type(b)= <class 'dict'>\n",
      "type(c)= <class 'numpy.ndarray'>\n",
      "type(d)= <class '__main__.Myclass'>\n",
      "type(e)= <class 'numpy.ndarray'>\n",
      "type(f)= <class 'int'>\n",
      "type(c_)= <class 'numpy.ndarray'>\n",
      "type(aa)= <class 'int'>\n",
      "type(bb)= <class 'float'>\n",
      "type(cc)= <class 'str'>\n"
     ]
    }
   ],
   "source": [
    "class Myclass():\n",
    "    pass\n",
    " \n",
    "a = [[1,2,3],[4,5,6]]\n",
    "b = {'a':1,'b':2,'c':3}\n",
    "c = np.array([1,2,3])\n",
    "d = Myclass()\n",
    "e = np.linspace(1,5,10)\n",
    "c_ = c.astype(np.float)\n",
    "f = 10\n",
    "\n",
    "aa = 1\n",
    "bb = 1.2\n",
    "cc = '11'\n",
    " \n",
    "print(\"type(a)=\",type(a))\n",
    "print(\"type(b)=\",type(b))\n",
    "print(\"type(c)=\",type(c))\n",
    "print(\"type(d)=\",type(d))\n",
    "print(\"type(e)=\",type(e))\n",
    "print(\"type(f)=\",type(f))\n",
    "print(\"type(c_)=\",type(c_))\n",
    "print(\"type(aa)=\",type(aa))\n",
    "print(\"type(bb)=\",type(bb))\n",
    "print(\"type(cc)=\",type(cc))\n",
    "\n"
   ]
  },
  {
   "cell_type": "code",
   "execution_count": null,
   "metadata": {},
   "outputs": [],
   "source": []
  },
  {
   "cell_type": "code",
   "execution_count": null,
   "metadata": {},
   "outputs": [],
   "source": []
  },
  {
   "cell_type": "markdown",
   "metadata": {},
   "source": [
    "## 时间\n",
    "\n",
    "参考：https://docs.python.org/zh-cn/3/library/datetime.html\n",
    "\n",
    "时区概念：\n",
    "\n",
    "UTC 是标准时间参照\n",
    "\n",
    "GMT（格林威治时间）、CST（北京时间）、PST（太平洋时间）等等是具体的时区。\n",
    "\n",
    "由于GMT比较特殊，是UTC 0时刻，所以：\n",
    "\n",
    "> GMT: UTC +0    =    GMT: GMT +0\n",
    ">\n",
    "> CST: UTC +8    =    CST: GMT +8\n",
    ">\n",
    "> PST: UTC -8    =    PST: GMT -8\n",
    "\n",
    "datetime表示的时间需要时区信息才能确定一个特定的时间，否则只能视为本地时间。"
   ]
  },
  {
   "cell_type": "code",
   "execution_count": 17,
   "metadata": {
    "ExecuteTime": {
     "end_time": "2020-05-12T03:28:34.430672Z",
     "start_time": "2020-05-12T03:28:34.386328Z"
    }
   },
   "outputs": [
    {
     "data": {
      "text/plain": [
       "datetime.datetime(2020, 5, 12, 11, 28, 34, 388639)"
      ]
     },
     "execution_count": 17,
     "metadata": {},
     "output_type": "execute_result"
    },
    {
     "data": {
      "text/plain": [
       "1589254114.388639"
      ]
     },
     "execution_count": 17,
     "metadata": {},
     "output_type": "execute_result"
    },
    {
     "data": {
      "text/plain": [
       "datetime.datetime(2020, 5, 12, 11, 28, 34, 388639)"
      ]
     },
     "execution_count": 17,
     "metadata": {},
     "output_type": "execute_result"
    },
    {
     "data": {
      "text/plain": [
       "datetime.datetime(2020, 5, 12, 3, 28, 34, 388639)"
      ]
     },
     "execution_count": 17,
     "metadata": {},
     "output_type": "execute_result"
    }
   ],
   "source": [
    "dt = datetime.now()\n",
    "dt\n",
    "\n",
    "t = dt.timestamp()\n",
    "t\n",
    "\n",
    "datetime.fromtimestamp(t)\n",
    "\n",
    "datetime.utcfromtimestamp(t)"
   ]
  },
  {
   "cell_type": "markdown",
   "metadata": {},
   "source": [
    "## 日期"
   ]
  },
  {
   "cell_type": "code",
   "execution_count": 23,
   "metadata": {
    "ExecuteTime": {
     "end_time": "2020-05-12T13:26:33.641260Z",
     "start_time": "2020-05-12T13:26:33.599330Z"
    }
   },
   "outputs": [
    {
     "data": {
      "text/plain": [
       "datetime.datetime(2015, 4, 19, 12, 20)"
      ]
     },
     "execution_count": 23,
     "metadata": {},
     "output_type": "execute_result"
    },
    {
     "data": {
      "text/plain": [
       "datetime.datetime(2020, 5, 12, 21, 26, 33, 615896)"
      ]
     },
     "execution_count": 23,
     "metadata": {},
     "output_type": "execute_result"
    },
    {
     "data": {
      "text/plain": [
       "1589289993.615896"
      ]
     },
     "execution_count": 23,
     "metadata": {},
     "output_type": "execute_result"
    },
    {
     "data": {
      "text/plain": [
       "1589289993.6256099"
      ]
     },
     "execution_count": 23,
     "metadata": {},
     "output_type": "execute_result"
    }
   ],
   "source": [
    "#获取指定日期和时间\n",
    "dt = datetime(2015, 4, 19, 12, 20)\n",
    "dt\n",
    "\n",
    "#获取当前时间，默认当前时区\n",
    "dt = datetime.now()\n",
    "dt\n",
    "\n",
    "#datetime转换为timestamp\n",
    "dt.timestamp()\n",
    "\n",
    "#获取当前时间戳\n",
    "t = time.time()\n",
    "t"
   ]
  },
  {
   "cell_type": "markdown",
   "metadata": {},
   "source": [
    "## timestamp（时间戳）"
   ]
  },
  {
   "cell_type": "code",
   "execution_count": 12,
   "metadata": {
    "ExecuteTime": {
     "end_time": "2020-06-27T11:29:27.773611Z",
     "start_time": "2020-06-27T11:29:27.761594Z"
    }
   },
   "outputs": [
    {
     "data": {
      "text/plain": [
       "1593257367.764354"
      ]
     },
     "execution_count": 12,
     "metadata": {},
     "output_type": "execute_result"
    },
    {
     "data": {
      "text/plain": [
       "datetime.datetime(2020, 6, 27, 19, 29, 27, 764354)"
      ]
     },
     "execution_count": 12,
     "metadata": {},
     "output_type": "execute_result"
    },
    {
     "data": {
      "text/plain": [
       "datetime.datetime"
      ]
     },
     "execution_count": 12,
     "metadata": {},
     "output_type": "execute_result"
    },
    {
     "data": {
      "text/plain": [
       "datetime.datetime(2020, 6, 27, 11, 29, 27, 764354)"
      ]
     },
     "execution_count": 12,
     "metadata": {},
     "output_type": "execute_result"
    }
   ],
   "source": [
    "#获取当前时间戳\n",
    "t = time.time()\n",
    "t\n",
    "\n",
    "#把时间戳换成当前系统的时区\n",
    "tt = datetime.fromtimestamp(t)\n",
    "tt\n",
    "type(tt)\n",
    "\n",
    "#把时间戳换成UTC0的时区\n",
    "datetime.utcfromtimestamp(t)\n"
   ]
  },
  {
   "cell_type": "markdown",
   "metadata": {
    "ExecuteTime": {
     "end_time": "2020-05-07T07:19:46.878222Z",
     "start_time": "2020-05-07T07:19:46.830086Z"
    }
   },
   "source": [
    "## 时区（timezone）"
   ]
  },
  {
   "cell_type": "code",
   "execution_count": 32,
   "metadata": {
    "ExecuteTime": {
     "end_time": "2020-05-12T13:30:11.064502Z",
     "start_time": "2020-05-12T13:30:11.024978Z"
    }
   },
   "outputs": [
    {
     "data": {
      "text/plain": [
       "datetime.datetime(2020, 5, 12, 21, 30, 11, 39222, tzinfo=datetime.timezone(datetime.timedelta(seconds=28800)))"
      ]
     },
     "execution_count": 32,
     "metadata": {},
     "output_type": "execute_result"
    },
    {
     "data": {
      "text/plain": [
       "datetime.timezone(datetime.timedelta(seconds=28800))"
      ]
     },
     "execution_count": 32,
     "metadata": {},
     "output_type": "execute_result"
    },
    {
     "data": {
      "text/plain": [
       "datetime.datetime(2020, 5, 12, 22, 30, 11, 39222, tzinfo=datetime.timezone(datetime.timedelta(seconds=32400)))"
      ]
     },
     "execution_count": 32,
     "metadata": {},
     "output_type": "execute_result"
    }
   ],
   "source": [
    "# 创建时区UTC+8:00\n",
    "bj_tz = timezone(timedelta(hours=8))\n",
    "\n",
    "#根据时区获取当前时间\n",
    "now = datetime.now(bj_tz)\n",
    "now\n",
    "now.tzinfo\n",
    "\n",
    "#时区转换，北京时间换成东京时间\n",
    "tokyo_tz = now.astimezone(timezone(timedelta(hours=9)))\n",
    "tokyo_tz"
   ]
  },
  {
   "cell_type": "code",
   "execution_count": null,
   "metadata": {},
   "outputs": [],
   "source": []
  },
  {
   "cell_type": "markdown",
   "metadata": {},
   "source": [
    "# 系统信息"
   ]
  },
  {
   "cell_type": "code",
   "execution_count": null,
   "metadata": {},
   "outputs": [],
   "source": []
  }
 ],
 "metadata": {
  "kernelspec": {
   "display_name": "Python 3",
   "language": "python",
   "name": "python3"
  },
  "language_info": {
   "codemirror_mode": {
    "name": "ipython",
    "version": 3
   },
   "file_extension": ".py",
   "mimetype": "text/x-python",
   "name": "python",
   "nbconvert_exporter": "python",
   "pygments_lexer": "ipython3",
   "version": "3.7.6"
  },
  "toc": {
   "base_numbering": 1,
   "nav_menu": {},
   "number_sections": true,
   "sideBar": true,
   "skip_h1_title": false,
   "title_cell": "Table of Contents",
   "title_sidebar": "Contents",
   "toc_cell": false,
   "toc_position": {},
   "toc_section_display": true,
   "toc_window_display": true
  }
 },
 "nbformat": 4,
 "nbformat_minor": 4
}
