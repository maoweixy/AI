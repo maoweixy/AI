{
 "cells": [
  {
   "cell_type": "code",
   "execution_count": 2,
   "metadata": {
    "ExecuteTime": {
     "end_time": "2021-09-08T06:14:19.310357Z",
     "start_time": "2021-09-08T06:14:19.304679Z"
    }
   },
   "outputs": [],
   "source": [
    "from IPython.core.interactiveshell import InteractiveShell\n",
    "InteractiveShell.ast_node_interactivity = \"all\"\n",
    "\n",
    "from datetime import datetime, timedelta, timezone\n",
    "import time\n",
    "import math"
   ]
  },
  {
   "cell_type": "markdown",
   "metadata": {},
   "source": [
    "# temp"
   ]
  },
  {
   "cell_type": "code",
   "execution_count": 106,
   "metadata": {
    "ExecuteTime": {
     "end_time": "2021-07-28T13:53:05.119802Z",
     "start_time": "2021-07-28T13:53:04.480997Z"
    }
   },
   "outputs": [
    {
     "name": "stdout",
     "output_type": "stream",
     "text": [
      "--------------------\n",
      "递归前：\n",
      "i =  0\n",
      "path =  []\n",
      "repeated =  []\n",
      "--------------------\n",
      "递归前：\n",
      "i =  1\n",
      "path =  [4]\n",
      "repeated =  []\n",
      "--------------------\n",
      "递归前：\n",
      "i =  2\n",
      "path =  [4, 4]\n",
      "repeated =  []\n",
      "--------------------\n",
      "递归前：\n",
      "i =  3\n",
      "path =  [4, 4, 4]\n",
      "repeated =  []\n",
      "--------------------\n",
      "递归前：\n",
      "i =  4\n",
      "path =  [4, 4, 4, 1]\n",
      "repeated =  []\n",
      "递归后：\n",
      "i =  4\n",
      "path =  [4, 4, 4, 1, 4]\n",
      "repeated =  [4]\n",
      "递归后：\n",
      "i =  3\n",
      "path =  [4, 4, 4, 1]\n",
      "repeated =  [1]\n",
      "--------------------\n",
      "递归前：\n",
      "i =  4\n",
      "path =  [4, 4, 4]\n",
      "repeated =  [1]\n",
      "递归后：\n",
      "i =  4\n",
      "path =  [4, 4, 4, 4]\n",
      "repeated =  [1, 4]\n",
      "递归后：\n",
      "i =  2\n",
      "path =  [4, 4, 4]\n",
      "repeated =  [4]\n",
      "--------------------\n",
      "递归前：\n",
      "i =  3\n",
      "path =  [4, 4]\n",
      "repeated =  [4]\n",
      "--------------------\n",
      "递归前：\n",
      "i =  4\n",
      "path =  [4, 4, 1]\n",
      "repeated =  []\n",
      "递归后：\n",
      "i =  4\n",
      "path =  [4, 4, 1, 4]\n",
      "repeated =  [4]\n",
      "递归后：\n",
      "i =  3\n",
      "path =  [4, 4, 1]\n",
      "repeated =  [4, 1]\n",
      "--------------------\n",
      "递归前：\n",
      "i =  4\n",
      "path =  [4, 4]\n",
      "repeated =  [4, 1]\n",
      "递归后：\n",
      "i =  1\n",
      "path =  [4, 4]\n",
      "repeated =  [4]\n",
      "--------------------\n",
      "递归前：\n",
      "i =  2\n",
      "path =  [4]\n",
      "repeated =  [4]\n",
      "--------------------\n",
      "递归前：\n",
      "i =  3\n",
      "path =  [4]\n",
      "repeated =  [4]\n",
      "--------------------\n",
      "递归前：\n",
      "i =  4\n",
      "path =  [4, 1]\n",
      "repeated =  []\n",
      "递归后：\n",
      "i =  4\n",
      "path =  [4, 1, 4]\n",
      "repeated =  [4]\n",
      "递归后：\n",
      "i =  3\n",
      "path =  [4, 1]\n",
      "repeated =  [4, 1]\n",
      "--------------------\n",
      "递归前：\n",
      "i =  4\n",
      "path =  [4]\n",
      "repeated =  [4, 1]\n",
      "递归后：\n",
      "i =  0\n",
      "path =  [4]\n",
      "repeated =  [4]\n",
      "--------------------\n",
      "递归前：\n",
      "i =  1\n",
      "path =  []\n",
      "repeated =  [4]\n",
      "--------------------\n",
      "递归前：\n",
      "i =  2\n",
      "path =  []\n",
      "repeated =  [4]\n",
      "--------------------\n",
      "递归前：\n",
      "i =  3\n",
      "path =  []\n",
      "repeated =  [4]\n",
      "--------------------\n",
      "递归前：\n",
      "i =  4\n",
      "path =  [1]\n",
      "repeated =  []\n",
      "递归后：\n",
      "i =  4\n",
      "path =  [1, 4]\n",
      "repeated =  [4]\n",
      "递归后：\n",
      "i =  3\n",
      "path =  [1]\n",
      "repeated =  [4, 1]\n",
      "--------------------\n",
      "递归前：\n",
      "i =  4\n",
      "path =  []\n",
      "repeated =  [4, 1]\n"
     ]
    },
    {
     "data": {
      "text/plain": [
       "[[],\n",
       " [4],\n",
       " [4, 4],\n",
       " [4, 4, 4],\n",
       " [4, 4, 4, 1],\n",
       " [4, 4, 4, 1, 4],\n",
       " [4, 4, 4, 4],\n",
       " [4, 4, 1],\n",
       " [4, 4, 1, 4],\n",
       " [4, 1],\n",
       " [4, 1, 4],\n",
       " [1],\n",
       " [1, 4]]"
      ]
     },
     "execution_count": 106,
     "metadata": {},
     "output_type": "execute_result"
    }
   ],
   "source": [
    "def subsetsWithDup(nums):\n",
    "    res = []\n",
    "    path = []\n",
    "    def dfs(begin):\n",
    "        res.append(path[:])\n",
    "        repeated = []\n",
    "        for i in range(begin, len(nums)):\n",
    "            print('-'*20)\n",
    "            print('递归前：')\n",
    "            print('i = ', i)\n",
    "            print('path = ', path)\n",
    "            print('repeated = ', repeated)\n",
    "            if nums[i] in repeated: continue\n",
    "            repeated.append(nums[i])\n",
    "            path.append(nums[i])\n",
    "            dfs(i + 1)\n",
    "            print('递归后：')\n",
    "            print('i = ', i)\n",
    "            print('path = ', path)\n",
    "            print('repeated = ', repeated)\n",
    "            path.pop()\n",
    "            \n",
    "    # nums.sort()\n",
    "    dfs(0)\n",
    "    return res\n",
    "nums = [4,4,4,1,4]\n",
    "subsetsWithDup(nums)"
   ]
  },
  {
   "cell_type": "code",
   "execution_count": 96,
   "metadata": {
    "ExecuteTime": {
     "end_time": "2021-07-28T12:35:32.663740Z",
     "start_time": "2021-07-28T12:35:32.579046Z"
    }
   },
   "outputs": [
    {
     "data": {
      "text/plain": [
       "[12, 12, 12, 12, 12, 12, 12, 12, 12, 12, 12, 12]"
      ]
     },
     "execution_count": 96,
     "metadata": {},
     "output_type": "execute_result"
    },
    {
     "data": {
      "text/plain": [
       "-1"
      ]
     },
     "execution_count": 96,
     "metadata": {},
     "output_type": "execute_result"
    },
    {
     "data": {
      "text/plain": [
       "[[0], 12, 12, 12, 12, 12, 12, 12, 12, 12, 12, 12]"
      ]
     },
     "execution_count": 96,
     "metadata": {},
     "output_type": "execute_result"
    }
   ],
   "source": [
    "coins = [1, 2, 5]\n",
    "amount = 11\n",
    "dp = [amount + 1] * (amount + 1)\n",
    "dp\n",
    "dp[0] = [0]\n",
    "for i in range(1, amount + 1):\n",
    "    for j in coins:\n",
    "        if i < j: continue\n",
    "        aa = dp[10-j] + 1\n",
    "        dp[i] = min(dp[i],aa)\n",
    "dp[-1] if dp[-1] != amount + 1 else -1\n",
    "dp"
   ]
  },
  {
   "cell_type": "code",
   "execution_count": null,
   "metadata": {},
   "outputs": [],
   "source": []
  },
  {
   "cell_type": "markdown",
   "metadata": {},
   "source": [
    "# 数组"
   ]
  },
  {
   "cell_type": "markdown",
   "metadata": {},
   "source": [
    "## 双指针"
   ]
  },
  {
   "cell_type": "markdown",
   "metadata": {},
   "source": [
    "### 环形链表"
   ]
  },
  {
   "cell_type": "code",
   "execution_count": null,
   "metadata": {},
   "outputs": [],
   "source": [
    "# Definition for singly-linked list.\n",
    "# class ListNode:\n",
    "#     def __init__(self, x):\n",
    "#         self.val = x\n",
    "#         self.next = None\n",
    "\n",
    "class Solution:\n",
    "    def hasCycle(self, head: ListNode) -> bool:\n",
    "        ListNode fast, slow\n",
    "        fast = slow = head\n",
    "        while(fast != None && fast.next != None):\n",
    "            fast = fast.next.next\n",
    "            slow = slow.next\n",
    "            if (fast == slow) return True\n",
    "        return False"
   ]
  },
  {
   "cell_type": "markdown",
   "metadata": {},
   "source": [
    "### 滑动窗口"
   ]
  },
  {
   "cell_type": "code",
   "execution_count": null,
   "metadata": {},
   "outputs": [],
   "source": [
    "class Solution:\n",
    "    def minWindow(self, s: str, t: str) -> str:\n",
    "        # 需要包含的字符及其个数\n",
    "        need = collections.defaultdict(int)\n",
    "        # 窗口内已包含的字符及其个数\n",
    "        window = collections.defaultdict(int)\n",
    "        for v in t:\n",
    "            need[v] += 1\n",
    "        # 窗口中满足need条件的字符个数，如果need_cnt和need.size的大小相同，则说明窗口已满足条件，已经完全覆盖了串T\n",
    "        need_cnt = 0\n",
    "        # 记录最小覆盖子串的起始索引及长度\n",
    "        length = math.inf\n",
    "        start = 0\n",
    "        # 滑动窗口左指针\n",
    "        i = 0\n",
    "        # j，滑动窗口右指针\n",
    "        for j in range(len(s)):\n",
    "            if s[j] in need:\n",
    "                window[s[j]] += 1\n",
    "                if need[s[j]] == window[s[j]]:\n",
    "                    need_cnt += 1\n",
    "            j += 1\n",
    "            while need_cnt == len(need):\n",
    "                if j - i < length: start, length = i, j - i\n",
    "                if s[i] in need:\n",
    "                    if need[s[i]] == window[s[i]]: need_cnt -= 1\n",
    "                    window[s[i]] -= 1\n",
    "                i += 1\n",
    "        return '' if length == math.inf else s[start:start + length]"
   ]
  },
  {
   "cell_type": "markdown",
   "metadata": {},
   "source": [
    "# 树"
   ]
  },
  {
   "cell_type": "markdown",
   "metadata": {},
   "source": [
    "## 树的遍历"
   ]
  },
  {
   "cell_type": "code",
   "execution_count": null,
   "metadata": {},
   "outputs": [],
   "source": [
    "# Definition for a binary tree node.\n",
    "# class TreeNode:\n",
    "#     def __init__(self, val=0, left=None, right=None):\n",
    "#         self.val = val\n",
    "#         self.left = left\n",
    "#         self.right = right\n",
    "class Solution:\n",
    "    def inorderTraversal(self, root: TreeNode) -> List[int]:\n",
    "        res=[]\n",
    "        def dfs(root):\n",
    "            if not root: return\n",
    "            dfs(root.left)\n",
    "            res.append(root.val)\n",
    "            dfs(root.right)\n",
    "        dfs(root)\n",
    "        return res"
   ]
  },
  {
   "cell_type": "markdown",
   "metadata": {},
   "source": [
    "# 排序"
   ]
  },
  {
   "cell_type": "markdown",
   "metadata": {},
   "source": [
    "## 快速排序"
   ]
  },
  {
   "cell_type": "code",
   "execution_count": 23,
   "metadata": {
    "ExecuteTime": {
     "end_time": "2021-07-14T03:28:04.922796Z",
     "start_time": "2021-07-14T03:28:04.911172Z"
    }
   },
   "outputs": [
    {
     "data": {
      "text/plain": [
       "[1, 2, 3, 4, 5, 6, 7, 8]"
      ]
     },
     "execution_count": 23,
     "metadata": {},
     "output_type": "execute_result"
    }
   ],
   "source": [
    "arr = [4, 7, 6, 5, 3, 2, 8, 1]\n",
    "def quickSort(left, right):\n",
    "    if(left >= right): return\n",
    "    pivot_index = partition(left, right)\n",
    "    quickSort(0, pivot_index - 1)\n",
    "    quickSort(pivot_index + 1, right)\n",
    "    \n",
    "def partition(left, right):\n",
    "    pivot = arr[left]\n",
    "    start_index = left\n",
    "    while(left != right):\n",
    "        while(arr[right] > pivot and left < right): right -= 1\n",
    "        while(arr[left] <= pivot and left < right): left += 1\n",
    "        if(left < right): arr[left], arr[right] = arr[right], arr[left]\n",
    "    arr[left], arr[start_index] = arr[start_index], arr[left]\n",
    "    return left\n",
    "\n",
    "quickSort(0, len(arr) - 1)\n",
    "arr"
   ]
  },
  {
   "cell_type": "markdown",
   "metadata": {},
   "source": [
    "## 归并排序"
   ]
  },
  {
   "cell_type": "code",
   "execution_count": 61,
   "metadata": {
    "ExecuteTime": {
     "end_time": "2021-07-15T07:43:22.004083Z",
     "start_time": "2021-07-15T07:43:21.913609Z"
    }
   },
   "outputs": [
    {
     "data": {
      "text/plain": [
       "[1, 2, 3, 4, 5, 6, 7, 8]"
      ]
     },
     "execution_count": 61,
     "metadata": {},
     "output_type": "execute_result"
    }
   ],
   "source": [
    "arr = [4, 7, 6, 5, 3, 2, 8, 1]\n",
    "def mergeSort(arr):\n",
    "    if (len(arr) < 2): return arr\n",
    "    middle = len(arr) // 2\n",
    "    left = mergeSort(arr[:middle])\n",
    "    right = mergeSort(arr[middle:])\n",
    "    merged = []\n",
    "    while left and right:\n",
    "        merged.append(left.pop(0) if left[0] <= right[0] else right.pop(0))\n",
    "    merged.extend(left if left else right)\n",
    "    return merged\n",
    "arr = mergeSort(arr)\n",
    "arr"
   ]
  },
  {
   "cell_type": "markdown",
   "metadata": {},
   "source": [
    "## 堆排序"
   ]
  },
  {
   "cell_type": "code",
   "execution_count": 4,
   "metadata": {
    "ExecuteTime": {
     "end_time": "2021-09-08T06:14:37.360726Z",
     "start_time": "2021-09-08T06:14:37.321773Z"
    }
   },
   "outputs": [
    {
     "data": {
      "text/plain": [
       "[8, 7, 6, 5, 4, 3, 2, 1]"
      ]
     },
     "execution_count": 4,
     "metadata": {},
     "output_type": "execute_result"
    }
   ],
   "source": [
    "arr = [4, 7, 6, 5, 3, 2, 8, 1]\n",
    "arr_len = len(arr)\n",
    "def build_max_heap():\n",
    "    for i in range(math.floor(len(arr)/2),-1,-1):\n",
    "        heapify(i)\n",
    "        \n",
    "def heapify(i):\n",
    "    left = 2 * i + 1\n",
    "    right = 2 * i + 2\n",
    "    largest = i\n",
    "    if left < arr_len and arr[left] < arr[largest]: largest = left\n",
    "    if right < arr_len and arr[right] < arr[largest]: largest = right\n",
    "    if largest != i:\n",
    "        arr[i], arr[largest] = arr[largest], arr[i]\n",
    "        heapify(largest)\n",
    "\n",
    "def heap_sort():\n",
    "    global arr_len\n",
    "    build_max_heap()\n",
    "    for i in range(len(arr)-1,0,-1):\n",
    "        arr[0], arr[i] = arr[i], arr[0]\n",
    "        arr_len -= 1\n",
    "        heapify(0)\n",
    "heap_sort()\n",
    "arr"
   ]
  },
  {
   "cell_type": "markdown",
   "metadata": {},
   "source": [
    "# 查找"
   ]
  },
  {
   "cell_type": "markdown",
   "metadata": {},
   "source": [
    "## 二分查找"
   ]
  },
  {
   "cell_type": "code",
   "execution_count": 49,
   "metadata": {
    "ExecuteTime": {
     "end_time": "2021-07-15T03:30:21.015800Z",
     "start_time": "2021-07-15T03:30:21.006549Z"
    }
   },
   "outputs": [
    {
     "data": {
      "text/plain": [
       "4"
      ]
     },
     "execution_count": 49,
     "metadata": {},
     "output_type": "execute_result"
    }
   ],
   "source": [
    "# 二分查找最麻烦的确定边界情况，所以记住就行\n",
    "def binarySearch(arr, target):\n",
    "    left = 0\n",
    "    right = len(arr)\n",
    "    while(left < right):\n",
    "        mid = (left + right) // 2\n",
    "        if(arr[mid] == target):\n",
    "            return mid\n",
    "        elif(arr[mid] < target):\n",
    "            left = mid + 1\n",
    "        else:\n",
    "            right = mid\n",
    "    return -1\n",
    "arr = [1, 2, 3, 4, 5, 6, 7, 8]\n",
    "binarySearch(arr, 5)"
   ]
  },
  {
   "cell_type": "markdown",
   "metadata": {},
   "source": [
    "## 寻找边界的二分查找"
   ]
  },
  {
   "cell_type": "code",
   "execution_count": 60,
   "metadata": {
    "ExecuteTime": {
     "end_time": "2021-07-15T04:55:26.666816Z",
     "start_time": "2021-07-15T04:55:26.644811Z"
    }
   },
   "outputs": [
    {
     "data": {
      "text/plain": [
       "1"
      ]
     },
     "execution_count": 60,
     "metadata": {},
     "output_type": "execute_result"
    },
    {
     "data": {
      "text/plain": [
       "-1"
      ]
     },
     "execution_count": 60,
     "metadata": {},
     "output_type": "execute_result"
    }
   ],
   "source": [
    "# 左侧边界\n",
    "def binarySearch(arr, target):\n",
    "    left = 0\n",
    "    right = len(arr)\n",
    "    while(left < right):\n",
    "        mid = (left + right) // 2\n",
    "        if(arr[mid] == target):\n",
    "            right = mid\n",
    "        elif(arr[mid] < target):\n",
    "            left = mid + 1\n",
    "        else:\n",
    "            right = mid\n",
    "    if(left == len(arr)): return -1\n",
    "    return left if arr[left] == target else -1\n",
    "arr = [1, 2, 2, 2, 5, 6, 7, 8]\n",
    "binarySearch(arr, 2)\n",
    "\n",
    "# 右侧边界\n",
    "def binarySearch(arr, target):\n",
    "    left = 0\n",
    "    right = len(arr)\n",
    "    while(left < right):\n",
    "        mid = (left + right) // 2\n",
    "        if(arr[mid] == target):\n",
    "            left = mid + 1\n",
    "        elif(arr[mid] < target):\n",
    "            left = mid + 1\n",
    "        else:\n",
    "            right = mid\n",
    "    if(left - 1 == len(arr)): return -1\n",
    "    return left - 1 if arr[left - 1] == target else -1\n",
    "arr = [1, 2, 2, 2, 5, 6, 7, 8]\n",
    "binarySearch(arr, 3)"
   ]
  },
  {
   "cell_type": "markdown",
   "metadata": {},
   "source": [
    "# 动态规划"
   ]
  },
  {
   "cell_type": "markdown",
   "metadata": {},
   "source": [
    "## 最长递增子序列"
   ]
  },
  {
   "cell_type": "code",
   "execution_count": null,
   "metadata": {},
   "outputs": [],
   "source": [
    "class Solution:\n",
    "    def lengthOfLIS(self, nums: List[int]) -> int:\n",
    "        res = [1] * len(nums)\n",
    "        for i in range(len(nums)):\n",
    "            for j in range(i):\n",
    "                if nums[i] > nums[j]:\n",
    "                    res[i] = max(res[i], res[j] + 1)\n",
    "        return max(res)"
   ]
  },
  {
   "cell_type": "markdown",
   "metadata": {},
   "source": [
    "## 最长公共子序列\n",
    "\n",
    "要比较两个字符串，所以用二维DP"
   ]
  },
  {
   "cell_type": "code",
   "execution_count": null,
   "metadata": {
    "ExecuteTime": {
     "end_time": "2021-07-18T07:43:30.559457Z",
     "start_time": "2021-07-18T07:43:30.524076Z"
    }
   },
   "outputs": [],
   "source": [
    "class Solution:\n",
    "    def longestCommonSubsequence(self, text1: str, text2: str) -> int:\n",
    "        n1 = len(text1)\n",
    "        n2 = len(text2)\n",
    "        dp = [[0] * (n2 + 1) for i in range(n1 + 1)]\n",
    "        for i in range(1, n1 + 1):\n",
    "            for j in range(1, n2 + 1):\n",
    "                if text1[i - 1] == text2[j - 1]: dp[i][j] = dp[i - 1][j - 1] + 1\n",
    "                else: dp[i][j] = max(dp[i - 1][j], dp[i][j - 1])\n",
    "        return dp[i][j]"
   ]
  },
  {
   "cell_type": "markdown",
   "metadata": {},
   "source": [
    "# 回溯"
   ]
  },
  {
   "cell_type": "markdown",
   "metadata": {},
   "source": [
    "## 全排列"
   ]
  },
  {
   "cell_type": "code",
   "execution_count": null,
   "metadata": {},
   "outputs": [],
   "source": [
    "class Solution:\n",
    "    def permute(self, nums: List[int]) -> List[List[int]]:\n",
    "        res = []\n",
    "        track = []\n",
    "        def dfs():\n",
    "            if len(track) == len(nums):\n",
    "                res.append(track[:])\n",
    "                return\n",
    "            for i in nums:\n",
    "                if i in track: continue\n",
    "                track.append(i)\n",
    "                dfs()\n",
    "                track.pop()\n",
    "        dfs()\n",
    "        return res"
   ]
  },
  {
   "cell_type": "code",
   "execution_count": null,
   "metadata": {},
   "outputs": [],
   "source": []
  }
 ],
 "metadata": {
  "kernelspec": {
   "display_name": "Python 3",
   "language": "python",
   "name": "python3"
  },
  "language_info": {
   "codemirror_mode": {
    "name": "ipython",
    "version": 3
   },
   "file_extension": ".py",
   "mimetype": "text/x-python",
   "name": "python",
   "nbconvert_exporter": "python",
   "pygments_lexer": "ipython3",
   "version": "3.7.6"
  },
  "toc": {
   "base_numbering": 1,
   "nav_menu": {},
   "number_sections": true,
   "sideBar": true,
   "skip_h1_title": false,
   "title_cell": "Table of Contents",
   "title_sidebar": "Contents",
   "toc_cell": false,
   "toc_position": {
    "height": "calc(100% - 180px)",
    "left": "10px",
    "top": "150px",
    "width": "279px"
   },
   "toc_section_display": true,
   "toc_window_display": true
  }
 },
 "nbformat": 4,
 "nbformat_minor": 4
}
