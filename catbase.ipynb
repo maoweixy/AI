{
 "cells": [
  {
   "cell_type": "code",
   "execution_count": null,
   "metadata": {},
   "outputs": [],
   "source": [
    "import pandas as pd\n",
    "import seaborn as sns\n",
    "from catboost import CatBoostClassifier\n",
    "from matplotlib import pyplot as plt\n",
    "from tqdm import tqdm\n",
    "import time\n",
    "import gc\n",
    "import numpy as np\n",
    "from scipy.stats import entropy\n",
    "from gensim.models import Word2Vec\n",
    "from sklearn.metrics import *"
   ]
  },
  {
   "cell_type": "code",
   "execution_count": null,
   "metadata": {},
   "outputs": [],
   "source": [
    "def reduce_mem(df):\n",
    "    starttime = time.time()\n",
    "    numerics = ['int16', 'int32', 'int64', 'float16', 'float32', 'float64']\n",
    "    start_mem = df.memory_usage().sum() / 1024**2\n",
    "    for col in df.columns:\n",
    "        col_type = df[col].dtypes\n",
    "        if col_type in numerics:\n",
    "            c_min = df[col].min()\n",
    "            c_max = df[col].max()\n",
    "            if pd.isnull(c_min) or pd.isnull(c_max):\n",
    "                continue\n",
    "            if str(col_type)[:3] == 'int':\n",
    "                if c_min > np.iinfo(np.int8).min and c_max < np.iinfo(np.int8).max:\n",
    "                    df[col] = df[col].astype(np.int8)\n",
    "                elif c_min > np.iinfo(np.int16).min and c_max < np.iinfo(np.int16).max:\n",
    "                    df[col] = df[col].astype(np.int16)\n",
    "                elif c_min > np.iinfo(np.int32).min and c_max < np.iinfo(np.int32).max:\n",
    "                    df[col] = df[col].astype(np.int32)\n",
    "                elif c_min > np.iinfo(np.int64).min and c_max < np.iinfo(np.int64).max:\n",
    "                    df[col] = df[col].astype(np.int64)\n",
    "            else:\n",
    "                if c_min > np.finfo(np.float16).min and c_max < np.finfo(np.float16).max:\n",
    "                    df[col] = df[col].astype(np.float16)\n",
    "                elif c_min > np.finfo(np.float32).min and c_max < np.finfo(np.float32).max:\n",
    "                    df[col] = df[col].astype(np.float32)\n",
    "                else:\n",
    "                    df[col] = df[col].astype(np.float64)\n",
    "    end_mem = df.memory_usage().sum() / 1024**2\n",
    "    print('-- Mem. usage decreased to {:5.2f} Mb ({:.1f}% reduction),time spend:{:2.2f} min'.format(end_mem,\n",
    "                                                                                                           100*(start_mem-end_mem)/start_mem,\n",
    "                                                                                                           (time.time()-starttime)/60))\n",
    "    return df"
   ]
  },
  {
   "cell_type": "code",
   "execution_count": null,
   "metadata": {},
   "outputs": [],
   "source": [
    "train_df = pd.read_csv('../data/digixA/train_data.csv',sep='|')\n",
    "train_df = train_df.sample(frac = 0.5).reset_index(drop=True)    #根据你的内存来决定\n",
    "test_df = pd.read_csv('../data/digixA/test_data_A.csv',sep='|')\n",
    "df = pd.concat([train_df,test_df],axis=0)"
   ]
  },
  {
   "cell_type": "code",
   "execution_count": null,
   "metadata": {},
   "outputs": [],
   "source": [
    "##########################cate feature#######################\n",
    "cate_cols = ['slot_id','net_type','task_id','adv_id','adv_prim_id','age','app_first_class','app_second_class','career','city','consume_purchase','uid','dev_id','tags']\n",
    "for f in tqdm(cate_cols):\n",
    "    map_dict = dict(zip(df[f].unique(), range(df[f].nunique())))\n",
    "    df[f + '_count'] = df[f].map(df[f].value_counts())\n",
    "df = reduce_mem(df)"
   ]
  },
  {
   "cell_type": "code",
   "execution_count": null,
   "metadata": {},
   "outputs": [],
   "source": [
    "##########################groupby feature#######################\n",
    "def group_fea(df,key,target):\n",
    "    tmp = df.groupby(key, as_index=False)[target].agg({\n",
    "        key+target + '_nunique': 'nunique',\n",
    "    }).reset_index()\n",
    "    del tmp['index']\n",
    "    print(\"**************************{}**************************\".format(target))\n",
    "    return tmp\n",
    "\n",
    "feature_key = ['uid','age','career','net_type']\n",
    "feature_target = ['task_id','adv_id','dev_id','slot_id','spread_app_id','indu_name']\n",
    "\n",
    "for key in tqdm(feature_key):\n",
    "    for target in feature_target:\n",
    "        tmp = group_fea(df,key,target)\n",
    "        df = df.merge(tmp,on=key,how='left')\n"
   ]
  },
  {
   "cell_type": "code",
   "execution_count": null,
   "metadata": {},
   "outputs": [],
   "source": [
    "test_df = df[df[\"pt_d\"]==8].copy().reset_index()\n",
    "train_df = df[df[\"pt_d\"]<8].reset_index()\n",
    "del df\n",
    "gc.collect()"
   ]
  },
  {
   "cell_type": "code",
   "execution_count": null,
   "metadata": {},
   "outputs": [],
   "source": [
    "#统计做了groupby特征的特征\n",
    "group_list = []\n",
    "for s in train_df.columns:\n",
    "    if '_nunique' in s:\n",
    "        group_list.append(s)\n",
    "print(group_list)"
   ]
  },
  {
   "cell_type": "code",
   "execution_count": null,
   "metadata": {},
   "outputs": [],
   "source": [
    "##########################target_enc feature#######################\n",
    "from sklearn.model_selection import StratifiedKFold\n",
    "skf = StratifiedKFold(n_splits=5, shuffle=True, random_state=2020)\n",
    "enc_list = group_list + ['net_type','task_id','adv_id','adv_prim_id','age','app_first_class','app_second_class','career','city','consume_purchase','uid','uid_count','dev_id','tags','slot_id']\n",
    "for f in tqdm(enc_list):\n",
    "    train_df[f + '_target_enc'] = 0\n",
    "    test_df[f + '_target_enc'] = 0\n",
    "    for i, (trn_idx, val_idx) in enumerate(skf.split(train_df, train_df['label'])):\n",
    "        trn_x = train_df[[f, 'label']].iloc[trn_idx].reset_index(drop=True)\n",
    "        val_x = train_df[[f]].iloc[val_idx].reset_index(drop=True)\n",
    "        enc_df = trn_x.groupby(f, as_index=False)['label'].agg({f + '_target_enc': 'mean'})\n",
    "        val_x = val_x.merge(enc_df, on=f, how='left')\n",
    "        test_x = test_df[[f]].merge(enc_df, on=f, how='left')\n",
    "        val_x[f + '_target_enc'] = val_x[f + '_target_enc'].fillna(train_df['label'].mean())\n",
    "        test_x[f + '_target_enc'] = test_x[f + '_target_enc'].fillna(train_df['label'].mean())\n",
    "        train_df.loc[val_idx, f + '_target_enc'] = val_x[f + '_target_enc'].values\n",
    "        test_df[f + '_target_enc'] += test_x[f + '_target_enc'].values / skf.n_splits\n",
    "        "
   ]
  },
  {
   "cell_type": "code",
   "execution_count": null,
   "metadata": {},
   "outputs": [],
   "source": [
    "#线下数据集的切分\n",
    "X_train = train_df[train_df[\"pt_d\"]<=6].copy()\n",
    "y_train = X_train[\"label\"].astype('int32')\n",
    "X_valid = train_df[train_df[\"pt_d\"]>6]\n",
    "y_valid = X_valid[\"label\"].astype('int32')"
   ]
  },
  {
   "cell_type": "code",
   "execution_count": null,
   "metadata": {},
   "outputs": [],
   "source": [
    "#筛选特征\n",
    "drop_fea = ['pt_d','label','communication_onlinerate','index']\n",
    "feature= [x for x in X_train.columns if x not in drop_fea]\n",
    "print(len(feature))\n",
    "print(feature)"
   ]
  },
  {
   "cell_type": "code",
   "execution_count": null,
   "metadata": {},
   "outputs": [],
   "source": [
    "#线下验证\n",
    "cate_fea = []\n",
    "clf = CatBoostClassifier(iterations=10000, depth=6,learning_rate=0.1, loss_function='Logloss',cat_features=cate_fea\n",
    "                        ,verbose=True,eval_metric='AUC',counter_calc_method='Full',task_type='GPU',metric_period=50)\n",
    "clf.fit(\n",
    "    X_train[feature], y_train.astype('int32'),\n",
    "    eval_set=[(X_valid[feature],y_valid.astype('int32'))],\n",
    "    early_stopping_rounds=200,\n",
    "    verbose=True,\n",
    "    use_best_model=True,\n",
    ")\n",
    "y_predprob = clf.predict_proba(X_valid[feature])[:, 1] \n",
    "\n",
    "y_pre = clf.predict_proba(test_df[feature])[:, 1]  \n",
    "auc_score =roc_auc_score(y_valid, y_predprob)\n",
    "print(\"AUC Score (Valid): %f\" % auc_score) "
   ]
  },
  {
   "cell_type": "code",
   "execution_count": null,
   "metadata": {},
   "outputs": [],
   "source": [
    "#查看模型的特征重要性\n",
    "import matplotlib.pyplot as plt \n",
    "from matplotlib import cm\n",
    "score = pd.DataFrame()\n",
    "score['fea_name'] = clf.feature_names_\n",
    "score['fea']=clf.feature_importances_\n",
    "score = score.sort_values(['fea'], ascending=False)\n",
    "temp = pd.DataFrame()\n",
    "temp = score[:60]\n",
    "color = cm.jet(temp['fea']/temp['fea'].max())\n",
    "plt.figure(figsize=(10, 15))\n",
    "plt.barh(temp['fea_name'],temp['fea'],height =0.8,color=color,alpha=0.8)\n",
    "plt.show()"
   ]
  },
  {
   "cell_type": "code",
   "execution_count": null,
   "metadata": {},
   "outputs": [],
   "source": [
    "#线上提交的模型训练\n",
    "clf1 = CatBoostClassifier(iterations=clf.best_iteration_, depth=6,learning_rate=0.1, loss_function='Logloss'\n",
    "                        ,eval_metric='AUC',counter_calc_method='Full',task_type='GPU',metric_period=50)\n",
    "clf1.fit(\n",
    "    train_df[feature], train_df['label'].astype('int32'),\n",
    "    verbose=True,\n",
    "    use_best_model=True,\n",
    ")\n",
    "y_pre = clf1.predict_proba(test_df[feature])[:, 1]    \n",
    "\n",
    "res = pd.DataFrame()\n",
    "res['id'] = test_df['id'].astype('int32')\n",
    "res['probability'] = y_pre\n",
    "res.to_csv('baseline_{}.csv'.format(auc_score),index = False)"
   ]
  }
 ],
 "metadata": {
  "kernelspec": {
   "display_name": "Python 3",
   "language": "python",
   "name": "python3"
  },
  "language_info": {
   "codemirror_mode": {
    "name": "ipython",
    "version": 3
   },
   "file_extension": ".py",
   "mimetype": "text/x-python",
   "name": "python",
   "nbconvert_exporter": "python",
   "pygments_lexer": "ipython3",
   "version": "3.7.6"
  },
  "toc": {
   "base_numbering": 1,
   "nav_menu": {},
   "number_sections": true,
   "sideBar": true,
   "skip_h1_title": false,
   "title_cell": "Table of Contents",
   "title_sidebar": "Contents",
   "toc_cell": false,
   "toc_position": {},
   "toc_section_display": true,
   "toc_window_display": false
  }
 },
 "nbformat": 4,
 "nbformat_minor": 2
}
