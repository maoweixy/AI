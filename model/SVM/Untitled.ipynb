{
 "cells": [
  {
   "cell_type": "markdown",
   "metadata": {},
   "source": [
    "# 一个简单的SVM"
   ]
  },
  {
   "cell_type": "code",
   "execution_count": 9,
   "metadata": {},
   "outputs": [
    {
     "name": "stdout",
     "output_type": "stream",
     "text": [
      "[[0.30598034 0.69401966]\n",
      " [0.81791009 0.18208991]]\n",
      "[-1  1]\n"
     ]
    }
   ],
   "source": [
    "from sklearn.svm import SVC\n",
    "import numpy as np\n",
    "x = np.array([[2,0],[0,2],[0,0],[3,0],[0,3],[3,3]])\n",
    "y = np.array([-1,-1,-1,1,1,1])\n",
    "#probability=False时，没办法调用 model.predict_proba()函数\n",
    "model = SVC(kernel='linear', probability=True)\n",
    "model.fit(x,y)\n",
    "C = [[-1,-1],[4,4]]\n",
    "pre = model.predict_proba(C)\n",
    "print(pre)\n",
    "pre1 = model.predict(C)\n",
    "print(pre1)"
   ]
  },
  {
   "cell_type": "markdown",
   "metadata": {},
   "source": [
    "# 通过画图的方式展示各种kernel function\n",
    "1. https://blog.csdn.net/leonliu1995/article/details/78762123"
   ]
  },
  {
   "cell_type": "code",
   "execution_count": null,
   "metadata": {},
   "outputs": [],
   "source": []
  }
 ],
 "metadata": {
  "kernelspec": {
   "display_name": "Python 3",
   "language": "python",
   "name": "python3"
  },
  "language_info": {
   "codemirror_mode": {
    "name": "ipython",
    "version": 3
   },
   "file_extension": ".py",
   "mimetype": "text/x-python",
   "name": "python",
   "nbconvert_exporter": "python",
   "pygments_lexer": "ipython3",
   "version": "3.7.6"
  },
  "toc": {
   "base_numbering": 1,
   "nav_menu": {},
   "number_sections": true,
   "sideBar": true,
   "skip_h1_title": false,
   "title_cell": "Table of Contents",
   "title_sidebar": "Contents",
   "toc_cell": false,
   "toc_position": {},
   "toc_section_display": true,
   "toc_window_display": false
  }
 },
 "nbformat": 4,
 "nbformat_minor": 2
}
