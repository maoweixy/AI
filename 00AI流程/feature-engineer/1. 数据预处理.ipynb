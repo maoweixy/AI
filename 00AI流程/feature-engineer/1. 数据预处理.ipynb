{
 "cells": [
  {
   "cell_type": "markdown",
   "metadata": {},
   "source": [
    "**基于Jupyter的特征工程笔记本1: 数据预处理**  \n",
    "*作者: 陈颖祥，杨子唅*"
   ]
  },
  {
   "cell_type": "markdown",
   "metadata": {},
   "source": [
    "**Reference**:  \n",
    "- https://scikit-learn.org/stable/modules/preprocessing.html#preprocessing\n",
    "- https://towardsdatascience.com/preprocessing-with-sklearn-a-complete-and-comprehensive-guide-670cb98fcfb9\n",
    "- https://www.analyticsvidhya.com/blog/2016/07/practical-guide-data-preprocessing-python-scikit-learn/\n",
    "- Sarkar, D., Bali, R., & Sharma, T. (2018). Practical Machine Learning with Python. A Problem-Solvers Guide To Building Real-World Intelligent Systems, Berkely.\n",
    "- https://contrib.scikit-learn.org/categorical-encoding/index.html\n",
    "- https://towardsdatascience.com/all-about-categorical-variable-encoding-305f3361fd02\n",
    "- https://stats.idre.ucla.edu/r/library/r-library-contrast-coding-systems-for-categorical-variables/\n",
    "- https://kiwidamien.github.io/james-stein-encoder.html\n",
    "- https://chris-said.io/2017/05/03/empirical-bayes-for-multiple-sample-sizes/\n",
    "- http://support.sas.com/documentation/cdl/en/prochp/66704/HTML/default/viewer.htm#prochp_hpbin_details02.htm\n",
    "- https://catboost.ai/docs/concepts/algorithm-main-stages_cat-to-numberic.html\n",
    "- https://docs.featuretools.com/en/stable/index.html\n",
    "- https://heartbeat.fritz.ai/introduction-to-automated-feature-engineering-using-deep-feature-synthesis-dfs-3feb69a7c00b"
   ]
  },
  {
   "cell_type": "markdown",
   "metadata": {
    "toc": true
   },
   "source": [
    "<h1>Table of Contents<span class=\"tocSkip\"></span></h1>\n",
    "<div class=\"toc\"><ul class=\"toc-item\"><li><span><a href=\"#Data-Prepocessing-数据预处理\" data-toc-modified-id=\"Data-Prepocessing-数据预处理-1\"><span class=\"toc-item-num\">1&nbsp;&nbsp;</span>Data Prepocessing 数据预处理</a></span><ul class=\"toc-item\"><li><span><a href=\"#Static-Continuous-Variables-静态连续变量\" data-toc-modified-id=\"Static-Continuous-Variables-静态连续变量-1.1\"><span class=\"toc-item-num\">1.1&nbsp;&nbsp;</span>Static Continuous Variables 静态连续变量</a></span><ul class=\"toc-item\"><li><span><a href=\"#Discretization-离散化\" data-toc-modified-id=\"Discretization-离散化-1.1.1\"><span class=\"toc-item-num\">1.1.1&nbsp;&nbsp;</span>Discretization 离散化</a></span><ul class=\"toc-item\"><li><span><a href=\"#Binarization-二值化\" data-toc-modified-id=\"Binarization-二值化-1.1.1.1\"><span class=\"toc-item-num\">1.1.1.1&nbsp;&nbsp;</span>Binarization 二值化</a></span></li><li><span><a href=\"#Binning-分箱\" data-toc-modified-id=\"Binning-分箱-1.1.1.2\"><span class=\"toc-item-num\">1.1.1.2&nbsp;&nbsp;</span>Binning 分箱</a></span></li></ul></li><li><span><a href=\"#Scaling-缩放\" data-toc-modified-id=\"Scaling-缩放-1.1.2\"><span class=\"toc-item-num\">1.1.2&nbsp;&nbsp;</span>Scaling 缩放</a></span><ul class=\"toc-item\"><li><span><a href=\"#Stardard-Scaling-标准缩放（Z-分数标准化）\" data-toc-modified-id=\"Stardard-Scaling-标准缩放（Z-分数标准化）-1.1.2.1\"><span class=\"toc-item-num\">1.1.2.1&nbsp;&nbsp;</span>Stardard Scaling 标准缩放（Z 分数标准化）</a></span></li><li><span><a href=\"#MinMaxScaler-最大最小缩放-(按数值范围缩放)\" data-toc-modified-id=\"MinMaxScaler-最大最小缩放-(按数值范围缩放)-1.1.2.2\"><span class=\"toc-item-num\">1.1.2.2&nbsp;&nbsp;</span>MinMaxScaler 最大最小缩放 (按数值范围缩放)</a></span></li><li><span><a href=\"#RobustScaler-稳健缩放-(抗异常值缩放)\" data-toc-modified-id=\"RobustScaler-稳健缩放-(抗异常值缩放)-1.1.2.3\"><span class=\"toc-item-num\">1.1.2.3&nbsp;&nbsp;</span>RobustScaler 稳健缩放 (抗异常值缩放)</a></span></li><li><span><a href=\"#Power-Transform-幂次变换-(非线性变换)\" data-toc-modified-id=\"Power-Transform-幂次变换-(非线性变换)-1.1.2.4\"><span class=\"toc-item-num\">1.1.2.4&nbsp;&nbsp;</span>Power Transform 幂次变换 (非线性变换)</a></span></li></ul></li><li><span><a href=\"#Normalization-正则化\" data-toc-modified-id=\"Normalization-正则化-1.1.3\"><span class=\"toc-item-num\">1.1.3&nbsp;&nbsp;</span>Normalization 正则化</a></span></li><li><span><a href=\"#Imputation-of-missing-values-缺失值填补\" data-toc-modified-id=\"Imputation-of-missing-values-缺失值填补-1.1.4\"><span class=\"toc-item-num\">1.1.4&nbsp;&nbsp;</span>Imputation of missing values 缺失值填补</a></span><ul class=\"toc-item\"><li><span><a href=\"#Univariate-feature-imputation-单变量特征插补\" data-toc-modified-id=\"Univariate-feature-imputation-单变量特征插补-1.1.4.1\"><span class=\"toc-item-num\">1.1.4.1&nbsp;&nbsp;</span>Univariate feature imputation 单变量特征插补</a></span></li><li><span><a href=\"#Multivariate-feature-imputation-多元特征插补\" data-toc-modified-id=\"Multivariate-feature-imputation-多元特征插补-1.1.4.2\"><span class=\"toc-item-num\">1.1.4.2&nbsp;&nbsp;</span>Multivariate feature imputation 多元特征插补</a></span></li><li><span><a href=\"#Marking-imputed-values-标记估算值\" data-toc-modified-id=\"Marking-imputed-values-标记估算值-1.1.4.3\"><span class=\"toc-item-num\">1.1.4.3&nbsp;&nbsp;</span>Marking imputed values 标记估算值</a></span></li></ul></li><li><span><a href=\"#Feature-Transformation-特征变换\" data-toc-modified-id=\"Feature-Transformation-特征变换-1.1.5\"><span class=\"toc-item-num\">1.1.5&nbsp;&nbsp;</span>Feature Transformation 特征变换</a></span><ul class=\"toc-item\"><li><span><a href=\"#Polynomial-Transformation-多项式变换\" data-toc-modified-id=\"Polynomial-Transformation-多项式变换-1.1.5.1\"><span class=\"toc-item-num\">1.1.5.1&nbsp;&nbsp;</span>Polynomial Transformation 多项式变换</a></span></li><li><span><a href=\"#Custom-Transformation-自定义变换\" data-toc-modified-id=\"Custom-Transformation-自定义变换-1.1.5.2\"><span class=\"toc-item-num\">1.1.5.2&nbsp;&nbsp;</span>Custom Transformation 自定义变换</a></span></li></ul></li></ul></li><li><span><a href=\"#Static-Categorical-Variables-静态类别变量\" data-toc-modified-id=\"Static-Categorical-Variables-静态类别变量-1.2\"><span class=\"toc-item-num\">1.2&nbsp;&nbsp;</span>Static Categorical Variables 静态类别变量</a></span><ul class=\"toc-item\"><li><span><a href=\"#Ordinal-Encoding-序数编码\" data-toc-modified-id=\"Ordinal-Encoding-序数编码-1.2.1\"><span class=\"toc-item-num\">1.2.1&nbsp;&nbsp;</span>Ordinal Encoding 序数编码</a></span></li><li><span><a href=\"#One-hot-Encoding-独热编码\" data-toc-modified-id=\"One-hot-Encoding-独热编码-1.2.2\"><span class=\"toc-item-num\">1.2.2&nbsp;&nbsp;</span>One-hot Encoding 独热编码</a></span></li><li><span><a href=\"#Hashing-Encoding-哈希编码\" data-toc-modified-id=\"Hashing-Encoding-哈希编码-1.2.3\"><span class=\"toc-item-num\">1.2.3&nbsp;&nbsp;</span>Hashing Encoding 哈希编码</a></span></li><li><span><a href=\"#Helmert-Encoding-Helmert-编码\" data-toc-modified-id=\"Helmert-Encoding-Helmert-编码-1.2.4\"><span class=\"toc-item-num\">1.2.4&nbsp;&nbsp;</span>Helmert Encoding Helmert 编码</a></span></li><li><span><a href=\"#Sum-(Deviation)-Encoding--偏差编码\" data-toc-modified-id=\"Sum-(Deviation)-Encoding--偏差编码-1.2.5\"><span class=\"toc-item-num\">1.2.5&nbsp;&nbsp;</span>Sum (Deviation) Encoding  偏差编码</a></span></li><li><span><a href=\"#Target-Encoding-目标编码\" data-toc-modified-id=\"Target-Encoding-目标编码-1.2.6\"><span class=\"toc-item-num\">1.2.6&nbsp;&nbsp;</span>Target Encoding 目标编码</a></span></li><li><span><a href=\"#M-estimate-Encoding-M估计量编码\" data-toc-modified-id=\"M-estimate-Encoding-M估计量编码-1.2.7\"><span class=\"toc-item-num\">1.2.7&nbsp;&nbsp;</span>M-estimate Encoding M估计量编码</a></span></li><li><span><a href=\"#James-Stein-Encoder-James-Stein-编码\" data-toc-modified-id=\"James-Stein-Encoder-James-Stein-编码-1.2.8\"><span class=\"toc-item-num\">1.2.8&nbsp;&nbsp;</span>James-Stein Encoder James-Stein 编码</a></span></li><li><span><a href=\"#Weight-of-Evidence-Encoder-证据权重编码\" data-toc-modified-id=\"Weight-of-Evidence-Encoder-证据权重编码-1.2.9\"><span class=\"toc-item-num\">1.2.9&nbsp;&nbsp;</span>Weight of Evidence Encoder 证据权重编码</a></span></li><li><span><a href=\"#Leave-One-Out-Encoder-留一法编码\" data-toc-modified-id=\"Leave-One-Out-Encoder-留一法编码-1.2.10\"><span class=\"toc-item-num\">1.2.10&nbsp;&nbsp;</span>Leave One Out Encoder 留一法编码</a></span></li><li><span><a href=\"#Catboost-Encoder-Catboost-编码\" data-toc-modified-id=\"Catboost-Encoder-Catboost-编码-1.2.11\"><span class=\"toc-item-num\">1.2.11&nbsp;&nbsp;</span>Catboost Encoder Catboost 编码</a></span></li></ul></li><li><span><a href=\"#Time-Series-Variables-时间序列变量\" data-toc-modified-id=\"Time-Series-Variables-时间序列变量-1.3\"><span class=\"toc-item-num\">1.3&nbsp;&nbsp;</span>Time Series Variables 时间序列变量</a></span><ul class=\"toc-item\"><li><span><a href=\"#Time-Series-Categorical-Features-时间序列类别变量\" data-toc-modified-id=\"Time-Series-Categorical-Features-时间序列类别变量-1.3.1\"><span class=\"toc-item-num\">1.3.1&nbsp;&nbsp;</span>Time Series Categorical Features 时间序列类别变量</a></span></li><li><span><a href=\"#Time-Series-Continuous-Features-时间序列连续变量\" data-toc-modified-id=\"Time-Series-Continuous-Features-时间序列连续变量-1.3.2\"><span class=\"toc-item-num\">1.3.2&nbsp;&nbsp;</span>Time Series Continuous Features 时间序列连续变量</a></span></li><li><span><a href=\"#Implementation-代码实现\" data-toc-modified-id=\"Implementation-代码实现-1.3.3\"><span class=\"toc-item-num\">1.3.3&nbsp;&nbsp;</span>Implementation 代码实现</a></span><ul class=\"toc-item\"><li><span><a href=\"#Create-EntitySet-生成实体集\" data-toc-modified-id=\"Create-EntitySet-生成实体集-1.3.3.1\"><span class=\"toc-item-num\">1.3.3.1&nbsp;&nbsp;</span>Create EntitySet 生成实体集</a></span></li><li><span><a href=\"#Set-up-cut-time-设置时间截断\" data-toc-modified-id=\"Set-up-cut-time-设置时间截断-1.3.3.2\"><span class=\"toc-item-num\">1.3.3.2&nbsp;&nbsp;</span>Set up cut-time 设置时间截断</a></span></li><li><span><a href=\"#Auto-Feature-Engineering-自动特征工程\" data-toc-modified-id=\"Auto-Feature-Engineering-自动特征工程-1.3.3.3\"><span class=\"toc-item-num\">1.3.3.3&nbsp;&nbsp;</span>Auto Feature Engineering 自动特征工程</a></span></li></ul></li></ul></li></ul></li></ul></div>"
   ]
  },
  {
   "cell_type": "markdown",
   "metadata": {},
   "source": [
    "# Data Prepocessing 数据预处理"
   ]
  },
  {
   "cell_type": "markdown",
   "metadata": {},
   "source": [
    "## Static Continuous Variables 静态连续变量"
   ]
  },
  {
   "cell_type": "markdown",
   "metadata": {
    "toc-hr-collapsed": false
   },
   "source": [
    "### Discretization 离散化"
   ]
  },
  {
   "cell_type": "markdown",
   "metadata": {},
   "source": [
    "离散化连续变量有时可以使模型更加稳健。例如，当预测客户的购买行为时，一个已有 30 次购买行为的客户可能与一个已有 32 次购买行为的客户具有非常相似的行为。有时特征中的过精度可能是噪声，这就是为什么在 LightGBM 中，模型采用直方图算法来防止过拟合。  \n",
    "\n",
    "离散连续变量有两种方法。"
   ]
  },
  {
   "cell_type": "markdown",
   "metadata": {},
   "source": [
    "#### Binarization 二值化"
   ]
  },
  {
   "cell_type": "markdown",
   "metadata": {},
   "source": [
    "将数据二值化"
   ]
  },
  {
   "cell_type": "code",
   "execution_count": 1,
   "metadata": {
    "ExecuteTime": {
     "end_time": "2020-02-29T21:35:02.807384Z",
     "start_time": "2020-02-29T21:35:02.386476Z"
    }
   },
   "outputs": [],
   "source": [
    "# 导入数据\n",
    "from sklearn.datasets import fetch_california_housing\n",
    "dataset = fetch_california_housing()\n",
    "X, y = dataset.data, dataset.target "
   ]
  },
  {
   "cell_type": "code",
   "execution_count": 2,
   "metadata": {
    "ExecuteTime": {
     "end_time": "2020-02-29T21:35:03.535474Z",
     "start_time": "2020-02-29T21:35:02.809454Z"
    }
   },
   "outputs": [
    {
     "data": {
      "image/png": "[encoded data removed]",
      "text/plain": [
       "<Figure size 432x288 with 1 Axes>"
      ]
     },
     "metadata": {
      "needs_background": "light"
     },
     "output_type": "display_data"
    }
   ],
   "source": [
    "%matplotlib inline\n",
    "import seaborn as sns\n",
    "import matplotlib.pyplot as plt\n",
    "plt.rcParams['font.sans-serif']=['SimHei']\n",
    "\n",
    "fig, ax = plt.subplots()\n",
    "sns.distplot(X[:,0], hist = True, kde=True) # 以第一个变量为例\n",
    "ax.set_title('分布直方图', fontsize=12)\n",
    "ax.set_xlabel('变量数值', fontsize=12)\n",
    "ax.set_ylabel('频率', fontsize=12); # 这个变量为长尾分布"
   ]
  },
  {
   "cell_type": "code",
   "execution_count": 3,
   "metadata": {
    "ExecuteTime": {
     "end_time": "2020-02-29T21:35:03.541892Z",
     "start_time": "2020-02-29T21:35:03.537790Z"
    }
   },
   "outputs": [],
   "source": [
    "from sklearn.preprocessing import Binarizer\n",
    "\n",
    "sample_columns = X[0:10,0] # 选择前十个样本\n",
    "# 返回 array([8.3252, 8.3014, 7.2574, 5.6431, 3.8462, 4.0368, 3.6591, 3.12, 2.0804, 3.6912])\n",
    "\n",
    "model = Binarizer(threshold=6) # 不妨将6设为阈值\n",
    "# 若数值 <= 6, 则返回 0， 否则返回 1\n",
    "result = model.fit_transform(sample_columns.reshape(-1,1)).reshape(-1)\n",
    "# 返回 array([1., 1., 1., 0., 0., 0., 0., 0., 0., 0.])"
   ]
  },
  {
   "cell_type": "markdown",
   "metadata": {},
   "source": [
    "#### Binning 分箱"
   ]
  },
  {
   "cell_type": "markdown",
   "metadata": {},
   "source": [
    "将数值特征分箱离散化"
   ]
  },
  {
   "cell_type": "markdown",
   "metadata": {},
   "source": [
    "##### 等距分箱"
   ]
  },
  {
   "cell_type": "code",
   "execution_count": 4,
   "metadata": {
    "ExecuteTime": {
     "end_time": "2020-02-29T21:35:03.552299Z",
     "start_time": "2020-02-29T21:35:03.544357Z"
    }
   },
   "outputs": [],
   "source": [
    "from sklearn.preprocessing import KBinsDiscretizer\n",
    "\n",
    "# 为了模拟数据科学家的实际操作，我们将\n",
    "# 在训练集上训练 KBinsDiscretizer然后转换测试集\n",
    "# 将第一列中的前十个样本作为测试集\n",
    "# 将第一列中的其余样本作为训练集\n",
    "\n",
    "test_set = X[0:10,0]\n",
    "# 返回 array([8.3252, 8.3014, 7.2574, 5.6431, 3.8462, 4.0368, 3.6591, 3.12, 2.0804, 3.6912])\n",
    "train_set = X[10:,0]\n",
    "\n",
    "model = KBinsDiscretizer(n_bins=5, encode='ordinal', strategy='uniform') # 设置5个箱\n",
    "\n",
    "model.fit(train_set.reshape(-1,1)) # 在训练集上训练\n",
    "transformed_train = model.transform(train_set.reshape(-1,1)).reshape(-1) # 转换训练集\n",
    "transformed_test = model.transform(test_set.reshape(-1,1)).reshape(-1) # 转换测试集\n",
    "\n",
    "# 以测试集结果为例：\n",
    "# 返回测试集的箱序数： transformed_test = array([2., 2., 2., 1., 1., 1., 1., 0., 0., 1.])\n",
    "bin_edge = model.bin_edges_[0]\n",
    "# 返回分箱区别 array([ 0.4999 ,  3.39994,  6.29998,  9.20002, 12.10006, 15.0001 ])"
   ]
  },
  {
   "cell_type": "code",
   "execution_count": 5,
   "metadata": {
    "ExecuteTime": {
     "end_time": "2020-02-29T21:35:03.929568Z",
     "start_time": "2020-02-29T21:35:03.554061Z"
    }
   },
   "outputs": [
    {
     "data": {
      "image/png": "[encoded data removed]",
      "text/plain": [
       "<Figure size 432x288 with 1 Axes>"
      ]
     },
     "metadata": {
      "needs_background": "light"
     },
     "output_type": "display_data"
    }
   ],
   "source": [
    "# 可视化分箱\n",
    "fig, ax = plt.subplots()\n",
    "sns.distplot(train_set, hist = True, kde=True)\n",
    "\n",
    "for edge in bin_edge: # 等距\n",
    "    line = plt.axvline(edge, color='b')\n",
    "ax.legend([line], ['等距分箱间距'], fontsize=10)\n",
    "ax.set_title('分布直方图', fontsize=12)\n",
    "ax.set_xlabel('变量数值', fontsize=12)\n",
    "ax.set_ylabel('频率', fontsize=12); "
   ]
  },
  {
   "cell_type": "markdown",
   "metadata": {
    "ExecuteTime": {
     "end_time": "2020-01-05T04:05:57.799444Z",
     "start_time": "2020-01-05T04:05:57.793970Z"
    }
   },
   "source": [
    "##### 分位数分箱"
   ]
  },
  {
   "cell_type": "code",
   "execution_count": 6,
   "metadata": {
    "ExecuteTime": {
     "end_time": "2020-02-29T21:35:03.940207Z",
     "start_time": "2020-02-29T21:35:03.931681Z"
    }
   },
   "outputs": [],
   "source": [
    "from sklearn.preprocessing import KBinsDiscretizer\n",
    "\n",
    "# 为了模拟数据科学家的实际操作，我们将\n",
    "# 在训练集上训练 KBinsDiscretizer然后转换测试集\n",
    "# 将第一列中的前十个样本作为测试集\n",
    "# 将第一列中的其余样本作为训练集\n",
    "\n",
    "test_set = X[0:10,0]\n",
    "# 返回 array([8.3252, 8.3014, 7.2574, 5.6431, 3.8462, 4.0368, 3.6591, 3.12, 2.0804, 3.6912])\n",
    "train_set = X[10:,0]\n",
    "\n",
    "model = KBinsDiscretizer(n_bins=5, encode='ordinal', strategy='quantile') # 设置5个箱，基于分位数分箱\n",
    "\n",
    "model.fit(train_set.reshape(-1,1))\n",
    "transformed_train = model.transform(train_set.reshape(-1,1)).reshape(-1) # 转换训练集\n",
    "transformed_test = model.transform(test_set.reshape(-1,1)).reshape(-1) # 转换测试集\n",
    "\n",
    "# 以测试集结果为例：\n",
    "# 返回测试集分箱序数结果 array([4., 4., 4., 4., 2., 3., 2., 1., 0., 2.])\n",
    "bin_edge = model.bin_edges_[0]\n",
    "# 返回分箱区间 transformed_test = array([ 0.4999 ,  2.3523 ,  3.1406 ,  3.9667 ,  5.10824, 15.0001 ])\n",
    "# 2.3523 是 20% 分位数\n",
    "# 3.1406 是 40% 分位数, etc.."
   ]
  },
  {
   "cell_type": "code",
   "execution_count": 7,
   "metadata": {
    "ExecuteTime": {
     "end_time": "2020-02-29T21:35:04.302706Z",
     "start_time": "2020-02-29T21:35:03.942333Z"
    }
   },
   "outputs": [
    {
     "data": {
      "image/png": "[encoded data removed]",
      "text/plain": [
       "<Figure size 432x288 with 1 Axes>"
      ]
     },
     "metadata": {
      "needs_background": "light"
     },
     "output_type": "display_data"
    }
   ],
   "source": [
    "# 可视化分箱\n",
    "fig, ax = plt.subplots()\n",
    "sns.distplot(train_set, hist = True, kde=True)\n",
    "\n",
    "for edge in bin_edge: # quantile based bins\n",
    "    line = plt.axvline(edge, color='b')\n",
    "ax.legend([line], ['基于分位数的分箱间距'], fontsize=10)\n",
    "ax.set_title('分布直方图', fontsize=12)\n",
    "ax.set_xlabel('变量数值', fontsize=12)\n",
    "ax.set_ylabel('频率', fontsize=12); "
   ]
  },
  {
   "cell_type": "markdown",
   "metadata": {},
   "source": [
    "### Scaling 缩放"
   ]
  },
  {
   "cell_type": "markdown",
   "metadata": {
    "cell_style": "center"
   },
   "source": [
    "在线性回归，逻辑回归等线性模型中，不同尺度的特征之间难以比较。在基于欧氏距离的 k-means 聚类或 KNN 模型中，特征的不同尺度也会影响到距离测算。缩放可以有效的解决以上的问题，让变量之间可比性增强。而对于基于梯度下降的算法，数据缩放也会有效的特征运行速度。"
   ]
  },
  {
   "cell_type": "markdown",
   "metadata": {
    "cell_style": "center"
   },
   "source": [
    "**一些常用模型的分类**\n",
    "  \n",
    "|模型名称 | 是否需要缩放 |\n",
    "|--|--|\n",
    "| 向量支持机, K最近邻算法, 主成分分析, K均值聚类, 线性回归, 逻辑回归, 线性判别分析| $\\checkmark$ |\n",
    "| 朴素贝叶斯, 基于树的机器学习算法 | $\\times$ |\n",
    "\n",
    "* 注：偏度影响也会PCA 模型，因此有些人推荐使用幂变换来消除偏度。"
   ]
  },
  {
   "cell_type": "markdown",
   "metadata": {},
   "source": [
    "#### Stardard Scaling 标准缩放（Z 分数标准化）"
   ]
  },
  {
   "cell_type": "markdown",
   "metadata": {
    "ExecuteTime": {
     "end_time": "2020-01-05T17:59:35.668652Z",
     "start_time": "2020-01-05T17:59:35.663440Z"
    }
   },
   "source": [
    "公式: ${X}' = \\frac{X - \\mu }{\\sigma}$  \n",
    "$\\mu$ 是X的均值， $\\sigma$ 是X的标准差  \n",
    "这种缩放方法对异常值较敏感，异常值会同时影响$\\mu$ 和 $\\sigma$"
   ]
  },
  {
   "cell_type": "code",
   "execution_count": 8,
   "metadata": {
    "ExecuteTime": {
     "end_time": "2020-02-29T21:35:04.311438Z",
     "start_time": "2020-02-29T21:35:04.305317Z"
    }
   },
   "outputs": [],
   "source": [
    "from sklearn.preprocessing import StandardScaler\n",
    "\n",
    "# 为了模拟数据科学家的实际操作，我们将\n",
    "# 在训练集上训练 StandardScaler然后转换测试集\n",
    "# 将第一列中的前十个样本作为测试集\n",
    "# 将第一列中的其余样本作为训练集\n",
    "\n",
    "test_set = X[0:10,0]\n",
    "# 返回 array([8.3252, 8.3014, 7.2574, 5.6431, 3.8462, 4.0368, 3.6591, 3.12, 2.0804, 3.6912])\n",
    "train_set = X[10:,0]\n",
    "\n",
    "model = StandardScaler()\n",
    "\n",
    "model.fit(train_set.reshape(-1,1)) # 在训练集上训练\n",
    "# 转换训练集与测试集\n",
    "transformed_train = model.transform(train_set.reshape(-1,1)).reshape(-1) # 转换训练集\n",
    "transformed_test = model.transform(test_set.reshape(-1,1)).reshape(-1) # 转换测试集\n",
    "\n",
    "# 以测试集结果为例：\n",
    "# 返回测试集的缩放结果 transformed_test = array([ 2.34539745,  2.33286782,  1.78324852,  0.93339178, -0.0125957 ,\n",
    "# 0.08774668, -0.11109548, -0.39490751, -0.94221041, -0.09419626])\n",
    "# 返回结果与以下代码的返回结果一致 ((X[0:10,0] - X[10:,0].mean())/X[10:,0].std())"
   ]
  },
  {
   "cell_type": "code",
   "execution_count": 9,
   "metadata": {
    "ExecuteTime": {
     "end_time": "2020-02-29T21:35:04.917421Z",
     "start_time": "2020-02-29T21:35:04.314055Z"
    }
   },
   "outputs": [
    {
     "data": {
      "image/png": "[encoded data removed]",
      "text/plain": [
       "<Figure size 936x648 with 2 Axes>"
      ]
     },
     "metadata": {
      "needs_background": "light"
     },
     "output_type": "display_data"
    }
   ],
   "source": [
    "# 可视化缩放前后的分布对比\n",
    "# 在整个变量上操作（不分训练集与测试集）\n",
    "\n",
    "import seaborn as sns\n",
    "import matplotlib.pyplot as plt\n",
    "\n",
    "fig, ax = plt.subplots(2,1, figsize = (13,9))\n",
    "sns.distplot(X[:,0], hist = True, kde=True, ax=ax[0])\n",
    "ax[0].set_title('原分布直方图', fontsize=12)\n",
    "ax[0].set_xlabel('变量数值', fontsize=12)\n",
    "ax[0].set_ylabel('频率', fontsize=12); # 这个变量为长尾分布\n",
    "\n",
    "model = StandardScaler()\n",
    "model.fit(X[:,0].reshape(-1,1)) \n",
    "result = model.transform(X[:,0].reshape(-1,1)).reshape(-1)\n",
    "\n",
    "# 可视化整个变量上缩放的结果\n",
    "sns.distplot(result, hist = True, kde=True, ax=ax[1])\n",
    "ax[1].set_title('变换后的分布直方图', fontsize=12)\n",
    "ax[1].set_xlabel('变量数值', fontsize=12)\n",
    "ax[1].set_ylabel('频率', fontsize=12); # 分布一致，但是变量的尺度已发生变化\n",
    "fig.tight_layout()"
   ]
  },
  {
   "cell_type": "markdown",
   "metadata": {},
   "source": [
    "#### MinMaxScaler 最大最小缩放 (按数值范围缩放)"
   ]
  },
  {
   "cell_type": "markdown",
   "metadata": {},
   "source": [
    "假设我们想要将特征数值缩放到 (a, b)区间  \n",
    "公式：${X}' = \\frac{X - Min }{Max - Min} * (b - a) + a$   \n",
    "$Min$ 是X中的最小值， $Max$ 是X中的最大值  \n",
    "这种缩放方法同样对异常值较敏感，异常值会同时影响$Min$ 和 $Max$"
   ]
  },
  {
   "cell_type": "code",
   "execution_count": 10,
   "metadata": {
    "ExecuteTime": {
     "end_time": "2020-02-29T21:35:04.925216Z",
     "start_time": "2020-02-29T21:35:04.919252Z"
    }
   },
   "outputs": [],
   "source": [
    "from sklearn.preprocessing import MinMaxScaler\n",
    "\n",
    "# 为了模拟数据科学家的实际操作，我们将\n",
    "# 在训练集上训练 MinMaxScaler然后转换测试集\n",
    "# 将第一列中的前十个样本作为测试集\n",
    "# 将第一列中的其余样本作为训练集\n",
    "\n",
    "test_set = X[0:10,0]\n",
    "# 返回 array([8.3252, 8.3014, 7.2574, 5.6431, 3.8462, 4.0368, 3.6591, 3.12, 2.0804, 3.6912])\n",
    "train_set = X[10:,0]\n",
    "\n",
    "model = MinMaxScaler(feature_range=(0,1)) # 将缩放区间定为 (0,1)\n",
    "\n",
    "model.fit(train_set.reshape(-1,1)) # 在训练集上训练\n",
    "# 转换缩放训练集与测试集\n",
    "transformed_train = model.transform(train_set.reshape(-1,1)).reshape(-1) # 转换训练集\n",
    "transformed_test = model.transform(test_set.reshape(-1,1)).reshape(-1) # 转换测试集\n",
    "\n",
    "# 以测试集结果为例：\n",
    "# transformed_test = array([0.53966842, 0.53802706, 0.46602805, 0.35469856, 0.23077613,\n",
    "# 0.24392077, 0.21787286, 0.18069406, 0.1089985 , 0.22008662])\n",
    "# 返回结果与以下代码的返回结果一致： (X[0:10,0] - X[10:,0].min())/(X[10:,0].max()-X[10:,0].min())"
   ]
  },
  {
   "cell_type": "code",
   "execution_count": 11,
   "metadata": {
    "ExecuteTime": {
     "end_time": "2020-02-29T21:35:05.583315Z",
     "start_time": "2020-02-29T21:35:04.927386Z"
    }
   },
   "outputs": [
    {
     "data": {
      "image/png": "[encoded data removed]",
      "text/plain": [
       "<Figure size 936x648 with 2 Axes>"
      ]
     },
     "metadata": {
      "needs_background": "light"
     },
     "output_type": "display_data"
    }
   ],
   "source": [
    "# 可视化缩放前后的分布对比\n",
    "# 在整个变量上操作（不分训练集与测试集）\n",
    "\n",
    "import seaborn as sns\n",
    "import matplotlib.pyplot as plt\n",
    "\n",
    "fig, ax = plt.subplots(2,1, figsize = (13,9))\n",
    "sns.distplot(X[:,0], hist = True, kde=True, ax=ax[0])\n",
    "ax[0].set_title('原分布直方图', fontsize=12)\n",
    "ax[0].set_xlabel('变量数值', fontsize=12)\n",
    "ax[0].set_ylabel('频率', fontsize=12); # 这个变量为长尾分布\n",
    "\n",
    "model = MinMaxScaler(feature_range=(0,1))\n",
    "model.fit(X[:,0].reshape(-1,1)) \n",
    "result = model.transform(X[:,0].reshape(-1,1)).reshape(-1)\n",
    "\n",
    "# 可视化整个变量上缩放的结果\n",
    "sns.distplot(result, hist = True, kde=True, ax=ax[1])\n",
    "ax[1].set_title('变换后的分布直方图', fontsize=12)\n",
    "ax[1].set_xlabel('变量数值', fontsize=12)\n",
    "ax[1].set_ylabel('频率', fontsize=12); # 分布一致，但是变量的尺度已发生变化\n",
    "fig.tight_layout() # 现变量分布于（0，1）区间"
   ]
  },
  {
   "cell_type": "markdown",
   "metadata": {},
   "source": [
    "#### RobustScaler 稳健缩放 (抗异常值缩放)"
   ]
  },
  {
   "cell_type": "markdown",
   "metadata": {
    "ExecuteTime": {
     "end_time": "2020-02-26T18:42:09.601048Z",
     "start_time": "2020-02-26T18:42:09.597399Z"
    }
   },
   "source": [
    "使用对异常值稳健的统计（分位数）来缩放特征   \n",
    "假设我们要将缩放的特征分位数范围为 (a, b)  \n",
    "公式：${X}' = \\frac{X - Median}{X.quantile(b) - X.quantile(a)}$   \n",
    "这种方法对异常点鲁棒性更强"
   ]
  },
  {
   "cell_type": "code",
   "execution_count": 12,
   "metadata": {
    "ExecuteTime": {
     "end_time": "2020-02-29T21:35:05.592310Z",
     "start_time": "2020-02-29T21:35:05.585213Z"
    }
   },
   "outputs": [],
   "source": [
    "import numpy as np\n",
    "from sklearn.preprocessing import RobustScaler\n",
    "\n",
    "# 为了模拟数据科学家的实际操作，我们将\n",
    "# 在训练集上训练 RobustScaler然后转换测试集\n",
    "# 将第一列中的前十个样本作为测试集\n",
    "# 将第一列中的其余样本作为训练集\n",
    "\n",
    "test_set = X[0:10,0]\n",
    "# 返回 array([8.3252, 8.3014, 7.2574, 5.6431, 3.8462, 4.0368, 3.6591, 3.12, 2.0804, 3.6912])\n",
    "train_set = X[10:,0]\n",
    "\n",
    "model = RobustScaler(with_centering = True, with_scaling = True, \n",
    "                    quantile_range = (25.0, 75.0))\n",
    "# with_centering = True => 中心归零，变量X将会变为：X - X.median()\n",
    "# with_centering = True => 数值标准化，变量X将会除以变量分位数区间（区间由用户设定）\n",
    "\n",
    "# 不妨将变量分位数区间设置为(25%, 75%)\n",
    "\n",
    "model.fit(train_set.reshape(-1,1)) # 在训练集上训练\n",
    "# 转换缩放训练集与测试集\n",
    "transformed_train = model.transform(train_set.reshape(-1,1)).reshape(-1) # 转换训练集\n",
    "transformed_test = model.transform(test_set.reshape(-1,1)).reshape(-1) # 转换测试集\n",
    "\n",
    "# 以测试集结果为例：\n",
    "# transformed_test =  array([ 2.19755974,  2.18664281,  1.7077657 ,  0.96729508,  0.14306683,\n",
    "# 0.23049401,  0.05724508, -0.19003715, -0.66689601,  0.07196918])\n",
    "# 返回结果与以下代码的返回结果一致： (X[0:10,0] - np.quantile(X[10:,0], 0.5))/(np.quantile(X[10:,0],0.75)-np.quantile(X[10:,0], 0.25))"
   ]
  },
  {
   "cell_type": "code",
   "execution_count": 13,
   "metadata": {
    "ExecuteTime": {
     "end_time": "2020-02-29T21:35:06.187645Z",
     "start_time": "2020-02-29T21:35:05.594049Z"
    }
   },
   "outputs": [
    {
     "data": {
      "image/png": "[encoded data removed]",
      "text/plain": [
       "<Figure size 936x648 with 2 Axes>"
      ]
     },
     "metadata": {
      "needs_background": "light"
     },
     "output_type": "display_data"
    }
   ],
   "source": [
    "# 可视化缩放前后的分布对比\n",
    "# 在整个变量上操作（不分训练集与测试集）\n",
    "\n",
    "import seaborn as sns\n",
    "import matplotlib.pyplot as plt\n",
    "\n",
    "fig, ax = plt.subplots(2,1, figsize = (13,9))\n",
    "sns.distplot(X[:,0], hist = True, kde=True, ax=ax[0])\n",
    "ax[0].set_title('原分布直方图', fontsize=12)\n",
    "ax[0].set_xlabel('变量数值', fontsize=12)\n",
    "ax[0].set_ylabel('频率', fontsize=12); # 这个变量为长尾分布\n",
    "\n",
    "model = RobustScaler(with_centering = True, with_scaling = True, \n",
    "                    quantile_range = (25.0, 75.0))\n",
    "model.fit(X[:,0].reshape(-1,1)) \n",
    "result = model.transform(X[:,0].reshape(-1,1)).reshape(-1)\n",
    "\n",
    "# 可视化整个变量上缩放的结果\n",
    "sns.distplot(result, hist = True, kde=True, ax=ax[1])\n",
    "ax[1].set_title('变换后的分布直方图', fontsize=12)\n",
    "ax[1].set_xlabel('变量数值', fontsize=12)\n",
    "ax[1].set_ylabel('频率', fontsize=12); # 分布一致，但是变量的尺度已发生变化\n",
    "fig.tight_layout() "
   ]
  },
  {
   "cell_type": "markdown",
   "metadata": {},
   "source": [
    "#### Power Transform 幂次变换 (非线性变换)"
   ]
  },
  {
   "cell_type": "markdown",
   "metadata": {},
   "source": [
    "以上介绍的所有缩放方法都保持原来的分布。但正态性是许多统计模型的一个重要假设。我们可以使用幂次变换将原始分布转换为正态分布。"
   ]
  },
  {
   "cell_type": "markdown",
   "metadata": {},
   "source": [
    "##### Box-Cox 变换"
   ]
  },
  {
   "cell_type": "markdown",
   "metadata": {},
   "source": [
    "Box-Cox 变换只适用于正数，并假设如下分布：  \n",
    "$x_i(\\lambda) = \\left\\{\\begin{matrix}\n",
    " \\frac{x_i^\\lambda - 1}{\\lambda}& if \\lambda \\neq 0\\\\ \n",
    " log(\\lambda)& if \\lambda =  0\n",
    "\\end{matrix}\\right.$  \n",
    "考虑了所有的 λ 值，通过最大似然估计选择稳定方差和最小化偏度的最优值。"
   ]
  },
  {
   "cell_type": "code",
   "execution_count": 14,
   "metadata": {
    "ExecuteTime": {
     "end_time": "2020-02-29T21:35:06.218313Z",
     "start_time": "2020-02-29T21:35:06.189700Z"
    }
   },
   "outputs": [],
   "source": [
    "from sklearn.preprocessing import PowerTransformer\n",
    "\n",
    "# 为了模拟数据科学家的实际操作，我们将\n",
    "# 在训练集上训练 PowerTransformer 然后转换测试集\n",
    "# 将第一列中的前十个样本作为测试集\n",
    "# 将第一列中的其余样本作为训练集\n",
    "\n",
    "test_set = X[0:10,0]\n",
    "# 返回 array([8.3252, 8.3014, 7.2574, 5.6431, 3.8462, 4.0368, 3.6591, 3.12, 2.0804, 3.6912])\n",
    "train_set = X[10:,0]\n",
    "\n",
    "model = PowerTransformer(method='box-cox', standardize=True)\n",
    "# 使用 box-cox 变换\n",
    "\n",
    "model.fit(train_set.reshape(-1,1)) # 在训练集上训练\n",
    "# 转换缩放训练集与测试集\n",
    "transformed_train = model.transform(train_set.reshape(-1,1)).reshape(-1) # 转换训练集\n",
    "transformed_test = model.transform(test_set.reshape(-1,1)).reshape(-1) # 转换测试集\n",
    "\n",
    "# 以测试集结果为例：\n",
    "# transformed_test = array([ 1.91669292,  1.91009687,  1.60235867,  1.0363095 ,  0.19831579,\n",
    "# 0.30244247,  0.09143411, -0.24694006, -1.08558469,  0.11011933])"
   ]
  },
  {
   "cell_type": "code",
   "execution_count": 15,
   "metadata": {
    "ExecuteTime": {
     "end_time": "2020-02-29T21:35:06.849046Z",
     "start_time": "2020-02-29T21:35:06.219822Z"
    }
   },
   "outputs": [
    {
     "data": {
      "image/png": "[encoded data removed]",
      "text/plain": [
       "<Figure size 936x648 with 2 Axes>"
      ]
     },
     "metadata": {
      "needs_background": "light"
     },
     "output_type": "display_data"
    }
   ],
   "source": [
    "# 可视化缩放前后的分布对比\n",
    "# 在整个变量上操作（不分训练集与测试集）\n",
    "\n",
    "import seaborn as sns\n",
    "import matplotlib.pyplot as plt\n",
    "\n",
    "fig, ax = plt.subplots(2,1, figsize = (13,9))\n",
    "sns.distplot(X[:,0], hist = True, kde=True, ax=ax[0])\n",
    "ax[0].set_title('原分布直方图', fontsize=12)\n",
    "ax[0].set_xlabel('变量数值', fontsize=12)\n",
    "ax[0].set_ylabel('频率', fontsize=12); # 这个变量为长尾分布\n",
    "\n",
    "model = PowerTransformer(method='box-cox', standardize=True)\n",
    "model.fit(X[:,0].reshape(-1,1)) \n",
    "result = model.transform(X[:,0].reshape(-1,1)).reshape(-1)\n",
    "\n",
    "# 可视化整个变量上缩放的结果\n",
    "sns.distplot(result, hist = True, kde=True, ax=ax[1])\n",
    "ax[1].set_title('变换后的分布直方图', fontsize=12)\n",
    "ax[1].set_xlabel('变量数值', fontsize=12)\n",
    "ax[1].set_ylabel('频率', fontsize=12); # 分布变为正态分布\n",
    "fig.tight_layout() "
   ]
  },
  {
   "cell_type": "markdown",
   "metadata": {},
   "source": [
    "##### Yeo-Johnson 变换"
   ]
  },
  {
   "cell_type": "markdown",
   "metadata": {},
   "source": [
    "Yeo Johnson 变换适用于正数和负数，并假设以下分布：  \n",
    "$x_i(\\lambda) = \\left\\{\\begin{matrix}\n",
    "\\frac{[(x_i + 1)^{\\lambda} -1]}{\\lambda} & if \\, \\, \\lambda\\neq 0, x_i \\geq  0 \\\\ \n",
    "ln(x_i + 1) & if \\, \\, \\lambda =  0, x_i \\geq  0\\\\ \n",
    "-\\frac{[(-x_i + 1)^{2- \\lambda} -1]}{2-\\lambda} & if \\, \\, \\lambda\\neq 2, x_i <  0 \\\\ \n",
    "-ln(-x_i + 1) & if \\, \\, \\lambda =  2, x_i <  0\\\\ \n",
    "\\end{matrix}\\right.$  \n",
    "考虑了所有的 λ 值，通过最大似然估计选择稳定方差和最小化偏度的最优值"
   ]
  },
  {
   "cell_type": "code",
   "execution_count": 16,
   "metadata": {
    "ExecuteTime": {
     "end_time": "2020-02-29T21:35:06.877345Z",
     "start_time": "2020-02-29T21:35:06.850634Z"
    }
   },
   "outputs": [],
   "source": [
    "from sklearn.preprocessing import PowerTransformer\n",
    "\n",
    "# 为了模拟数据科学家的实际操作，我们将\n",
    "# 在训练集上训练 PowerTransformer 然后转换测试集\n",
    "# 将第一列中的前十个样本作为测试集\n",
    "# 将第一列中的其余样本作为训练集\n",
    "\n",
    "test_set = X[0:10,0]\n",
    "# 返回 array([8.3252, 8.3014, 7.2574, 5.6431, 3.8462, 4.0368, 3.6591, 3.12, 2.0804, 3.6912])\n",
    "train_set = X[10:,0]\n",
    "\n",
    "model = PowerTransformer(method='yeo-johnson', standardize=True)\n",
    "# 使用 yeo-johnson 变换\n",
    "\n",
    "model.fit(train_set.reshape(-1,1)) # 在训练集上测试\n",
    "# 转换缩放训练集与测试集\n",
    "transformed_train = model.transform(train_set.reshape(-1,1)).reshape(-1) # 转换训练集\n",
    "transformed_test = model.transform(test_set.reshape(-1,1)).reshape(-1) # 转换测试集\n",
    "\n",
    "# 以测试集结果为例：\n",
    "# transformed_test =  array([ 1.90367888,  1.89747091,  1.604735  ,  1.05166306,  0.20617221,\n",
    "# 0.31245176,  0.09685566, -0.25011726, -1.10512438,  0.11598074])"
   ]
  },
  {
   "cell_type": "code",
   "execution_count": 17,
   "metadata": {
    "ExecuteTime": {
     "end_time": "2020-02-29T21:35:07.556530Z",
     "start_time": "2020-02-29T21:35:06.878977Z"
    }
   },
   "outputs": [
    {
     "data": {
      "image/png": "[encoded data removed]",
      "text/plain": [
       "<Figure size 936x648 with 2 Axes>"
      ]
     },
     "metadata": {
      "needs_background": "light"
     },
     "output_type": "display_data"
    }
   ],
   "source": [
    "# 可视化缩放前后的分布对比\n",
    "# 在整个变量上操作（不分训练集与测试集）\n",
    "\n",
    "import seaborn as sns\n",
    "import matplotlib.pyplot as plt\n",
    "\n",
    "fig, ax = plt.subplots(2,1, figsize = (13,9))\n",
    "sns.distplot(X[:,0], hist = True, kde=True, ax=ax[0])\n",
    "ax[0].set_title('原分布直方图', fontsize=12)\n",
    "ax[0].set_xlabel('变量数值', fontsize=12)\n",
    "ax[0].set_ylabel('频率', fontsize=12); # 这个变量为长尾分布\n",
    "\n",
    "model = PowerTransformer(method='yeo-johnson', standardize=True)\n",
    "model.fit(X[:,0].reshape(-1,1)) \n",
    "result = model.transform(X[:,0].reshape(-1,1)).reshape(-1)\n",
    "\n",
    "# 可视化整个变量上缩放的结果\n",
    "sns.distplot(result, hist = True, kde=True, ax=ax[1])\n",
    "ax[1].set_title('变换后的分布直方图', fontsize=12)\n",
    "ax[1].set_xlabel('变量数值', fontsize=12)\n",
    "ax[1].set_ylabel('频率', fontsize=12); # 分布变为正态分布\n",
    "fig.tight_layout() "
   ]
  },
  {
   "cell_type": "markdown",
   "metadata": {},
   "source": [
    "### Normalization 正则化"
   ]
  },
  {
   "cell_type": "markdown",
   "metadata": {},
   "source": [
    "以上所有缩放方法均为列操作。但正则化为行操作，它试图“缩放”每个样本，使其具有单位范数。由于正则化在每一行都独立起作用，它会扭曲特征之间的关系，因此较为不常见。但是正则化方法在文本分类和上下文聚类中是非常有效的。"
   ]
  },
  {
   "cell_type": "markdown",
   "metadata": {},
   "source": [
    "假设 X[i][j] 表示样本 i 中特征 j 的值  \n",
    "L1 正则化公式：: $X[i][j] = \\frac{X[i][j]}{\\sum_{j=1|X[i][j]|}}$  \n",
    "L2 正则化公式：: $X[i][j] = \\frac{X[i][j]}{\\sqrt{\\sum_{j=1}X[i][j]^2}}$  "
   ]
  },
  {
   "cell_type": "markdown",
   "metadata": {
    "cell_style": "center"
   },
   "source": [
    "##### L1 正则化"
   ]
  },
  {
   "cell_type": "code",
   "execution_count": 18,
   "metadata": {
    "ExecuteTime": {
     "end_time": "2020-02-29T21:35:07.562437Z",
     "start_time": "2020-02-29T21:35:07.558254Z"
    },
    "cell_style": "center"
   },
   "outputs": [],
   "source": [
    "from sklearn.preprocessing import Normalizer\n",
    "\n",
    "# Normalizer对每一行独立执行操作\n",
    "# 因此，其无需训练 （但是在scikit-learn中，为了保持与其他模块的一致，此处仍需使用fit方法，但是对结果无影响）\n",
    "\n",
    "###### 使用 L1 正则化\n",
    "sample_columns = X[0:2,0:3] # 选择前三个变量的前两个样本作为范例\n",
    "# 返回 array([[ 8.3252, 41., 6.98412698],\n",
    "# [ 8.3014 , 21.,  6.23813708]])\n",
    "\n",
    "model = Normalizer(norm='l1')\n",
    "\n",
    "model.fit(sample_columns) \n",
    "\n",
    "result = model.transform(sample_columns) # 因Normalizer与训练集测试集无关，故此处我们不做训练集划分\n",
    "# 返回 array([[0.14784762, 0.72812094, 0.12403144],\n",
    "# [0.23358211, 0.59089121, 0.17552668]])\n",
    "# 返回结果与以下代码的返回结果一致\n",
    "# sample_columns/np.sum(np.abs(sample_columns), axis=1).reshape(-1,1)"
   ]
  },
  {
   "cell_type": "markdown",
   "metadata": {
    "cell_style": "center"
   },
   "source": [
    "##### L2 正则化"
   ]
  },
  {
   "cell_type": "code",
   "execution_count": 19,
   "metadata": {
    "ExecuteTime": {
     "end_time": "2020-02-29T21:35:07.568605Z",
     "start_time": "2020-02-29T21:35:07.564511Z"
    }
   },
   "outputs": [],
   "source": [
    "from sklearn.preprocessing import Normalizer\n",
    "\n",
    "# Normalizer对每一行独立执行操作\n",
    "# 因此，其无需训练 （但是在scikit-learn中，为了保持与其他模块的一致，此处仍需使用fit方法，但是对结果无影响）\n",
    "\n",
    "###### 使用 L2 正则化\n",
    "sample_columns = X[0:2,0:3] # 选择前三个变量的前两个样本作为范例\n",
    "# 返回 array([[ 8.3252, 41., 6.98412698],\n",
    "# [ 8.3014 , 21.,  6.23813708]])\n",
    "\n",
    "model = Normalizer(norm='l2')\n",
    "\n",
    "model.fit(sample_columns) \n",
    "\n",
    "result = model.transform(sample_columns) # 因Normalizer与训练集测试集无关，故此处我们不做训练集划分\n",
    "# 返回 array([[0.19627663, 0.96662445, 0.16465922],\n",
    "# [0.35435076, 0.89639892, 0.26627902]])\n",
    "# 返回结果与以下代码的返回结果一致\n",
    "# sample_columns/np.sqrt(np.sum(sample_columns**2, axis=1)).reshape(-1,1)"
   ]
  },
  {
   "cell_type": "code",
   "execution_count": 20,
   "metadata": {
    "ExecuteTime": {
     "end_time": "2020-02-29T21:35:08.532679Z",
     "start_time": "2020-02-29T21:35:07.570568Z"
    }
   },
   "outputs": [
    {
     "data": {
      "image/png": "[encoded data removed]",
      "text/plain": [
       "<Figure size 936x648 with 2 Axes>"
      ]
     },
     "metadata": {
      "needs_background": "light"
     },
     "output_type": "display_data"
    }
   ],
   "source": [
    "# 可视化正则化之后的分布变化\n",
    "# 将其与稳健缩放做对比\n",
    "# 在整个变量上操作（不分训练集与测试集）\n",
    "\n",
    "import seaborn as sns\n",
    "import matplotlib.pyplot as plt\n",
    "\n",
    "# RobustScaler\n",
    "fig, ax = plt.subplots(2,1, figsize = (13,9))\n",
    "\n",
    "model = RobustScaler(with_centering = True, with_scaling = True, \n",
    "                    quantile_range = (25.0, 75.0))\n",
    "model.fit(X[:,0:2]) \n",
    "result = model.transform(X[:,0:2])\n",
    "\n",
    "sns.scatterplot(result[:,0], result[:,1], ax=ax[0]) # 选取第一个和第二个变量作为范例\n",
    "ax[0].set_title('稳健变换后的散点图', fontsize=12)\n",
    "ax[0].set_xlabel('第一个变量', fontsize=12)\n",
    "ax[0].set_ylabel('第二个变量', fontsize=12);\n",
    "\n",
    "model = Normalizer(norm='l2') # 使用l2范数\n",
    "\n",
    "model.fit(X[:,0:2]) \n",
    "result = model.transform(X[:,0:2])\n",
    "\n",
    "sns.scatterplot(result[:,0], result[:,1], ax=ax[1])\n",
    "ax[1].set_title('正则变换后的散点图', fontsize=12)\n",
    "ax[1].set_xlabel('第一个变量', fontsize=12)\n",
    "ax[1].set_ylabel('第二个变量', fontsize=12);\n",
    "fig.tight_layout()  # 正则化会扭曲原数据中的变量关系"
   ]
  },
  {
   "cell_type": "markdown",
   "metadata": {},
   "source": [
    "### Imputation of missing values 缺失值填补"
   ]
  },
  {
   "cell_type": "markdown",
   "metadata": {},
   "source": [
    "在实际操作中，数据集中可能存在缺失值。然而，这种稀疏的数据集与大多数 scikit-learn的模型不兼容，scikit-learn的模型假设所有特征都是数值的，且没有丢失值。所以在应用 scikit-learn 的模型之前，我们需要估算缺失的值  \n",
    "\n",
    "但是一些新的模型，比如在其他包中实现的 XGboost、LightGBM 和 Catboost，均为数据集中丢失的值提供了支持。所以在应用这些模型时，我们不再需要填充数据集中丢失的值"
   ]
  },
  {
   "cell_type": "markdown",
   "metadata": {},
   "source": [
    "#### Univariate feature imputation 单变量特征插补"
   ]
  },
  {
   "cell_type": "markdown",
   "metadata": {},
   "source": [
    "假设第 i 列中有缺失值，那么我们将用常数或第 i 列的统计数据（平均值、中值或众数）对其进行估算"
   ]
  },
  {
   "cell_type": "code",
   "execution_count": 21,
   "metadata": {
    "ExecuteTime": {
     "end_time": "2020-02-29T21:35:08.596155Z",
     "start_time": "2020-02-29T21:35:08.534866Z"
    }
   },
   "outputs": [],
   "source": [
    "from sklearn.impute import SimpleImputer\n",
    "\n",
    "test_set = X[0:10,0].copy() # 选择前十个变量作为测试集，无缺失值\n",
    "# 返回 array([8.3252, 8.3014, 7.2574, 5.6431, 3.8462, 4.0368, 3.6591, 3.12, 2.0804, 3.6912])\n",
    "\n",
    "# 手动生成缺失值\n",
    "test_set[3] = np.nan\n",
    "test_set[6] = np.nan\n",
    "# 现在测试集变成如下： \n",
    "# array([8.3252, 8.3014, 7.2574,    nan, 3.8462, 4.0368,    nan, 3.12 ,2.0804, 3.6912])\n",
    "\n",
    "# 生成训练集，选择其余的样本作为训练集并手动生成缺失值\n",
    "train_set = X[10:,0].copy()\n",
    "train_set[3] = np.nan\n",
    "train_set[6] = np.nan\n",
    "\n",
    "imputer = SimpleImputer(missing_values=np.nan, strategy='mean') # 使用样本均值来填补缺失值\n",
    "# 其余的填补方法： 'mean', 'median', 'most_frequent', 'constant'\n",
    "imputer.fit(train_set.reshape(-1,1)) # 在训练集上训练\n",
    "# 转换填补训练集与测试集\n",
    "imputed_train = imputer.transform(train_set.reshape(-1,1)).reshape(-1) # 转换训练集\n",
    "imputed_test = imputer.transform(test_set.reshape(-1,1)).reshape(-1) # 转换测试集\n",
    "\n",
    "# 以测试集结果为例：\n",
    "# imputed_test =  array([8.3252    , 8.3014    , 7.2574    , 3.87023658, 3.8462    ,\n",
    "# 4.0368    , 3.87023658, 3.12      , 2.0804    , 3.6912    ])\n",
    "# 所有的缺失值将会被 3.87023658填补\n",
    "# 3.87023658 = np.nanmean(train_set) \n",
    "# 3.87023658 恰恰是训练集中除去缺失值后的均值"
   ]
  },
  {
   "cell_type": "markdown",
   "metadata": {
    "ExecuteTime": {
     "end_time": "2020-01-07T16:53:20.341003Z",
     "start_time": "2020-01-07T16:53:20.336057Z"
    }
   },
   "source": [
    "#### Multivariate feature imputation 多元特征插补"
   ]
  },
  {
   "cell_type": "markdown",
   "metadata": {},
   "source": [
    "多元特征插补利用整个数据集的信息来估计和插补缺失值。在 scikit-learn 中，它以循环迭代的方式实现。\n",
    "\n",
    "在每一步中，一个包含缺失值的特征列被指定为输出 y，其他特征列被视为输入 X。一个回归器在X上被训练然后用以预测y中的缺失值。这是以迭代的方式对每个特征进行，直到达到最大迭代次数限制。"
   ]
  },
  {
   "cell_type": "markdown",
   "metadata": {},
   "source": [
    "##### 使用线性模型（以 BayesianRidge 为例）"
   ]
  },
  {
   "cell_type": "code",
   "execution_count": 22,
   "metadata": {
    "ExecuteTime": {
     "end_time": "2020-02-29T21:35:08.912010Z",
     "start_time": "2020-02-29T21:35:08.597954Z"
    }
   },
   "outputs": [],
   "source": [
    "from sklearn.experimental import enable_iterative_imputer # 在现有版本下0.22，必须激活这个函数才可以使用IterativeImputer\n",
    "from sklearn.impute import IterativeImputer\n",
    "from sklearn.linear_model import BayesianRidge\n",
    "\n",
    "test_set = X[0:10,:].copy() # 无缺失值，选择所有变量的前十个样本作为测试集\n",
    "# 第一个变量为\n",
    "# array([8.3252, 8.3014, 7.2574, 5.6431, 3.8462, 4.0368, 3.6591, 3.12, 2.0804, 3.6912])\n",
    "\n",
    "# 手动生成一些缺失值\n",
    "test_set[3,0] = np.nan\n",
    "test_set[6,0] = np.nan\n",
    "test_set[3,1] = np.nan\n",
    "# 现在第一个变量将变为\n",
    "# array([8.3252, 8.3014, 7.2574,    nan, 3.8462, 4.0368,    nan, 3.12 ,2.0804, 3.6912])\n",
    "\n",
    "# 生成训练集，选择其余的样本作为训练集并手动生成缺失值\n",
    "train_set = X[10:,:].copy()\n",
    "train_set[3,0] = np.nan\n",
    "train_set[6,0] = np.nan\n",
    "train_set[3,1] = np.nan\n",
    "\n",
    "impute_estimator = BayesianRidge()\n",
    "imputer = IterativeImputer(max_iter = 10, \n",
    "                           random_state = 0, \n",
    "                           estimator = impute_estimator)\n",
    "\n",
    "imputer.fit(train_set) # 在训练集上训练\n",
    "\n",
    "# 转换填补训练集与测试集\n",
    "imputed_train = imputer.transform(train_set) # 转换训练集\n",
    "imputed_test = imputer.transform(test_set)# 转换测试集\n",
    "\n",
    "result = imputer.transform(test_set)[:,0] # 仅选择第一个变量来展示结果\n",
    "# result =  array([8.3252    , 8.3014    , 7.2574    , 4.6237195 , 3.8462    ,\n",
    "# 4.0368    , 4.00258149, 3.12      , 2.0804    , 3.6912    ]) # 可见缺失值已被填补"
   ]
  },
  {
   "cell_type": "markdown",
   "metadata": {
    "ExecuteTime": {
     "end_time": "2020-01-07T17:27:44.194064Z",
     "start_time": "2020-01-07T17:27:44.188925Z"
    }
   },
   "source": [
    "##### 使用基于树的模型（以 ExtraTrees 为例）："
   ]
  },
  {
   "cell_type": "code",
   "execution_count": 23,
   "metadata": {
    "ExecuteTime": {
     "end_time": "2020-02-29T21:35:12.011945Z",
     "start_time": "2020-02-29T21:35:08.916458Z"
    }
   },
   "outputs": [],
   "source": [
    "from sklearn.experimental import enable_iterative_imputer # 在现有版本下0.22，必须激活这个函数才可以使用IterativeImputer\n",
    "from sklearn.impute import IterativeImputer\n",
    "from sklearn.ensemble import ExtraTreesRegressor\n",
    "\n",
    "test_set = X[0:10,:].copy() # 无缺失值，选择所有变量的前十个样本作为测试集\n",
    "# 第一个变量为\n",
    "# array([8.3252, 8.3014, 7.2574, 5.6431, 3.8462, 4.0368, 3.6591, 3.12, 2.0804, 3.6912])\n",
    "\n",
    "# 手动生成一些缺失值\n",
    "test_set[3,0] = np.nan\n",
    "test_set[6,0] = np.nan\n",
    "test_set[3,1] = np.nan\n",
    "# 现在第一个变量将变为\n",
    "# array([8.3252, 8.3014, 7.2574,    nan, 3.8462, 4.0368,    nan, 3.12 ,2.0804, 3.6912])\n",
    "\n",
    "# 生成训练集，选择其余的样本作为训练集并手动生成缺失值\n",
    "train_set = X[10:,:].copy()\n",
    "train_set[3,0] = np.nan\n",
    "train_set[6,0] = np.nan\n",
    "train_set[3,1] = np.nan\n",
    "\n",
    "impute_estimator = ExtraTreesRegressor(n_estimators=10, random_state=0)\n",
    "imputer = IterativeImputer(max_iter = 10, \n",
    "                           random_state = 0, \n",
    "                           estimator = impute_estimator)\n",
    "\n",
    "imputer.fit(train_set) # 在训练集上训练\n",
    "\n",
    "# 转换填补训练集与测试集\n",
    "imputed_train = imputer.transform(train_set) # 转换训练集\n",
    "imputed_test = imputer.transform(test_set)# 转换测试集\n",
    "\n",
    "result = imputer.transform(test_set)[:,0] # 仅选择第一个变量来展示结果\n",
    "# result =  array([8.3252 , 8.3014 , 7.2574 , 4.63813, 3.8462 , 4.0368 , 3.24721,\n",
    "# 3.12   , 2.0804 , 3.6912 ]) # 可见缺失值已被填补"
   ]
  },
  {
   "cell_type": "markdown",
   "metadata": {
    "ExecuteTime": {
     "end_time": "2020-01-07T17:30:41.211593Z",
     "start_time": "2020-01-07T17:30:41.206774Z"
    }
   },
   "source": [
    "##### 使用 K 近邻（KNN）："
   ]
  },
  {
   "cell_type": "code",
   "execution_count": 24,
   "metadata": {
    "ExecuteTime": {
     "end_time": "2020-02-29T21:35:12.173020Z",
     "start_time": "2020-02-29T21:35:12.015125Z"
    }
   },
   "outputs": [],
   "source": [
    "from sklearn.experimental import enable_iterative_imputer # 在现有版本下0.22，必须激活这个函数才可以使用IterativeImputer\n",
    "from sklearn.impute import IterativeImputer\n",
    "from sklearn.neighbors import KNeighborsRegressor\n",
    "\n",
    "test_set = X[0:10,:].copy() # 无缺失值，选择所有变量的前十个样本作为测试集\n",
    "# 第一个变量为\n",
    "# array([8.3252, 8.3014, 7.2574, 5.6431, 3.8462, 4.0368, 3.6591, 3.12, 2.0804, 3.6912])\n",
    "\n",
    "# 手动生成一些缺失值\n",
    "test_set[3,0] = np.nan\n",
    "test_set[6,0] = np.nan\n",
    "test_set[3,1] = np.nan\n",
    "# 现在第一个变量将变为\n",
    "# array([8.3252, 8.3014, 7.2574,    nan, 3.8462, 4.0368,    nan, 3.12 ,2.0804, 3.6912])\n",
    "\n",
    "# 生成训练集，选择其余的样本作为训练集并手动生成缺失值\n",
    "train_set = X[10:,:].copy()\n",
    "train_set[3,0] = np.nan\n",
    "train_set[6,0] = np.nan\n",
    "train_set[3,1] = np.nan\n",
    "\n",
    "impute_estimator = KNeighborsRegressor(n_neighbors=10, \n",
    "                                       p = 1)  # 设置 p=1 使用曼哈顿距离\n",
    "# 相比于平方差距离，曼哈顿距离对异常值没有那么敏感\n",
    "\n",
    "imputer = IterativeImputer(max_iter = 10, \n",
    "                           random_state = 0, \n",
    "                           estimator = impute_estimator)\n",
    "\n",
    "imputer.fit(train_set) # 在训练集上训练\n",
    "\n",
    "# 转换填补训练集与测试集\n",
    "imputed_train = imputer.transform(train_set) # 转换训练集\n",
    "imputed_test = imputer.transform(test_set)# 转换测试集\n",
    "\n",
    "result = imputer.transform(test_set)[:,0] # 仅选择第一个变量来展示结果\n",
    "# result =  array([8.3252, 8.3014, 7.2574, 3.6978, 3.8462, 4.0368, 4.052 , 3.12  ,\n",
    "# 2.0804, 3.6912]) # 可见缺失值已被填补"
   ]
  },
  {
   "cell_type": "markdown",
   "metadata": {},
   "source": [
    "#### Marking imputed values 标记估算值"
   ]
  },
  {
   "cell_type": "markdown",
   "metadata": {},
   "source": [
    "有时，数据缺失这一信息可能是有用的。因此，scikit learn 还提供了将包含缺失值的数据集转换为相应的二进制矩阵的功能，该矩阵指示数据集中缺失值的存在位置"
   ]
  },
  {
   "cell_type": "code",
   "execution_count": 25,
   "metadata": {
    "ExecuteTime": {
     "end_time": "2020-02-29T21:35:12.179790Z",
     "start_time": "2020-02-29T21:35:12.174426Z"
    }
   },
   "outputs": [],
   "source": [
    "from sklearn.impute import MissingIndicator\n",
    "\n",
    "# 此标记与训练集测试集的划分无关，故仅以训练集作为例子\n",
    "\n",
    "train_set = X[10:,:].copy() # 选择全部的变量\n",
    "train_set[3,0] = np.nan # 手动生成数据缺失值\n",
    "train_set[6,0] = np.nan\n",
    "train_set[3,1] = np.nan\n",
    "\n",
    "indicator = MissingIndicator(missing_values=np.nan, features='all') \n",
    "# 标记训练集中的缺失值\n",
    "result = indicator.fit_transform(train_set) # result和训练集的形状一致\n",
    "# result中仅包含布尔值\n",
    "\n",
    "result[:,0].sum() # 等于2， 因为第一个变量中仅有两个缺失值\n",
    "result[:,1].sum(); # 等于 1, 因为第二个变量中有一个缺失值"
   ]
  },
  {
   "cell_type": "markdown",
   "metadata": {},
   "source": [
    "### Feature Transformation 特征变换"
   ]
  },
  {
   "cell_type": "markdown",
   "metadata": {},
   "source": [
    "#### Polynomial Transformation 多项式变换"
   ]
  },
  {
   "cell_type": "markdown",
   "metadata": {},
   "source": [
    "有时我们希望在模型中引入非线性特征，从而增加模型的复杂度。对于简单的线性模型而言，这将大大增加模型的复杂度  \n",
    "但是对于更复杂的模型，如基于树的机器学习模型，它们已经在非参数的模型结构中包含了非线性关系。因此，这种特性转换可能对基于树的机器学习模型没有太大帮助。"
   ]
  },
  {
   "cell_type": "markdown",
   "metadata": {},
   "source": [
    "例如，如果我们将阶数设置为 3，则多项式变换的最终形式如下  \n",
    " $(X_1, X_2) => (1, X_1, X_2, X_1^2, X_1X_2, X_2^2, X_1^3, X_1^2X_2, X_1X_2^2, X_2^3)$"
   ]
  },
  {
   "cell_type": "code",
   "execution_count": 26,
   "metadata": {
    "ExecuteTime": {
     "end_time": "2020-02-29T21:35:12.185510Z",
     "start_time": "2020-02-29T21:35:12.181345Z"
    }
   },
   "outputs": [],
   "source": [
    "from sklearn.preprocessing import PolynomialFeatures\n",
    "\n",
    "# 手工合成训练集与测试集\n",
    "train_set = np.array([2,3]).reshape(1,-1) # 形状为 (1,2)\n",
    "# train_set =  array([[2, 3]])\n",
    "\n",
    "test_set = np.array([4,3]).reshape(1,-1)\n",
    "# test_set = array([[4, 3]])\n",
    "\n",
    "poly = PolynomialFeatures(degree = 3, interaction_only = False)\n",
    "# 设置最高复杂度为3, 并且设置interaction_only=False，即我们需要的不仅仅是交叉项\n",
    "\n",
    "transformed_train = poly.fit_transform(train_set) # 形状 (1, 10)\n",
    "transformed_test = poly.fit_transform(test_set) # 形状 (1, 10)\n",
    "\n",
    "# 以训练集变换结果为例：\n",
    "# transformed_train = array([[ 1.,  2.,  3.,  4.,  6.,  9.,  8., 12., 18., 27.]])\n",
    "# 结果与前文的叙述一致"
   ]
  },
  {
   "cell_type": "markdown",
   "metadata": {},
   "source": [
    "#### Custom Transformation 自定义变换"
   ]
  },
  {
   "cell_type": "code",
   "execution_count": 27,
   "metadata": {
    "ExecuteTime": {
     "end_time": "2020-02-29T21:35:12.191277Z",
     "start_time": "2020-02-29T21:35:12.187184Z"
    }
   },
   "outputs": [],
   "source": [
    "from sklearn.preprocessing import FunctionTransformer\n",
    "\n",
    "# 手工合成训练集与测试集\n",
    "train_set = np.array([2,3]).reshape(1,-1) # 形状为 (1,2)\n",
    "# train_set =  array([[2, 3]])\n",
    "\n",
    "test_set = np.array([4,3]).reshape(1,-1)\n",
    "# test_set = array([[4, 3]])\n",
    "\n",
    "transformer = FunctionTransformer(func = np.log1p, validate=True)\n",
    "# 使用 log 变换, X' = log(1 + x)\n",
    "# func 还可以为其他 numpy 方程，例如 numpy.exp\n",
    "\n",
    "transfromed_train = transformer.transform(train_set) # 形状为 (1,2)\n",
    "transfromed_test = transformer.transform(test_set) # 形状为 (1,2)\n",
    "\n",
    "# 以训练集结果为例\n",
    "# transfromed_train =  array([[1.09861229, 1.38629436]]), 与 np.log1p(train_set) 结果一致"
   ]
  },
  {
   "cell_type": "markdown",
   "metadata": {},
   "source": [
    "## Static Categorical Variables 静态类别变量"
   ]
  },
  {
   "cell_type": "markdown",
   "metadata": {},
   "source": [
    "真实世界的数据集还往往包含类别特征。但是由于scikit-learn中的模型只能处理数值特征，因此我们需要将类别特征编码为数值特征  \n",
    "\n",
    "但是，很多新的模型开始直接提供类别变量支持，例如lightGBM和Catboost。\n",
    "\n",
    "这里我们使用category_encoders包，因为它涵盖了更多的编码方法。"
   ]
  },
  {
   "cell_type": "markdown",
   "metadata": {},
   "source": [
    "### Ordinal Encoding 序数编码"
   ]
  },
  {
   "cell_type": "markdown",
   "metadata": {},
   "source": [
    "序数编码将类别变量转化为一列序数变量，包含从1到类别数量之间的整数"
   ]
  },
  {
   "cell_type": "code",
   "execution_count": 28,
   "metadata": {
    "ExecuteTime": {
     "end_time": "2020-02-29T21:35:12.211329Z",
     "start_time": "2020-02-29T21:35:12.192880Z"
    }
   },
   "outputs": [],
   "source": [
    "import numpy as np\n",
    "import pandas as pd\n",
    "from category_encoders import OrdinalEncoder\n",
    "# category_encoders 直接支持dataframe\n",
    "\n",
    "# 随机生成一些训练集\n",
    "train_set = pd.DataFrame(np.array([['male',10],['female', 20], ['male',10], \n",
    "                       ['female',20],['female',15]]),\n",
    "             columns = ['Sex','Type'])\n",
    "train_y = np.array([False, True, True, False, False])\n",
    "\n",
    "# 随机生成一些测试集, 并有意让其包含未在训练集出现过的类别与缺失值\n",
    "test_set = pd.DataFrame(np.array([['female',20],['male', 20], ['others',15], \n",
    "                       ['male',20],['female',40], ['male', 25]]),\n",
    "             columns = ['Sex','Type'])\n",
    "test_set.loc[4,'Type'] = np.nan"
   ]
  },
  {
   "cell_type": "code",
   "execution_count": 29,
   "metadata": {
    "ExecuteTime": {
     "end_time": "2020-02-29T21:35:12.221817Z",
     "start_time": "2020-02-29T21:35:12.212829Z"
    }
   },
   "outputs": [
    {
     "data": {
      "text/html": [
       "<div>\n",
       "<style scoped>\n",
       "    .dataframe tbody tr th:only-of-type {\n",
       "        vertical-align: middle;\n",
       "    }\n",
       "\n",
       "    .dataframe tbody tr th {\n",
       "        vertical-align: top;\n",
       "    }\n",
       "\n",
       "    .dataframe thead th {\n",
       "        text-align: right;\n",
       "    }\n",
       "</style>\n",
       "<table border=\"1\" class=\"dataframe\">\n",
       "  <thead>\n",
       "    <tr style=\"text-align: right;\">\n",
       "      <th></th>\n",
       "      <th>Sex</th>\n",
       "      <th>Type</th>\n",
       "    </tr>\n",
       "  </thead>\n",
       "  <tbody>\n",
       "    <tr>\n",
       "      <th>0</th>\n",
       "      <td>male</td>\n",
       "      <td>10</td>\n",
       "    </tr>\n",
       "    <tr>\n",
       "      <th>1</th>\n",
       "      <td>female</td>\n",
       "      <td>20</td>\n",
       "    </tr>\n",
       "    <tr>\n",
       "      <th>2</th>\n",
       "      <td>male</td>\n",
       "      <td>10</td>\n",
       "    </tr>\n",
       "    <tr>\n",
       "      <th>3</th>\n",
       "      <td>female</td>\n",
       "      <td>20</td>\n",
       "    </tr>\n",
       "    <tr>\n",
       "      <th>4</th>\n",
       "      <td>female</td>\n",
       "      <td>15</td>\n",
       "    </tr>\n",
       "  </tbody>\n",
       "</table>\n",
       "</div>"
      ],
      "text/plain": [
       "      Sex Type\n",
       "0    male   10\n",
       "1  female   20\n",
       "2    male   10\n",
       "3  female   20\n",
       "4  female   15"
      ]
     },
     "execution_count": 29,
     "metadata": {},
     "output_type": "execute_result"
    }
   ],
   "source": [
    "train_set # 原始训练集"
   ]
  },
  {
   "cell_type": "code",
   "execution_count": 30,
   "metadata": {
    "ExecuteTime": {
     "end_time": "2020-02-29T21:35:12.229463Z",
     "start_time": "2020-02-29T21:35:12.223193Z"
    }
   },
   "outputs": [
    {
     "data": {
      "text/html": [
       "<div>\n",
       "<style scoped>\n",
       "    .dataframe tbody tr th:only-of-type {\n",
       "        vertical-align: middle;\n",
       "    }\n",
       "\n",
       "    .dataframe tbody tr th {\n",
       "        vertical-align: top;\n",
       "    }\n",
       "\n",
       "    .dataframe thead th {\n",
       "        text-align: right;\n",
       "    }\n",
       "</style>\n",
       "<table border=\"1\" class=\"dataframe\">\n",
       "  <thead>\n",
       "    <tr style=\"text-align: right;\">\n",
       "      <th></th>\n",
       "      <th>Sex</th>\n",
       "      <th>Type</th>\n",
       "    </tr>\n",
       "  </thead>\n",
       "  <tbody>\n",
       "    <tr>\n",
       "      <th>0</th>\n",
       "      <td>female</td>\n",
       "      <td>20</td>\n",
       "    </tr>\n",
       "    <tr>\n",
       "      <th>1</th>\n",
       "      <td>male</td>\n",
       "      <td>20</td>\n",
       "    </tr>\n",
       "    <tr>\n",
       "      <th>2</th>\n",
       "      <td>others</td>\n",
       "      <td>15</td>\n",
       "    </tr>\n",
       "    <tr>\n",
       "      <th>3</th>\n",
       "      <td>male</td>\n",
       "      <td>20</td>\n",
       "    </tr>\n",
       "    <tr>\n",
       "      <th>4</th>\n",
       "      <td>female</td>\n",
       "      <td>NaN</td>\n",
       "    </tr>\n",
       "    <tr>\n",
       "      <th>5</th>\n",
       "      <td>male</td>\n",
       "      <td>25</td>\n",
       "    </tr>\n",
       "  </tbody>\n",
       "</table>\n",
       "</div>"
      ],
      "text/plain": [
       "      Sex Type\n",
       "0  female   20\n",
       "1    male   20\n",
       "2  others   15\n",
       "3    male   20\n",
       "4  female  NaN\n",
       "5    male   25"
      ]
     },
     "execution_count": 30,
     "metadata": {},
     "output_type": "execute_result"
    }
   ],
   "source": [
    "test_set # 原始测试集"
   ]
  },
  {
   "cell_type": "code",
   "execution_count": 31,
   "metadata": {
    "ExecuteTime": {
     "end_time": "2020-02-29T21:35:12.252146Z",
     "start_time": "2020-02-29T21:35:12.231510Z"
    }
   },
   "outputs": [
    {
     "data": {
      "text/html": [
       "<div>\n",
       "<style scoped>\n",
       "    .dataframe tbody tr th:only-of-type {\n",
       "        vertical-align: middle;\n",
       "    }\n",
       "\n",
       "    .dataframe tbody tr th {\n",
       "        vertical-align: top;\n",
       "    }\n",
       "\n",
       "    .dataframe thead th {\n",
       "        text-align: right;\n",
       "    }\n",
       "</style>\n",
       "<table border=\"1\" class=\"dataframe\">\n",
       "  <thead>\n",
       "    <tr style=\"text-align: right;\">\n",
       "      <th></th>\n",
       "      <th>Sex</th>\n",
       "      <th>Type</th>\n",
       "    </tr>\n",
       "  </thead>\n",
       "  <tbody>\n",
       "    <tr>\n",
       "      <th>0</th>\n",
       "      <td>2.0</td>\n",
       "      <td>2.0</td>\n",
       "    </tr>\n",
       "    <tr>\n",
       "      <th>1</th>\n",
       "      <td>1.0</td>\n",
       "      <td>2.0</td>\n",
       "    </tr>\n",
       "    <tr>\n",
       "      <th>2</th>\n",
       "      <td>-1.0</td>\n",
       "      <td>3.0</td>\n",
       "    </tr>\n",
       "    <tr>\n",
       "      <th>3</th>\n",
       "      <td>1.0</td>\n",
       "      <td>2.0</td>\n",
       "    </tr>\n",
       "    <tr>\n",
       "      <th>4</th>\n",
       "      <td>2.0</td>\n",
       "      <td>-2.0</td>\n",
       "    </tr>\n",
       "    <tr>\n",
       "      <th>5</th>\n",
       "      <td>1.0</td>\n",
       "      <td>-1.0</td>\n",
       "    </tr>\n",
       "  </tbody>\n",
       "</table>\n",
       "</div>"
      ],
      "text/plain": [
       "   Sex  Type\n",
       "0  2.0   2.0\n",
       "1  1.0   2.0\n",
       "2 -1.0   3.0\n",
       "3  1.0   2.0\n",
       "4  2.0  -2.0\n",
       "5  1.0  -1.0"
      ]
     },
     "execution_count": 31,
     "metadata": {},
     "output_type": "execute_result"
    }
   ],
   "source": [
    "encoder = OrdinalEncoder(cols = ['Sex', 'Type'], \n",
    "                         handle_unknown = 'value', \n",
    "                         handle_missing = 'value').fit(train_set,train_y) # 在训练集上训练\n",
    "# 将 handle_unknown设为‘value’，即测试集中的未知特征值将被标记为-1\n",
    "# 将 handle_missing设为‘value’，即测试集中的缺失值将被标记为-2\n",
    "# 其他的选择为：‘error’：即报错； ‘return_nan’：即未知值/缺失之被标记为nan \n",
    "encoded_train = encoder.transform(train_set) # 转换训练集\n",
    "encoded_test = encoder.transform(test_set) # 转换测试集\n",
    "\n",
    "# 以测试集结果为例\n",
    "encoded_test\n",
    "\n",
    "# 在序数编码中： \n",
    "  \n",
    "# 变量Sex中: 'male' => 1.0, 'female' => 2.0, 未知 => -1.0, 缺失值 => -2.0\n",
    "# （事实上，测试集中完全有可能出现未知与缺失情况）\n",
    "# 在我们的例子中, Sex这一变量中的'other' 类别从未在训练集中出现过\n",
    "  \n",
    "# 变量 Type 中: 10 => 1.0, 20 => 2.0, 15 => 3.0, 未知 => -1.0, 缺失值 => -2.0"
   ]
  },
  {
   "cell_type": "code",
   "execution_count": 32,
   "metadata": {
    "ExecuteTime": {
     "end_time": "2020-02-29T21:35:12.259973Z",
     "start_time": "2020-02-29T21:35:12.253463Z"
    }
   },
   "outputs": [
    {
     "data": {
      "text/html": [
       "<div>\n",
       "<style scoped>\n",
       "    .dataframe tbody tr th:only-of-type {\n",
       "        vertical-align: middle;\n",
       "    }\n",
       "\n",
       "    .dataframe tbody tr th {\n",
       "        vertical-align: top;\n",
       "    }\n",
       "\n",
       "    .dataframe thead th {\n",
       "        text-align: right;\n",
       "    }\n",
       "</style>\n",
       "<table border=\"1\" class=\"dataframe\">\n",
       "  <thead>\n",
       "    <tr style=\"text-align: right;\">\n",
       "      <th></th>\n",
       "      <th>Sex</th>\n",
       "      <th>Type</th>\n",
       "    </tr>\n",
       "  </thead>\n",
       "  <tbody>\n",
       "    <tr>\n",
       "      <th>0</th>\n",
       "      <td>1.0</td>\n",
       "      <td>1.0</td>\n",
       "    </tr>\n",
       "    <tr>\n",
       "      <th>1</th>\n",
       "      <td>2.0</td>\n",
       "      <td>2.0</td>\n",
       "    </tr>\n",
       "    <tr>\n",
       "      <th>2</th>\n",
       "      <td>1.0</td>\n",
       "      <td>1.0</td>\n",
       "    </tr>\n",
       "    <tr>\n",
       "      <th>3</th>\n",
       "      <td>2.0</td>\n",
       "      <td>2.0</td>\n",
       "    </tr>\n",
       "    <tr>\n",
       "      <th>4</th>\n",
       "      <td>2.0</td>\n",
       "      <td>3.0</td>\n",
       "    </tr>\n",
       "  </tbody>\n",
       "</table>\n",
       "</div>"
      ],
      "text/plain": [
       "   Sex  Type\n",
       "0  1.0   1.0\n",
       "1  2.0   2.0\n",
       "2  1.0   1.0\n",
       "3  2.0   2.0\n",
       "4  2.0   3.0"
      ]
     },
     "execution_count": 32,
     "metadata": {},
     "output_type": "execute_result"
    }
   ],
   "source": [
    "encoded_train.astype(float) # 训练集结果"
   ]
  },
  {
   "cell_type": "markdown",
   "metadata": {},
   "source": [
    "### One-hot Encoding 独热编码"
   ]
  },
  {
   "cell_type": "markdown",
   "metadata": {},
   "source": [
    "Scikit-learn中也提供来独热编码函数，其可以将具有n_categories个可能值的一个分类特征转换为n_categories个二进制特征，其中一个为1，所有其他为0\n",
    "\n",
    "在category_encoders中，它包含了附加功能，即指示缺失或未知的值。在这里，我们继续使用category_encoders"
   ]
  },
  {
   "cell_type": "code",
   "execution_count": 33,
   "metadata": {
    "ExecuteTime": {
     "end_time": "2020-02-29T21:35:12.267233Z",
     "start_time": "2020-02-29T21:35:12.261429Z"
    }
   },
   "outputs": [],
   "source": [
    "import numpy as np\n",
    "import pandas as pd\n",
    "from category_encoders import OneHotEncoder\n",
    "# category_encoders 直接支持dataframe\n",
    "\n",
    "# 随机生成一些训练集\n",
    "train_set = pd.DataFrame(np.array([['male',10],['female', 20], ['male',10], \n",
    "                       ['female',20],['female',15]]),\n",
    "             columns = ['Sex','Type'])\n",
    "train_y = np.array([False, True, True, False, False])\n",
    "\n",
    "# 随机生成一些测试集, 并有意让其包含未在训练集出现过的类别与缺失值\n",
    "test_set = pd.DataFrame(np.array([['female',20],['male', 20], ['others',15], \n",
    "                       ['male',20],['female',40], ['male', 25]]),\n",
    "             columns = ['Sex','Type'])\n",
    "test_set.loc[4,'Type'] = np.nan"
   ]
  },
  {
   "cell_type": "code",
   "execution_count": 34,
   "metadata": {
    "ExecuteTime": {
     "end_time": "2020-02-29T21:35:12.274262Z",
     "start_time": "2020-02-29T21:35:12.268599Z"
    }
   },
   "outputs": [
    {
     "data": {
      "text/html": [
       "<div>\n",
       "<style scoped>\n",
       "    .dataframe tbody tr th:only-of-type {\n",
       "        vertical-align: middle;\n",
       "    }\n",
       "\n",
       "    .dataframe tbody tr th {\n",
       "        vertical-align: top;\n",
       "    }\n",
       "\n",
       "    .dataframe thead th {\n",
       "        text-align: right;\n",
       "    }\n",
       "</style>\n",
       "<table border=\"1\" class=\"dataframe\">\n",
       "  <thead>\n",
       "    <tr style=\"text-align: right;\">\n",
       "      <th></th>\n",
       "      <th>Sex</th>\n",
       "      <th>Type</th>\n",
       "    </tr>\n",
       "  </thead>\n",
       "  <tbody>\n",
       "    <tr>\n",
       "      <th>0</th>\n",
       "      <td>male</td>\n",
       "      <td>10</td>\n",
       "    </tr>\n",
       "    <tr>\n",
       "      <th>1</th>\n",
       "      <td>female</td>\n",
       "      <td>20</td>\n",
       "    </tr>\n",
       "    <tr>\n",
       "      <th>2</th>\n",
       "      <td>male</td>\n",
       "      <td>10</td>\n",
       "    </tr>\n",
       "    <tr>\n",
       "      <th>3</th>\n",
       "      <td>female</td>\n",
       "      <td>20</td>\n",
       "    </tr>\n",
       "    <tr>\n",
       "      <th>4</th>\n",
       "      <td>female</td>\n",
       "      <td>15</td>\n",
       "    </tr>\n",
       "  </tbody>\n",
       "</table>\n",
       "</div>"
      ],
      "text/plain": [
       "      Sex Type\n",
       "0    male   10\n",
       "1  female   20\n",
       "2    male   10\n",
       "3  female   20\n",
       "4  female   15"
      ]
     },
     "execution_count": 34,
     "metadata": {},
     "output_type": "execute_result"
    }
   ],
   "source": [
    "train_set # 原始训练集"
   ]
  },
  {
   "cell_type": "code",
   "execution_count": 35,
   "metadata": {
    "ExecuteTime": {
     "end_time": "2020-02-29T21:35:12.281903Z",
     "start_time": "2020-02-29T21:35:12.275680Z"
    }
   },
   "outputs": [
    {
     "data": {
      "text/html": [
       "<div>\n",
       "<style scoped>\n",
       "    .dataframe tbody tr th:only-of-type {\n",
       "        vertical-align: middle;\n",
       "    }\n",
       "\n",
       "    .dataframe tbody tr th {\n",
       "        vertical-align: top;\n",
       "    }\n",
       "\n",
       "    .dataframe thead th {\n",
       "        text-align: right;\n",
       "    }\n",
       "</style>\n",
       "<table border=\"1\" class=\"dataframe\">\n",
       "  <thead>\n",
       "    <tr style=\"text-align: right;\">\n",
       "      <th></th>\n",
       "      <th>Sex</th>\n",
       "      <th>Type</th>\n",
       "    </tr>\n",
       "  </thead>\n",
       "  <tbody>\n",
       "    <tr>\n",
       "      <th>0</th>\n",
       "      <td>female</td>\n",
       "      <td>20</td>\n",
       "    </tr>\n",
       "    <tr>\n",
       "      <th>1</th>\n",
       "      <td>male</td>\n",
       "      <td>20</td>\n",
       "    </tr>\n",
       "    <tr>\n",
       "      <th>2</th>\n",
       "      <td>others</td>\n",
       "      <td>15</td>\n",
       "    </tr>\n",
       "    <tr>\n",
       "      <th>3</th>\n",
       "      <td>male</td>\n",
       "      <td>20</td>\n",
       "    </tr>\n",
       "    <tr>\n",
       "      <th>4</th>\n",
       "      <td>female</td>\n",
       "      <td>NaN</td>\n",
       "    </tr>\n",
       "    <tr>\n",
       "      <th>5</th>\n",
       "      <td>male</td>\n",
       "      <td>25</td>\n",
       "    </tr>\n",
       "  </tbody>\n",
       "</table>\n",
       "</div>"
      ],
      "text/plain": [
       "      Sex Type\n",
       "0  female   20\n",
       "1    male   20\n",
       "2  others   15\n",
       "3    male   20\n",
       "4  female  NaN\n",
       "5    male   25"
      ]
     },
     "execution_count": 35,
     "metadata": {},
     "output_type": "execute_result"
    }
   ],
   "source": [
    "test_set  # 原始测试集"
   ]
  },
  {
   "cell_type": "code",
   "execution_count": 36,
   "metadata": {
    "ExecuteTime": {
     "end_time": "2020-02-29T21:35:12.315646Z",
     "start_time": "2020-02-29T21:35:12.283025Z"
    }
   },
   "outputs": [
    {
     "data": {
      "text/html": [
       "<div>\n",
       "<style scoped>\n",
       "    .dataframe tbody tr th:only-of-type {\n",
       "        vertical-align: middle;\n",
       "    }\n",
       "\n",
       "    .dataframe tbody tr th {\n",
       "        vertical-align: top;\n",
       "    }\n",
       "\n",
       "    .dataframe thead th {\n",
       "        text-align: right;\n",
       "    }\n",
       "</style>\n",
       "<table border=\"1\" class=\"dataframe\">\n",
       "  <thead>\n",
       "    <tr style=\"text-align: right;\">\n",
       "      <th></th>\n",
       "      <th>Sex_male</th>\n",
       "      <th>Sex_female</th>\n",
       "      <th>Sex_nan</th>\n",
       "      <th>Sex_-1</th>\n",
       "      <th>Type_10</th>\n",
       "      <th>Type_20</th>\n",
       "      <th>Type_15</th>\n",
       "      <th>Type_nan</th>\n",
       "      <th>Type_-1</th>\n",
       "    </tr>\n",
       "  </thead>\n",
       "  <tbody>\n",
       "    <tr>\n",
       "      <th>0</th>\n",
       "      <td>0</td>\n",
       "      <td>1</td>\n",
       "      <td>0</td>\n",
       "      <td>0</td>\n",
       "      <td>0</td>\n",
       "      <td>1</td>\n",
       "      <td>0</td>\n",
       "      <td>0</td>\n",
       "      <td>0</td>\n",
       "    </tr>\n",
       "    <tr>\n",
       "      <th>1</th>\n",
       "      <td>1</td>\n",
       "      <td>0</td>\n",
       "      <td>0</td>\n",
       "      <td>0</td>\n",
       "      <td>0</td>\n",
       "      <td>1</td>\n",
       "      <td>0</td>\n",
       "      <td>0</td>\n",
       "      <td>0</td>\n",
       "    </tr>\n",
       "    <tr>\n",
       "      <th>2</th>\n",
       "      <td>0</td>\n",
       "      <td>0</td>\n",
       "      <td>0</td>\n",
       "      <td>1</td>\n",
       "      <td>0</td>\n",
       "      <td>0</td>\n",
       "      <td>1</td>\n",
       "      <td>0</td>\n",
       "      <td>0</td>\n",
       "    </tr>\n",
       "    <tr>\n",
       "      <th>3</th>\n",
       "      <td>1</td>\n",
       "      <td>0</td>\n",
       "      <td>0</td>\n",
       "      <td>0</td>\n",
       "      <td>0</td>\n",
       "      <td>1</td>\n",
       "      <td>0</td>\n",
       "      <td>0</td>\n",
       "      <td>0</td>\n",
       "    </tr>\n",
       "    <tr>\n",
       "      <th>4</th>\n",
       "      <td>0</td>\n",
       "      <td>1</td>\n",
       "      <td>0</td>\n",
       "      <td>0</td>\n",
       "      <td>0</td>\n",
       "      <td>0</td>\n",
       "      <td>0</td>\n",
       "      <td>1</td>\n",
       "      <td>0</td>\n",
       "    </tr>\n",
       "    <tr>\n",
       "      <th>5</th>\n",
       "      <td>1</td>\n",
       "      <td>0</td>\n",
       "      <td>0</td>\n",
       "      <td>0</td>\n",
       "      <td>0</td>\n",
       "      <td>0</td>\n",
       "      <td>0</td>\n",
       "      <td>0</td>\n",
       "      <td>1</td>\n",
       "    </tr>\n",
       "  </tbody>\n",
       "</table>\n",
       "</div>"
      ],
      "text/plain": [
       "   Sex_male  Sex_female  Sex_nan  Sex_-1  Type_10  Type_20  Type_15  Type_nan  \\\n",
       "0         0           1        0       0        0        1        0         0   \n",
       "1         1           0        0       0        0        1        0         0   \n",
       "2         0           0        0       1        0        0        1         0   \n",
       "3         1           0        0       0        0        1        0         0   \n",
       "4         0           1        0       0        0        0        0         1   \n",
       "5         1           0        0       0        0        0        0         0   \n",
       "\n",
       "   Type_-1  \n",
       "0        0  \n",
       "1        0  \n",
       "2        0  \n",
       "3        0  \n",
       "4        0  \n",
       "5        1  "
      ]
     },
     "execution_count": 36,
     "metadata": {},
     "output_type": "execute_result"
    }
   ],
   "source": [
    "encoder = OneHotEncoder(cols=['Sex', 'Type'], \n",
    "                        handle_unknown='indicator', \n",
    "                        handle_missing='indicator', \n",
    "                        use_cat_names=True).fit(train_set,train_y) # 在训练集上训练\n",
    "encoded_train = encoder.transform(train_set) # 转换训练集\n",
    "encoded_test = encoder.transform(test_set) # 转换测试集\n",
    "# 将 handle_unknown设为‘indicator’，即会新增一列指示未知特征值\n",
    "# 将 handle_missing设为‘indicator’，即会新增一列指示缺失值\n",
    "# 其他的handle_unknown/handle_missing 的选择为：\n",
    "# ‘error’：即报错; ‘return_nan’：即未知值/缺失之被标记为nan; ‘value’：即未知值/缺失之被标记为0\n",
    "\n",
    "# 以测试集结果为例\n",
    "encoded_test\n",
    "\n",
    "# 在独热编码中： \n",
    "  \n",
    "# 变量 Sex => 变为了4个新变量: 'male' => [1 ,0 ,0, 0];\n",
    "#                           'female' => [0 ,1 ,0, 0];\n",
    "#                           未知 =>  [0 ,0 ,0, 1];\n",
    "#                           缺失 => [0, 0, 1, 0];\n",
    "    \n",
    "# 变量 Type => 变为了5个新变量: 10 => [1, 0, 0, 0, 0];\n",
    "#                            20 => [0, 1, 0, 0, 0];, \n",
    "#                            15 => [0, 0, 1, 0, 0];\n",
    "#                            未知 => [0, 0, 0, 0, 1];\n",
    "#                            缺失 => [0, 0, 0, 1, 0];  "
   ]
  },
  {
   "cell_type": "markdown",
   "metadata": {},
   "source": [
    "### Hashing Encoding 哈希编码"
   ]
  },
  {
   "cell_type": "markdown",
   "metadata": {},
   "source": [
    "哈希编码基于特征哈希的方法。它将哈希函数应用于变量，将任意数量的变量以一定的规则映射到给定数量的变量。特征哈希可能会导致要素之间发生冲突。但哈希编码的优点是它不需要制定和维护原变量与新变量之间的映射关系。因此，哈希编码器的大小及复杂程度不随数据类别的增多而增多。"
   ]
  },
  {
   "cell_type": "code",
   "execution_count": 37,
   "metadata": {
    "ExecuteTime": {
     "end_time": "2020-02-29T21:35:12.322943Z",
     "start_time": "2020-02-29T21:35:12.317053Z"
    }
   },
   "outputs": [],
   "source": [
    "import numpy as np\n",
    "import pandas as pd\n",
    "from category_encoders.hashing import HashingEncoder\n",
    "# category_encoders 直接支持dataframe\n",
    "\n",
    "# 随机生成一些训练集\n",
    "train_set = pd.DataFrame(np.array([['male',10],['female', 20], ['male',10], \n",
    "                       ['female',20],['female',15]]),\n",
    "             columns = ['Sex','Type'])\n",
    "train_y = np.array([False, True, True, False, False])\n",
    "\n",
    "# 随机生成一些测试集, 并有意让其包含未在训练集出现过的类别与缺失值\n",
    "test_set = pd.DataFrame(np.array([['female',20],['male', 20], ['others',15], \n",
    "                       ['male',20],['female',40], ['male', 25]]),\n",
    "             columns = ['Sex','Type'])\n",
    "test_set.loc[4,'Type'] = np.nan"
   ]
  },
  {
   "cell_type": "code",
   "execution_count": 38,
   "metadata": {
    "ExecuteTime": {
     "end_time": "2020-02-29T21:35:12.330037Z",
     "start_time": "2020-02-29T21:35:12.324251Z"
    }
   },
   "outputs": [
    {
     "data": {
      "text/html": [
       "<div>\n",
       "<style scoped>\n",
       "    .dataframe tbody tr th:only-of-type {\n",
       "        vertical-align: middle;\n",
       "    }\n",
       "\n",
       "    .dataframe tbody tr th {\n",
       "        vertical-align: top;\n",
       "    }\n",
       "\n",
       "    .dataframe thead th {\n",
       "        text-align: right;\n",
       "    }\n",
       "</style>\n",
       "<table border=\"1\" class=\"dataframe\">\n",
       "  <thead>\n",
       "    <tr style=\"text-align: right;\">\n",
       "      <th></th>\n",
       "      <th>Sex</th>\n",
       "      <th>Type</th>\n",
       "    </tr>\n",
       "  </thead>\n",
       "  <tbody>\n",
       "    <tr>\n",
       "      <th>0</th>\n",
       "      <td>male</td>\n",
       "      <td>10</td>\n",
       "    </tr>\n",
       "    <tr>\n",
       "      <th>1</th>\n",
       "      <td>female</td>\n",
       "      <td>20</td>\n",
       "    </tr>\n",
       "    <tr>\n",
       "      <th>2</th>\n",
       "      <td>male</td>\n",
       "      <td>10</td>\n",
       "    </tr>\n",
       "    <tr>\n",
       "      <th>3</th>\n",
       "      <td>female</td>\n",
       "      <td>20</td>\n",
       "    </tr>\n",
       "    <tr>\n",
       "      <th>4</th>\n",
       "      <td>female</td>\n",
       "      <td>15</td>\n",
       "    </tr>\n",
       "  </tbody>\n",
       "</table>\n",
       "</div>"
      ],
      "text/plain": [
       "      Sex Type\n",
       "0    male   10\n",
       "1  female   20\n",
       "2    male   10\n",
       "3  female   20\n",
       "4  female   15"
      ]
     },
     "execution_count": 38,
     "metadata": {},
     "output_type": "execute_result"
    }
   ],
   "source": [
    "train_set # 原始训练集"
   ]
  },
  {
   "cell_type": "code",
   "execution_count": 39,
   "metadata": {
    "ExecuteTime": {
     "end_time": "2020-02-29T21:35:12.337651Z",
     "start_time": "2020-02-29T21:35:12.331658Z"
    }
   },
   "outputs": [
    {
     "data": {
      "text/html": [
       "<div>\n",
       "<style scoped>\n",
       "    .dataframe tbody tr th:only-of-type {\n",
       "        vertical-align: middle;\n",
       "    }\n",
       "\n",
       "    .dataframe tbody tr th {\n",
       "        vertical-align: top;\n",
       "    }\n",
       "\n",
       "    .dataframe thead th {\n",
       "        text-align: right;\n",
       "    }\n",
       "</style>\n",
       "<table border=\"1\" class=\"dataframe\">\n",
       "  <thead>\n",
       "    <tr style=\"text-align: right;\">\n",
       "      <th></th>\n",
       "      <th>Sex</th>\n",
       "      <th>Type</th>\n",
       "    </tr>\n",
       "  </thead>\n",
       "  <tbody>\n",
       "    <tr>\n",
       "      <th>0</th>\n",
       "      <td>female</td>\n",
       "      <td>20</td>\n",
       "    </tr>\n",
       "    <tr>\n",
       "      <th>1</th>\n",
       "      <td>male</td>\n",
       "      <td>20</td>\n",
       "    </tr>\n",
       "    <tr>\n",
       "      <th>2</th>\n",
       "      <td>others</td>\n",
       "      <td>15</td>\n",
       "    </tr>\n",
       "    <tr>\n",
       "      <th>3</th>\n",
       "      <td>male</td>\n",
       "      <td>20</td>\n",
       "    </tr>\n",
       "    <tr>\n",
       "      <th>4</th>\n",
       "      <td>female</td>\n",
       "      <td>NaN</td>\n",
       "    </tr>\n",
       "    <tr>\n",
       "      <th>5</th>\n",
       "      <td>male</td>\n",
       "      <td>25</td>\n",
       "    </tr>\n",
       "  </tbody>\n",
       "</table>\n",
       "</div>"
      ],
      "text/plain": [
       "      Sex Type\n",
       "0  female   20\n",
       "1    male   20\n",
       "2  others   15\n",
       "3    male   20\n",
       "4  female  NaN\n",
       "5    male   25"
      ]
     },
     "execution_count": 39,
     "metadata": {},
     "output_type": "execute_result"
    }
   ],
   "source": [
    "test_set # 原始测试集"
   ]
  },
  {
   "cell_type": "code",
   "execution_count": 40,
   "metadata": {
    "ExecuteTime": {
     "end_time": "2020-02-29T21:35:12.745450Z",
     "start_time": "2020-02-29T21:35:12.339279Z"
    }
   },
   "outputs": [
    {
     "data": {
      "text/html": [
       "<div>\n",
       "<style scoped>\n",
       "    .dataframe tbody tr th:only-of-type {\n",
       "        vertical-align: middle;\n",
       "    }\n",
       "\n",
       "    .dataframe tbody tr th {\n",
       "        vertical-align: top;\n",
       "    }\n",
       "\n",
       "    .dataframe thead th {\n",
       "        text-align: right;\n",
       "    }\n",
       "</style>\n",
       "<table border=\"1\" class=\"dataframe\">\n",
       "  <thead>\n",
       "    <tr style=\"text-align: right;\">\n",
       "      <th></th>\n",
       "      <th>col_0</th>\n",
       "      <th>col_1</th>\n",
       "      <th>col_2</th>\n",
       "      <th>col_3</th>\n",
       "      <th>col_4</th>\n",
       "    </tr>\n",
       "  </thead>\n",
       "  <tbody>\n",
       "    <tr>\n",
       "      <th>0</th>\n",
       "      <td>1</td>\n",
       "      <td>1</td>\n",
       "      <td>0</td>\n",
       "      <td>0</td>\n",
       "      <td>0</td>\n",
       "    </tr>\n",
       "    <tr>\n",
       "      <th>1</th>\n",
       "      <td>0</td>\n",
       "      <td>1</td>\n",
       "      <td>0</td>\n",
       "      <td>0</td>\n",
       "      <td>1</td>\n",
       "    </tr>\n",
       "    <tr>\n",
       "      <th>2</th>\n",
       "      <td>0</td>\n",
       "      <td>0</td>\n",
       "      <td>0</td>\n",
       "      <td>2</td>\n",
       "      <td>0</td>\n",
       "    </tr>\n",
       "    <tr>\n",
       "      <th>3</th>\n",
       "      <td>0</td>\n",
       "      <td>1</td>\n",
       "      <td>0</td>\n",
       "      <td>0</td>\n",
       "      <td>1</td>\n",
       "    </tr>\n",
       "    <tr>\n",
       "      <th>4</th>\n",
       "      <td>1</td>\n",
       "      <td>0</td>\n",
       "      <td>1</td>\n",
       "      <td>0</td>\n",
       "      <td>0</td>\n",
       "    </tr>\n",
       "    <tr>\n",
       "      <th>5</th>\n",
       "      <td>0</td>\n",
       "      <td>0</td>\n",
       "      <td>0</td>\n",
       "      <td>0</td>\n",
       "      <td>2</td>\n",
       "    </tr>\n",
       "  </tbody>\n",
       "</table>\n",
       "</div>"
      ],
      "text/plain": [
       "   col_0  col_1  col_2  col_3  col_4\n",
       "0      1      1      0      0      0\n",
       "1      0      1      0      0      1\n",
       "2      0      0      0      2      0\n",
       "3      0      1      0      0      1\n",
       "4      1      0      1      0      0\n",
       "5      0      0      0      0      2"
      ]
     },
     "execution_count": 40,
     "metadata": {},
     "output_type": "execute_result"
    }
   ],
   "source": [
    "encoder = HashingEncoder(cols=['Sex', 'Type'],  \n",
    "                         n_components = 5).fit(train_set,train_y)\n",
    "encoded_train = encoder.transform(train_set) # 转换训练集\n",
    "encoded_test = encoder.transform(test_set) # 转换测试集\n",
    "\n",
    "# 将两列的数据集哈希编码为5列\n",
    "# 哈希编码结果与训练集/测试集中的内容无关\n",
    "# 只要列名匹配，我们就可以在任何新数据集上使用哈希编码方法\n",
    "# 编码结果仅由哈希函数确定\n",
    "\n",
    "# 通常哈希编码应用于更高和更稀疏的维空间，这里以两个变量作为哈希编码的例子\n",
    "# 以测试集结果为例\n",
    "encoded_test"
   ]
  },
  {
   "cell_type": "code",
   "execution_count": 41,
   "metadata": {
    "ExecuteTime": {
     "end_time": "2020-02-29T21:35:12.754480Z",
     "start_time": "2020-02-29T21:35:12.747748Z"
    }
   },
   "outputs": [
    {
     "data": {
      "text/html": [
       "<div>\n",
       "<style scoped>\n",
       "    .dataframe tbody tr th:only-of-type {\n",
       "        vertical-align: middle;\n",
       "    }\n",
       "\n",
       "    .dataframe tbody tr th {\n",
       "        vertical-align: top;\n",
       "    }\n",
       "\n",
       "    .dataframe thead th {\n",
       "        text-align: right;\n",
       "    }\n",
       "</style>\n",
       "<table border=\"1\" class=\"dataframe\">\n",
       "  <thead>\n",
       "    <tr style=\"text-align: right;\">\n",
       "      <th></th>\n",
       "      <th>col_0</th>\n",
       "      <th>col_1</th>\n",
       "      <th>col_2</th>\n",
       "      <th>col_3</th>\n",
       "      <th>col_4</th>\n",
       "    </tr>\n",
       "  </thead>\n",
       "  <tbody>\n",
       "    <tr>\n",
       "      <th>0</th>\n",
       "      <td>0</td>\n",
       "      <td>0</td>\n",
       "      <td>0</td>\n",
       "      <td>0</td>\n",
       "      <td>2</td>\n",
       "    </tr>\n",
       "    <tr>\n",
       "      <th>1</th>\n",
       "      <td>1</td>\n",
       "      <td>1</td>\n",
       "      <td>0</td>\n",
       "      <td>0</td>\n",
       "      <td>0</td>\n",
       "    </tr>\n",
       "    <tr>\n",
       "      <th>2</th>\n",
       "      <td>0</td>\n",
       "      <td>0</td>\n",
       "      <td>0</td>\n",
       "      <td>0</td>\n",
       "      <td>2</td>\n",
       "    </tr>\n",
       "    <tr>\n",
       "      <th>3</th>\n",
       "      <td>1</td>\n",
       "      <td>1</td>\n",
       "      <td>0</td>\n",
       "      <td>0</td>\n",
       "      <td>0</td>\n",
       "    </tr>\n",
       "    <tr>\n",
       "      <th>4</th>\n",
       "      <td>1</td>\n",
       "      <td>0</td>\n",
       "      <td>0</td>\n",
       "      <td>1</td>\n",
       "      <td>0</td>\n",
       "    </tr>\n",
       "  </tbody>\n",
       "</table>\n",
       "</div>"
      ],
      "text/plain": [
       "   col_0  col_1  col_2  col_3  col_4\n",
       "0      0      0      0      0      2\n",
       "1      1      1      0      0      0\n",
       "2      0      0      0      0      2\n",
       "3      1      1      0      0      0\n",
       "4      1      0      0      1      0"
      ]
     },
     "execution_count": 41,
     "metadata": {},
     "output_type": "execute_result"
    }
   ],
   "source": [
    "encoded_train # 训练集结果"
   ]
  },
  {
   "cell_type": "markdown",
   "metadata": {},
   "source": [
    "### Helmert Encoding Helmert 编码"
   ]
  },
  {
   "cell_type": "markdown",
   "metadata": {},
   "source": [
    "Helmert编码通常在计量经济学中使用。在Helmert编码（分类特征中的每个值对应于Helmert矩阵中的一行）之后，线性模型中编码后的变量系数可以反映在给定该类别变量某一类别值的情形下因变量的平均值与给定该类别其他类别值的情形下因变量的平均值的差值。在category_encoders包中实现的Helmert编码为反向Helmert编码。更多信息[link](https://www.statsmodels.org/devel/contrasts.html)。"
   ]
  },
  {
   "cell_type": "code",
   "execution_count": 42,
   "metadata": {
    "ExecuteTime": {
     "end_time": "2020-02-29T21:35:12.761886Z",
     "start_time": "2020-02-29T21:35:12.755790Z"
    }
   },
   "outputs": [],
   "source": [
    "import numpy as np\n",
    "import pandas as pd\n",
    "from category_encoders import HelmertEncoder\n",
    "# category_encoders 直接支持dataframe\n",
    "\n",
    "# 随机生成一些训练集\n",
    "train_set = pd.DataFrame(np.array([['male',10],['female', 20], ['male',10], \n",
    "                       ['female',20],['female',15]]),\n",
    "             columns = ['Sex','Type'])\n",
    "train_y = np.array([False, True, True, False, False])\n",
    "\n",
    "# 随机生成一些测试集, 并有意让其包含未在训练集出现过的类别与缺失值\n",
    "test_set = pd.DataFrame(np.array([['female',20],['male', 20], ['others',15], \n",
    "                       ['male',20],['female',40], ['male', 25]]),\n",
    "             columns = ['Sex','Type'])\n",
    "test_set.loc[4,'Type'] = np.nan"
   ]
  },
  {
   "cell_type": "code",
   "execution_count": 43,
   "metadata": {
    "ExecuteTime": {
     "end_time": "2020-02-29T21:35:12.769563Z",
     "start_time": "2020-02-29T21:35:12.763683Z"
    }
   },
   "outputs": [
    {
     "data": {
      "text/html": [
       "<div>\n",
       "<style scoped>\n",
       "    .dataframe tbody tr th:only-of-type {\n",
       "        vertical-align: middle;\n",
       "    }\n",
       "\n",
       "    .dataframe tbody tr th {\n",
       "        vertical-align: top;\n",
       "    }\n",
       "\n",
       "    .dataframe thead th {\n",
       "        text-align: right;\n",
       "    }\n",
       "</style>\n",
       "<table border=\"1\" class=\"dataframe\">\n",
       "  <thead>\n",
       "    <tr style=\"text-align: right;\">\n",
       "      <th></th>\n",
       "      <th>Sex</th>\n",
       "      <th>Type</th>\n",
       "    </tr>\n",
       "  </thead>\n",
       "  <tbody>\n",
       "    <tr>\n",
       "      <th>0</th>\n",
       "      <td>male</td>\n",
       "      <td>10</td>\n",
       "    </tr>\n",
       "    <tr>\n",
       "      <th>1</th>\n",
       "      <td>female</td>\n",
       "      <td>20</td>\n",
       "    </tr>\n",
       "    <tr>\n",
       "      <th>2</th>\n",
       "      <td>male</td>\n",
       "      <td>10</td>\n",
       "    </tr>\n",
       "    <tr>\n",
       "      <th>3</th>\n",
       "      <td>female</td>\n",
       "      <td>20</td>\n",
       "    </tr>\n",
       "    <tr>\n",
       "      <th>4</th>\n",
       "      <td>female</td>\n",
       "      <td>15</td>\n",
       "    </tr>\n",
       "  </tbody>\n",
       "</table>\n",
       "</div>"
      ],
      "text/plain": [
       "      Sex Type\n",
       "0    male   10\n",
       "1  female   20\n",
       "2    male   10\n",
       "3  female   20\n",
       "4  female   15"
      ]
     },
     "execution_count": 43,
     "metadata": {},
     "output_type": "execute_result"
    }
   ],
   "source": [
    "train_set # 原始训练集"
   ]
  },
  {
   "cell_type": "code",
   "execution_count": 44,
   "metadata": {
    "ExecuteTime": {
     "end_time": "2020-02-29T21:35:12.776299Z",
     "start_time": "2020-02-29T21:35:12.770737Z"
    }
   },
   "outputs": [
    {
     "data": {
      "text/html": [
       "<div>\n",
       "<style scoped>\n",
       "    .dataframe tbody tr th:only-of-type {\n",
       "        vertical-align: middle;\n",
       "    }\n",
       "\n",
       "    .dataframe tbody tr th {\n",
       "        vertical-align: top;\n",
       "    }\n",
       "\n",
       "    .dataframe thead th {\n",
       "        text-align: right;\n",
       "    }\n",
       "</style>\n",
       "<table border=\"1\" class=\"dataframe\">\n",
       "  <thead>\n",
       "    <tr style=\"text-align: right;\">\n",
       "      <th></th>\n",
       "      <th>Sex</th>\n",
       "      <th>Type</th>\n",
       "    </tr>\n",
       "  </thead>\n",
       "  <tbody>\n",
       "    <tr>\n",
       "      <th>0</th>\n",
       "      <td>female</td>\n",
       "      <td>20</td>\n",
       "    </tr>\n",
       "    <tr>\n",
       "      <th>1</th>\n",
       "      <td>male</td>\n",
       "      <td>20</td>\n",
       "    </tr>\n",
       "    <tr>\n",
       "      <th>2</th>\n",
       "      <td>others</td>\n",
       "      <td>15</td>\n",
       "    </tr>\n",
       "    <tr>\n",
       "      <th>3</th>\n",
       "      <td>male</td>\n",
       "      <td>20</td>\n",
       "    </tr>\n",
       "    <tr>\n",
       "      <th>4</th>\n",
       "      <td>female</td>\n",
       "      <td>NaN</td>\n",
       "    </tr>\n",
       "    <tr>\n",
       "      <th>5</th>\n",
       "      <td>male</td>\n",
       "      <td>25</td>\n",
       "    </tr>\n",
       "  </tbody>\n",
       "</table>\n",
       "</div>"
      ],
      "text/plain": [
       "      Sex Type\n",
       "0  female   20\n",
       "1    male   20\n",
       "2  others   15\n",
       "3    male   20\n",
       "4  female  NaN\n",
       "5    male   25"
      ]
     },
     "execution_count": 44,
     "metadata": {},
     "output_type": "execute_result"
    }
   ],
   "source": [
    "test_set # 原始测试集"
   ]
  },
  {
   "cell_type": "code",
   "execution_count": 45,
   "metadata": {
    "ExecuteTime": {
     "end_time": "2020-02-29T21:35:12.815942Z",
     "start_time": "2020-02-29T21:35:12.777783Z"
    }
   },
   "outputs": [
    {
     "data": {
      "text/html": [
       "<div>\n",
       "<style scoped>\n",
       "    .dataframe tbody tr th:only-of-type {\n",
       "        vertical-align: middle;\n",
       "    }\n",
       "\n",
       "    .dataframe tbody tr th {\n",
       "        vertical-align: top;\n",
       "    }\n",
       "\n",
       "    .dataframe thead th {\n",
       "        text-align: right;\n",
       "    }\n",
       "</style>\n",
       "<table border=\"1\" class=\"dataframe\">\n",
       "  <thead>\n",
       "    <tr style=\"text-align: right;\">\n",
       "      <th></th>\n",
       "      <th>intercept</th>\n",
       "      <th>Sex_0</th>\n",
       "      <th>Sex_1</th>\n",
       "      <th>Sex_2</th>\n",
       "      <th>Type_0</th>\n",
       "      <th>Type_1</th>\n",
       "      <th>Type_2</th>\n",
       "      <th>Type_3</th>\n",
       "    </tr>\n",
       "  </thead>\n",
       "  <tbody>\n",
       "    <tr>\n",
       "      <th>0</th>\n",
       "      <td>1</td>\n",
       "      <td>1.0</td>\n",
       "      <td>-1.0</td>\n",
       "      <td>-1.0</td>\n",
       "      <td>1.0</td>\n",
       "      <td>-1.0</td>\n",
       "      <td>-1.0</td>\n",
       "      <td>-1.0</td>\n",
       "    </tr>\n",
       "    <tr>\n",
       "      <th>1</th>\n",
       "      <td>1</td>\n",
       "      <td>-1.0</td>\n",
       "      <td>-1.0</td>\n",
       "      <td>-1.0</td>\n",
       "      <td>1.0</td>\n",
       "      <td>-1.0</td>\n",
       "      <td>-1.0</td>\n",
       "      <td>-1.0</td>\n",
       "    </tr>\n",
       "    <tr>\n",
       "      <th>2</th>\n",
       "      <td>1</td>\n",
       "      <td>0.0</td>\n",
       "      <td>0.0</td>\n",
       "      <td>3.0</td>\n",
       "      <td>0.0</td>\n",
       "      <td>2.0</td>\n",
       "      <td>-1.0</td>\n",
       "      <td>-1.0</td>\n",
       "    </tr>\n",
       "    <tr>\n",
       "      <th>3</th>\n",
       "      <td>1</td>\n",
       "      <td>-1.0</td>\n",
       "      <td>-1.0</td>\n",
       "      <td>-1.0</td>\n",
       "      <td>1.0</td>\n",
       "      <td>-1.0</td>\n",
       "      <td>-1.0</td>\n",
       "      <td>-1.0</td>\n",
       "    </tr>\n",
       "    <tr>\n",
       "      <th>4</th>\n",
       "      <td>1</td>\n",
       "      <td>1.0</td>\n",
       "      <td>-1.0</td>\n",
       "      <td>-1.0</td>\n",
       "      <td>0.0</td>\n",
       "      <td>0.0</td>\n",
       "      <td>3.0</td>\n",
       "      <td>-1.0</td>\n",
       "    </tr>\n",
       "    <tr>\n",
       "      <th>5</th>\n",
       "      <td>1</td>\n",
       "      <td>-1.0</td>\n",
       "      <td>-1.0</td>\n",
       "      <td>-1.0</td>\n",
       "      <td>0.0</td>\n",
       "      <td>0.0</td>\n",
       "      <td>0.0</td>\n",
       "      <td>4.0</td>\n",
       "    </tr>\n",
       "  </tbody>\n",
       "</table>\n",
       "</div>"
      ],
      "text/plain": [
       "   intercept  Sex_0  Sex_1  Sex_2  Type_0  Type_1  Type_2  Type_3\n",
       "0          1    1.0   -1.0   -1.0     1.0    -1.0    -1.0    -1.0\n",
       "1          1   -1.0   -1.0   -1.0     1.0    -1.0    -1.0    -1.0\n",
       "2          1    0.0    0.0    3.0     0.0     2.0    -1.0    -1.0\n",
       "3          1   -1.0   -1.0   -1.0     1.0    -1.0    -1.0    -1.0\n",
       "4          1    1.0   -1.0   -1.0     0.0     0.0     3.0    -1.0\n",
       "5          1   -1.0   -1.0   -1.0     0.0     0.0     0.0     4.0"
      ]
     },
     "execution_count": 45,
     "metadata": {},
     "output_type": "execute_result"
    }
   ],
   "source": [
    "encoder = HelmertEncoder(cols=['Sex', 'Type'], \n",
    "                         handle_unknown='indicator', \n",
    "                         handle_missing='indicator').fit(train_set,train_y) # 在训练集上训练\n",
    "encoded_train = encoder.transform(train_set) # 转换训练集\n",
    "encoded_test = encoder.transform(test_set) # 转换测试集\n",
    "# 将 handle_unknown设为‘indicator’，即会新增一列指示未知特征值\n",
    "# 将 handle_missing设为‘indicator’，即会新增一列指示缺失值\n",
    "# 其他的handle_unknown/handle_missing 的选择为：\n",
    "# ‘error’：即报错; ‘return_nan’：即未知值/缺失之被标记为nan; ‘value’：即未知值/缺失之被标记为0\n",
    "\n",
    "# 以测试集结果为例\n",
    "encoded_test\n",
    "\n",
    "# 在Helmert编码中： \n",
    "  \n",
    "# 变量 Sex => 变为了4个新变量（包含常数项）: 'male' => [ 1. -1. -1. -1.];\n",
    "#                                      'female' => [ 1.  1. -1. -1.];\n",
    "#                                      未知 =>  [ 1.  0.  0.  3.];\n",
    "#                                      缺失 => [ 1.  0.  2. -1.];\n",
    "    \n",
    "# 变量 Type => 变为了5个新变量（包含常数项）: 10 => [ 1. -1. -1. -1. -1.];\n",
    "#                                        20 => [ 1.  1. -1. -1. -1.];, \n",
    "#                                        15 => [ 1.  0.  2. -1. -1.];\n",
    "#                                        未知 =>  [ 1.  0.  0.  0.  4.];\n",
    "#                                        缺失 => [ 1.  0.  0.  3. -1.];  "
   ]
  },
  {
   "cell_type": "code",
   "execution_count": 46,
   "metadata": {
    "ExecuteTime": {
     "end_time": "2020-02-29T21:35:12.821139Z",
     "start_time": "2020-02-29T21:35:12.817171Z"
    }
   },
   "outputs": [
    {
     "name": "stdout",
     "output_type": "stream",
     "text": [
      "[[ 1. -1. -1. -1. -1.]\n",
      " [ 1.  1. -1. -1. -1.]\n",
      " [ 1.  0.  2. -1. -1.]\n",
      " [ 1.  0.  0.  3. -1.]\n",
      " [ 1.  0.  0.  0.  4.]]\n"
     ]
    }
   ],
   "source": [
    "# 可以通过如下代码计算变量Type的Helmert 矩阵\n",
    "\n",
    "from patsy.contrasts import Helmert\n",
    "levels = [1,2,3,4,5] # 3个变量值 + 1个未知值 + 1个缺失值\n",
    "contrast = Helmert().code_with_intercept(levels)\n",
    "print(contrast.matrix) # 第一列为常数项"
   ]
  },
  {
   "cell_type": "code",
   "execution_count": 47,
   "metadata": {
    "ExecuteTime": {
     "end_time": "2020-02-29T21:35:12.832242Z",
     "start_time": "2020-02-29T21:35:12.822497Z"
    }
   },
   "outputs": [
    {
     "data": {
      "text/html": [
       "<div>\n",
       "<style scoped>\n",
       "    .dataframe tbody tr th:only-of-type {\n",
       "        vertical-align: middle;\n",
       "    }\n",
       "\n",
       "    .dataframe tbody tr th {\n",
       "        vertical-align: top;\n",
       "    }\n",
       "\n",
       "    .dataframe thead th {\n",
       "        text-align: right;\n",
       "    }\n",
       "</style>\n",
       "<table border=\"1\" class=\"dataframe\">\n",
       "  <thead>\n",
       "    <tr style=\"text-align: right;\">\n",
       "      <th></th>\n",
       "      <th>intercept</th>\n",
       "      <th>Sex_0</th>\n",
       "      <th>Sex_1</th>\n",
       "      <th>Sex_2</th>\n",
       "      <th>Type_0</th>\n",
       "      <th>Type_1</th>\n",
       "      <th>Type_2</th>\n",
       "      <th>Type_3</th>\n",
       "    </tr>\n",
       "  </thead>\n",
       "  <tbody>\n",
       "    <tr>\n",
       "      <th>0</th>\n",
       "      <td>1</td>\n",
       "      <td>-1.0</td>\n",
       "      <td>-1.0</td>\n",
       "      <td>-1.0</td>\n",
       "      <td>-1.0</td>\n",
       "      <td>-1.0</td>\n",
       "      <td>-1.0</td>\n",
       "      <td>-1.0</td>\n",
       "    </tr>\n",
       "    <tr>\n",
       "      <th>1</th>\n",
       "      <td>1</td>\n",
       "      <td>1.0</td>\n",
       "      <td>-1.0</td>\n",
       "      <td>-1.0</td>\n",
       "      <td>1.0</td>\n",
       "      <td>-1.0</td>\n",
       "      <td>-1.0</td>\n",
       "      <td>-1.0</td>\n",
       "    </tr>\n",
       "    <tr>\n",
       "      <th>2</th>\n",
       "      <td>1</td>\n",
       "      <td>-1.0</td>\n",
       "      <td>-1.0</td>\n",
       "      <td>-1.0</td>\n",
       "      <td>-1.0</td>\n",
       "      <td>-1.0</td>\n",
       "      <td>-1.0</td>\n",
       "      <td>-1.0</td>\n",
       "    </tr>\n",
       "    <tr>\n",
       "      <th>3</th>\n",
       "      <td>1</td>\n",
       "      <td>1.0</td>\n",
       "      <td>-1.0</td>\n",
       "      <td>-1.0</td>\n",
       "      <td>1.0</td>\n",
       "      <td>-1.0</td>\n",
       "      <td>-1.0</td>\n",
       "      <td>-1.0</td>\n",
       "    </tr>\n",
       "    <tr>\n",
       "      <th>4</th>\n",
       "      <td>1</td>\n",
       "      <td>1.0</td>\n",
       "      <td>-1.0</td>\n",
       "      <td>-1.0</td>\n",
       "      <td>0.0</td>\n",
       "      <td>2.0</td>\n",
       "      <td>-1.0</td>\n",
       "      <td>-1.0</td>\n",
       "    </tr>\n",
       "  </tbody>\n",
       "</table>\n",
       "</div>"
      ],
      "text/plain": [
       "   intercept  Sex_0  Sex_1  Sex_2  Type_0  Type_1  Type_2  Type_3\n",
       "0          1   -1.0   -1.0   -1.0    -1.0    -1.0    -1.0    -1.0\n",
       "1          1    1.0   -1.0   -1.0     1.0    -1.0    -1.0    -1.0\n",
       "2          1   -1.0   -1.0   -1.0    -1.0    -1.0    -1.0    -1.0\n",
       "3          1    1.0   -1.0   -1.0     1.0    -1.0    -1.0    -1.0\n",
       "4          1    1.0   -1.0   -1.0     0.0     2.0    -1.0    -1.0"
      ]
     },
     "execution_count": 47,
     "metadata": {},
     "output_type": "execute_result"
    }
   ],
   "source": [
    "encoded_train # 训练集结果"
   ]
  },
  {
   "cell_type": "markdown",
   "metadata": {},
   "source": [
    "### Sum (Deviation) Encoding  偏差编码"
   ]
  },
  {
   "cell_type": "markdown",
   "metadata": {},
   "source": [
    "偏差编码也通常在计量经济学中被使用。偏差编码后，线性模型的系数可以反映该给定该类别变量值的情况下因变量的平均值与全局因变量的平均值的差异。更多信息[link](https://www.statsmodels.org/devel/contrasts.html)。"
   ]
  },
  {
   "cell_type": "code",
   "execution_count": 48,
   "metadata": {
    "ExecuteTime": {
     "end_time": "2020-02-29T21:35:12.838965Z",
     "start_time": "2020-02-29T21:35:12.833480Z"
    }
   },
   "outputs": [],
   "source": [
    "import numpy as np\n",
    "import pandas as pd\n",
    "from category_encoders.sum_coding import SumEncoder\n",
    "# category_encoders 直接支持dataframe\n",
    "\n",
    "# 随机生成一些训练集\n",
    "train_set = pd.DataFrame(np.array([['male',10],['female', 20], ['male',10], \n",
    "                       ['female',20],['female',15]]),\n",
    "             columns = ['Sex','Type'])\n",
    "train_y = np.array([False, True, True, False, False])\n",
    "\n",
    "# 随机生成一些测试集, 并有意让其包含未在训练集出现过的类别与缺失值\n",
    "test_set = pd.DataFrame(np.array([['female',20],['male', 20], ['others',15], \n",
    "                       ['male',20],['female',40], ['male', 25]]),\n",
    "             columns = ['Sex','Type'])\n",
    "test_set.loc[4,'Type'] = np.nan"
   ]
  },
  {
   "cell_type": "code",
   "execution_count": 49,
   "metadata": {
    "ExecuteTime": {
     "end_time": "2020-02-29T21:35:12.846200Z",
     "start_time": "2020-02-29T21:35:12.840450Z"
    }
   },
   "outputs": [
    {
     "data": {
      "text/html": [
       "<div>\n",
       "<style scoped>\n",
       "    .dataframe tbody tr th:only-of-type {\n",
       "        vertical-align: middle;\n",
       "    }\n",
       "\n",
       "    .dataframe tbody tr th {\n",
       "        vertical-align: top;\n",
       "    }\n",
       "\n",
       "    .dataframe thead th {\n",
       "        text-align: right;\n",
       "    }\n",
       "</style>\n",
       "<table border=\"1\" class=\"dataframe\">\n",
       "  <thead>\n",
       "    <tr style=\"text-align: right;\">\n",
       "      <th></th>\n",
       "      <th>Sex</th>\n",
       "      <th>Type</th>\n",
       "    </tr>\n",
       "  </thead>\n",
       "  <tbody>\n",
       "    <tr>\n",
       "      <th>0</th>\n",
       "      <td>male</td>\n",
       "      <td>10</td>\n",
       "    </tr>\n",
       "    <tr>\n",
       "      <th>1</th>\n",
       "      <td>female</td>\n",
       "      <td>20</td>\n",
       "    </tr>\n",
       "    <tr>\n",
       "      <th>2</th>\n",
       "      <td>male</td>\n",
       "      <td>10</td>\n",
       "    </tr>\n",
       "    <tr>\n",
       "      <th>3</th>\n",
       "      <td>female</td>\n",
       "      <td>20</td>\n",
       "    </tr>\n",
       "    <tr>\n",
       "      <th>4</th>\n",
       "      <td>female</td>\n",
       "      <td>15</td>\n",
       "    </tr>\n",
       "  </tbody>\n",
       "</table>\n",
       "</div>"
      ],
      "text/plain": [
       "      Sex Type\n",
       "0    male   10\n",
       "1  female   20\n",
       "2    male   10\n",
       "3  female   20\n",
       "4  female   15"
      ]
     },
     "execution_count": 49,
     "metadata": {},
     "output_type": "execute_result"
    }
   ],
   "source": [
    "train_set # 原始训练集"
   ]
  },
  {
   "cell_type": "code",
   "execution_count": 50,
   "metadata": {
    "ExecuteTime": {
     "end_time": "2020-02-29T21:35:12.853772Z",
     "start_time": "2020-02-29T21:35:12.847780Z"
    }
   },
   "outputs": [
    {
     "data": {
      "text/html": [
       "<div>\n",
       "<style scoped>\n",
       "    .dataframe tbody tr th:only-of-type {\n",
       "        vertical-align: middle;\n",
       "    }\n",
       "\n",
       "    .dataframe tbody tr th {\n",
       "        vertical-align: top;\n",
       "    }\n",
       "\n",
       "    .dataframe thead th {\n",
       "        text-align: right;\n",
       "    }\n",
       "</style>\n",
       "<table border=\"1\" class=\"dataframe\">\n",
       "  <thead>\n",
       "    <tr style=\"text-align: right;\">\n",
       "      <th></th>\n",
       "      <th>Sex</th>\n",
       "      <th>Type</th>\n",
       "    </tr>\n",
       "  </thead>\n",
       "  <tbody>\n",
       "    <tr>\n",
       "      <th>0</th>\n",
       "      <td>female</td>\n",
       "      <td>20</td>\n",
       "    </tr>\n",
       "    <tr>\n",
       "      <th>1</th>\n",
       "      <td>male</td>\n",
       "      <td>20</td>\n",
       "    </tr>\n",
       "    <tr>\n",
       "      <th>2</th>\n",
       "      <td>others</td>\n",
       "      <td>15</td>\n",
       "    </tr>\n",
       "    <tr>\n",
       "      <th>3</th>\n",
       "      <td>male</td>\n",
       "      <td>20</td>\n",
       "    </tr>\n",
       "    <tr>\n",
       "      <th>4</th>\n",
       "      <td>female</td>\n",
       "      <td>NaN</td>\n",
       "    </tr>\n",
       "    <tr>\n",
       "      <th>5</th>\n",
       "      <td>male</td>\n",
       "      <td>25</td>\n",
       "    </tr>\n",
       "  </tbody>\n",
       "</table>\n",
       "</div>"
      ],
      "text/plain": [
       "      Sex Type\n",
       "0  female   20\n",
       "1    male   20\n",
       "2  others   15\n",
       "3    male   20\n",
       "4  female  NaN\n",
       "5    male   25"
      ]
     },
     "execution_count": 50,
     "metadata": {},
     "output_type": "execute_result"
    }
   ],
   "source": [
    "test_set # 原始测试集"
   ]
  },
  {
   "cell_type": "code",
   "execution_count": 51,
   "metadata": {
    "ExecuteTime": {
     "end_time": "2020-02-29T21:35:12.892432Z",
     "start_time": "2020-02-29T21:35:12.855016Z"
    }
   },
   "outputs": [
    {
     "data": {
      "text/html": [
       "<div>\n",
       "<style scoped>\n",
       "    .dataframe tbody tr th:only-of-type {\n",
       "        vertical-align: middle;\n",
       "    }\n",
       "\n",
       "    .dataframe tbody tr th {\n",
       "        vertical-align: top;\n",
       "    }\n",
       "\n",
       "    .dataframe thead th {\n",
       "        text-align: right;\n",
       "    }\n",
       "</style>\n",
       "<table border=\"1\" class=\"dataframe\">\n",
       "  <thead>\n",
       "    <tr style=\"text-align: right;\">\n",
       "      <th></th>\n",
       "      <th>intercept</th>\n",
       "      <th>Sex_0</th>\n",
       "      <th>Sex_1</th>\n",
       "      <th>Sex_2</th>\n",
       "      <th>Type_0</th>\n",
       "      <th>Type_1</th>\n",
       "      <th>Type_2</th>\n",
       "      <th>Type_3</th>\n",
       "    </tr>\n",
       "  </thead>\n",
       "  <tbody>\n",
       "    <tr>\n",
       "      <th>0</th>\n",
       "      <td>1</td>\n",
       "      <td>0.0</td>\n",
       "      <td>1.0</td>\n",
       "      <td>0.0</td>\n",
       "      <td>0.0</td>\n",
       "      <td>1.0</td>\n",
       "      <td>0.0</td>\n",
       "      <td>0.0</td>\n",
       "    </tr>\n",
       "    <tr>\n",
       "      <th>1</th>\n",
       "      <td>1</td>\n",
       "      <td>1.0</td>\n",
       "      <td>0.0</td>\n",
       "      <td>0.0</td>\n",
       "      <td>0.0</td>\n",
       "      <td>1.0</td>\n",
       "      <td>0.0</td>\n",
       "      <td>0.0</td>\n",
       "    </tr>\n",
       "    <tr>\n",
       "      <th>2</th>\n",
       "      <td>1</td>\n",
       "      <td>-1.0</td>\n",
       "      <td>-1.0</td>\n",
       "      <td>-1.0</td>\n",
       "      <td>0.0</td>\n",
       "      <td>0.0</td>\n",
       "      <td>1.0</td>\n",
       "      <td>0.0</td>\n",
       "    </tr>\n",
       "    <tr>\n",
       "      <th>3</th>\n",
       "      <td>1</td>\n",
       "      <td>1.0</td>\n",
       "      <td>0.0</td>\n",
       "      <td>0.0</td>\n",
       "      <td>0.0</td>\n",
       "      <td>1.0</td>\n",
       "      <td>0.0</td>\n",
       "      <td>0.0</td>\n",
       "    </tr>\n",
       "    <tr>\n",
       "      <th>4</th>\n",
       "      <td>1</td>\n",
       "      <td>0.0</td>\n",
       "      <td>1.0</td>\n",
       "      <td>0.0</td>\n",
       "      <td>0.0</td>\n",
       "      <td>0.0</td>\n",
       "      <td>0.0</td>\n",
       "      <td>1.0</td>\n",
       "    </tr>\n",
       "    <tr>\n",
       "      <th>5</th>\n",
       "      <td>1</td>\n",
       "      <td>1.0</td>\n",
       "      <td>0.0</td>\n",
       "      <td>0.0</td>\n",
       "      <td>-1.0</td>\n",
       "      <td>-1.0</td>\n",
       "      <td>-1.0</td>\n",
       "      <td>-1.0</td>\n",
       "    </tr>\n",
       "  </tbody>\n",
       "</table>\n",
       "</div>"
      ],
      "text/plain": [
       "   intercept  Sex_0  Sex_1  Sex_2  Type_0  Type_1  Type_2  Type_3\n",
       "0          1    0.0    1.0    0.0     0.0     1.0     0.0     0.0\n",
       "1          1    1.0    0.0    0.0     0.0     1.0     0.0     0.0\n",
       "2          1   -1.0   -1.0   -1.0     0.0     0.0     1.0     0.0\n",
       "3          1    1.0    0.0    0.0     0.0     1.0     0.0     0.0\n",
       "4          1    0.0    1.0    0.0     0.0     0.0     0.0     1.0\n",
       "5          1    1.0    0.0    0.0    -1.0    -1.0    -1.0    -1.0"
      ]
     },
     "execution_count": 51,
     "metadata": {},
     "output_type": "execute_result"
    }
   ],
   "source": [
    "encoder = SumEncoder(cols=['Sex', 'Type'], \n",
    "                     handle_unknown='indicator', \n",
    "                     handle_missing='indicator').fit(train_set,train_y) # 在训练集上训练\n",
    "encoded_train = encoder.transform(train_set) # 转换训练集\n",
    "encoded_test = encoder.transform(test_set) # 转换测试集\n",
    "# 将 handle_unknown设为‘indicator’，即会新增一列指示未知特征值\n",
    "# 将 handle_missing设为‘indicator’，即会新增一列指示缺失值\n",
    "# 其他的handle_unknown/handle_missing 的选择为：\n",
    "# ‘error’：即报错; ‘return_nan’：即未知值/缺失之被标记为nan; ‘value’：即未知值/缺失之被标记为0\n",
    "\n",
    "# 以测试集结果为例\n",
    "encoded_test\n",
    "\n",
    "# 在Helmert编码中： \n",
    "  \n",
    "# 变量 Sex => 变为了4个新变量（包含常数项）: 'male' => [ 1.  1.  0.  0.];\n",
    "#                                      'female' => [ 1.  0.  1.  0.];\n",
    "#                                       未知 =>  [ 1. -1. -1. -1.];\n",
    "#                                       缺失 => [ 1.  0.  0.  1.];\n",
    "    \n",
    "# 变量 Type => 变为了5个新变量（包含常数项）: 10 => [ 1.  1.  0.  0.  0.];\n",
    "#                                        20 => [ 1.  0.  1.  0.  0.];, \n",
    "#                                        15 => [ 1.  0.  0.  1.  0.];\n",
    "#                                        未知 =>  [ 1. -1. -1. -1. -1.];\n",
    "#                                        缺失 => [ 1.  0.  0.  0.  1.];  "
   ]
  },
  {
   "cell_type": "code",
   "execution_count": 52,
   "metadata": {
    "ExecuteTime": {
     "end_time": "2020-02-29T21:35:12.897719Z",
     "start_time": "2020-02-29T21:35:12.893717Z"
    }
   },
   "outputs": [
    {
     "name": "stdout",
     "output_type": "stream",
     "text": [
      "[[ 1.  1.  0.  0.  0.]\n",
      " [ 1.  0.  1.  0.  0.]\n",
      " [ 1.  0.  0.  1.  0.]\n",
      " [ 1.  0.  0.  0.  1.]\n",
      " [ 1. -1. -1. -1. -1.]]\n"
     ]
    }
   ],
   "source": [
    "# 可以通过如下代码计算变量Type的Deviation 矩阵\n",
    "\n",
    "from patsy.contrasts import Sum\n",
    "levels = [1,2,3,4,5] # 3个变量值 + 1个未知值 + 1个缺失值\n",
    "contrast = Sum().code_with_intercept(levels)\n",
    "print(contrast.matrix) # 第一列为常数项"
   ]
  },
  {
   "cell_type": "code",
   "execution_count": 53,
   "metadata": {
    "ExecuteTime": {
     "end_time": "2020-02-29T21:35:12.908598Z",
     "start_time": "2020-02-29T21:35:12.899080Z"
    }
   },
   "outputs": [
    {
     "data": {
      "text/html": [
       "<div>\n",
       "<style scoped>\n",
       "    .dataframe tbody tr th:only-of-type {\n",
       "        vertical-align: middle;\n",
       "    }\n",
       "\n",
       "    .dataframe tbody tr th {\n",
       "        vertical-align: top;\n",
       "    }\n",
       "\n",
       "    .dataframe thead th {\n",
       "        text-align: right;\n",
       "    }\n",
       "</style>\n",
       "<table border=\"1\" class=\"dataframe\">\n",
       "  <thead>\n",
       "    <tr style=\"text-align: right;\">\n",
       "      <th></th>\n",
       "      <th>intercept</th>\n",
       "      <th>Sex_0</th>\n",
       "      <th>Sex_1</th>\n",
       "      <th>Sex_2</th>\n",
       "      <th>Type_0</th>\n",
       "      <th>Type_1</th>\n",
       "      <th>Type_2</th>\n",
       "      <th>Type_3</th>\n",
       "    </tr>\n",
       "  </thead>\n",
       "  <tbody>\n",
       "    <tr>\n",
       "      <th>0</th>\n",
       "      <td>1</td>\n",
       "      <td>1.0</td>\n",
       "      <td>0.0</td>\n",
       "      <td>0.0</td>\n",
       "      <td>1.0</td>\n",
       "      <td>0.0</td>\n",
       "      <td>0.0</td>\n",
       "      <td>0.0</td>\n",
       "    </tr>\n",
       "    <tr>\n",
       "      <th>1</th>\n",
       "      <td>1</td>\n",
       "      <td>0.0</td>\n",
       "      <td>1.0</td>\n",
       "      <td>0.0</td>\n",
       "      <td>0.0</td>\n",
       "      <td>1.0</td>\n",
       "      <td>0.0</td>\n",
       "      <td>0.0</td>\n",
       "    </tr>\n",
       "    <tr>\n",
       "      <th>2</th>\n",
       "      <td>1</td>\n",
       "      <td>1.0</td>\n",
       "      <td>0.0</td>\n",
       "      <td>0.0</td>\n",
       "      <td>1.0</td>\n",
       "      <td>0.0</td>\n",
       "      <td>0.0</td>\n",
       "      <td>0.0</td>\n",
       "    </tr>\n",
       "    <tr>\n",
       "      <th>3</th>\n",
       "      <td>1</td>\n",
       "      <td>0.0</td>\n",
       "      <td>1.0</td>\n",
       "      <td>0.0</td>\n",
       "      <td>0.0</td>\n",
       "      <td>1.0</td>\n",
       "      <td>0.0</td>\n",
       "      <td>0.0</td>\n",
       "    </tr>\n",
       "    <tr>\n",
       "      <th>4</th>\n",
       "      <td>1</td>\n",
       "      <td>0.0</td>\n",
       "      <td>1.0</td>\n",
       "      <td>0.0</td>\n",
       "      <td>0.0</td>\n",
       "      <td>0.0</td>\n",
       "      <td>1.0</td>\n",
       "      <td>0.0</td>\n",
       "    </tr>\n",
       "  </tbody>\n",
       "</table>\n",
       "</div>"
      ],
      "text/plain": [
       "   intercept  Sex_0  Sex_1  Sex_2  Type_0  Type_1  Type_2  Type_3\n",
       "0          1    1.0    0.0    0.0     1.0     0.0     0.0     0.0\n",
       "1          1    0.0    1.0    0.0     0.0     1.0     0.0     0.0\n",
       "2          1    1.0    0.0    0.0     1.0     0.0     0.0     0.0\n",
       "3          1    0.0    1.0    0.0     0.0     1.0     0.0     0.0\n",
       "4          1    0.0    1.0    0.0     0.0     0.0     1.0     0.0"
      ]
     },
     "execution_count": 53,
     "metadata": {},
     "output_type": "execute_result"
    }
   ],
   "source": [
    "encoded_train # 训练集结果"
   ]
  },
  {
   "cell_type": "markdown",
   "metadata": {},
   "source": [
    "### Target Encoding 目标编码"
   ]
  },
  {
   "cell_type": "markdown",
   "metadata": {},
   "source": [
    "目标编码是一种不仅基于特征值本身，还基于相应因变量的类别变量编码方法。\n",
    "\n",
    "对于分类问题：将类别特征替换为给定某一特定类别值的因变量后验概率与所有训练数据上因变量的先验概率的组合。\n",
    "\n",
    "对于连续目标：将类别特征替换为给定某一特定类别值的因变量目标期望值与所有训练数据上因变量的目标期望值的组合。\n",
    "\n",
    "该方法严重依赖于因变量的分布，但这大大减少了生成编码后特征的数量。"
   ]
  },
  {
   "cell_type": "markdown",
   "metadata": {},
   "source": [
    "公式：  \n",
    "$smoove = \\frac{1}{1+ exp(-\\frac{n-min\\_samples\\_leaf}{smoothing})}$  \n",
    "$X_k' = Prior\\_Prob* (1 - smoove) + smoove * Condition\\_Prob $  \n",
    "$Condition\\_Prob =\\frac{n^{+}}{n} $  \n",
    "\n",
    "其中min_samples_leaf和smoothing是用户定义的参数；  \n",
    "min_samples_leaf：计算类别平均值时的最小样本数（即若该类别出现次数少，则将被忽略），用以控制过拟合；  \n",
    "smoothing：平衡分类平均值与先验平均值的平滑系数。其值越高，则正则化越强；  \n",
    "$ X_k'$是类别特征X中类别为k的编码值；   \n",
    "Prior Prob：目标变量的先验概率/期望；  \n",
    "n：类别特征X中，类别为k的样本数；   \n",
    "$ n ^ {+} $：不仅在类别特征X中具有类别k，而且具有正结果的样本数（分类问题）；    \n",
    "\n",
    "参考文献: Micci-Barreca, D. (2001). A preprocessing scheme for high-cardinality categorical attributes in classification and prediction problems. ACM SIGKDD Explorations Newsletter, 3(1), 27-32."
   ]
  },
  {
   "cell_type": "code",
   "execution_count": 54,
   "metadata": {
    "ExecuteTime": {
     "end_time": "2020-02-29T21:35:12.915581Z",
     "start_time": "2020-02-29T21:35:12.910101Z"
    }
   },
   "outputs": [],
   "source": [
    "import numpy as np\n",
    "import pandas as pd\n",
    "from category_encoders.target_encoder import TargetEncoder\n",
    "# category_encoders 直接支持dataframe\n",
    "\n",
    "# 随机生成一些训练集\n",
    "train_set = pd.DataFrame(np.array([['male',10],['female', 20], ['male',10], \n",
    "                       ['female',20],['female',15]]),\n",
    "             columns = ['Sex','Type'])\n",
    "train_y = np.array([False, True, True, False, False])\n",
    "\n",
    "# 随机生成一些测试集, 并有意让其包含未在训练集出现过的类别与缺失值\n",
    "test_set = pd.DataFrame(np.array([['female',20],['male', 20], ['others',15], \n",
    "                       ['male',20],['female',40], ['male', 25]]),\n",
    "             columns = ['Sex','Type'])\n",
    "test_set.loc[4,'Type'] = np.nan"
   ]
  },
  {
   "cell_type": "code",
   "execution_count": 55,
   "metadata": {
    "ExecuteTime": {
     "end_time": "2020-02-29T21:35:12.922881Z",
     "start_time": "2020-02-29T21:35:12.917019Z"
    }
   },
   "outputs": [
    {
     "data": {
      "text/html": [
       "<div>\n",
       "<style scoped>\n",
       "    .dataframe tbody tr th:only-of-type {\n",
       "        vertical-align: middle;\n",
       "    }\n",
       "\n",
       "    .dataframe tbody tr th {\n",
       "        vertical-align: top;\n",
       "    }\n",
       "\n",
       "    .dataframe thead th {\n",
       "        text-align: right;\n",
       "    }\n",
       "</style>\n",
       "<table border=\"1\" class=\"dataframe\">\n",
       "  <thead>\n",
       "    <tr style=\"text-align: right;\">\n",
       "      <th></th>\n",
       "      <th>Sex</th>\n",
       "      <th>Type</th>\n",
       "    </tr>\n",
       "  </thead>\n",
       "  <tbody>\n",
       "    <tr>\n",
       "      <th>0</th>\n",
       "      <td>male</td>\n",
       "      <td>10</td>\n",
       "    </tr>\n",
       "    <tr>\n",
       "      <th>1</th>\n",
       "      <td>female</td>\n",
       "      <td>20</td>\n",
       "    </tr>\n",
       "    <tr>\n",
       "      <th>2</th>\n",
       "      <td>male</td>\n",
       "      <td>10</td>\n",
       "    </tr>\n",
       "    <tr>\n",
       "      <th>3</th>\n",
       "      <td>female</td>\n",
       "      <td>20</td>\n",
       "    </tr>\n",
       "    <tr>\n",
       "      <th>4</th>\n",
       "      <td>female</td>\n",
       "      <td>15</td>\n",
       "    </tr>\n",
       "  </tbody>\n",
       "</table>\n",
       "</div>"
      ],
      "text/plain": [
       "      Sex Type\n",
       "0    male   10\n",
       "1  female   20\n",
       "2    male   10\n",
       "3  female   20\n",
       "4  female   15"
      ]
     },
     "execution_count": 55,
     "metadata": {},
     "output_type": "execute_result"
    }
   ],
   "source": [
    "train_set # 原始训练集"
   ]
  },
  {
   "cell_type": "code",
   "execution_count": 56,
   "metadata": {
    "ExecuteTime": {
     "end_time": "2020-02-29T21:35:12.930311Z",
     "start_time": "2020-02-29T21:35:12.924392Z"
    }
   },
   "outputs": [
    {
     "data": {
      "text/html": [
       "<div>\n",
       "<style scoped>\n",
       "    .dataframe tbody tr th:only-of-type {\n",
       "        vertical-align: middle;\n",
       "    }\n",
       "\n",
       "    .dataframe tbody tr th {\n",
       "        vertical-align: top;\n",
       "    }\n",
       "\n",
       "    .dataframe thead th {\n",
       "        text-align: right;\n",
       "    }\n",
       "</style>\n",
       "<table border=\"1\" class=\"dataframe\">\n",
       "  <thead>\n",
       "    <tr style=\"text-align: right;\">\n",
       "      <th></th>\n",
       "      <th>Sex</th>\n",
       "      <th>Type</th>\n",
       "    </tr>\n",
       "  </thead>\n",
       "  <tbody>\n",
       "    <tr>\n",
       "      <th>0</th>\n",
       "      <td>female</td>\n",
       "      <td>20</td>\n",
       "    </tr>\n",
       "    <tr>\n",
       "      <th>1</th>\n",
       "      <td>male</td>\n",
       "      <td>20</td>\n",
       "    </tr>\n",
       "    <tr>\n",
       "      <th>2</th>\n",
       "      <td>others</td>\n",
       "      <td>15</td>\n",
       "    </tr>\n",
       "    <tr>\n",
       "      <th>3</th>\n",
       "      <td>male</td>\n",
       "      <td>20</td>\n",
       "    </tr>\n",
       "    <tr>\n",
       "      <th>4</th>\n",
       "      <td>female</td>\n",
       "      <td>NaN</td>\n",
       "    </tr>\n",
       "    <tr>\n",
       "      <th>5</th>\n",
       "      <td>male</td>\n",
       "      <td>25</td>\n",
       "    </tr>\n",
       "  </tbody>\n",
       "</table>\n",
       "</div>"
      ],
      "text/plain": [
       "      Sex Type\n",
       "0  female   20\n",
       "1    male   20\n",
       "2  others   15\n",
       "3    male   20\n",
       "4  female  NaN\n",
       "5    male   25"
      ]
     },
     "execution_count": 56,
     "metadata": {},
     "output_type": "execute_result"
    }
   ],
   "source": [
    "test_set # 原始测试集"
   ]
  },
  {
   "cell_type": "code",
   "execution_count": 57,
   "metadata": {
    "ExecuteTime": {
     "end_time": "2020-02-29T21:35:13.055948Z",
     "start_time": "2020-02-29T21:35:12.931593Z"
    }
   },
   "outputs": [
    {
     "data": {
      "text/html": [
       "<div>\n",
       "<style scoped>\n",
       "    .dataframe tbody tr th:only-of-type {\n",
       "        vertical-align: middle;\n",
       "    }\n",
       "\n",
       "    .dataframe tbody tr th {\n",
       "        vertical-align: top;\n",
       "    }\n",
       "\n",
       "    .dataframe thead th {\n",
       "        text-align: right;\n",
       "    }\n",
       "</style>\n",
       "<table border=\"1\" class=\"dataframe\">\n",
       "  <thead>\n",
       "    <tr style=\"text-align: right;\">\n",
       "      <th></th>\n",
       "      <th>Sex</th>\n",
       "      <th>Type</th>\n",
       "    </tr>\n",
       "  </thead>\n",
       "  <tbody>\n",
       "    <tr>\n",
       "      <th>0</th>\n",
       "      <td>0.341280</td>\n",
       "      <td>0.473106</td>\n",
       "    </tr>\n",
       "    <tr>\n",
       "      <th>1</th>\n",
       "      <td>0.473106</td>\n",
       "      <td>0.473106</td>\n",
       "    </tr>\n",
       "    <tr>\n",
       "      <th>2</th>\n",
       "      <td>0.400000</td>\n",
       "      <td>0.400000</td>\n",
       "    </tr>\n",
       "    <tr>\n",
       "      <th>3</th>\n",
       "      <td>0.473106</td>\n",
       "      <td>0.473106</td>\n",
       "    </tr>\n",
       "    <tr>\n",
       "      <th>4</th>\n",
       "      <td>0.341280</td>\n",
       "      <td>0.400000</td>\n",
       "    </tr>\n",
       "    <tr>\n",
       "      <th>5</th>\n",
       "      <td>0.473106</td>\n",
       "      <td>0.400000</td>\n",
       "    </tr>\n",
       "  </tbody>\n",
       "</table>\n",
       "</div>"
      ],
      "text/plain": [
       "        Sex      Type\n",
       "0  0.341280  0.473106\n",
       "1  0.473106  0.473106\n",
       "2  0.400000  0.400000\n",
       "3  0.473106  0.473106\n",
       "4  0.341280  0.400000\n",
       "5  0.473106  0.400000"
      ]
     },
     "execution_count": 57,
     "metadata": {},
     "output_type": "execute_result"
    }
   ],
   "source": [
    "encoder = TargetEncoder(cols=['Sex','Type'], \n",
    "                        handle_unknown='value',  \n",
    "                        handle_missing='value').fit(train_set,train_y) # 在训练集上训练\n",
    "encoded_train = encoder.transform(train_set) # 转换训练集\n",
    "encoded_test = encoder.transform(test_set) # 转换测试集\n",
    "\n",
    "# handle_unknown 和 handle_missing 被设定为 'value'\n",
    "# 在目标编码中，handle_unknown 和 handle_missing 仅接受 ‘error’, ‘return_nan’ 及 ‘value’ 设定\n",
    "# 两者的默认值均为 ‘value’, 即对未知类别或缺失值填充训练集的因变量平均值\n",
    "\n",
    "encoded_test # 编码后的变量数与原类别变量数一致"
   ]
  },
  {
   "cell_type": "code",
   "execution_count": 58,
   "metadata": {
    "ExecuteTime": {
     "end_time": "2020-02-29T21:35:13.063024Z",
     "start_time": "2020-02-29T21:35:13.057499Z"
    }
   },
   "outputs": [
    {
     "data": {
      "text/plain": [
       "0.4731058578630005"
      ]
     },
     "execution_count": 58,
     "metadata": {},
     "output_type": "execute_result"
    }
   ],
   "source": [
    "# 验证一下计算的结果，在测试集中，‘male’类别的编码值为 0.473106\n",
    "prior = train_y.mean() # 先验概率\n",
    "min_samples_leaf = 1.0 # 默认为1.0\n",
    "smoothing = 1.0 # 默认为1.0\n",
    "n = 2 # 训练集中，两个样本包含‘male’这个标签\n",
    "n_positive = 1 # 在训练集中，这两个包含‘male’标签的样本中仅有一个有正的因变量标签\n",
    "\n",
    "𝑠𝑚𝑜𝑜𝑣𝑒 = 1 / (1 + np.exp(-(n - min_samples_leaf) / smoothing))\n",
    "male_encode = prior * (1-𝑠𝑚𝑜𝑜𝑣𝑒) + 𝑠𝑚𝑜𝑜𝑣𝑒 * n_positive/n\n",
    "male_encode # return 0.4731058578630005，与要验证的值吻合"
   ]
  },
  {
   "cell_type": "code",
   "execution_count": 59,
   "metadata": {
    "ExecuteTime": {
     "end_time": "2020-02-29T21:35:13.070700Z",
     "start_time": "2020-02-29T21:35:13.064540Z"
    }
   },
   "outputs": [
    {
     "data": {
      "text/html": [
       "<div>\n",
       "<style scoped>\n",
       "    .dataframe tbody tr th:only-of-type {\n",
       "        vertical-align: middle;\n",
       "    }\n",
       "\n",
       "    .dataframe tbody tr th {\n",
       "        vertical-align: top;\n",
       "    }\n",
       "\n",
       "    .dataframe thead th {\n",
       "        text-align: right;\n",
       "    }\n",
       "</style>\n",
       "<table border=\"1\" class=\"dataframe\">\n",
       "  <thead>\n",
       "    <tr style=\"text-align: right;\">\n",
       "      <th></th>\n",
       "      <th>Sex</th>\n",
       "      <th>Type</th>\n",
       "    </tr>\n",
       "  </thead>\n",
       "  <tbody>\n",
       "    <tr>\n",
       "      <th>0</th>\n",
       "      <td>0.473106</td>\n",
       "      <td>0.473106</td>\n",
       "    </tr>\n",
       "    <tr>\n",
       "      <th>1</th>\n",
       "      <td>0.341280</td>\n",
       "      <td>0.473106</td>\n",
       "    </tr>\n",
       "    <tr>\n",
       "      <th>2</th>\n",
       "      <td>0.473106</td>\n",
       "      <td>0.473106</td>\n",
       "    </tr>\n",
       "    <tr>\n",
       "      <th>3</th>\n",
       "      <td>0.341280</td>\n",
       "      <td>0.473106</td>\n",
       "    </tr>\n",
       "    <tr>\n",
       "      <th>4</th>\n",
       "      <td>0.341280</td>\n",
       "      <td>0.400000</td>\n",
       "    </tr>\n",
       "  </tbody>\n",
       "</table>\n",
       "</div>"
      ],
      "text/plain": [
       "        Sex      Type\n",
       "0  0.473106  0.473106\n",
       "1  0.341280  0.473106\n",
       "2  0.473106  0.473106\n",
       "3  0.341280  0.473106\n",
       "4  0.341280  0.400000"
      ]
     },
     "execution_count": 59,
     "metadata": {},
     "output_type": "execute_result"
    }
   ],
   "source": [
    "encoded_train # 训练集结果"
   ]
  },
  {
   "cell_type": "markdown",
   "metadata": {},
   "source": [
    "### M-estimate Encoding M估计量编码"
   ]
  },
  {
   "cell_type": "markdown",
   "metadata": {},
   "source": [
    "M估计量编码是目标编码的一个简化版本。与目标编码器相比，M估计量编码仅具有一个可调参数（m），而目标编码器具有两个可调参数（min_samples_leaf和smoothing）。"
   ]
  },
  {
   "cell_type": "markdown",
   "metadata": {},
   "source": [
    "公式：  \n",
    "$X_k' = \\frac{n^{+} + prior * m}{y^{+} + m}$   \n",
    "\n",
    "其中m为用户定义的参数；  \n",
    "m：m为非负数, m的值越高，先验概率的权重则更大。  \n",
    "$ X_k'$为类别特征X中类别k的编码值；    \n",
    "Prior：目标变量的先验概率/期望值；  \n",
    "$ n ^ {+} $：训练集中特征X类别为k，而且具有正因变量标签的样本数；  \n",
    "$ y ^ {+} $：训练集中具有正因变量标签的样本数；  \n",
    "\n",
    "参考文献：Micci-Barreca, D. (2001). A preprocessing scheme for high-cardinality categorical attributes in classification and prediction problems. ACM SIGKDD Explorations Newsletter, 3(1), 27-32."
   ]
  },
  {
   "cell_type": "code",
   "execution_count": 60,
   "metadata": {
    "ExecuteTime": {
     "end_time": "2020-02-29T21:35:13.078125Z",
     "start_time": "2020-02-29T21:35:13.072195Z"
    }
   },
   "outputs": [],
   "source": [
    "import numpy as np\n",
    "import pandas as pd\n",
    "from category_encoders.m_estimate import MEstimateEncoder\n",
    "# category_encoders 直接支持dataframe\n",
    "\n",
    "# 随机生成一些训练集\n",
    "train_set = pd.DataFrame(np.array([['male',10],['female', 20], ['male',10], \n",
    "                       ['female',20],['female',15]]),\n",
    "             columns = ['Sex','Type'])\n",
    "train_y = np.array([False, True, True, False, False])\n",
    "\n",
    "# 随机生成一些测试集, 并有意让其包含未在训练集出现过的类别与缺失值\n",
    "test_set = pd.DataFrame(np.array([['female',20],['male', 20], ['others',15], \n",
    "                       ['male',20],['female',40], ['male', 25]]),\n",
    "             columns = ['Sex','Type'])\n",
    "test_set.loc[4,'Type'] = np.nan"
   ]
  },
  {
   "cell_type": "code",
   "execution_count": 61,
   "metadata": {
    "ExecuteTime": {
     "end_time": "2020-02-29T21:35:13.086107Z",
     "start_time": "2020-02-29T21:35:13.079798Z"
    }
   },
   "outputs": [
    {
     "data": {
      "text/html": [
       "<div>\n",
       "<style scoped>\n",
       "    .dataframe tbody tr th:only-of-type {\n",
       "        vertical-align: middle;\n",
       "    }\n",
       "\n",
       "    .dataframe tbody tr th {\n",
       "        vertical-align: top;\n",
       "    }\n",
       "\n",
       "    .dataframe thead th {\n",
       "        text-align: right;\n",
       "    }\n",
       "</style>\n",
       "<table border=\"1\" class=\"dataframe\">\n",
       "  <thead>\n",
       "    <tr style=\"text-align: right;\">\n",
       "      <th></th>\n",
       "      <th>Sex</th>\n",
       "      <th>Type</th>\n",
       "    </tr>\n",
       "  </thead>\n",
       "  <tbody>\n",
       "    <tr>\n",
       "      <th>0</th>\n",
       "      <td>male</td>\n",
       "      <td>10</td>\n",
       "    </tr>\n",
       "    <tr>\n",
       "      <th>1</th>\n",
       "      <td>female</td>\n",
       "      <td>20</td>\n",
       "    </tr>\n",
       "    <tr>\n",
       "      <th>2</th>\n",
       "      <td>male</td>\n",
       "      <td>10</td>\n",
       "    </tr>\n",
       "    <tr>\n",
       "      <th>3</th>\n",
       "      <td>female</td>\n",
       "      <td>20</td>\n",
       "    </tr>\n",
       "    <tr>\n",
       "      <th>4</th>\n",
       "      <td>female</td>\n",
       "      <td>15</td>\n",
       "    </tr>\n",
       "  </tbody>\n",
       "</table>\n",
       "</div>"
      ],
      "text/plain": [
       "      Sex Type\n",
       "0    male   10\n",
       "1  female   20\n",
       "2    male   10\n",
       "3  female   20\n",
       "4  female   15"
      ]
     },
     "execution_count": 61,
     "metadata": {},
     "output_type": "execute_result"
    }
   ],
   "source": [
    "train_set # 原始训练集"
   ]
  },
  {
   "cell_type": "code",
   "execution_count": 62,
   "metadata": {
    "ExecuteTime": {
     "end_time": "2020-02-29T21:35:13.093453Z",
     "start_time": "2020-02-29T21:35:13.087531Z"
    }
   },
   "outputs": [
    {
     "data": {
      "text/html": [
       "<div>\n",
       "<style scoped>\n",
       "    .dataframe tbody tr th:only-of-type {\n",
       "        vertical-align: middle;\n",
       "    }\n",
       "\n",
       "    .dataframe tbody tr th {\n",
       "        vertical-align: top;\n",
       "    }\n",
       "\n",
       "    .dataframe thead th {\n",
       "        text-align: right;\n",
       "    }\n",
       "</style>\n",
       "<table border=\"1\" class=\"dataframe\">\n",
       "  <thead>\n",
       "    <tr style=\"text-align: right;\">\n",
       "      <th></th>\n",
       "      <th>Sex</th>\n",
       "      <th>Type</th>\n",
       "    </tr>\n",
       "  </thead>\n",
       "  <tbody>\n",
       "    <tr>\n",
       "      <th>0</th>\n",
       "      <td>female</td>\n",
       "      <td>20</td>\n",
       "    </tr>\n",
       "    <tr>\n",
       "      <th>1</th>\n",
       "      <td>male</td>\n",
       "      <td>20</td>\n",
       "    </tr>\n",
       "    <tr>\n",
       "      <th>2</th>\n",
       "      <td>others</td>\n",
       "      <td>15</td>\n",
       "    </tr>\n",
       "    <tr>\n",
       "      <th>3</th>\n",
       "      <td>male</td>\n",
       "      <td>20</td>\n",
       "    </tr>\n",
       "    <tr>\n",
       "      <th>4</th>\n",
       "      <td>female</td>\n",
       "      <td>NaN</td>\n",
       "    </tr>\n",
       "    <tr>\n",
       "      <th>5</th>\n",
       "      <td>male</td>\n",
       "      <td>25</td>\n",
       "    </tr>\n",
       "  </tbody>\n",
       "</table>\n",
       "</div>"
      ],
      "text/plain": [
       "      Sex Type\n",
       "0  female   20\n",
       "1    male   20\n",
       "2  others   15\n",
       "3    male   20\n",
       "4  female  NaN\n",
       "5    male   25"
      ]
     },
     "execution_count": 62,
     "metadata": {},
     "output_type": "execute_result"
    }
   ],
   "source": [
    "test_set # 原始测试集"
   ]
  },
  {
   "cell_type": "code",
   "execution_count": 63,
   "metadata": {
    "ExecuteTime": {
     "end_time": "2020-02-29T21:35:13.131595Z",
     "start_time": "2020-02-29T21:35:13.095019Z"
    }
   },
   "outputs": [
    {
     "data": {
      "text/html": [
       "<div>\n",
       "<style scoped>\n",
       "    .dataframe tbody tr th:only-of-type {\n",
       "        vertical-align: middle;\n",
       "    }\n",
       "\n",
       "    .dataframe tbody tr th {\n",
       "        vertical-align: top;\n",
       "    }\n",
       "\n",
       "    .dataframe thead th {\n",
       "        text-align: right;\n",
       "    }\n",
       "</style>\n",
       "<table border=\"1\" class=\"dataframe\">\n",
       "  <thead>\n",
       "    <tr style=\"text-align: right;\">\n",
       "      <th></th>\n",
       "      <th>Sex</th>\n",
       "      <th>Type</th>\n",
       "    </tr>\n",
       "  </thead>\n",
       "  <tbody>\n",
       "    <tr>\n",
       "      <th>0</th>\n",
       "      <td>0.350000</td>\n",
       "      <td>0.466667</td>\n",
       "    </tr>\n",
       "    <tr>\n",
       "      <th>1</th>\n",
       "      <td>0.466667</td>\n",
       "      <td>0.466667</td>\n",
       "    </tr>\n",
       "    <tr>\n",
       "      <th>2</th>\n",
       "      <td>0.400000</td>\n",
       "      <td>0.200000</td>\n",
       "    </tr>\n",
       "    <tr>\n",
       "      <th>3</th>\n",
       "      <td>0.466667</td>\n",
       "      <td>0.466667</td>\n",
       "    </tr>\n",
       "    <tr>\n",
       "      <th>4</th>\n",
       "      <td>0.350000</td>\n",
       "      <td>0.400000</td>\n",
       "    </tr>\n",
       "    <tr>\n",
       "      <th>5</th>\n",
       "      <td>0.466667</td>\n",
       "      <td>0.400000</td>\n",
       "    </tr>\n",
       "  </tbody>\n",
       "</table>\n",
       "</div>"
      ],
      "text/plain": [
       "        Sex      Type\n",
       "0  0.350000  0.466667\n",
       "1  0.466667  0.466667\n",
       "2  0.400000  0.200000\n",
       "3  0.466667  0.466667\n",
       "4  0.350000  0.400000\n",
       "5  0.466667  0.400000"
      ]
     },
     "execution_count": 63,
     "metadata": {},
     "output_type": "execute_result"
    }
   ],
   "source": [
    "encoder = MEstimateEncoder(cols=['Sex','Type'], \n",
    "                           handle_unknown='value',  \n",
    "                           handle_missing='value').fit(train_set,train_y) # 在训练集上训练\n",
    "encoded_train = encoder.transform(train_set) # 转换训练集\n",
    "encoded_test = encoder.transform(test_set) # 转换测试集\n",
    "\n",
    "# handle_unknown 和 handle_missing 被设定为 'value'\n",
    "# 在目标编码中，handle_unknown 和 handle_missing 仅接受 ‘error’, ‘return_nan’ 及 ‘value’ 设定\n",
    "# 两者的默认值均为 ‘value’, 即对未知类别或缺失值填充训练集的因变量平均值\n",
    "\n",
    "encoded_test # 编码后的变量数与原类别变量数一致"
   ]
  },
  {
   "cell_type": "code",
   "execution_count": 64,
   "metadata": {
    "ExecuteTime": {
     "end_time": "2020-02-29T21:35:13.137379Z",
     "start_time": "2020-02-29T21:35:13.132962Z"
    }
   },
   "outputs": [
    {
     "data": {
      "text/plain": [
       "0.4666666666666666"
      ]
     },
     "execution_count": 64,
     "metadata": {},
     "output_type": "execute_result"
    }
   ],
   "source": [
    "# 验证一下计算的结果，在测试集中，‘male’类别的编码值为 0.466667\n",
    "\n",
    "y_positive = 2 # 在训练集中，共有两个样本有正的因变量标签\n",
    "n_positive = 1 # 在训练集中，共有两个样本在变量‘Sex’中有‘male’标签，在两个样本中仅有一个有正的因变量标签\n",
    "prior = train_y.mean() # 训练集因变量先验概率\n",
    "m = 1.0 # 默认值\n",
    "male_encode = (n_positive + prior * m)/(y_positive + m)\n",
    "male_encode # return 0.4666666666666666，与要验证的值吻合"
   ]
  },
  {
   "cell_type": "code",
   "execution_count": 65,
   "metadata": {
    "ExecuteTime": {
     "end_time": "2020-02-29T21:35:13.144389Z",
     "start_time": "2020-02-29T21:35:13.138584Z"
    }
   },
   "outputs": [
    {
     "data": {
      "text/html": [
       "<div>\n",
       "<style scoped>\n",
       "    .dataframe tbody tr th:only-of-type {\n",
       "        vertical-align: middle;\n",
       "    }\n",
       "\n",
       "    .dataframe tbody tr th {\n",
       "        vertical-align: top;\n",
       "    }\n",
       "\n",
       "    .dataframe thead th {\n",
       "        text-align: right;\n",
       "    }\n",
       "</style>\n",
       "<table border=\"1\" class=\"dataframe\">\n",
       "  <thead>\n",
       "    <tr style=\"text-align: right;\">\n",
       "      <th></th>\n",
       "      <th>Sex</th>\n",
       "      <th>Type</th>\n",
       "    </tr>\n",
       "  </thead>\n",
       "  <tbody>\n",
       "    <tr>\n",
       "      <th>0</th>\n",
       "      <td>0.466667</td>\n",
       "      <td>0.466667</td>\n",
       "    </tr>\n",
       "    <tr>\n",
       "      <th>1</th>\n",
       "      <td>0.350000</td>\n",
       "      <td>0.466667</td>\n",
       "    </tr>\n",
       "    <tr>\n",
       "      <th>2</th>\n",
       "      <td>0.466667</td>\n",
       "      <td>0.466667</td>\n",
       "    </tr>\n",
       "    <tr>\n",
       "      <th>3</th>\n",
       "      <td>0.350000</td>\n",
       "      <td>0.466667</td>\n",
       "    </tr>\n",
       "    <tr>\n",
       "      <th>4</th>\n",
       "      <td>0.350000</td>\n",
       "      <td>0.200000</td>\n",
       "    </tr>\n",
       "  </tbody>\n",
       "</table>\n",
       "</div>"
      ],
      "text/plain": [
       "        Sex      Type\n",
       "0  0.466667  0.466667\n",
       "1  0.350000  0.466667\n",
       "2  0.466667  0.466667\n",
       "3  0.350000  0.466667\n",
       "4  0.350000  0.200000"
      ]
     },
     "execution_count": 65,
     "metadata": {},
     "output_type": "execute_result"
    }
   ],
   "source": [
    "encoded_train # 训练集结果"
   ]
  },
  {
   "cell_type": "markdown",
   "metadata": {},
   "source": [
    "### James-Stein Encoder James-Stein 编码"
   ]
  },
  {
   "cell_type": "markdown",
   "metadata": {},
   "source": [
    "James-Stein编码也是一种基于目标编码的编码方法。与M估计量编码一样，James-Stein编码器也尝试通过参数B来平衡先验概率与观测到的条件概率。但与目标编码与M估计量编码不同的是，James-Stein编码器通过方差比而不是样本大小来平衡两个概率。  \n",
    "\n",
    "James-Stein编码可使用独立方法，合并方法等多种方法来估计参数B。有关更多信息，请参阅[category_encoders官方网站](http://contrib.scikit-learn.org/categorical-encoding/jamesstein.html)。  \n",
    "\n",
    "James-Stein编码假定服从正态分布。因此为了满足所需的假设，Category Encoders默认使用对数比来转换二分类问题。"
   ]
  },
  {
   "cell_type": "markdown",
   "metadata": {},
   "source": [
    "独立方法的公式：  \n",
    "$X_k' = (1 - B) * Condition\\_Prob + B * prior $  \n",
    "$B = \\frac{Var(y^{k})}{Var(y^{k}) + Var(y)}$  \n",
    "$Condition\\_Prob =\\frac{n^{+}}{n} $  \n",
    "\n",
    "其中，  \n",
    "$ X_k'$是类别特征X中类别k的编码值；   \n",
    "先验概率：目标变量的先验概率/期望值；  \n",
    "$ n ^ {+} $：在训练集中，在类别特征X上的标签为k且具有因变量正标签的样本数；  \n",
    "$ n $： 在训练集中，在类别特征X上标签为k的样本数；\n",
    "$ Var（y ^ {k}）$：训练集中，在特征X上标签为k的样本因变量方差；\n",
    "$ Var（y）$：总体因变量的方差；\n",
    "$ Var（y ^ {k}）$和$ Var（y）$都应通过样本统计数据进行估算。  \n",
    "从直觉的角度来讲，B起到来平衡先验概率与观测到的条件概率的作用，若条件概率的均值不可靠（y_k具有高方差），则我们应当对先验概率赋予更大的权重。"
   ]
  },
  {
   "cell_type": "code",
   "execution_count": 66,
   "metadata": {
    "ExecuteTime": {
     "end_time": "2020-02-29T21:35:13.151965Z",
     "start_time": "2020-02-29T21:35:13.145919Z"
    }
   },
   "outputs": [],
   "source": [
    "import numpy as np\n",
    "import pandas as pd\n",
    "from category_encoders.james_stein import JamesSteinEncoder\n",
    "# category_encoders 直接支持dataframe\n",
    "\n",
    "# 随机生成一些训练集\n",
    "train_set = pd.DataFrame(np.array([['male',10],['female', 20], ['male',10], \n",
    "                       ['female',20],['female',15]]),\n",
    "             columns = ['Sex','Type'])\n",
    "train_y = np.array([False, True, True, False, False])\n",
    "\n",
    "# 随机生成一些测试集, 并有意让其包含未在训练集出现过的类别与缺失值\n",
    "test_set = pd.DataFrame(np.array([['female',20],['male', 20], ['others',15], \n",
    "                       ['male',20],['female',40], ['male', 25]]),\n",
    "             columns = ['Sex','Type'])\n",
    "test_set.loc[4,'Type'] = np.nan"
   ]
  },
  {
   "cell_type": "code",
   "execution_count": 67,
   "metadata": {
    "ExecuteTime": {
     "end_time": "2020-02-29T21:35:13.159012Z",
     "start_time": "2020-02-29T21:35:13.153378Z"
    }
   },
   "outputs": [
    {
     "data": {
      "text/html": [
       "<div>\n",
       "<style scoped>\n",
       "    .dataframe tbody tr th:only-of-type {\n",
       "        vertical-align: middle;\n",
       "    }\n",
       "\n",
       "    .dataframe tbody tr th {\n",
       "        vertical-align: top;\n",
       "    }\n",
       "\n",
       "    .dataframe thead th {\n",
       "        text-align: right;\n",
       "    }\n",
       "</style>\n",
       "<table border=\"1\" class=\"dataframe\">\n",
       "  <thead>\n",
       "    <tr style=\"text-align: right;\">\n",
       "      <th></th>\n",
       "      <th>Sex</th>\n",
       "      <th>Type</th>\n",
       "    </tr>\n",
       "  </thead>\n",
       "  <tbody>\n",
       "    <tr>\n",
       "      <th>0</th>\n",
       "      <td>male</td>\n",
       "      <td>10</td>\n",
       "    </tr>\n",
       "    <tr>\n",
       "      <th>1</th>\n",
       "      <td>female</td>\n",
       "      <td>20</td>\n",
       "    </tr>\n",
       "    <tr>\n",
       "      <th>2</th>\n",
       "      <td>male</td>\n",
       "      <td>10</td>\n",
       "    </tr>\n",
       "    <tr>\n",
       "      <th>3</th>\n",
       "      <td>female</td>\n",
       "      <td>20</td>\n",
       "    </tr>\n",
       "    <tr>\n",
       "      <th>4</th>\n",
       "      <td>female</td>\n",
       "      <td>15</td>\n",
       "    </tr>\n",
       "  </tbody>\n",
       "</table>\n",
       "</div>"
      ],
      "text/plain": [
       "      Sex Type\n",
       "0    male   10\n",
       "1  female   20\n",
       "2    male   10\n",
       "3  female   20\n",
       "4  female   15"
      ]
     },
     "execution_count": 67,
     "metadata": {},
     "output_type": "execute_result"
    }
   ],
   "source": [
    "train_set # 原始训练集"
   ]
  },
  {
   "cell_type": "code",
   "execution_count": 68,
   "metadata": {
    "ExecuteTime": {
     "end_time": "2020-02-29T21:35:13.171097Z",
     "start_time": "2020-02-29T21:35:13.165183Z"
    }
   },
   "outputs": [
    {
     "data": {
      "text/html": [
       "<div>\n",
       "<style scoped>\n",
       "    .dataframe tbody tr th:only-of-type {\n",
       "        vertical-align: middle;\n",
       "    }\n",
       "\n",
       "    .dataframe tbody tr th {\n",
       "        vertical-align: top;\n",
       "    }\n",
       "\n",
       "    .dataframe thead th {\n",
       "        text-align: right;\n",
       "    }\n",
       "</style>\n",
       "<table border=\"1\" class=\"dataframe\">\n",
       "  <thead>\n",
       "    <tr style=\"text-align: right;\">\n",
       "      <th></th>\n",
       "      <th>Sex</th>\n",
       "      <th>Type</th>\n",
       "    </tr>\n",
       "  </thead>\n",
       "  <tbody>\n",
       "    <tr>\n",
       "      <th>0</th>\n",
       "      <td>female</td>\n",
       "      <td>20</td>\n",
       "    </tr>\n",
       "    <tr>\n",
       "      <th>1</th>\n",
       "      <td>male</td>\n",
       "      <td>20</td>\n",
       "    </tr>\n",
       "    <tr>\n",
       "      <th>2</th>\n",
       "      <td>others</td>\n",
       "      <td>15</td>\n",
       "    </tr>\n",
       "    <tr>\n",
       "      <th>3</th>\n",
       "      <td>male</td>\n",
       "      <td>20</td>\n",
       "    </tr>\n",
       "    <tr>\n",
       "      <th>4</th>\n",
       "      <td>female</td>\n",
       "      <td>NaN</td>\n",
       "    </tr>\n",
       "    <tr>\n",
       "      <th>5</th>\n",
       "      <td>male</td>\n",
       "      <td>25</td>\n",
       "    </tr>\n",
       "  </tbody>\n",
       "</table>\n",
       "</div>"
      ],
      "text/plain": [
       "      Sex Type\n",
       "0  female   20\n",
       "1    male   20\n",
       "2  others   15\n",
       "3    male   20\n",
       "4  female  NaN\n",
       "5    male   25"
      ]
     },
     "execution_count": 68,
     "metadata": {},
     "output_type": "execute_result"
    }
   ],
   "source": [
    "test_set # 原始测试集"
   ]
  },
  {
   "cell_type": "code",
   "execution_count": 69,
   "metadata": {
    "ExecuteTime": {
     "end_time": "2020-02-29T21:35:13.214796Z",
     "start_time": "2020-02-29T21:35:13.173129Z"
    }
   },
   "outputs": [
    {
     "data": {
      "text/html": [
       "<div>\n",
       "<style scoped>\n",
       "    .dataframe tbody tr th:only-of-type {\n",
       "        vertical-align: middle;\n",
       "    }\n",
       "\n",
       "    .dataframe tbody tr th {\n",
       "        vertical-align: top;\n",
       "    }\n",
       "\n",
       "    .dataframe thead th {\n",
       "        text-align: right;\n",
       "    }\n",
       "</style>\n",
       "<table border=\"1\" class=\"dataframe\">\n",
       "  <thead>\n",
       "    <tr style=\"text-align: right;\">\n",
       "      <th></th>\n",
       "      <th>Sex</th>\n",
       "      <th>Type</th>\n",
       "    </tr>\n",
       "  </thead>\n",
       "  <tbody>\n",
       "    <tr>\n",
       "      <th>0</th>\n",
       "      <td>0.333333</td>\n",
       "      <td>0.5</td>\n",
       "    </tr>\n",
       "    <tr>\n",
       "      <th>1</th>\n",
       "      <td>0.500000</td>\n",
       "      <td>0.5</td>\n",
       "    </tr>\n",
       "    <tr>\n",
       "      <th>2</th>\n",
       "      <td>0.400000</td>\n",
       "      <td>0.0</td>\n",
       "    </tr>\n",
       "    <tr>\n",
       "      <th>3</th>\n",
       "      <td>0.500000</td>\n",
       "      <td>0.5</td>\n",
       "    </tr>\n",
       "    <tr>\n",
       "      <th>4</th>\n",
       "      <td>0.333333</td>\n",
       "      <td>0.4</td>\n",
       "    </tr>\n",
       "    <tr>\n",
       "      <th>5</th>\n",
       "      <td>0.500000</td>\n",
       "      <td>0.4</td>\n",
       "    </tr>\n",
       "  </tbody>\n",
       "</table>\n",
       "</div>"
      ],
      "text/plain": [
       "        Sex  Type\n",
       "0  0.333333   0.5\n",
       "1  0.500000   0.5\n",
       "2  0.400000   0.0\n",
       "3  0.500000   0.5\n",
       "4  0.333333   0.4\n",
       "5  0.500000   0.4"
      ]
     },
     "execution_count": 69,
     "metadata": {},
     "output_type": "execute_result"
    }
   ],
   "source": [
    "encoder = JamesSteinEncoder(cols=['Sex','Type'], \n",
    "                           handle_unknown='value', \n",
    "                           model='independent',  \n",
    "                           handle_missing='value').fit(train_set,train_y) # 在训练集上训练\n",
    "encoded_train = encoder.transform(train_set) # 转换训练集\n",
    "encoded_test = encoder.transform(test_set) # 转换测试集\n",
    "\n",
    "# handle_unknown 和 handle_missing 被设定为 'value'\n",
    "# 在目标编码中，handle_unknown 和 handle_missing 仅接受 ‘error’, ‘return_nan’ 及 ‘value’ 设定\n",
    "# 两者的默认值均为 ‘value’, 即对未知类别或缺失值填充训练集的因变量平均值\n",
    "\n",
    "encoded_test # 编码后的变量数与原类别变量数一致\n",
    "\n",
    "# 因为在category_encoders中，其对前文所述的公式做了一些修改，故此处不会进一步验证结果"
   ]
  },
  {
   "cell_type": "code",
   "execution_count": 70,
   "metadata": {
    "ExecuteTime": {
     "end_time": "2020-02-29T21:35:13.222328Z",
     "start_time": "2020-02-29T21:35:13.216373Z"
    }
   },
   "outputs": [
    {
     "data": {
      "text/html": [
       "<div>\n",
       "<style scoped>\n",
       "    .dataframe tbody tr th:only-of-type {\n",
       "        vertical-align: middle;\n",
       "    }\n",
       "\n",
       "    .dataframe tbody tr th {\n",
       "        vertical-align: top;\n",
       "    }\n",
       "\n",
       "    .dataframe thead th {\n",
       "        text-align: right;\n",
       "    }\n",
       "</style>\n",
       "<table border=\"1\" class=\"dataframe\">\n",
       "  <thead>\n",
       "    <tr style=\"text-align: right;\">\n",
       "      <th></th>\n",
       "      <th>Sex</th>\n",
       "      <th>Type</th>\n",
       "    </tr>\n",
       "  </thead>\n",
       "  <tbody>\n",
       "    <tr>\n",
       "      <th>0</th>\n",
       "      <td>0.500000</td>\n",
       "      <td>0.5</td>\n",
       "    </tr>\n",
       "    <tr>\n",
       "      <th>1</th>\n",
       "      <td>0.333333</td>\n",
       "      <td>0.5</td>\n",
       "    </tr>\n",
       "    <tr>\n",
       "      <th>2</th>\n",
       "      <td>0.500000</td>\n",
       "      <td>0.5</td>\n",
       "    </tr>\n",
       "    <tr>\n",
       "      <th>3</th>\n",
       "      <td>0.333333</td>\n",
       "      <td>0.5</td>\n",
       "    </tr>\n",
       "    <tr>\n",
       "      <th>4</th>\n",
       "      <td>0.333333</td>\n",
       "      <td>0.0</td>\n",
       "    </tr>\n",
       "  </tbody>\n",
       "</table>\n",
       "</div>"
      ],
      "text/plain": [
       "        Sex  Type\n",
       "0  0.500000   0.5\n",
       "1  0.333333   0.5\n",
       "2  0.500000   0.5\n",
       "3  0.333333   0.5\n",
       "4  0.333333   0.0"
      ]
     },
     "execution_count": 70,
     "metadata": {},
     "output_type": "execute_result"
    }
   ],
   "source": [
    "encoded_train # 训练集结果"
   ]
  },
  {
   "cell_type": "markdown",
   "metadata": {},
   "source": [
    "### Weight of Evidence Encoder 证据权重编码"
   ]
  },
  {
   "cell_type": "markdown",
   "metadata": {},
   "source": [
    "与上述方法类似，证据权重编码器也是根据类别变量与因变量的关系对分类变量进行编码。"
   ]
  },
  {
   "cell_type": "markdown",
   "metadata": {},
   "source": [
    "公式：  \n",
    "$WoE = X_k' = ln(\\frac{distribution\\_of\\_positive}{distribution\\_of\\_negative})$  \n",
    "$distribution\\_of\\_positive = \\frac{n^{+}}{y^{+}}$  \n",
    "$distribution\\_of\\_positive = \\frac{n^{-}}{y^{-}}$   \n",
    "\n",
    "以上是WoE的原始定义，但在category_encoders中，它还增加了正则项以应对过拟合。带正则项的$distribution\\_of\\_positive$, $distribution\\_of\\_negative$ 如下所示：  \n",
    "\n",
    "$distribution\\_of\\_positive = \\frac{n^{+} + regularization }{y^{+} + 2 * regularization }$  \n",
    "$distribution\\_of\\_positive = \\frac{n^{-} + regularization }{y^{-} + 2 * regularization }$ "
   ]
  },
  {
   "cell_type": "code",
   "execution_count": 71,
   "metadata": {
    "ExecuteTime": {
     "end_time": "2020-02-29T21:35:13.229016Z",
     "start_time": "2020-02-29T21:35:13.223550Z"
    }
   },
   "outputs": [],
   "source": [
    "import numpy as np\n",
    "import pandas as pd\n",
    "from category_encoders.woe import WOEEncoder\n",
    "# category_encoders 直接支持dataframe\n",
    "\n",
    "# 随机生成一些训练集\n",
    "train_set = pd.DataFrame(np.array([['male',10],['female', 20], ['male',10], \n",
    "                       ['female',20],['female',15]]),\n",
    "             columns = ['Sex','Type'])\n",
    "train_y = np.array([False, True, True, False, False])\n",
    "\n",
    "# 随机生成一些测试集, 并有意让其包含未在训练集出现过的类别与缺失值\n",
    "test_set = pd.DataFrame(np.array([['female',20],['male', 20], ['others',15], \n",
    "                       ['male',20],['female',40], ['male', 25]]),\n",
    "             columns = ['Sex','Type'])\n",
    "test_set.loc[4,'Type'] = np.nan"
   ]
  },
  {
   "cell_type": "code",
   "execution_count": 72,
   "metadata": {
    "ExecuteTime": {
     "end_time": "2020-02-29T21:35:13.236125Z",
     "start_time": "2020-02-29T21:35:13.230658Z"
    }
   },
   "outputs": [
    {
     "data": {
      "text/html": [
       "<div>\n",
       "<style scoped>\n",
       "    .dataframe tbody tr th:only-of-type {\n",
       "        vertical-align: middle;\n",
       "    }\n",
       "\n",
       "    .dataframe tbody tr th {\n",
       "        vertical-align: top;\n",
       "    }\n",
       "\n",
       "    .dataframe thead th {\n",
       "        text-align: right;\n",
       "    }\n",
       "</style>\n",
       "<table border=\"1\" class=\"dataframe\">\n",
       "  <thead>\n",
       "    <tr style=\"text-align: right;\">\n",
       "      <th></th>\n",
       "      <th>Sex</th>\n",
       "      <th>Type</th>\n",
       "    </tr>\n",
       "  </thead>\n",
       "  <tbody>\n",
       "    <tr>\n",
       "      <th>0</th>\n",
       "      <td>male</td>\n",
       "      <td>10</td>\n",
       "    </tr>\n",
       "    <tr>\n",
       "      <th>1</th>\n",
       "      <td>female</td>\n",
       "      <td>20</td>\n",
       "    </tr>\n",
       "    <tr>\n",
       "      <th>2</th>\n",
       "      <td>male</td>\n",
       "      <td>10</td>\n",
       "    </tr>\n",
       "    <tr>\n",
       "      <th>3</th>\n",
       "      <td>female</td>\n",
       "      <td>20</td>\n",
       "    </tr>\n",
       "    <tr>\n",
       "      <th>4</th>\n",
       "      <td>female</td>\n",
       "      <td>15</td>\n",
       "    </tr>\n",
       "  </tbody>\n",
       "</table>\n",
       "</div>"
      ],
      "text/plain": [
       "      Sex Type\n",
       "0    male   10\n",
       "1  female   20\n",
       "2    male   10\n",
       "3  female   20\n",
       "4  female   15"
      ]
     },
     "execution_count": 72,
     "metadata": {},
     "output_type": "execute_result"
    }
   ],
   "source": [
    "train_set # 原始训练集"
   ]
  },
  {
   "cell_type": "code",
   "execution_count": 73,
   "metadata": {
    "ExecuteTime": {
     "end_time": "2020-02-29T21:35:13.243045Z",
     "start_time": "2020-02-29T21:35:13.237455Z"
    }
   },
   "outputs": [
    {
     "data": {
      "text/html": [
       "<div>\n",
       "<style scoped>\n",
       "    .dataframe tbody tr th:only-of-type {\n",
       "        vertical-align: middle;\n",
       "    }\n",
       "\n",
       "    .dataframe tbody tr th {\n",
       "        vertical-align: top;\n",
       "    }\n",
       "\n",
       "    .dataframe thead th {\n",
       "        text-align: right;\n",
       "    }\n",
       "</style>\n",
       "<table border=\"1\" class=\"dataframe\">\n",
       "  <thead>\n",
       "    <tr style=\"text-align: right;\">\n",
       "      <th></th>\n",
       "      <th>Sex</th>\n",
       "      <th>Type</th>\n",
       "    </tr>\n",
       "  </thead>\n",
       "  <tbody>\n",
       "    <tr>\n",
       "      <th>0</th>\n",
       "      <td>female</td>\n",
       "      <td>20</td>\n",
       "    </tr>\n",
       "    <tr>\n",
       "      <th>1</th>\n",
       "      <td>male</td>\n",
       "      <td>20</td>\n",
       "    </tr>\n",
       "    <tr>\n",
       "      <th>2</th>\n",
       "      <td>others</td>\n",
       "      <td>15</td>\n",
       "    </tr>\n",
       "    <tr>\n",
       "      <th>3</th>\n",
       "      <td>male</td>\n",
       "      <td>20</td>\n",
       "    </tr>\n",
       "    <tr>\n",
       "      <th>4</th>\n",
       "      <td>female</td>\n",
       "      <td>NaN</td>\n",
       "    </tr>\n",
       "    <tr>\n",
       "      <th>5</th>\n",
       "      <td>male</td>\n",
       "      <td>25</td>\n",
       "    </tr>\n",
       "  </tbody>\n",
       "</table>\n",
       "</div>"
      ],
      "text/plain": [
       "      Sex Type\n",
       "0  female   20\n",
       "1    male   20\n",
       "2  others   15\n",
       "3    male   20\n",
       "4  female  NaN\n",
       "5    male   25"
      ]
     },
     "execution_count": 73,
     "metadata": {},
     "output_type": "execute_result"
    }
   ],
   "source": [
    "test_set # 原始测试集"
   ]
  },
  {
   "cell_type": "code",
   "execution_count": 74,
   "metadata": {
    "ExecuteTime": {
     "end_time": "2020-02-29T21:35:13.284147Z",
     "start_time": "2020-02-29T21:35:13.244501Z"
    }
   },
   "outputs": [
    {
     "data": {
      "text/html": [
       "<div>\n",
       "<style scoped>\n",
       "    .dataframe tbody tr th:only-of-type {\n",
       "        vertical-align: middle;\n",
       "    }\n",
       "\n",
       "    .dataframe tbody tr th {\n",
       "        vertical-align: top;\n",
       "    }\n",
       "\n",
       "    .dataframe thead th {\n",
       "        text-align: right;\n",
       "    }\n",
       "</style>\n",
       "<table border=\"1\" class=\"dataframe\">\n",
       "  <thead>\n",
       "    <tr style=\"text-align: right;\">\n",
       "      <th></th>\n",
       "      <th>Sex</th>\n",
       "      <th>Type</th>\n",
       "    </tr>\n",
       "  </thead>\n",
       "  <tbody>\n",
       "    <tr>\n",
       "      <th>0</th>\n",
       "      <td>-0.182322</td>\n",
       "      <td>0.223144</td>\n",
       "    </tr>\n",
       "    <tr>\n",
       "      <th>1</th>\n",
       "      <td>0.223144</td>\n",
       "      <td>0.223144</td>\n",
       "    </tr>\n",
       "    <tr>\n",
       "      <th>2</th>\n",
       "      <td>0.000000</td>\n",
       "      <td>0.000000</td>\n",
       "    </tr>\n",
       "    <tr>\n",
       "      <th>3</th>\n",
       "      <td>0.223144</td>\n",
       "      <td>0.223144</td>\n",
       "    </tr>\n",
       "    <tr>\n",
       "      <th>4</th>\n",
       "      <td>-0.182322</td>\n",
       "      <td>0.000000</td>\n",
       "    </tr>\n",
       "    <tr>\n",
       "      <th>5</th>\n",
       "      <td>0.223144</td>\n",
       "      <td>0.000000</td>\n",
       "    </tr>\n",
       "  </tbody>\n",
       "</table>\n",
       "</div>"
      ],
      "text/plain": [
       "        Sex      Type\n",
       "0 -0.182322  0.223144\n",
       "1  0.223144  0.223144\n",
       "2  0.000000  0.000000\n",
       "3  0.223144  0.223144\n",
       "4 -0.182322  0.000000\n",
       "5  0.223144  0.000000"
      ]
     },
     "execution_count": 74,
     "metadata": {},
     "output_type": "execute_result"
    }
   ],
   "source": [
    "encoder = WOEEncoder(cols=['Sex','Type'], \n",
    "                     handle_unknown='value',  \n",
    "                     handle_missing='value').fit(train_set,train_y)  # 在训练集上训练\n",
    "encoded_train = encoder.transform(train_set) # 转换训练集\n",
    "encoded_test = encoder.transform(test_set) # 转换测试集\n",
    "\n",
    "# handle_unknown 和 handle_missing 被设定为 'value'\n",
    "# 在目标编码中，handle_unknown 和 handle_missing 仅接受 ‘error’, ‘return_nan’ 及 ‘value’ 设定\n",
    "# 两者的默认值均为 ‘value’, 即对未知类别或缺失值填充训练集的因变量平均值\n",
    "\n",
    "encoded_test # 编码后的变量数与原类别变量数一致"
   ]
  },
  {
   "cell_type": "code",
   "execution_count": 75,
   "metadata": {
    "ExecuteTime": {
     "end_time": "2020-02-29T21:35:13.290454Z",
     "start_time": "2020-02-29T21:35:13.285778Z"
    }
   },
   "outputs": [
    {
     "data": {
      "text/plain": [
       "0.22314355131420976"
      ]
     },
     "execution_count": 75,
     "metadata": {},
     "output_type": "execute_result"
    }
   ],
   "source": [
    "# 验证一下计算的结果，在测试集中，‘male’类别的编码值为 0.223144\n",
    "\n",
    "y = 5 # 训练集中一共有5个样本\n",
    "y_positive = 2 # 训练集中2个样本有正标签\n",
    "\n",
    "n = 2 # 训练集中有2个样本在Sex变量上有‘male’ 标签\n",
    "n_positive = 1 # 这两个样本中仅有一个有正标签\n",
    "\n",
    "regularization = 1.0 # 默认值\n",
    "\n",
    "dis_postive = (n_positive + regularization) / (y_positive + 2 * regularization)\n",
    "dis_negative = (n - n_positive + regularization) / (y - y_positive + 2 * regularization)\n",
    "male_encode = np.log(dis_postive / dis_negative)\n",
    "male_encode # return 0.22314355131420976，与要验证的值吻合"
   ]
  },
  {
   "cell_type": "code",
   "execution_count": 76,
   "metadata": {
    "ExecuteTime": {
     "end_time": "2020-02-29T21:35:13.297664Z",
     "start_time": "2020-02-29T21:35:13.291902Z"
    }
   },
   "outputs": [
    {
     "data": {
      "text/html": [
       "<div>\n",
       "<style scoped>\n",
       "    .dataframe tbody tr th:only-of-type {\n",
       "        vertical-align: middle;\n",
       "    }\n",
       "\n",
       "    .dataframe tbody tr th {\n",
       "        vertical-align: top;\n",
       "    }\n",
       "\n",
       "    .dataframe thead th {\n",
       "        text-align: right;\n",
       "    }\n",
       "</style>\n",
       "<table border=\"1\" class=\"dataframe\">\n",
       "  <thead>\n",
       "    <tr style=\"text-align: right;\">\n",
       "      <th></th>\n",
       "      <th>Sex</th>\n",
       "      <th>Type</th>\n",
       "    </tr>\n",
       "  </thead>\n",
       "  <tbody>\n",
       "    <tr>\n",
       "      <th>0</th>\n",
       "      <td>0.223144</td>\n",
       "      <td>0.223144</td>\n",
       "    </tr>\n",
       "    <tr>\n",
       "      <th>1</th>\n",
       "      <td>-0.182322</td>\n",
       "      <td>0.223144</td>\n",
       "    </tr>\n",
       "    <tr>\n",
       "      <th>2</th>\n",
       "      <td>0.223144</td>\n",
       "      <td>0.223144</td>\n",
       "    </tr>\n",
       "    <tr>\n",
       "      <th>3</th>\n",
       "      <td>-0.182322</td>\n",
       "      <td>0.223144</td>\n",
       "    </tr>\n",
       "    <tr>\n",
       "      <th>4</th>\n",
       "      <td>-0.182322</td>\n",
       "      <td>0.000000</td>\n",
       "    </tr>\n",
       "  </tbody>\n",
       "</table>\n",
       "</div>"
      ],
      "text/plain": [
       "        Sex      Type\n",
       "0  0.223144  0.223144\n",
       "1 -0.182322  0.223144\n",
       "2  0.223144  0.223144\n",
       "3 -0.182322  0.223144\n",
       "4 -0.182322  0.000000"
      ]
     },
     "execution_count": 76,
     "metadata": {},
     "output_type": "execute_result"
    }
   ],
   "source": [
    "encoded_train # 训练集结果"
   ]
  },
  {
   "cell_type": "markdown",
   "metadata": {},
   "source": [
    "### Leave One Out Encoder 留一法编码"
   ]
  },
  {
   "cell_type": "markdown",
   "metadata": {},
   "source": [
    "留一法编码器通过组因变量均值对每个组进行编码。此处组指的是类别变量中的不同类别。留一法同时考虑了过拟合问题，训练集中的每一个样本的编码值是除去该样本后的组因变量均值。因此，在训练集中，其可以将处于相同组的每个样本编码为不同的值。  \n",
    "\n",
    "留一法以不同的方式对测试集进行编码。测试集中的每个样本均由训练集中的组均值编码，计算过程中没有考虑去除该样本。"
   ]
  },
  {
   "cell_type": "markdown",
   "metadata": {},
   "source": [
    "公式：  \n",
    "在训练集中: $X_i^k = \\frac{\\sum_{j\\neq i} (y_j * (x_j == k))}{\\sum_{j\\neq i} ( x_j == k)}$  \n",
    "在测试集中: $X_i^k = \\frac{\\sum_{j} (y_j * (x_j == k))}{\\sum_{j} ( x_j == k)}$  \n",
    "\n",
    "此处，若样本j拥有k标签，则($x_j == k$)返回1，否则返回0  \n",
    "$X_i^k$ 为样本i的标签为k情形下的编码值"
   ]
  },
  {
   "cell_type": "code",
   "execution_count": 77,
   "metadata": {
    "ExecuteTime": {
     "end_time": "2020-02-29T21:35:13.304767Z",
     "start_time": "2020-02-29T21:35:13.299017Z"
    }
   },
   "outputs": [],
   "source": [
    "import numpy as np\n",
    "import pandas as pd\n",
    "from category_encoders.leave_one_out import LeaveOneOutEncoder\n",
    "# category_encoders 直接支持dataframe\n",
    "\n",
    "# 随机生成一些训练集\n",
    "train_set = pd.DataFrame(np.array([['male',10],['female', 20], ['male',10], \n",
    "                       ['female',20],['female',15]]),\n",
    "             columns = ['Sex','Type'])\n",
    "train_y = np.array([False, True, True, False, False])\n",
    "\n",
    "# 随机生成一些测试集, 并有意让其包含未在训练集出现过的类别与缺失值\n",
    "test_set = pd.DataFrame(np.array([['female',20],['male', 20], ['others',15], \n",
    "                       ['male',20],['female',40], ['male', 25]]),\n",
    "             columns = ['Sex','Type'])\n",
    "test_set.loc[4,'Type'] = np.nan"
   ]
  },
  {
   "cell_type": "code",
   "execution_count": 78,
   "metadata": {
    "ExecuteTime": {
     "end_time": "2020-02-29T21:35:13.311624Z",
     "start_time": "2020-02-29T21:35:13.306047Z"
    }
   },
   "outputs": [
    {
     "data": {
      "text/html": [
       "<div>\n",
       "<style scoped>\n",
       "    .dataframe tbody tr th:only-of-type {\n",
       "        vertical-align: middle;\n",
       "    }\n",
       "\n",
       "    .dataframe tbody tr th {\n",
       "        vertical-align: top;\n",
       "    }\n",
       "\n",
       "    .dataframe thead th {\n",
       "        text-align: right;\n",
       "    }\n",
       "</style>\n",
       "<table border=\"1\" class=\"dataframe\">\n",
       "  <thead>\n",
       "    <tr style=\"text-align: right;\">\n",
       "      <th></th>\n",
       "      <th>Sex</th>\n",
       "      <th>Type</th>\n",
       "    </tr>\n",
       "  </thead>\n",
       "  <tbody>\n",
       "    <tr>\n",
       "      <th>0</th>\n",
       "      <td>male</td>\n",
       "      <td>10</td>\n",
       "    </tr>\n",
       "    <tr>\n",
       "      <th>1</th>\n",
       "      <td>female</td>\n",
       "      <td>20</td>\n",
       "    </tr>\n",
       "    <tr>\n",
       "      <th>2</th>\n",
       "      <td>male</td>\n",
       "      <td>10</td>\n",
       "    </tr>\n",
       "    <tr>\n",
       "      <th>3</th>\n",
       "      <td>female</td>\n",
       "      <td>20</td>\n",
       "    </tr>\n",
       "    <tr>\n",
       "      <th>4</th>\n",
       "      <td>female</td>\n",
       "      <td>15</td>\n",
       "    </tr>\n",
       "  </tbody>\n",
       "</table>\n",
       "</div>"
      ],
      "text/plain": [
       "      Sex Type\n",
       "0    male   10\n",
       "1  female   20\n",
       "2    male   10\n",
       "3  female   20\n",
       "4  female   15"
      ]
     },
     "execution_count": 78,
     "metadata": {},
     "output_type": "execute_result"
    }
   ],
   "source": [
    "train_set # 原始训练集"
   ]
  },
  {
   "cell_type": "code",
   "execution_count": 79,
   "metadata": {
    "ExecuteTime": {
     "end_time": "2020-02-29T21:35:13.319318Z",
     "start_time": "2020-02-29T21:35:13.313222Z"
    }
   },
   "outputs": [
    {
     "data": {
      "text/html": [
       "<div>\n",
       "<style scoped>\n",
       "    .dataframe tbody tr th:only-of-type {\n",
       "        vertical-align: middle;\n",
       "    }\n",
       "\n",
       "    .dataframe tbody tr th {\n",
       "        vertical-align: top;\n",
       "    }\n",
       "\n",
       "    .dataframe thead th {\n",
       "        text-align: right;\n",
       "    }\n",
       "</style>\n",
       "<table border=\"1\" class=\"dataframe\">\n",
       "  <thead>\n",
       "    <tr style=\"text-align: right;\">\n",
       "      <th></th>\n",
       "      <th>Sex</th>\n",
       "      <th>Type</th>\n",
       "    </tr>\n",
       "  </thead>\n",
       "  <tbody>\n",
       "    <tr>\n",
       "      <th>0</th>\n",
       "      <td>female</td>\n",
       "      <td>20</td>\n",
       "    </tr>\n",
       "    <tr>\n",
       "      <th>1</th>\n",
       "      <td>male</td>\n",
       "      <td>20</td>\n",
       "    </tr>\n",
       "    <tr>\n",
       "      <th>2</th>\n",
       "      <td>others</td>\n",
       "      <td>15</td>\n",
       "    </tr>\n",
       "    <tr>\n",
       "      <th>3</th>\n",
       "      <td>male</td>\n",
       "      <td>20</td>\n",
       "    </tr>\n",
       "    <tr>\n",
       "      <th>4</th>\n",
       "      <td>female</td>\n",
       "      <td>NaN</td>\n",
       "    </tr>\n",
       "    <tr>\n",
       "      <th>5</th>\n",
       "      <td>male</td>\n",
       "      <td>25</td>\n",
       "    </tr>\n",
       "  </tbody>\n",
       "</table>\n",
       "</div>"
      ],
      "text/plain": [
       "      Sex Type\n",
       "0  female   20\n",
       "1    male   20\n",
       "2  others   15\n",
       "3    male   20\n",
       "4  female  NaN\n",
       "5    male   25"
      ]
     },
     "execution_count": 79,
     "metadata": {},
     "output_type": "execute_result"
    }
   ],
   "source": [
    "test_set # 原始测试集"
   ]
  },
  {
   "cell_type": "code",
   "execution_count": 80,
   "metadata": {
    "ExecuteTime": {
     "end_time": "2020-02-29T21:35:13.364673Z",
     "start_time": "2020-02-29T21:35:13.320755Z"
    }
   },
   "outputs": [
    {
     "data": {
      "text/html": [
       "<div>\n",
       "<style scoped>\n",
       "    .dataframe tbody tr th:only-of-type {\n",
       "        vertical-align: middle;\n",
       "    }\n",
       "\n",
       "    .dataframe tbody tr th {\n",
       "        vertical-align: top;\n",
       "    }\n",
       "\n",
       "    .dataframe thead th {\n",
       "        text-align: right;\n",
       "    }\n",
       "</style>\n",
       "<table border=\"1\" class=\"dataframe\">\n",
       "  <thead>\n",
       "    <tr style=\"text-align: right;\">\n",
       "      <th></th>\n",
       "      <th>Sex</th>\n",
       "      <th>Type</th>\n",
       "    </tr>\n",
       "  </thead>\n",
       "  <tbody>\n",
       "    <tr>\n",
       "      <th>0</th>\n",
       "      <td>0.333333</td>\n",
       "      <td>0.5</td>\n",
       "    </tr>\n",
       "    <tr>\n",
       "      <th>1</th>\n",
       "      <td>0.500000</td>\n",
       "      <td>0.5</td>\n",
       "    </tr>\n",
       "    <tr>\n",
       "      <th>2</th>\n",
       "      <td>0.400000</td>\n",
       "      <td>0.4</td>\n",
       "    </tr>\n",
       "    <tr>\n",
       "      <th>3</th>\n",
       "      <td>0.500000</td>\n",
       "      <td>0.5</td>\n",
       "    </tr>\n",
       "    <tr>\n",
       "      <th>4</th>\n",
       "      <td>0.333333</td>\n",
       "      <td>0.4</td>\n",
       "    </tr>\n",
       "    <tr>\n",
       "      <th>5</th>\n",
       "      <td>0.500000</td>\n",
       "      <td>0.4</td>\n",
       "    </tr>\n",
       "  </tbody>\n",
       "</table>\n",
       "</div>"
      ],
      "text/plain": [
       "        Sex  Type\n",
       "0  0.333333   0.5\n",
       "1  0.500000   0.5\n",
       "2  0.400000   0.4\n",
       "3  0.500000   0.5\n",
       "4  0.333333   0.4\n",
       "5  0.500000   0.4"
      ]
     },
     "execution_count": 80,
     "metadata": {},
     "output_type": "execute_result"
    }
   ],
   "source": [
    "encoder = LeaveOneOutEncoder(cols=['Sex','Type'], \n",
    "                             handle_unknown='value',  \n",
    "                             handle_missing='value').fit(train_set,train_y)  # 在训练集上训练\n",
    "encoded_train = encoder.transform(train_set) # 转换训练集\n",
    "encoded_test = encoder.transform(test_set) # 转换测试集\n",
    "\n",
    "# handle_unknown 和 handle_missing 被设定为 'value'\n",
    "# 在目标编码中，handle_unknown 和 handle_missing 仅接受 ‘error’, ‘return_nan’ 及 ‘value’ 设定\n",
    "# 两者的默认值均为 ‘value’, 即对未知类别或缺失值填充训练集的因变量平均值\n",
    "\n",
    "encoded_test # 编码后的变量数与原类别变量数一致\n",
    "# 结果可见，所有类别值都被编码为训练集中的类别因变量均值"
   ]
  },
  {
   "cell_type": "code",
   "execution_count": 81,
   "metadata": {
    "ExecuteTime": {
     "end_time": "2020-02-29T21:35:13.402080Z",
     "start_time": "2020-02-29T21:35:13.365965Z"
    }
   },
   "outputs": [
    {
     "data": {
      "text/html": [
       "<div>\n",
       "<style scoped>\n",
       "    .dataframe tbody tr th:only-of-type {\n",
       "        vertical-align: middle;\n",
       "    }\n",
       "\n",
       "    .dataframe tbody tr th {\n",
       "        vertical-align: top;\n",
       "    }\n",
       "\n",
       "    .dataframe thead th {\n",
       "        text-align: right;\n",
       "    }\n",
       "</style>\n",
       "<table border=\"1\" class=\"dataframe\">\n",
       "  <thead>\n",
       "    <tr style=\"text-align: right;\">\n",
       "      <th></th>\n",
       "      <th>Sex</th>\n",
       "      <th>Type</th>\n",
       "    </tr>\n",
       "  </thead>\n",
       "  <tbody>\n",
       "    <tr>\n",
       "      <th>0</th>\n",
       "      <td>1.0</td>\n",
       "      <td>1.0</td>\n",
       "    </tr>\n",
       "    <tr>\n",
       "      <th>1</th>\n",
       "      <td>0.0</td>\n",
       "      <td>0.0</td>\n",
       "    </tr>\n",
       "    <tr>\n",
       "      <th>2</th>\n",
       "      <td>0.0</td>\n",
       "      <td>0.0</td>\n",
       "    </tr>\n",
       "    <tr>\n",
       "      <th>3</th>\n",
       "      <td>0.5</td>\n",
       "      <td>1.0</td>\n",
       "    </tr>\n",
       "    <tr>\n",
       "      <th>4</th>\n",
       "      <td>0.5</td>\n",
       "      <td>0.4</td>\n",
       "    </tr>\n",
       "  </tbody>\n",
       "</table>\n",
       "</div>"
      ],
      "text/plain": [
       "   Sex  Type\n",
       "0  1.0   1.0\n",
       "1  0.0   0.0\n",
       "2  0.0   0.0\n",
       "3  0.5   1.0\n",
       "4  0.5   0.4"
      ]
     },
     "execution_count": 81,
     "metadata": {},
     "output_type": "execute_result"
    }
   ],
   "source": [
    "# 训练集结果\n",
    "LeaveOneOutEncoder(cols=['Sex','Type'],\n",
    "                   handle_unknown='value',  \n",
    "                   handle_missing='value').fit_transform(train_set,train_y)\n",
    "\n",
    "# 进行小验算：\n",
    "# 对第一个样本而言，其在Sex变量上的标签为‘male’\n",
    "# 除去该样本后，‘male’标签样本的因变量平均值为1.0 （仅剩样本3有‘male’标签，且其有正的因变量标签）\n",
    "# 同理，对第三个同样有‘male’标签的样本，除去它后标签样本的因变量平均值变为了0.0"
   ]
  },
  {
   "cell_type": "markdown",
   "metadata": {},
   "source": [
    "### Catboost Encoder Catboost 编码"
   ]
  },
  {
   "cell_type": "markdown",
   "metadata": {},
   "source": [
    "CatBoost是一个基于树的梯度提升模型。其在包含大量类别特征的数据集问题中具有出色的效果。该模型针对分类特征提出了一种基于“留一法编码器”的新编码系统。在使用Catboost编码器之前，必须先对训练数据随机排列，因为在Catboost中，编码是基于“时间”的概念，即数据集中观测值的顺序。"
   ]
  },
  {
   "cell_type": "markdown",
   "metadata": {},
   "source": [
    "公式：  \n",
    "训练集: $\\frac{\\sum_{j < i} (y_j * (x_j == k)) + a * Prior}{\\sum_{j<i} (x_j == k) + a}$  \n",
    "测试集: $X_i^k = \\frac{\\sum_{j} (y_j * (x_j == k)) + a * Prior}{\\sum_{j} ( x_j == k) + a}$  \n",
    "\n",
    "其中，若样本j拥有k标签，则($x_j == k$)返回1，否则返回0  \n",
    "$X_i^k$ 为样本i的标签为k情形下的编码值  \n",
    "Prior 为因变量的先验概率/期望值  \n",
    "a为正则化系数"
   ]
  },
  {
   "cell_type": "code",
   "execution_count": 82,
   "metadata": {
    "ExecuteTime": {
     "end_time": "2020-02-29T21:35:13.409020Z",
     "start_time": "2020-02-29T21:35:13.403513Z"
    }
   },
   "outputs": [],
   "source": [
    "import numpy as np\n",
    "import pandas as pd\n",
    "from category_encoders.cat_boost import CatBoostEncoder\n",
    "# category_encoders 直接支持dataframe\n",
    "\n",
    "# 随机生成一些训练集\n",
    "train_set = pd.DataFrame(np.array([['male',10],['female', 20], ['male',10], \n",
    "                       ['female',20],['female',15]]),\n",
    "             columns = ['Sex','Type'])\n",
    "train_y = np.array([False, True, True, False, False])\n",
    "\n",
    "# 随机生成一些测试集, 并有意让其包含未在训练集出现过的类别与缺失值\n",
    "test_set = pd.DataFrame(np.array([['female',20],['male', 20], ['others',15], \n",
    "                       ['male',20],['female',40], ['male', 25]]),\n",
    "             columns = ['Sex','Type'])\n",
    "test_set.loc[4,'Type'] = np.nan"
   ]
  },
  {
   "cell_type": "code",
   "execution_count": 83,
   "metadata": {
    "ExecuteTime": {
     "end_time": "2020-02-29T21:35:13.416137Z",
     "start_time": "2020-02-29T21:35:13.410456Z"
    }
   },
   "outputs": [
    {
     "data": {
      "text/html": [
       "<div>\n",
       "<style scoped>\n",
       "    .dataframe tbody tr th:only-of-type {\n",
       "        vertical-align: middle;\n",
       "    }\n",
       "\n",
       "    .dataframe tbody tr th {\n",
       "        vertical-align: top;\n",
       "    }\n",
       "\n",
       "    .dataframe thead th {\n",
       "        text-align: right;\n",
       "    }\n",
       "</style>\n",
       "<table border=\"1\" class=\"dataframe\">\n",
       "  <thead>\n",
       "    <tr style=\"text-align: right;\">\n",
       "      <th></th>\n",
       "      <th>Sex</th>\n",
       "      <th>Type</th>\n",
       "    </tr>\n",
       "  </thead>\n",
       "  <tbody>\n",
       "    <tr>\n",
       "      <th>0</th>\n",
       "      <td>male</td>\n",
       "      <td>10</td>\n",
       "    </tr>\n",
       "    <tr>\n",
       "      <th>1</th>\n",
       "      <td>female</td>\n",
       "      <td>20</td>\n",
       "    </tr>\n",
       "    <tr>\n",
       "      <th>2</th>\n",
       "      <td>male</td>\n",
       "      <td>10</td>\n",
       "    </tr>\n",
       "    <tr>\n",
       "      <th>3</th>\n",
       "      <td>female</td>\n",
       "      <td>20</td>\n",
       "    </tr>\n",
       "    <tr>\n",
       "      <th>4</th>\n",
       "      <td>female</td>\n",
       "      <td>15</td>\n",
       "    </tr>\n",
       "  </tbody>\n",
       "</table>\n",
       "</div>"
      ],
      "text/plain": [
       "      Sex Type\n",
       "0    male   10\n",
       "1  female   20\n",
       "2    male   10\n",
       "3  female   20\n",
       "4  female   15"
      ]
     },
     "execution_count": 83,
     "metadata": {},
     "output_type": "execute_result"
    }
   ],
   "source": [
    "train_set # 原始训练集"
   ]
  },
  {
   "cell_type": "code",
   "execution_count": 84,
   "metadata": {
    "ExecuteTime": {
     "end_time": "2020-02-29T21:35:13.423085Z",
     "start_time": "2020-02-29T21:35:13.417502Z"
    }
   },
   "outputs": [
    {
     "data": {
      "text/html": [
       "<div>\n",
       "<style scoped>\n",
       "    .dataframe tbody tr th:only-of-type {\n",
       "        vertical-align: middle;\n",
       "    }\n",
       "\n",
       "    .dataframe tbody tr th {\n",
       "        vertical-align: top;\n",
       "    }\n",
       "\n",
       "    .dataframe thead th {\n",
       "        text-align: right;\n",
       "    }\n",
       "</style>\n",
       "<table border=\"1\" class=\"dataframe\">\n",
       "  <thead>\n",
       "    <tr style=\"text-align: right;\">\n",
       "      <th></th>\n",
       "      <th>Sex</th>\n",
       "      <th>Type</th>\n",
       "    </tr>\n",
       "  </thead>\n",
       "  <tbody>\n",
       "    <tr>\n",
       "      <th>0</th>\n",
       "      <td>female</td>\n",
       "      <td>20</td>\n",
       "    </tr>\n",
       "    <tr>\n",
       "      <th>1</th>\n",
       "      <td>male</td>\n",
       "      <td>20</td>\n",
       "    </tr>\n",
       "    <tr>\n",
       "      <th>2</th>\n",
       "      <td>others</td>\n",
       "      <td>15</td>\n",
       "    </tr>\n",
       "    <tr>\n",
       "      <th>3</th>\n",
       "      <td>male</td>\n",
       "      <td>20</td>\n",
       "    </tr>\n",
       "    <tr>\n",
       "      <th>4</th>\n",
       "      <td>female</td>\n",
       "      <td>NaN</td>\n",
       "    </tr>\n",
       "    <tr>\n",
       "      <th>5</th>\n",
       "      <td>male</td>\n",
       "      <td>25</td>\n",
       "    </tr>\n",
       "  </tbody>\n",
       "</table>\n",
       "</div>"
      ],
      "text/plain": [
       "      Sex Type\n",
       "0  female   20\n",
       "1    male   20\n",
       "2  others   15\n",
       "3    male   20\n",
       "4  female  NaN\n",
       "5    male   25"
      ]
     },
     "execution_count": 84,
     "metadata": {},
     "output_type": "execute_result"
    }
   ],
   "source": [
    "test_set # 原始测试集"
   ]
  },
  {
   "cell_type": "code",
   "execution_count": 85,
   "metadata": {
    "ExecuteTime": {
     "end_time": "2020-02-29T21:35:13.473455Z",
     "start_time": "2020-02-29T21:35:13.424437Z"
    }
   },
   "outputs": [
    {
     "data": {
      "text/html": [
       "<div>\n",
       "<style scoped>\n",
       "    .dataframe tbody tr th:only-of-type {\n",
       "        vertical-align: middle;\n",
       "    }\n",
       "\n",
       "    .dataframe tbody tr th {\n",
       "        vertical-align: top;\n",
       "    }\n",
       "\n",
       "    .dataframe thead th {\n",
       "        text-align: right;\n",
       "    }\n",
       "</style>\n",
       "<table border=\"1\" class=\"dataframe\">\n",
       "  <thead>\n",
       "    <tr style=\"text-align: right;\">\n",
       "      <th></th>\n",
       "      <th>Sex</th>\n",
       "      <th>Type</th>\n",
       "    </tr>\n",
       "  </thead>\n",
       "  <tbody>\n",
       "    <tr>\n",
       "      <th>0</th>\n",
       "      <td>0.350000</td>\n",
       "      <td>0.466667</td>\n",
       "    </tr>\n",
       "    <tr>\n",
       "      <th>1</th>\n",
       "      <td>0.466667</td>\n",
       "      <td>0.466667</td>\n",
       "    </tr>\n",
       "    <tr>\n",
       "      <th>2</th>\n",
       "      <td>0.400000</td>\n",
       "      <td>0.400000</td>\n",
       "    </tr>\n",
       "    <tr>\n",
       "      <th>3</th>\n",
       "      <td>0.466667</td>\n",
       "      <td>0.466667</td>\n",
       "    </tr>\n",
       "    <tr>\n",
       "      <th>4</th>\n",
       "      <td>0.350000</td>\n",
       "      <td>0.400000</td>\n",
       "    </tr>\n",
       "    <tr>\n",
       "      <th>5</th>\n",
       "      <td>0.466667</td>\n",
       "      <td>0.400000</td>\n",
       "    </tr>\n",
       "  </tbody>\n",
       "</table>\n",
       "</div>"
      ],
      "text/plain": [
       "        Sex      Type\n",
       "0  0.350000  0.466667\n",
       "1  0.466667  0.466667\n",
       "2  0.400000  0.400000\n",
       "3  0.466667  0.466667\n",
       "4  0.350000  0.400000\n",
       "5  0.466667  0.400000"
      ]
     },
     "execution_count": 85,
     "metadata": {},
     "output_type": "execute_result"
    }
   ],
   "source": [
    "# 事实上，在使用Catboost编码前，我们本应先打乱数据顺序\n",
    "# 但由于我们的数据本身已经是随机生成的，故无需打乱\n",
    "\n",
    "encoder = CatBoostEncoder(cols=['Sex','Type'], \n",
    "                          handle_unknown='value',  \n",
    "                          handle_missing='value').fit(train_set,train_y)   # 在训练集上训练\n",
    "encoded_train = encoder.transform(train_set) # 转换训练集\n",
    "encoded_test = encoder.transform(test_set) # 转换测试集\n",
    "\n",
    "# handle_unknown 和 handle_missing 被设定为 'value'\n",
    "# 在目标编码中，handle_unknown 和 handle_missing 仅接受 ‘error’, ‘return_nan’ 及 ‘value’ 设定\n",
    "# 两者的默认值均为 ‘value’, 即对未知类别或缺失值填充训练集的因变量平均值\n",
    "\n",
    "encoded_test # 编码后的变量数与原类别变量数一致"
   ]
  },
  {
   "cell_type": "code",
   "execution_count": 86,
   "metadata": {
    "ExecuteTime": {
     "end_time": "2020-02-29T21:35:13.478714Z",
     "start_time": "2020-02-29T21:35:13.474781Z"
    }
   },
   "outputs": [
    {
     "data": {
      "text/plain": [
       "0.4666666666666666"
      ]
     },
     "execution_count": 86,
     "metadata": {},
     "output_type": "execute_result"
    }
   ],
   "source": [
    "# 验证一下计算的结果，在测试集中，‘male’类别的编码值为 0.466667\n",
    "\n",
    "Prior = train_y.mean() # 先验概率\n",
    "n = 2 # 在训练集中，两个样本在Sex变量上具有‘male’标签\n",
    "n_positive = 1 # 这两个样本中，仅有一个拥有正标签\n",
    "a = 1 # 正则化系数， 默认值为1\n",
    "\n",
    "encoded_male = (n_positive + a * prior) / (n + a) \n",
    "encoded_male # return 0.4666666666666666，与要验证的值吻合"
   ]
  },
  {
   "cell_type": "code",
   "execution_count": 87,
   "metadata": {
    "ExecuteTime": {
     "end_time": "2020-02-29T21:35:13.526865Z",
     "start_time": "2020-02-29T21:35:13.480065Z"
    }
   },
   "outputs": [
    {
     "data": {
      "text/html": [
       "<div>\n",
       "<style scoped>\n",
       "    .dataframe tbody tr th:only-of-type {\n",
       "        vertical-align: middle;\n",
       "    }\n",
       "\n",
       "    .dataframe tbody tr th {\n",
       "        vertical-align: top;\n",
       "    }\n",
       "\n",
       "    .dataframe thead th {\n",
       "        text-align: right;\n",
       "    }\n",
       "</style>\n",
       "<table border=\"1\" class=\"dataframe\">\n",
       "  <thead>\n",
       "    <tr style=\"text-align: right;\">\n",
       "      <th></th>\n",
       "      <th>Sex</th>\n",
       "      <th>Type</th>\n",
       "    </tr>\n",
       "  </thead>\n",
       "  <tbody>\n",
       "    <tr>\n",
       "      <th>0</th>\n",
       "      <td>0.400000</td>\n",
       "      <td>0.4</td>\n",
       "    </tr>\n",
       "    <tr>\n",
       "      <th>1</th>\n",
       "      <td>0.400000</td>\n",
       "      <td>0.4</td>\n",
       "    </tr>\n",
       "    <tr>\n",
       "      <th>2</th>\n",
       "      <td>0.200000</td>\n",
       "      <td>0.2</td>\n",
       "    </tr>\n",
       "    <tr>\n",
       "      <th>3</th>\n",
       "      <td>0.700000</td>\n",
       "      <td>0.7</td>\n",
       "    </tr>\n",
       "    <tr>\n",
       "      <th>4</th>\n",
       "      <td>0.466667</td>\n",
       "      <td>0.4</td>\n",
       "    </tr>\n",
       "  </tbody>\n",
       "</table>\n",
       "</div>"
      ],
      "text/plain": [
       "        Sex  Type\n",
       "0  0.400000   0.4\n",
       "1  0.400000   0.4\n",
       "2  0.200000   0.2\n",
       "3  0.700000   0.7\n",
       "4  0.466667   0.4"
      ]
     },
     "execution_count": 87,
     "metadata": {},
     "output_type": "execute_result"
    }
   ],
   "source": [
    "# 验证一下训练集的结果\n",
    "CatBoostEncoder(cols=['Sex','Type'],\n",
    "                handle_unknown='value',  \n",
    "                handle_missing='value').fit_transform(train_set,train_y)"
   ]
  },
  {
   "cell_type": "code",
   "execution_count": 88,
   "metadata": {
    "ExecuteTime": {
     "end_time": "2020-02-29T21:35:13.532652Z",
     "start_time": "2020-02-29T21:35:13.528136Z"
    }
   },
   "outputs": [
    {
     "data": {
      "text/plain": [
       "0.2"
      ]
     },
     "execution_count": 88,
     "metadata": {},
     "output_type": "execute_result"
    }
   ],
   "source": [
    "# 训练集中第三个样本在Sex这一变量上有‘male’标签，其编码值为0.2\n",
    "Prior = train_y.mean() # 先验概率\n",
    "n = 1 # 在第三个样本前仅有一个样本有‘male’标签\n",
    "n_positive = 0 # 这仅有的一个样本没有正标签\n",
    "a = 1 # 正则化系数\n",
    "\n",
    "encoded_male = (n_positive + a * Prior) / (n + a)\n",
    "encoded_male # return 0.2"
   ]
  },
  {
   "cell_type": "markdown",
   "metadata": {},
   "source": [
    "## Time Series Variables 时间序列变量"
   ]
  },
  {
   "cell_type": "markdown",
   "metadata": {},
   "source": [
    "有时我们的数据集或者所研究的问题可能与时间有关。在这种情况下，我们可以利用python中的Featuretools包来实现自动化特征工程。具体来说，我们可以跨时间“积累”信息。"
   ]
  },
  {
   "cell_type": "code",
   "execution_count": 89,
   "metadata": {
    "ExecuteTime": {
     "end_time": "2020-02-29T21:35:13.802700Z",
     "start_time": "2020-02-29T21:35:13.534114Z"
    }
   },
   "outputs": [
    {
     "data": {
      "text/html": [
       "<div>\n",
       "<style scoped>\n",
       "    .dataframe tbody tr th:only-of-type {\n",
       "        vertical-align: middle;\n",
       "    }\n",
       "\n",
       "    .dataframe tbody tr th {\n",
       "        vertical-align: top;\n",
       "    }\n",
       "\n",
       "    .dataframe thead th {\n",
       "        text-align: right;\n",
       "    }\n",
       "</style>\n",
       "<table border=\"1\" class=\"dataframe\">\n",
       "  <thead>\n",
       "    <tr style=\"text-align: right;\">\n",
       "      <th></th>\n",
       "      <th>Customer ID</th>\n",
       "      <th>Seconds Stay</th>\n",
       "      <th>Item Purchase</th>\n",
       "      <th>Time</th>\n",
       "      <th>Sex</th>\n",
       "      <th>Age</th>\n",
       "      <th>Target</th>\n",
       "    </tr>\n",
       "  </thead>\n",
       "  <tbody>\n",
       "    <tr>\n",
       "      <th>0</th>\n",
       "      <td>001</td>\n",
       "      <td>100</td>\n",
       "      <td>Apple</td>\n",
       "      <td>2020-01-01</td>\n",
       "      <td>male</td>\n",
       "      <td>35</td>\n",
       "      <td>1</td>\n",
       "    </tr>\n",
       "    <tr>\n",
       "      <th>1</th>\n",
       "      <td>002</td>\n",
       "      <td>20</td>\n",
       "      <td>NaN</td>\n",
       "      <td>2020-01-01</td>\n",
       "      <td>female</td>\n",
       "      <td>30</td>\n",
       "      <td>0</td>\n",
       "    </tr>\n",
       "    <tr>\n",
       "      <th>2</th>\n",
       "      <td>003</td>\n",
       "      <td>50</td>\n",
       "      <td>Orange</td>\n",
       "      <td>2020-01-01</td>\n",
       "      <td>male</td>\n",
       "      <td>20</td>\n",
       "      <td>1</td>\n",
       "    </tr>\n",
       "    <tr>\n",
       "      <th>3</th>\n",
       "      <td>001</td>\n",
       "      <td>13</td>\n",
       "      <td>NaN</td>\n",
       "      <td>2020-01-03</td>\n",
       "      <td>male</td>\n",
       "      <td>35</td>\n",
       "      <td>0</td>\n",
       "    </tr>\n",
       "    <tr>\n",
       "      <th>4</th>\n",
       "      <td>002</td>\n",
       "      <td>30</td>\n",
       "      <td>Apple</td>\n",
       "      <td>2020-01-03</td>\n",
       "      <td>female</td>\n",
       "      <td>30</td>\n",
       "      <td>1</td>\n",
       "    </tr>\n",
       "    <tr>\n",
       "      <th>5</th>\n",
       "      <td>001</td>\n",
       "      <td>90</td>\n",
       "      <td>Orange</td>\n",
       "      <td>2020-01-06</td>\n",
       "      <td>male</td>\n",
       "      <td>35</td>\n",
       "      <td>1</td>\n",
       "    </tr>\n",
       "    <tr>\n",
       "      <th>6</th>\n",
       "      <td>003</td>\n",
       "      <td>5</td>\n",
       "      <td>Orange</td>\n",
       "      <td>2020-01-07</td>\n",
       "      <td>male</td>\n",
       "      <td>20</td>\n",
       "      <td>1</td>\n",
       "    </tr>\n",
       "  </tbody>\n",
       "</table>\n",
       "</div>"
      ],
      "text/plain": [
       "  Customer ID  Seconds Stay Item Purchase       Time     Sex  Age  Target\n",
       "0         001           100         Apple 2020-01-01    male   35       1\n",
       "1         002            20           NaN 2020-01-01  female   30       0\n",
       "2         003            50        Orange 2020-01-01    male   20       1\n",
       "3         001            13           NaN 2020-01-03    male   35       0\n",
       "4         002            30         Apple 2020-01-03  female   30       1\n",
       "5         001            90        Orange 2020-01-06    male   35       1\n",
       "6         003             5        Orange 2020-01-07    male   20       1"
      ]
     },
     "execution_count": 89,
     "metadata": {},
     "output_type": "execute_result"
    }
   ],
   "source": [
    "# 合成一些样本数据，记录用户在每一次登陆网站后的行为，比如用户的停留时间，购买的产品等\n",
    "import numpy as np\n",
    "import pandas as pd\n",
    "import featuretools as ft\n",
    "import datetime\n",
    "\n",
    "raw_dataset = np.array([['001',100, 'Apple', '2020/01/01', 'male', 35, 1],\n",
    "                        ['002',20, np.nan, '2020/01/01', 'female', 30, 0],\n",
    "                        ['003',50, 'Orange','2020/01/01', 'male', 20, 1],\n",
    "                        ['001', 13, np.nan, '2020/01/03', 'male', 35, 0],\n",
    "                        ['002', 30, 'Apple', '2020/01/03','female', 30, 1], \n",
    "                        ['001', 90, 'Orange', '2020/01/06', 'male', 35, 1], \n",
    "                        ['003', 5, 'Orange', '2020/01/07', 'male', 20, 1]])\n",
    "\n",
    "dataset = pd.DataFrame(raw_dataset, columns = ['Customer ID', 'Seconds Stay', 'Item Purchase',\n",
    "                                               'Time', 'Sex', 'Age', 'Target'])\n",
    "dataset['Seconds Stay'] = dataset['Seconds Stay'].astype(int)\n",
    "dataset['Target'] = dataset['Target'].astype(int)\n",
    "dataset['Age'] = dataset['Age'].astype(int)\n",
    "dataset['Time'] = pd.to_datetime(dataset['Time'])\n",
    "dataset['Item Purchase'] = dataset['Item Purchase'].replace(\"nan\", np.nan)\n",
    "\n",
    "dataset # 在Item Purchase中，NaN即该客户没有购买"
   ]
  },
  {
   "cell_type": "markdown",
   "metadata": {},
   "source": [
    "### Time Series Categorical Features 时间序列类别变量"
   ]
  },
  {
   "cell_type": "markdown",
   "metadata": {},
   "source": [
    "一个可能的数据科学问题是：在上述的合成数据中，我们如何预测客户的购买行为。具体而言，我们可能想要预测客户002在2020-01-08登陆的时候是否会购买。  \n",
    "\n",
    "上述数据中的类别变量有Item Purchase。基于这个类别变量我们可以进行特征工程并合成以下新变量：每一次登陆前他有过几次购买行为，每一次登陆前他最喜欢的产品是什么，每一次登陆前他购买过多少独特的商品等等。  \n",
    "\n",
    "而这一些变量，都可以通过Featuretools包简单实现。"
   ]
  },
  {
   "cell_type": "markdown",
   "metadata": {},
   "source": [
    "Featuretools包提供了以下一些有用的特征变换：\n",
    "\n",
    "- COUNT：在给定时间之前的变量计数值，不包括缺失值\n",
    "- Mode: 在给定时间之前的变量众数\n",
    "- NumUnique：在给定时间之前的唯一值计数，不包括缺失值\n",
    "- Entropy: 在给定时间之前类别变量的熵\n",
    "- First: 在给定时间之前变量出现的第一个值\n",
    "- Last: 在给定时间之前出现的变量最后一个值  \n",
    "\n",
    "Featuretools包还提供了很多其他的变换，具体可见[官方网站](https://docs.featuretools.com/en/stable/api_reference.html#aggregation-primitives)."
   ]
  },
  {
   "cell_type": "markdown",
   "metadata": {},
   "source": [
    "### Time Series Continuous Features 时间序列连续变量"
   ]
  },
  {
   "cell_type": "markdown",
   "metadata": {},
   "source": [
    "与前述问题一致，我们可能想要预测客户002在2020-01-08登陆的时候是否会购买。  \n",
    "\n",
    "上述数据中的连续变量有Seconds Stay，即客户每次登陆后停留了多久。基于这个连续变量我们可以进行特征工程并合成以下新变量：每一次登陆前他的平均停留时间，每一次登陆前他的停留时间的标准差，每一次登陆前他的停留时间的滑动平均等。  \n",
    "\n",
    "而这一些变量，同样可以通过Featuretools包简单实现。"
   ]
  },
  {
   "cell_type": "markdown",
   "metadata": {},
   "source": [
    "Featuretools包提供了以下一些有用的特征变换：  \n",
    "\n",
    "- COUNT: 在给定时间之前的变量计数值，不包括缺失值\n",
    "- First: 在给定时间之前变量出现的第一个值\n",
    "- Last: 在给定时间之前变量出现的最后一个值\n",
    "- Mean: 在给定时间之前该变量的平均值，不包括缺失值\n",
    "- Sum: 在给定时间之前该变量的求和，不包括缺失值\n",
    "- Min: 在给定时间之前该变量的最小值，不包括缺失值\n",
    "- Max: 在给定时间之前该变量的最大值，不包括缺失值\n",
    "- Std: 在给定时间之前该变量的标准差，不包括缺失值\n",
    "- Median: 在给定时间之前该变量的中位数，不包括缺失值\n",
    "- Trend: 在给定时间之前该变量的趋势，即线性斜率  \n",
    "\n",
    "Featuretools包还提供了很多其他的变换，具体可见[官方网站](https://docs.featuretools.com/en/stable/api_reference.html#aggregation-primitives)."
   ]
  },
  {
   "cell_type": "markdown",
   "metadata": {},
   "source": [
    "### Implementation 代码实现"
   ]
  },
  {
   "cell_type": "code",
   "execution_count": 90,
   "metadata": {
    "ExecuteTime": {
     "end_time": "2020-02-29T21:35:13.812747Z",
     "start_time": "2020-02-29T21:35:13.804102Z"
    }
   },
   "outputs": [
    {
     "data": {
      "text/html": [
       "<div>\n",
       "<style scoped>\n",
       "    .dataframe tbody tr th:only-of-type {\n",
       "        vertical-align: middle;\n",
       "    }\n",
       "\n",
       "    .dataframe tbody tr th {\n",
       "        vertical-align: top;\n",
       "    }\n",
       "\n",
       "    .dataframe thead th {\n",
       "        text-align: right;\n",
       "    }\n",
       "</style>\n",
       "<table border=\"1\" class=\"dataframe\">\n",
       "  <thead>\n",
       "    <tr style=\"text-align: right;\">\n",
       "      <th></th>\n",
       "      <th>Customer ID</th>\n",
       "      <th>Seconds Stay</th>\n",
       "      <th>Item Purchase</th>\n",
       "      <th>Time</th>\n",
       "      <th>Sex</th>\n",
       "      <th>Age</th>\n",
       "      <th>Target</th>\n",
       "    </tr>\n",
       "  </thead>\n",
       "  <tbody>\n",
       "    <tr>\n",
       "      <th>0</th>\n",
       "      <td>001</td>\n",
       "      <td>100</td>\n",
       "      <td>Apple</td>\n",
       "      <td>2020-01-01</td>\n",
       "      <td>male</td>\n",
       "      <td>35</td>\n",
       "      <td>1</td>\n",
       "    </tr>\n",
       "    <tr>\n",
       "      <th>1</th>\n",
       "      <td>002</td>\n",
       "      <td>20</td>\n",
       "      <td>NaN</td>\n",
       "      <td>2020-01-01</td>\n",
       "      <td>female</td>\n",
       "      <td>30</td>\n",
       "      <td>0</td>\n",
       "    </tr>\n",
       "    <tr>\n",
       "      <th>2</th>\n",
       "      <td>003</td>\n",
       "      <td>50</td>\n",
       "      <td>Orange</td>\n",
       "      <td>2020-01-01</td>\n",
       "      <td>male</td>\n",
       "      <td>20</td>\n",
       "      <td>1</td>\n",
       "    </tr>\n",
       "    <tr>\n",
       "      <th>3</th>\n",
       "      <td>001</td>\n",
       "      <td>13</td>\n",
       "      <td>NaN</td>\n",
       "      <td>2020-01-03</td>\n",
       "      <td>male</td>\n",
       "      <td>35</td>\n",
       "      <td>0</td>\n",
       "    </tr>\n",
       "    <tr>\n",
       "      <th>4</th>\n",
       "      <td>002</td>\n",
       "      <td>30</td>\n",
       "      <td>Apple</td>\n",
       "      <td>2020-01-03</td>\n",
       "      <td>female</td>\n",
       "      <td>30</td>\n",
       "      <td>1</td>\n",
       "    </tr>\n",
       "    <tr>\n",
       "      <th>5</th>\n",
       "      <td>001</td>\n",
       "      <td>90</td>\n",
       "      <td>Orange</td>\n",
       "      <td>2020-01-06</td>\n",
       "      <td>male</td>\n",
       "      <td>35</td>\n",
       "      <td>1</td>\n",
       "    </tr>\n",
       "    <tr>\n",
       "      <th>6</th>\n",
       "      <td>003</td>\n",
       "      <td>5</td>\n",
       "      <td>Orange</td>\n",
       "      <td>2020-01-07</td>\n",
       "      <td>male</td>\n",
       "      <td>20</td>\n",
       "      <td>1</td>\n",
       "    </tr>\n",
       "  </tbody>\n",
       "</table>\n",
       "</div>"
      ],
      "text/plain": [
       "  Customer ID  Seconds Stay Item Purchase       Time     Sex  Age  Target\n",
       "0         001           100         Apple 2020-01-01    male   35       1\n",
       "1         002            20           NaN 2020-01-01  female   30       0\n",
       "2         003            50        Orange 2020-01-01    male   20       1\n",
       "3         001            13           NaN 2020-01-03    male   35       0\n",
       "4         002            30         Apple 2020-01-03  female   30       1\n",
       "5         001            90        Orange 2020-01-06    male   35       1\n",
       "6         003             5        Orange 2020-01-07    male   20       1"
      ]
     },
     "execution_count": 90,
     "metadata": {},
     "output_type": "execute_result"
    }
   ],
   "source": [
    "# 原始数据集\n",
    "dataset"
   ]
  },
  {
   "cell_type": "markdown",
   "metadata": {},
   "source": [
    "#### Create EntitySet 生成实体集"
   ]
  },
  {
   "cell_type": "code",
   "execution_count": 91,
   "metadata": {
    "ExecuteTime": {
     "end_time": "2020-02-29T21:35:13.823958Z",
     "start_time": "2020-02-29T21:35:13.814344Z"
    }
   },
   "outputs": [
    {
     "data": {
      "text/html": [
       "<div>\n",
       "<style scoped>\n",
       "    .dataframe tbody tr th:only-of-type {\n",
       "        vertical-align: middle;\n",
       "    }\n",
       "\n",
       "    .dataframe tbody tr th {\n",
       "        vertical-align: top;\n",
       "    }\n",
       "\n",
       "    .dataframe thead th {\n",
       "        text-align: right;\n",
       "    }\n",
       "</style>\n",
       "<table border=\"1\" class=\"dataframe\">\n",
       "  <thead>\n",
       "    <tr style=\"text-align: right;\">\n",
       "      <th></th>\n",
       "      <th>Customer ID</th>\n",
       "      <th>Sex</th>\n",
       "      <th>Age</th>\n",
       "    </tr>\n",
       "  </thead>\n",
       "  <tbody>\n",
       "    <tr>\n",
       "      <th>0</th>\n",
       "      <td>001</td>\n",
       "      <td>male</td>\n",
       "      <td>35</td>\n",
       "    </tr>\n",
       "    <tr>\n",
       "      <th>1</th>\n",
       "      <td>002</td>\n",
       "      <td>female</td>\n",
       "      <td>30</td>\n",
       "    </tr>\n",
       "    <tr>\n",
       "      <th>2</th>\n",
       "      <td>003</td>\n",
       "      <td>male</td>\n",
       "      <td>20</td>\n",
       "    </tr>\n",
       "  </tbody>\n",
       "</table>\n",
       "</div>"
      ],
      "text/plain": [
       "  Customer ID     Sex  Age\n",
       "0         001    male   35\n",
       "1         002  female   30\n",
       "2         003    male   20"
      ]
     },
     "execution_count": 91,
     "metadata": {},
     "output_type": "execute_result"
    }
   ],
   "source": [
    "# 首先，我们需要创建EntitySet即实体集\n",
    "# 它是数据集中实体的集合，包含实体之间的关系\n",
    "# 它们的创建能帮助Featuretool了解数据的结构，从而实现自动时间序列特征工程\n",
    "\n",
    "es = ft.EntitySet(id=\"customer_data\") # 首先生成一个空白的实体集\n",
    "\n",
    "# 数据集中一个实体即每一个客户，我们有客户层面的数据，例如客户的性别，客户的年龄\n",
    "df_customer = dataset[['Customer ID', 'Sex', 'Age']].drop_duplicates()\n",
    "df_customer"
   ]
  },
  {
   "cell_type": "code",
   "execution_count": 92,
   "metadata": {
    "ExecuteTime": {
     "end_time": "2020-02-29T21:35:13.835234Z",
     "start_time": "2020-02-29T21:35:13.825238Z"
    }
   },
   "outputs": [
    {
     "data": {
      "text/plain": [
       "Entity: Customer\n",
       "  Variables:\n",
       "    Customer ID (dtype: index)\n",
       "    Sex (dtype: categorical)\n",
       "    Age (dtype: numeric)\n",
       "  Shape:\n",
       "    (Rows: 3, Columns: 3)"
      ]
     },
     "execution_count": 92,
     "metadata": {},
     "output_type": "execute_result"
    }
   ],
   "source": [
    "# 现在我们将这个实体加入到实体集中\n",
    "es = es.entity_from_dataframe(entity_id=\"Customer\",\n",
    "                              dataframe=df_customer,\n",
    "                              index= 'Customer ID') \n",
    "# 在这个实体中，Customer ID是将每一个顾客区别开的索引\n",
    "\n",
    "es['Customer']"
   ]
  },
  {
   "cell_type": "code",
   "execution_count": 93,
   "metadata": {
    "ExecuteTime": {
     "end_time": "2020-02-29T21:35:13.851121Z",
     "start_time": "2020-02-29T21:35:13.836608Z"
    }
   },
   "outputs": [
    {
     "data": {
      "text/plain": [
       "Entity: Transaction\n",
       "  Variables:\n",
       "    index (dtype: index)\n",
       "    Customer ID (dtype: categorical)\n",
       "    Time (dtype: datetime_time_index)\n",
       "    Item Purchase (dtype: categorical)\n",
       "    Seconds Stay (dtype: numeric)\n",
       "    Target (dtype: numeric)\n",
       "  Shape:\n",
       "    (Rows: 7, Columns: 6)"
      ]
     },
     "execution_count": 93,
     "metadata": {},
     "output_type": "execute_result"
    }
   ],
   "source": [
    "# 第二个实体即每一次发生的交易，我们也有交易层面的数据，即每一次的停留时间，购买的产品名称\n",
    "es = es.entity_from_dataframe(entity_id=\"Transaction\",\n",
    "                              dataframe=dataset[[\"Customer ID\",\"Seconds Stay\", \n",
    "                                                 \"Item Purchase\", \n",
    "                                                 \"Time\",\"Target\"]].reset_index(),\n",
    "                              index=\"index\", \n",
    "                              # 在这个实体中，索引为‘index’\n",
    "                              time_index=\"Time\", # 时间索引为‘Time’\n",
    "                              variable_types={\"Item Purchase\": ft.variable_types.Categorical, \n",
    "                                              \"Seconds Stay\": ft.variable_types.Numeric,\n",
    "                                              \"Target\": ft.variable_types.Numeric})\n",
    "es['Transaction']"
   ]
  },
  {
   "cell_type": "code",
   "execution_count": 94,
   "metadata": {
    "ExecuteTime": {
     "end_time": "2020-02-29T21:35:13.857365Z",
     "start_time": "2020-02-29T21:35:13.852435Z"
    }
   },
   "outputs": [
    {
     "data": {
      "text/plain": [
       "Entityset: customer_data\n",
       "  Entities:\n",
       "    Customer [Rows: 3, Columns: 3]\n",
       "    Transaction [Rows: 7, Columns: 6]\n",
       "  Relationships:\n",
       "    Transaction.Customer ID -> Customer.Customer ID"
      ]
     },
     "execution_count": 94,
     "metadata": {},
     "output_type": "execute_result"
    }
   ],
   "source": [
    "# 现在，我们添加实体之间的关系\n",
    "relationship = ft.Relationship(es[\"Customer\"][\"Customer ID\"],\n",
    "                               es[\"Transaction\"][\"Customer ID\"])\n",
    "# 每一个用户都有一些交易与之关联\n",
    "# 故我们称用户为母实体\n",
    "# 每一次交易为子实体\n",
    "\n",
    "es = es.add_relationship(relationship)\n",
    "es"
   ]
  },
  {
   "cell_type": "markdown",
   "metadata": {},
   "source": [
    "#### Set up cut-time 设置时间截断"
   ]
  },
  {
   "cell_type": "markdown",
   "metadata": {},
   "source": [
    "关于时间截断的更多信息可以在Featuretools的官网网站中获得：\n",
    "https://docs.featuretools.com/en/stable/automated_feature_engineering/handling_time.html"
   ]
  },
  {
   "cell_type": "code",
   "execution_count": 95,
   "metadata": {
    "ExecuteTime": {
     "end_time": "2020-02-29T21:35:13.866309Z",
     "start_time": "2020-02-29T21:35:13.858598Z"
    }
   },
   "outputs": [
    {
     "data": {
      "text/html": [
       "<div>\n",
       "<style scoped>\n",
       "    .dataframe tbody tr th:only-of-type {\n",
       "        vertical-align: middle;\n",
       "    }\n",
       "\n",
       "    .dataframe tbody tr th {\n",
       "        vertical-align: top;\n",
       "    }\n",
       "\n",
       "    .dataframe thead th {\n",
       "        text-align: right;\n",
       "    }\n",
       "</style>\n",
       "<table border=\"1\" class=\"dataframe\">\n",
       "  <thead>\n",
       "    <tr style=\"text-align: right;\">\n",
       "      <th></th>\n",
       "      <th>Customer ID</th>\n",
       "      <th>Time</th>\n",
       "    </tr>\n",
       "  </thead>\n",
       "  <tbody>\n",
       "    <tr>\n",
       "      <th>0</th>\n",
       "      <td>001</td>\n",
       "      <td>2020-01-01</td>\n",
       "    </tr>\n",
       "    <tr>\n",
       "      <th>1</th>\n",
       "      <td>002</td>\n",
       "      <td>2020-01-01</td>\n",
       "    </tr>\n",
       "    <tr>\n",
       "      <th>2</th>\n",
       "      <td>003</td>\n",
       "      <td>2020-01-01</td>\n",
       "    </tr>\n",
       "    <tr>\n",
       "      <th>3</th>\n",
       "      <td>001</td>\n",
       "      <td>2020-01-03</td>\n",
       "    </tr>\n",
       "    <tr>\n",
       "      <th>4</th>\n",
       "      <td>002</td>\n",
       "      <td>2020-01-03</td>\n",
       "    </tr>\n",
       "    <tr>\n",
       "      <th>5</th>\n",
       "      <td>001</td>\n",
       "      <td>2020-01-06</td>\n",
       "    </tr>\n",
       "    <tr>\n",
       "      <th>6</th>\n",
       "      <td>003</td>\n",
       "      <td>2020-01-07</td>\n",
       "    </tr>\n",
       "  </tbody>\n",
       "</table>\n",
       "</div>"
      ],
      "text/plain": [
       "  Customer ID       Time\n",
       "0         001 2020-01-01\n",
       "1         002 2020-01-01\n",
       "2         003 2020-01-01\n",
       "3         001 2020-01-03\n",
       "4         002 2020-01-03\n",
       "5         001 2020-01-06\n",
       "6         003 2020-01-07"
      ]
     },
     "execution_count": 95,
     "metadata": {},
     "output_type": "execute_result"
    }
   ],
   "source": [
    "# 创建时间切割\n",
    "# 通常在时间序列的数据集中\n",
    "# 其可能包含很多时间节点\n",
    "# 如果处理不慎就可能导致未来的信息泄漏\n",
    "\n",
    "# 故我们需要设置Cut-time 时间切割\n",
    "# 即让Featuretool明白其需要考虑可能的信息泄漏问题\n",
    "# 我们可以在Featuretools中加入一个用于指示对应切割时间的数据集\n",
    "# 其指定了每一行可使用信息的最后时间点\n",
    "# 即对每一行数据，在进行对应的特征工程时，我们仅仅会考虑这一行时间切割点之前的信息\n",
    "\n",
    "ct = dataset[['Customer ID','Time']].copy() # the cut-off dataframe\n",
    "ct"
   ]
  },
  {
   "cell_type": "code",
   "execution_count": 96,
   "metadata": {
    "ExecuteTime": {
     "end_time": "2020-02-29T21:35:13.875640Z",
     "start_time": "2020-02-29T21:35:13.867653Z"
    }
   },
   "outputs": [
    {
     "data": {
      "text/html": [
       "<div>\n",
       "<style scoped>\n",
       "    .dataframe tbody tr th:only-of-type {\n",
       "        vertical-align: middle;\n",
       "    }\n",
       "\n",
       "    .dataframe tbody tr th {\n",
       "        vertical-align: top;\n",
       "    }\n",
       "\n",
       "    .dataframe thead th {\n",
       "        text-align: right;\n",
       "    }\n",
       "</style>\n",
       "<table border=\"1\" class=\"dataframe\">\n",
       "  <thead>\n",
       "    <tr style=\"text-align: right;\">\n",
       "      <th></th>\n",
       "      <th>Customer ID</th>\n",
       "      <th>Time</th>\n",
       "    </tr>\n",
       "  </thead>\n",
       "  <tbody>\n",
       "    <tr>\n",
       "      <th>0</th>\n",
       "      <td>001</td>\n",
       "      <td>2019-12-31 23:59:59</td>\n",
       "    </tr>\n",
       "    <tr>\n",
       "      <th>1</th>\n",
       "      <td>002</td>\n",
       "      <td>2019-12-31 23:59:59</td>\n",
       "    </tr>\n",
       "    <tr>\n",
       "      <th>2</th>\n",
       "      <td>003</td>\n",
       "      <td>2019-12-31 23:59:59</td>\n",
       "    </tr>\n",
       "    <tr>\n",
       "      <th>3</th>\n",
       "      <td>001</td>\n",
       "      <td>2020-01-02 23:59:59</td>\n",
       "    </tr>\n",
       "    <tr>\n",
       "      <th>4</th>\n",
       "      <td>002</td>\n",
       "      <td>2020-01-02 23:59:59</td>\n",
       "    </tr>\n",
       "    <tr>\n",
       "      <th>5</th>\n",
       "      <td>001</td>\n",
       "      <td>2020-01-05 23:59:59</td>\n",
       "    </tr>\n",
       "    <tr>\n",
       "      <th>6</th>\n",
       "      <td>003</td>\n",
       "      <td>2020-01-06 23:59:59</td>\n",
       "    </tr>\n",
       "  </tbody>\n",
       "</table>\n",
       "</div>"
      ],
      "text/plain": [
       "  Customer ID                Time\n",
       "0         001 2019-12-31 23:59:59\n",
       "1         002 2019-12-31 23:59:59\n",
       "2         003 2019-12-31 23:59:59\n",
       "3         001 2020-01-02 23:59:59\n",
       "4         002 2020-01-02 23:59:59\n",
       "5         001 2020-01-05 23:59:59\n",
       "6         003 2020-01-06 23:59:59"
      ]
     },
     "execution_count": 96,
     "metadata": {},
     "output_type": "execute_result"
    }
   ],
   "source": [
    "# 但是在我们的这一问题中\n",
    "# 每一行的截止时间应在交易发生时间之前\n",
    "# 此次交易的信息是不应该被涵盖在特征工程中\n",
    "# 因为我们没有当前行信息来预测当前行的购买\n",
    "# 例如，直到顾客完成购买后，我们才知道他购买了哪种产品\n",
    "\n",
    "ct['Time'] = ct['Time'] + datetime.timedelta(seconds = -1) \n",
    "# 将时间截断设置为每一次登陆时间的前1秒\n",
    "\n",
    "ct"
   ]
  },
  {
   "cell_type": "markdown",
   "metadata": {},
   "source": [
    "#### Auto Feature Engineering 自动特征工程"
   ]
  },
  {
   "cell_type": "markdown",
   "metadata": {},
   "source": [
    "一种使用Featuretools的策略是让其自动生成所有可能的特征。这种策略中我们无需指定我们要为每个原始特征进行的转换。随后我们可以从这些自动生成的特征中筛选我们想要的特征。但这种策略往往会比较占用内存和运行时间。"
   ]
  },
  {
   "cell_type": "code",
   "execution_count": 97,
   "metadata": {
    "ExecuteTime": {
     "end_time": "2020-02-29T21:35:14.140796Z",
     "start_time": "2020-02-29T21:35:13.877054Z"
    }
   },
   "outputs": [],
   "source": [
    "# 开始自动特征工程，我们无需指定我们要为每个原始特征进行的转换\n",
    "fm, features = ft.dfs(entityset=es,\n",
    "                      target_entity='Customer', \n",
    "                      # 我们想要在每一个客户层面累计信息\n",
    "                      # 因为我们想要预测的是未来每个客户的可能购买行为\n",
    "                      max_depth=2, # 设置深度为 2, 即交叉项最后包含两种原始变量\n",
    "                      cutoff_time=ct,\n",
    "                      cutoff_time_in_index=True) \n",
    "\n",
    "# 我们甚至可以指定训练窗口来实现滑动平均的效果，此处不进行展示"
   ]
  },
  {
   "cell_type": "code",
   "execution_count": 98,
   "metadata": {
    "ExecuteTime": {
     "end_time": "2020-02-29T21:35:14.145656Z",
     "start_time": "2020-02-29T21:35:14.142077Z"
    }
   },
   "outputs": [
    {
     "data": {
      "text/plain": [
       "Index(['Sex', 'Age', 'SUM(Transaction.Target)',\n",
       "       'SUM(Transaction.Seconds Stay)', 'STD(Transaction.Target)',\n",
       "       'STD(Transaction.Seconds Stay)', 'MAX(Transaction.Target)',\n",
       "       'MAX(Transaction.Seconds Stay)', 'SKEW(Transaction.Target)',\n",
       "       'SKEW(Transaction.Seconds Stay)', 'MIN(Transaction.Target)',\n",
       "       'MIN(Transaction.Seconds Stay)', 'MEAN(Transaction.Target)',\n",
       "       'MEAN(Transaction.Seconds Stay)', 'COUNT(Transaction)',\n",
       "       'NUM_UNIQUE(Transaction.Item Purchase)',\n",
       "       'MODE(Transaction.Item Purchase)', 'NUM_UNIQUE(Transaction.YEAR(Time))',\n",
       "       'NUM_UNIQUE(Transaction.WEEKDAY(Time))',\n",
       "       'NUM_UNIQUE(Transaction.MONTH(Time))',\n",
       "       'NUM_UNIQUE(Transaction.DAY(Time))', 'MODE(Transaction.YEAR(Time))',\n",
       "       'MODE(Transaction.WEEKDAY(Time))', 'MODE(Transaction.MONTH(Time))',\n",
       "       'MODE(Transaction.DAY(Time))'],\n",
       "      dtype='object')"
      ]
     },
     "execution_count": 98,
     "metadata": {},
     "output_type": "execute_result"
    }
   ],
   "source": [
    "fm; # 特征工程后的结果\n",
    "fm.columns "
   ]
  },
  {
   "cell_type": "code",
   "execution_count": 99,
   "metadata": {
    "ExecuteTime": {
     "end_time": "2020-02-29T21:35:14.150555Z",
     "start_time": "2020-02-29T21:35:14.147394Z"
    }
   },
   "outputs": [
    {
     "data": {
      "text/plain": [
       "[<Feature: Sex>,\n",
       " <Feature: Age>,\n",
       " <Feature: SUM(Transaction.Target)>,\n",
       " <Feature: SUM(Transaction.Seconds Stay)>,\n",
       " <Feature: STD(Transaction.Target)>,\n",
       " <Feature: STD(Transaction.Seconds Stay)>,\n",
       " <Feature: MAX(Transaction.Target)>,\n",
       " <Feature: MAX(Transaction.Seconds Stay)>,\n",
       " <Feature: SKEW(Transaction.Target)>,\n",
       " <Feature: SKEW(Transaction.Seconds Stay)>,\n",
       " <Feature: MIN(Transaction.Target)>,\n",
       " <Feature: MIN(Transaction.Seconds Stay)>,\n",
       " <Feature: MEAN(Transaction.Target)>,\n",
       " <Feature: MEAN(Transaction.Seconds Stay)>,\n",
       " <Feature: COUNT(Transaction)>,\n",
       " <Feature: NUM_UNIQUE(Transaction.Item Purchase)>,\n",
       " <Feature: MODE(Transaction.Item Purchase)>,\n",
       " <Feature: NUM_UNIQUE(Transaction.YEAR(Time))>,\n",
       " <Feature: NUM_UNIQUE(Transaction.WEEKDAY(Time))>,\n",
       " <Feature: NUM_UNIQUE(Transaction.MONTH(Time))>,\n",
       " <Feature: NUM_UNIQUE(Transaction.DAY(Time))>,\n",
       " <Feature: MODE(Transaction.YEAR(Time))>,\n",
       " <Feature: MODE(Transaction.WEEKDAY(Time))>,\n",
       " <Feature: MODE(Transaction.MONTH(Time))>,\n",
       " <Feature: MODE(Transaction.DAY(Time))>]"
      ]
     },
     "execution_count": 99,
     "metadata": {},
     "output_type": "execute_result"
    }
   ],
   "source": [
    "features\n",
    "# 特征工程生成的新变量名称与对应的合成方式\n",
    "# 自动功能工程可能会生成一些毫无意义的变量\n",
    "# 这需要我们的人工筛选"
   ]
  },
  {
   "cell_type": "markdown",
   "metadata": {},
   "source": [
    "另一种策略即指定每一个原始变量我们需要什么对应的变换。\n",
    "在这种策略下，我们可以更好地控制特征工程的结果并节省时间与内存。"
   ]
  },
  {
   "cell_type": "code",
   "execution_count": 100,
   "metadata": {
    "ExecuteTime": {
     "end_time": "2020-02-29T21:35:14.155524Z",
     "start_time": "2020-02-29T21:35:14.151841Z"
    }
   },
   "outputs": [],
   "source": [
    "from featuretools.primitives import TimeSinceLast\n",
    "# import TimeSinceLast\n",
    "# 这样我们可以控制时间维度的单位\n",
    "\n",
    "operation_dict = {(\"count\", TimeSinceLast(unit = \"hours\")): {\"include_variables\": {\"Transaction\": [\"index\"]}},\n",
    "                  (\"entropy\", \n",
    "                   \"num_unique\",\n",
    "                   \"mode\"): {\"include_variables\": {\"Transaction\": [\"Item Purchase\"]}},\n",
    "                  (\"mean\", \n",
    "                   \"max\",\n",
    "                   \"median\",\n",
    "                   \"skew\",\n",
    "                   \"std\"): {\"include_variables\": {\"Transaction\": [\"Seconds Stay\",\"Target\"]}},\n",
    "                   \"last\": {\"include_variables\": {\"Transaction\": [\"Item Purchase\",\"Seconds Stay\",\n",
    "                                                                  \"Target\"]}}\n",
    "                 }\n",
    "\n",
    "# 新增一个计数变换来显示每次交易之前共有多少次登陆次数\n",
    "# 新增一个TimeSinceLast变换，以显示此次登陆距离上一次登陆的时间间隔\n",
    "# 新增对类别变量Item Purchase的熵，唯一值计数，众数及最近一次登陆购买的产品的统计\n",
    "# 新增数值变量Seconds Stay 及目标变量（滞后项）的均值，最大值，中位数，偏度，标准差和最近值"
   ]
  },
  {
   "cell_type": "code",
   "execution_count": 101,
   "metadata": {
    "ExecuteTime": {
     "end_time": "2020-02-29T21:35:14.343092Z",
     "start_time": "2020-02-29T21:35:14.157084Z"
    }
   },
   "outputs": [],
   "source": [
    "fm, features = ft.dfs(entityset=es,\n",
    "                      target_entity='Customer',\n",
    "                      max_depth=2,\n",
    "                      cutoff_time=ct,\n",
    "                      cutoff_time_in_index=True, \n",
    "                      agg_primitives = ['count','entropy', 'num_unique','mode','last',\n",
    "                                        'mean','max','median','skew','std',\n",
    "                                        TimeSinceLast(unit = \"hours\")],\n",
    "                      # 为简单起见，我们不包含transform primative\n",
    "                      # 即将实体中的一个或多个变量作为输入\n",
    "                      # 并为该实体输出一个新变量的变换\n",
    "                      \n",
    "                      # aggregation primitive & transform primitive的区别可见：\n",
    "                      # https://docs.featuretools.com/en/latest/automated_feature_engineering/primitives.html\n",
    "                      \n",
    "                      primitive_options= operation_dict # 指明对每一个原始变量我们想要的变换\n",
    "                      )"
   ]
  },
  {
   "cell_type": "code",
   "execution_count": 102,
   "metadata": {
    "ExecuteTime": {
     "end_time": "2020-02-29T21:35:14.348075Z",
     "start_time": "2020-02-29T21:35:14.344545Z"
    }
   },
   "outputs": [
    {
     "data": {
      "text/plain": [
       "[<Feature: Sex>,\n",
       " <Feature: Age>,\n",
       " <Feature: COUNT(Transaction)>,\n",
       " <Feature: ENTROPY(Transaction.Item Purchase)>,\n",
       " <Feature: NUM_UNIQUE(Transaction.Item Purchase)>,\n",
       " <Feature: MODE(Transaction.Item Purchase)>,\n",
       " <Feature: LAST(Transaction.Target)>,\n",
       " <Feature: LAST(Transaction.Item Purchase)>,\n",
       " <Feature: LAST(Transaction.Seconds Stay)>,\n",
       " <Feature: MEAN(Transaction.Target)>,\n",
       " <Feature: MEAN(Transaction.Seconds Stay)>,\n",
       " <Feature: MAX(Transaction.Target)>,\n",
       " <Feature: MAX(Transaction.Seconds Stay)>,\n",
       " <Feature: MEDIAN(Transaction.Target)>,\n",
       " <Feature: MEDIAN(Transaction.Seconds Stay)>,\n",
       " <Feature: SKEW(Transaction.Target)>,\n",
       " <Feature: SKEW(Transaction.Seconds Stay)>,\n",
       " <Feature: STD(Transaction.Target)>,\n",
       " <Feature: STD(Transaction.Seconds Stay)>,\n",
       " <Feature: TIME_SINCE_LAST(Transaction.Time, unit=hours)>]"
      ]
     },
     "execution_count": 102,
     "metadata": {},
     "output_type": "execute_result"
    }
   ],
   "source": [
    "features # 新变量名称及对应的变换"
   ]
  },
  {
   "cell_type": "code",
   "execution_count": 103,
   "metadata": {
    "ExecuteTime": {
     "end_time": "2020-02-29T21:35:14.369994Z",
     "start_time": "2020-02-29T21:35:14.349555Z"
    }
   },
   "outputs": [
    {
     "data": {
      "text/html": [
       "<div>\n",
       "<style scoped>\n",
       "    .dataframe tbody tr th:only-of-type {\n",
       "        vertical-align: middle;\n",
       "    }\n",
       "\n",
       "    .dataframe tbody tr th {\n",
       "        vertical-align: top;\n",
       "    }\n",
       "\n",
       "    .dataframe thead th {\n",
       "        text-align: right;\n",
       "    }\n",
       "</style>\n",
       "<table border=\"1\" class=\"dataframe\">\n",
       "  <thead>\n",
       "    <tr style=\"text-align: right;\">\n",
       "      <th></th>\n",
       "      <th></th>\n",
       "      <th>Sex</th>\n",
       "      <th>Age</th>\n",
       "      <th>COUNT(Transaction)</th>\n",
       "      <th>ENTROPY(Transaction.Item Purchase)</th>\n",
       "      <th>NUM_UNIQUE(Transaction.Item Purchase)</th>\n",
       "      <th>MODE(Transaction.Item Purchase)</th>\n",
       "      <th>LAST(Transaction.Target)</th>\n",
       "      <th>LAST(Transaction.Item Purchase)</th>\n",
       "      <th>LAST(Transaction.Seconds Stay)</th>\n",
       "      <th>MEAN(Transaction.Target)</th>\n",
       "      <th>MEAN(Transaction.Seconds Stay)</th>\n",
       "      <th>MAX(Transaction.Target)</th>\n",
       "      <th>MAX(Transaction.Seconds Stay)</th>\n",
       "      <th>MEDIAN(Transaction.Target)</th>\n",
       "      <th>MEDIAN(Transaction.Seconds Stay)</th>\n",
       "      <th>SKEW(Transaction.Target)</th>\n",
       "      <th>SKEW(Transaction.Seconds Stay)</th>\n",
       "      <th>STD(Transaction.Target)</th>\n",
       "      <th>STD(Transaction.Seconds Stay)</th>\n",
       "      <th>TIME_SINCE_LAST(Transaction.Time, unit=hours)</th>\n",
       "    </tr>\n",
       "    <tr>\n",
       "      <th>Customer ID</th>\n",
       "      <th>time</th>\n",
       "      <th></th>\n",
       "      <th></th>\n",
       "      <th></th>\n",
       "      <th></th>\n",
       "      <th></th>\n",
       "      <th></th>\n",
       "      <th></th>\n",
       "      <th></th>\n",
       "      <th></th>\n",
       "      <th></th>\n",
       "      <th></th>\n",
       "      <th></th>\n",
       "      <th></th>\n",
       "      <th></th>\n",
       "      <th></th>\n",
       "      <th></th>\n",
       "      <th></th>\n",
       "      <th></th>\n",
       "      <th></th>\n",
       "      <th></th>\n",
       "    </tr>\n",
       "  </thead>\n",
       "  <tbody>\n",
       "    <tr>\n",
       "      <th>001</th>\n",
       "      <th>2019-12-31 23:59:59</th>\n",
       "      <td>male</td>\n",
       "      <td>35</td>\n",
       "      <td>0.0</td>\n",
       "      <td>NaN</td>\n",
       "      <td>NaN</td>\n",
       "      <td>NaN</td>\n",
       "      <td>NaN</td>\n",
       "      <td>NaN</td>\n",
       "      <td>NaN</td>\n",
       "      <td>NaN</td>\n",
       "      <td>NaN</td>\n",
       "      <td>NaN</td>\n",
       "      <td>NaN</td>\n",
       "      <td>NaN</td>\n",
       "      <td>NaN</td>\n",
       "      <td>NaN</td>\n",
       "      <td>NaN</td>\n",
       "      <td>NaN</td>\n",
       "      <td>NaN</td>\n",
       "      <td>NaN</td>\n",
       "    </tr>\n",
       "    <tr>\n",
       "      <th>002</th>\n",
       "      <th>2019-12-31 23:59:59</th>\n",
       "      <td>female</td>\n",
       "      <td>30</td>\n",
       "      <td>0.0</td>\n",
       "      <td>NaN</td>\n",
       "      <td>NaN</td>\n",
       "      <td>NaN</td>\n",
       "      <td>NaN</td>\n",
       "      <td>NaN</td>\n",
       "      <td>NaN</td>\n",
       "      <td>NaN</td>\n",
       "      <td>NaN</td>\n",
       "      <td>NaN</td>\n",
       "      <td>NaN</td>\n",
       "      <td>NaN</td>\n",
       "      <td>NaN</td>\n",
       "      <td>NaN</td>\n",
       "      <td>NaN</td>\n",
       "      <td>NaN</td>\n",
       "      <td>NaN</td>\n",
       "      <td>NaN</td>\n",
       "    </tr>\n",
       "    <tr>\n",
       "      <th>003</th>\n",
       "      <th>2019-12-31 23:59:59</th>\n",
       "      <td>male</td>\n",
       "      <td>20</td>\n",
       "      <td>0.0</td>\n",
       "      <td>NaN</td>\n",
       "      <td>NaN</td>\n",
       "      <td>NaN</td>\n",
       "      <td>NaN</td>\n",
       "      <td>NaN</td>\n",
       "      <td>NaN</td>\n",
       "      <td>NaN</td>\n",
       "      <td>NaN</td>\n",
       "      <td>NaN</td>\n",
       "      <td>NaN</td>\n",
       "      <td>NaN</td>\n",
       "      <td>NaN</td>\n",
       "      <td>NaN</td>\n",
       "      <td>NaN</td>\n",
       "      <td>NaN</td>\n",
       "      <td>NaN</td>\n",
       "      <td>NaN</td>\n",
       "    </tr>\n",
       "    <tr>\n",
       "      <th>001</th>\n",
       "      <th>2020-01-02 23:59:59</th>\n",
       "      <td>male</td>\n",
       "      <td>35</td>\n",
       "      <td>1.0</td>\n",
       "      <td>0.000000</td>\n",
       "      <td>1.0</td>\n",
       "      <td>Apple</td>\n",
       "      <td>1.0</td>\n",
       "      <td>Apple</td>\n",
       "      <td>100.0</td>\n",
       "      <td>1.0</td>\n",
       "      <td>100.0</td>\n",
       "      <td>1.0</td>\n",
       "      <td>100.0</td>\n",
       "      <td>1.0</td>\n",
       "      <td>100.0</td>\n",
       "      <td>NaN</td>\n",
       "      <td>NaN</td>\n",
       "      <td>NaN</td>\n",
       "      <td>NaN</td>\n",
       "      <td>47.999722</td>\n",
       "    </tr>\n",
       "    <tr>\n",
       "      <th>002</th>\n",
       "      <th>2020-01-02 23:59:59</th>\n",
       "      <td>female</td>\n",
       "      <td>30</td>\n",
       "      <td>1.0</td>\n",
       "      <td>0.000000</td>\n",
       "      <td>0.0</td>\n",
       "      <td>NaN</td>\n",
       "      <td>0.0</td>\n",
       "      <td>NaN</td>\n",
       "      <td>20.0</td>\n",
       "      <td>0.0</td>\n",
       "      <td>20.0</td>\n",
       "      <td>0.0</td>\n",
       "      <td>20.0</td>\n",
       "      <td>0.0</td>\n",
       "      <td>20.0</td>\n",
       "      <td>NaN</td>\n",
       "      <td>NaN</td>\n",
       "      <td>NaN</td>\n",
       "      <td>NaN</td>\n",
       "      <td>47.999722</td>\n",
       "    </tr>\n",
       "    <tr>\n",
       "      <th>001</th>\n",
       "      <th>2020-01-05 23:59:59</th>\n",
       "      <td>male</td>\n",
       "      <td>35</td>\n",
       "      <td>2.0</td>\n",
       "      <td>0.693147</td>\n",
       "      <td>1.0</td>\n",
       "      <td>Apple</td>\n",
       "      <td>0.0</td>\n",
       "      <td>NaN</td>\n",
       "      <td>13.0</td>\n",
       "      <td>0.5</td>\n",
       "      <td>56.5</td>\n",
       "      <td>1.0</td>\n",
       "      <td>100.0</td>\n",
       "      <td>0.5</td>\n",
       "      <td>56.5</td>\n",
       "      <td>NaN</td>\n",
       "      <td>NaN</td>\n",
       "      <td>0.707107</td>\n",
       "      <td>61.51829</td>\n",
       "      <td>71.999722</td>\n",
       "    </tr>\n",
       "    <tr>\n",
       "      <th>003</th>\n",
       "      <th>2020-01-06 23:59:59</th>\n",
       "      <td>male</td>\n",
       "      <td>20</td>\n",
       "      <td>1.0</td>\n",
       "      <td>0.000000</td>\n",
       "      <td>1.0</td>\n",
       "      <td>Orange</td>\n",
       "      <td>1.0</td>\n",
       "      <td>Orange</td>\n",
       "      <td>50.0</td>\n",
       "      <td>1.0</td>\n",
       "      <td>50.0</td>\n",
       "      <td>1.0</td>\n",
       "      <td>50.0</td>\n",
       "      <td>1.0</td>\n",
       "      <td>50.0</td>\n",
       "      <td>NaN</td>\n",
       "      <td>NaN</td>\n",
       "      <td>NaN</td>\n",
       "      <td>NaN</td>\n",
       "      <td>143.999722</td>\n",
       "    </tr>\n",
       "  </tbody>\n",
       "</table>\n",
       "</div>"
      ],
      "text/plain": [
       "                                    Sex  Age  COUNT(Transaction)  \\\n",
       "Customer ID time                                                   \n",
       "001         2019-12-31 23:59:59    male   35                 0.0   \n",
       "002         2019-12-31 23:59:59  female   30                 0.0   \n",
       "003         2019-12-31 23:59:59    male   20                 0.0   \n",
       "001         2020-01-02 23:59:59    male   35                 1.0   \n",
       "002         2020-01-02 23:59:59  female   30                 1.0   \n",
       "001         2020-01-05 23:59:59    male   35                 2.0   \n",
       "003         2020-01-06 23:59:59    male   20                 1.0   \n",
       "\n",
       "                                 ENTROPY(Transaction.Item Purchase)  \\\n",
       "Customer ID time                                                      \n",
       "001         2019-12-31 23:59:59                                 NaN   \n",
       "002         2019-12-31 23:59:59                                 NaN   \n",
       "003         2019-12-31 23:59:59                                 NaN   \n",
       "001         2020-01-02 23:59:59                            0.000000   \n",
       "002         2020-01-02 23:59:59                            0.000000   \n",
       "001         2020-01-05 23:59:59                            0.693147   \n",
       "003         2020-01-06 23:59:59                            0.000000   \n",
       "\n",
       "                                 NUM_UNIQUE(Transaction.Item Purchase)  \\\n",
       "Customer ID time                                                         \n",
       "001         2019-12-31 23:59:59                                    NaN   \n",
       "002         2019-12-31 23:59:59                                    NaN   \n",
       "003         2019-12-31 23:59:59                                    NaN   \n",
       "001         2020-01-02 23:59:59                                    1.0   \n",
       "002         2020-01-02 23:59:59                                    0.0   \n",
       "001         2020-01-05 23:59:59                                    1.0   \n",
       "003         2020-01-06 23:59:59                                    1.0   \n",
       "\n",
       "                                MODE(Transaction.Item Purchase)  \\\n",
       "Customer ID time                                                  \n",
       "001         2019-12-31 23:59:59                             NaN   \n",
       "002         2019-12-31 23:59:59                             NaN   \n",
       "003         2019-12-31 23:59:59                             NaN   \n",
       "001         2020-01-02 23:59:59                           Apple   \n",
       "002         2020-01-02 23:59:59                             NaN   \n",
       "001         2020-01-05 23:59:59                           Apple   \n",
       "003         2020-01-06 23:59:59                          Orange   \n",
       "\n",
       "                                 LAST(Transaction.Target)  \\\n",
       "Customer ID time                                            \n",
       "001         2019-12-31 23:59:59                       NaN   \n",
       "002         2019-12-31 23:59:59                       NaN   \n",
       "003         2019-12-31 23:59:59                       NaN   \n",
       "001         2020-01-02 23:59:59                       1.0   \n",
       "002         2020-01-02 23:59:59                       0.0   \n",
       "001         2020-01-05 23:59:59                       0.0   \n",
       "003         2020-01-06 23:59:59                       1.0   \n",
       "\n",
       "                                LAST(Transaction.Item Purchase)  \\\n",
       "Customer ID time                                                  \n",
       "001         2019-12-31 23:59:59                             NaN   \n",
       "002         2019-12-31 23:59:59                             NaN   \n",
       "003         2019-12-31 23:59:59                             NaN   \n",
       "001         2020-01-02 23:59:59                           Apple   \n",
       "002         2020-01-02 23:59:59                             NaN   \n",
       "001         2020-01-05 23:59:59                             NaN   \n",
       "003         2020-01-06 23:59:59                          Orange   \n",
       "\n",
       "                                 LAST(Transaction.Seconds Stay)  \\\n",
       "Customer ID time                                                  \n",
       "001         2019-12-31 23:59:59                             NaN   \n",
       "002         2019-12-31 23:59:59                             NaN   \n",
       "003         2019-12-31 23:59:59                             NaN   \n",
       "001         2020-01-02 23:59:59                           100.0   \n",
       "002         2020-01-02 23:59:59                            20.0   \n",
       "001         2020-01-05 23:59:59                            13.0   \n",
       "003         2020-01-06 23:59:59                            50.0   \n",
       "\n",
       "                                 MEAN(Transaction.Target)  \\\n",
       "Customer ID time                                            \n",
       "001         2019-12-31 23:59:59                       NaN   \n",
       "002         2019-12-31 23:59:59                       NaN   \n",
       "003         2019-12-31 23:59:59                       NaN   \n",
       "001         2020-01-02 23:59:59                       1.0   \n",
       "002         2020-01-02 23:59:59                       0.0   \n",
       "001         2020-01-05 23:59:59                       0.5   \n",
       "003         2020-01-06 23:59:59                       1.0   \n",
       "\n",
       "                                 MEAN(Transaction.Seconds Stay)  \\\n",
       "Customer ID time                                                  \n",
       "001         2019-12-31 23:59:59                             NaN   \n",
       "002         2019-12-31 23:59:59                             NaN   \n",
       "003         2019-12-31 23:59:59                             NaN   \n",
       "001         2020-01-02 23:59:59                           100.0   \n",
       "002         2020-01-02 23:59:59                            20.0   \n",
       "001         2020-01-05 23:59:59                            56.5   \n",
       "003         2020-01-06 23:59:59                            50.0   \n",
       "\n",
       "                                 MAX(Transaction.Target)  \\\n",
       "Customer ID time                                           \n",
       "001         2019-12-31 23:59:59                      NaN   \n",
       "002         2019-12-31 23:59:59                      NaN   \n",
       "003         2019-12-31 23:59:59                      NaN   \n",
       "001         2020-01-02 23:59:59                      1.0   \n",
       "002         2020-01-02 23:59:59                      0.0   \n",
       "001         2020-01-05 23:59:59                      1.0   \n",
       "003         2020-01-06 23:59:59                      1.0   \n",
       "\n",
       "                                 MAX(Transaction.Seconds Stay)  \\\n",
       "Customer ID time                                                 \n",
       "001         2019-12-31 23:59:59                            NaN   \n",
       "002         2019-12-31 23:59:59                            NaN   \n",
       "003         2019-12-31 23:59:59                            NaN   \n",
       "001         2020-01-02 23:59:59                          100.0   \n",
       "002         2020-01-02 23:59:59                           20.0   \n",
       "001         2020-01-05 23:59:59                          100.0   \n",
       "003         2020-01-06 23:59:59                           50.0   \n",
       "\n",
       "                                 MEDIAN(Transaction.Target)  \\\n",
       "Customer ID time                                              \n",
       "001         2019-12-31 23:59:59                         NaN   \n",
       "002         2019-12-31 23:59:59                         NaN   \n",
       "003         2019-12-31 23:59:59                         NaN   \n",
       "001         2020-01-02 23:59:59                         1.0   \n",
       "002         2020-01-02 23:59:59                         0.0   \n",
       "001         2020-01-05 23:59:59                         0.5   \n",
       "003         2020-01-06 23:59:59                         1.0   \n",
       "\n",
       "                                 MEDIAN(Transaction.Seconds Stay)  \\\n",
       "Customer ID time                                                    \n",
       "001         2019-12-31 23:59:59                               NaN   \n",
       "002         2019-12-31 23:59:59                               NaN   \n",
       "003         2019-12-31 23:59:59                               NaN   \n",
       "001         2020-01-02 23:59:59                             100.0   \n",
       "002         2020-01-02 23:59:59                              20.0   \n",
       "001         2020-01-05 23:59:59                              56.5   \n",
       "003         2020-01-06 23:59:59                              50.0   \n",
       "\n",
       "                                 SKEW(Transaction.Target)  \\\n",
       "Customer ID time                                            \n",
       "001         2019-12-31 23:59:59                       NaN   \n",
       "002         2019-12-31 23:59:59                       NaN   \n",
       "003         2019-12-31 23:59:59                       NaN   \n",
       "001         2020-01-02 23:59:59                       NaN   \n",
       "002         2020-01-02 23:59:59                       NaN   \n",
       "001         2020-01-05 23:59:59                       NaN   \n",
       "003         2020-01-06 23:59:59                       NaN   \n",
       "\n",
       "                                 SKEW(Transaction.Seconds Stay)  \\\n",
       "Customer ID time                                                  \n",
       "001         2019-12-31 23:59:59                             NaN   \n",
       "002         2019-12-31 23:59:59                             NaN   \n",
       "003         2019-12-31 23:59:59                             NaN   \n",
       "001         2020-01-02 23:59:59                             NaN   \n",
       "002         2020-01-02 23:59:59                             NaN   \n",
       "001         2020-01-05 23:59:59                             NaN   \n",
       "003         2020-01-06 23:59:59                             NaN   \n",
       "\n",
       "                                 STD(Transaction.Target)  \\\n",
       "Customer ID time                                           \n",
       "001         2019-12-31 23:59:59                      NaN   \n",
       "002         2019-12-31 23:59:59                      NaN   \n",
       "003         2019-12-31 23:59:59                      NaN   \n",
       "001         2020-01-02 23:59:59                      NaN   \n",
       "002         2020-01-02 23:59:59                      NaN   \n",
       "001         2020-01-05 23:59:59                 0.707107   \n",
       "003         2020-01-06 23:59:59                      NaN   \n",
       "\n",
       "                                 STD(Transaction.Seconds Stay)  \\\n",
       "Customer ID time                                                 \n",
       "001         2019-12-31 23:59:59                            NaN   \n",
       "002         2019-12-31 23:59:59                            NaN   \n",
       "003         2019-12-31 23:59:59                            NaN   \n",
       "001         2020-01-02 23:59:59                            NaN   \n",
       "002         2020-01-02 23:59:59                            NaN   \n",
       "001         2020-01-05 23:59:59                       61.51829   \n",
       "003         2020-01-06 23:59:59                            NaN   \n",
       "\n",
       "                                 TIME_SINCE_LAST(Transaction.Time, unit=hours)  \n",
       "Customer ID time                                                                \n",
       "001         2019-12-31 23:59:59                                            NaN  \n",
       "002         2019-12-31 23:59:59                                            NaN  \n",
       "003         2019-12-31 23:59:59                                            NaN  \n",
       "001         2020-01-02 23:59:59                                      47.999722  \n",
       "002         2020-01-02 23:59:59                                      47.999722  \n",
       "001         2020-01-05 23:59:59                                      71.999722  \n",
       "003         2020-01-06 23:59:59                                     143.999722  "
      ]
     },
     "execution_count": 103,
     "metadata": {},
     "output_type": "execute_result"
    }
   ],
   "source": [
    "fm # 特征工程的结果"
   ]
  },
  {
   "cell_type": "code",
   "execution_count": null,
   "metadata": {},
   "outputs": [],
   "source": []
  }
 ],
 "metadata": {
  "hide_input": false,
  "kernelspec": {
   "display_name": "Python 3",
   "language": "python",
   "name": "python3"
  },
  "language_info": {
   "codemirror_mode": {
    "name": "ipython",
    "version": 3
   },
   "file_extension": ".py",
   "mimetype": "text/x-python",
   "name": "python",
   "nbconvert_exporter": "python",
   "pygments_lexer": "ipython3",
   "version": "3.7.6"
  },
  "toc": {
   "base_numbering": 1,
   "nav_menu": {},
   "number_sections": true,
   "sideBar": true,
   "skip_h1_title": false,
   "title_cell": "Table of Contents",
   "title_sidebar": "Contents",
   "toc_cell": true,
   "toc_position": {
    "height": "720px",
    "left": "35.9336px",
    "top": "120.938px",
    "width": "360px"
   },
   "toc_section_display": true,
   "toc_window_display": true
  }
 },
 "nbformat": 4,
 "nbformat_minor": 4
}
