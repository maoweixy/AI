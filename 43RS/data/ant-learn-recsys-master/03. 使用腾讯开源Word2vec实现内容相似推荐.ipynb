{
 "cells": [
  {
   "cell_type": "markdown",
   "metadata": {},
   "source": [
    "## 使用腾讯开源Word2vec实现内容相似推荐\n",
    "\n",
    "下载地址：https://ai.tencent.com/ailab/nlp/embedding.html\n",
    "\n",
    "数据格式：\n",
    "* 下载后解压文件名为Tencent_AILab_ChineseEmbedding.txt\n",
    "* 第一行是8824330 200，即行数和维度数\n",
    "* 之后的每行，用空格分隔201列，其中第一个是词语，后面是Embedding\n",
    "\n",
    "\n",
    "实现步骤：\n",
    "1. 获取文章列表数据，包括ID、标题、内容\n",
    "2. 使用jieba实现关键词提取\n",
    "3. 查询腾讯word2vec，平均法得到文档embedding\n",
    "4. 对于输入的ID，计算最相似的文章列表"
   ]
  },
  {
   "cell_type": "markdown",
   "metadata": {},
   "source": [
    "### 1. 获取数据"
   ]
  },
  {
   "cell_type": "code",
   "execution_count": 1,
   "metadata": {},
   "outputs": [],
   "source": [
    "import pandas as pd\n",
    "import numpy as np"
   ]
  },
  {
   "cell_type": "code",
   "execution_count": 2,
   "metadata": {},
   "outputs": [
    {
     "data": {
      "text/html": [
       "<div>\n",
       "<style scoped>\n",
       "    .dataframe tbody tr th:only-of-type {\n",
       "        vertical-align: middle;\n",
       "    }\n",
       "\n",
       "    .dataframe tbody tr th {\n",
       "        vertical-align: top;\n",
       "    }\n",
       "\n",
       "    .dataframe thead th {\n",
       "        text-align: right;\n",
       "    }\n",
       "</style>\n",
       "<table border=\"1\" class=\"dataframe\">\n",
       "  <thead>\n",
       "    <tr style=\"text-align: right;\">\n",
       "      <th></th>\n",
       "      <th>id</th>\n",
       "      <th>post_title</th>\n",
       "      <th>words</th>\n",
       "    </tr>\n",
       "  </thead>\n",
       "  <tbody>\n",
       "    <tr>\n",
       "      <th>0</th>\n",
       "      <td>78</td>\n",
       "      <td>JavaScript对Select的子元素Option的操作</td>\n",
       "      <td>javascript select 元素 option 操作 javascript 删除 所...</td>\n",
       "    </tr>\n",
       "    <tr>\n",
       "      <th>1</th>\n",
       "      <td>83</td>\n",
       "      <td>当用header方法输出内容时出现“Cannot modify header informa...</td>\n",
       "      <td>当用 header 方法 输出 内容 出现 cannot modify header inf...</td>\n",
       "    </tr>\n",
       "    <tr>\n",
       "      <th>2</th>\n",
       "      <td>85</td>\n",
       "      <td>linux下禁止机箱蜂鸣方法</td>\n",
       "      <td>linux 禁止 机箱 蜂鸣 方法 图像 界面 注意 图形界面 即使 图像 界面 快捷键 出...</td>\n",
       "    </tr>\n",
       "    <tr>\n",
       "      <th>3</th>\n",
       "      <td>87</td>\n",
       "      <td>硬盘分区表丢失、修复大事记--分区表修复利器testdisk</td>\n",
       "      <td>硬盘分区 丢失 修复 大事记 -- 分区表 修复 利器 testdisk 今天 2009 1...</td>\n",
       "    </tr>\n",
       "    <tr>\n",
       "      <th>4</th>\n",
       "      <td>91</td>\n",
       "      <td>vi编辑器命令</td>\n",
       "      <td>vi 编辑器 命令 vi 编辑器 文字说明 模式 命令 模式 编辑 模式 末行 模式 切换 ...</td>\n",
       "    </tr>\n",
       "  </tbody>\n",
       "</table>\n",
       "</div>"
      ],
      "text/plain": [
       "   id                                         post_title  \\\n",
       "0  78                     JavaScript对Select的子元素Option的操作   \n",
       "1  83  当用header方法输出内容时出现“Cannot modify header informa...   \n",
       "2  85                                     linux下禁止机箱蜂鸣方法   \n",
       "3  87                     硬盘分区表丢失、修复大事记--分区表修复利器testdisk   \n",
       "4  91                                            vi编辑器命令   \n",
       "\n",
       "                                               words  \n",
       "0  javascript select 元素 option 操作 javascript 删除 所...  \n",
       "1  当用 header 方法 输出 内容 出现 cannot modify header inf...  \n",
       "2  linux 禁止 机箱 蜂鸣 方法 图像 界面 注意 图形界面 即使 图像 界面 快捷键 出...  \n",
       "3  硬盘分区 丢失 修复 大事记 -- 分区表 修复 利器 testdisk 今天 2009 1...  \n",
       "4  vi 编辑器 命令 vi 编辑器 文字说明 模式 命令 模式 编辑 模式 末行 模式 切换 ...  "
      ]
     },
     "execution_count": 2,
     "metadata": {},
     "output_type": "execute_result"
    }
   ],
   "source": [
    "df = pd.read_csv(\"./datas/crazyant_blog_articles_wordsegs.csv\")\n",
    "df.head()"
   ]
  },
  {
   "cell_type": "markdown",
   "metadata": {},
   "source": [
    "### 2. 查询腾讯数据集计算文档Embedding"
   ]
  },
  {
   "cell_type": "markdown",
   "metadata": {},
   "source": [
    "#### 去重后的词表"
   ]
  },
  {
   "cell_type": "code",
   "execution_count": 3,
   "metadata": {},
   "outputs": [
    {
     "data": {
      "text/plain": [
       "14871"
      ]
     },
     "execution_count": 3,
     "metadata": {},
     "output_type": "execute_result"
    }
   ],
   "source": [
    "all_words = set()\n",
    "for idx, row in df.iterrows():\n",
    "    all_words.update(row[\"words\"].split())\n",
    "len(all_words)"
   ]
  },
  {
   "cell_type": "markdown",
   "metadata": {},
   "source": [
    "#### 查询候选词语的腾讯wordEmbedding"
   ]
  },
  {
   "cell_type": "code",
   "execution_count": 5,
   "metadata": {
    "scrolled": true
   },
   "outputs": [],
   "source": [
    "# 候选词语的embedding\n",
    "word_embedding = {}\n",
    "\n",
    "is_first_line = True\n",
    "# with open(\"/home/pss/windir/Tencent_AILab_ChineseEmbedding.txt\") as fin:\n",
    "with open(\"./datas/small_tencent_embedding.txt\") as fin:\n",
    "    for line in fin:\n",
    "        if is_first_line: \n",
    "            is_first_line = False\n",
    "            continue\n",
    "        fields = line[:-1].split()\n",
    "        if len(fields) != 201:\n",
    "            continue\n",
    "        word = fields[0]\n",
    "        if word in all_words:\n",
    "            word_embedding[word] = np.array([float(x) for x in fields[1:]])"
   ]
  },
  {
   "cell_type": "code",
   "execution_count": 6,
   "metadata": {},
   "outputs": [
    {
     "name": "stdout",
     "output_type": "stream",
     "text": [
      "11382 [ 0.382475  0.156139  0.062302  0.030984  0.481495 -0.070564  0.466484\n",
      "  0.546035 -0.238761 -0.126754  0.063588  0.091173 -0.272091 -0.113122\n",
      "  0.170998 -0.139973 -0.335421 -0.1836   -0.119432 -0.026666 -0.524403\n",
      " -0.290163 -0.495772  0.136166  0.074637  0.126304 -0.41948   0.271968\n",
      "  0.447399  0.041005 -0.180788  0.101531  0.333039  0.013628  0.052285\n",
      " -0.433536  0.494823 -0.29307  -0.073794  0.260313 -0.052784 -0.226162\n",
      "  0.791509 -0.203396  0.059075 -0.082627 -0.423575 -0.371575 -0.568254\n",
      "  0.134853  0.174628  0.138118  0.059341 -0.405463  0.452836 -0.067161\n",
      "  0.236258  0.347981  0.16007  -0.213742  0.047517  0.232295 -0.151182\n",
      "  0.011967 -0.528855 -0.566595  0.287433  1.006496  0.00421   0.031725\n",
      " -0.543762  0.194417  0.028565 -0.086813  0.005247  0.582514 -0.241997\n",
      "  0.249292  0.14645   0.213583  0.241735 -0.29941  -0.192367  0.115289\n",
      "  0.193353 -0.717468 -0.139603  0.110287 -0.104537  0.076995  0.669608\n",
      "  0.192023 -0.157454  0.015251  0.42727   0.442922 -0.302943 -0.308798\n",
      " -0.374949 -0.039363 -0.279962 -0.403831 -0.172874 -0.133776 -0.229774\n",
      "  0.078177  0.259441 -0.601561  0.506313 -0.105971 -0.13219  -0.594944\n",
      "  0.140356 -0.288789 -0.538704  0.168588  0.332293 -0.230388  0.082054\n",
      " -0.310356  0.419455 -0.522421 -0.115699  0.164517 -0.069782 -0.157018\n",
      " -0.334557 -0.251582 -0.590902  0.226033  0.398092 -0.091599  0.091727\n",
      " -0.58307  -0.336118  0.156774 -0.143228 -0.177227 -0.074846 -0.185674\n",
      " -0.314648 -0.515832 -0.202507 -0.496272  0.52302  -0.452872  0.142403\n",
      "  0.745848  0.39067   0.140554 -0.12223   0.138288  0.075117 -0.319113\n",
      "  0.277703  0.258449 -0.33654   0.349149 -0.191787  0.049775  0.687543\n",
      " -0.03194  -0.196278 -0.017717 -0.257426 -0.16031  -0.462313  0.046826\n",
      "  0.877917 -0.300582 -0.15293  -0.06792   0.022872  0.628877 -0.216007\n",
      " -0.157061 -0.217871  0.247333 -0.481145  0.449098  0.073597 -0.613611\n",
      "  0.403303  0.08095  -0.121972  0.029561 -0.053261  0.058306  0.039042\n",
      "  0.062777  0.153255  0.25143   0.047837 -0.003452  0.474237  0.277556\n",
      "  0.559055  0.138842 -0.240994  0.649724]\n"
     ]
    }
   ],
   "source": [
    "print(len(word_embedding), word_embedding[\"python\"])"
   ]
  },
  {
   "cell_type": "markdown",
   "metadata": {},
   "source": [
    "#### 计算每篇文章的doc embedding"
   ]
  },
  {
   "cell_type": "code",
   "execution_count": 7,
   "metadata": {},
   "outputs": [],
   "source": [
    "def compute_doc_vector(words):\n",
    "    words = words.split()\n",
    "    embeddings = []\n",
    "    for word in words:\n",
    "        if word in word_embedding:\n",
    "            embeddings.append(word_embedding[word])\n",
    "    return np.sum(embeddings, axis=0) / len(embeddings)\n",
    "\n",
    "df[\"doc_vector\"] = df[\"words\"].map(compute_doc_vector)"
   ]
  },
  {
   "cell_type": "code",
   "execution_count": 8,
   "metadata": {},
   "outputs": [
    {
     "data": {
      "text/html": [
       "<div>\n",
       "<style scoped>\n",
       "    .dataframe tbody tr th:only-of-type {\n",
       "        vertical-align: middle;\n",
       "    }\n",
       "\n",
       "    .dataframe tbody tr th {\n",
       "        vertical-align: top;\n",
       "    }\n",
       "\n",
       "    .dataframe thead th {\n",
       "        text-align: right;\n",
       "    }\n",
       "</style>\n",
       "<table border=\"1\" class=\"dataframe\">\n",
       "  <thead>\n",
       "    <tr style=\"text-align: right;\">\n",
       "      <th></th>\n",
       "      <th>id</th>\n",
       "      <th>post_title</th>\n",
       "      <th>words</th>\n",
       "      <th>doc_vector</th>\n",
       "    </tr>\n",
       "  </thead>\n",
       "  <tbody>\n",
       "    <tr>\n",
       "      <th>0</th>\n",
       "      <td>78</td>\n",
       "      <td>JavaScript对Select的子元素Option的操作</td>\n",
       "      <td>javascript select 元素 option 操作 javascript 删除 所...</td>\n",
       "      <td>[-0.013126199999999996, -0.03166106249999995, ...</td>\n",
       "    </tr>\n",
       "    <tr>\n",
       "      <th>1</th>\n",
       "      <td>83</td>\n",
       "      <td>当用header方法输出内容时出现“Cannot modify header informa...</td>\n",
       "      <td>当用 header 方法 输出 内容 出现 cannot modify header inf...</td>\n",
       "      <td>[0.173896275, -0.12689985, -0.0503381250000000...</td>\n",
       "    </tr>\n",
       "    <tr>\n",
       "      <th>2</th>\n",
       "      <td>85</td>\n",
       "      <td>linux下禁止机箱蜂鸣方法</td>\n",
       "      <td>linux 禁止 机箱 蜂鸣 方法 图像 界面 注意 图形界面 即使 图像 界面 快捷键 出...</td>\n",
       "      <td>[0.17765841463414633, -0.13135253658536586, -0...</td>\n",
       "    </tr>\n",
       "  </tbody>\n",
       "</table>\n",
       "</div>"
      ],
      "text/plain": [
       "   id                                         post_title  \\\n",
       "0  78                     JavaScript对Select的子元素Option的操作   \n",
       "1  83  当用header方法输出内容时出现“Cannot modify header informa...   \n",
       "2  85                                     linux下禁止机箱蜂鸣方法   \n",
       "\n",
       "                                               words  \\\n",
       "0  javascript select 元素 option 操作 javascript 删除 所...   \n",
       "1  当用 header 方法 输出 内容 出现 cannot modify header inf...   \n",
       "2  linux 禁止 机箱 蜂鸣 方法 图像 界面 注意 图形界面 即使 图像 界面 快捷键 出...   \n",
       "\n",
       "                                          doc_vector  \n",
       "0  [-0.013126199999999996, -0.03166106249999995, ...  \n",
       "1  [0.173896275, -0.12689985, -0.0503381250000000...  \n",
       "2  [0.17765841463414633, -0.13135253658536586, -0...  "
      ]
     },
     "execution_count": 8,
     "metadata": {},
     "output_type": "execute_result"
    }
   ],
   "source": [
    "df.head(3)"
   ]
  },
  {
   "cell_type": "markdown",
   "metadata": {},
   "source": [
    "### 4. 对于给定文章算出最相似的10篇文章"
   ]
  },
  {
   "cell_type": "code",
   "execution_count": 9,
   "metadata": {},
   "outputs": [
    {
     "data": {
      "text/html": [
       "<div>\n",
       "<style scoped>\n",
       "    .dataframe tbody tr th:only-of-type {\n",
       "        vertical-align: middle;\n",
       "    }\n",
       "\n",
       "    .dataframe tbody tr th {\n",
       "        vertical-align: top;\n",
       "    }\n",
       "\n",
       "    .dataframe thead th {\n",
       "        text-align: right;\n",
       "    }\n",
       "</style>\n",
       "<table border=\"1\" class=\"dataframe\">\n",
       "  <thead>\n",
       "    <tr style=\"text-align: right;\">\n",
       "      <th></th>\n",
       "      <th>id</th>\n",
       "      <th>post_title</th>\n",
       "      <th>words</th>\n",
       "      <th>doc_vector</th>\n",
       "    </tr>\n",
       "  </thead>\n",
       "  <tbody>\n",
       "    <tr>\n",
       "      <th>256</th>\n",
       "      <td>2583</td>\n",
       "      <td>Pandas实现数据的合并concat</td>\n",
       "      <td>pandas 实现 数据 合并 concat 使用 场景 批量 合并 相同 格式 excel...</td>\n",
       "      <td>[0.005996356060606063, 0.0679557373737372, -0....</td>\n",
       "    </tr>\n",
       "  </tbody>\n",
       "</table>\n",
       "</div>"
      ],
      "text/plain": [
       "       id           post_title  \\\n",
       "256  2583  Pandas实现数据的合并concat   \n",
       "\n",
       "                                                 words  \\\n",
       "256  pandas 实现 数据 合并 concat 使用 场景 批量 合并 相同 格式 excel...   \n",
       "\n",
       "                                            doc_vector  \n",
       "256  [0.005996356060606063, 0.0679557373737372, -0....  "
      ]
     },
     "execution_count": 9,
     "metadata": {},
     "output_type": "execute_result"
    }
   ],
   "source": [
    "# 随便挑选一篇文章ID，2583：pandas，581：PHP\n",
    "article_id = 2583\n",
    "df.loc[df[\"id\"]==article_id]"
   ]
  },
  {
   "cell_type": "code",
   "execution_count": 10,
   "metadata": {},
   "outputs": [
    {
     "data": {
      "text/plain": [
       "array([ 5.99635606e-03,  6.79557374e-02, -5.15264015e-03, -7.76245278e-02,\n",
       "        2.70167614e-02,  4.68369609e-02,  2.74888652e-01,  2.62035790e-01,\n",
       "        5.88677449e-02, -6.58535985e-03,  1.11688506e-01,  1.56684524e-01,\n",
       "        1.77044933e-01, -7.72565922e-02,  2.23586165e-01, -2.68098207e-02,\n",
       "       -5.74492298e-02, -2.22931782e-01, -1.58685366e-01,  1.63666288e-02,\n",
       "       -1.97521905e-01,  3.95486010e-02, -2.23003990e-02,  4.53217731e-01,\n",
       "        4.97356540e-02,  1.55571486e-01,  1.22501005e-01,  1.97476905e-01,\n",
       "        1.43449737e-01,  3.12355328e-01,  5.28948119e-02,  2.37558862e-01,\n",
       "       -2.46354255e-02,  2.88600253e-02, -1.40968886e-01, -3.14568242e-01,\n",
       "        4.63498718e-01, -6.93908093e-02, -2.77842109e-01, -1.02786698e-01,\n",
       "        2.17917083e-02, -3.95267639e-02,  8.89407037e-01,  2.16067168e-01,\n",
       "        2.37763532e-01,  1.08071389e-02, -6.36008851e-02, -3.85960957e-01,\n",
       "       -9.01793687e-02, -5.02437525e-02, -1.93142354e-01,  1.20377753e-01,\n",
       "       -2.66069100e-01,  5.12736111e-04,  2.37453848e-01, -1.70973374e-01,\n",
       "        7.13947891e-02,  2.23596067e-01,  1.25508807e-01,  2.91370631e-02,\n",
       "        2.53421154e-01,  2.18570372e-01,  6.61811023e-02,  7.87116540e-03,\n",
       "       -3.58385125e-01, -2.31601054e-01, -6.20776515e-04,  2.87921360e-01,\n",
       "       -6.98497273e-02,  2.96910628e-01, -1.14396985e-01,  7.47187184e-02,\n",
       "        1.12401405e-01,  2.61146491e-01,  5.06253371e-02,  2.99975042e-01,\n",
       "       -1.56446069e-01,  1.81437463e-01,  1.18665386e-01, -6.81480354e-02,\n",
       "       -1.01729874e-02,  1.01537891e-01, -2.42939112e-01,  4.37468182e-02,\n",
       "        7.82813649e-02, -4.57056059e-01, -1.21951795e-01,  1.00357259e-01,\n",
       "       -3.35722827e-01, -2.00390658e-01,  3.08073904e-01,  9.39711301e-02,\n",
       "        4.96192626e-02, -1.46375852e-01,  8.76855745e-02,  1.24465990e-01,\n",
       "       -8.69578902e-02, -2.00065420e-01, -3.86881818e-01, -5.95610530e-02,\n",
       "       -9.43234634e-02,  1.84121268e-01, -2.16411681e-01,  3.30269273e-01,\n",
       "       -1.31157114e-01,  1.20079110e-01,  4.50884780e-01, -4.50139899e-01,\n",
       "        1.39099991e-01, -1.74662470e-01,  1.18420543e-02, -2.54903345e-01,\n",
       "       -3.51942677e-03, -2.35402524e-01, -2.58014323e-01, -6.06734343e-03,\n",
       "        1.87537649e-01, -3.56116676e-01, -1.48041199e-02, -1.76928556e-01,\n",
       "        3.16831848e-01, -3.67365309e-01, -2.42331957e-02,  7.57859848e-04,\n",
       "        1.84420505e-01,  2.04954655e-01, -9.63339129e-02, -1.64155321e-01,\n",
       "       -1.46147361e-02, -6.23889495e-02,  9.88485417e-02,  8.84534432e-02,\n",
       "        3.61899230e-02, -2.04752389e-01, -3.52767949e-01, -2.68650359e-01,\n",
       "        3.56842045e-03, -1.80025914e-01, -3.36107663e-01,  3.77764722e-02,\n",
       "       -1.23050013e-01, -5.01169722e-01, -3.56815961e-01, -4.45775492e-01,\n",
       "        4.04320593e-02, -3.29379722e-02, -9.03878649e-02,  2.37281152e-01,\n",
       "        2.29618284e-01,  3.48304298e-01,  6.91505303e-02,  4.69922045e-02,\n",
       "       -9.15436730e-02, -4.24501894e-03,  5.53249015e-02,  6.40699331e-02,\n",
       "        5.18195833e-03, -4.19826591e-02,  1.76916278e-01, -5.61430556e-04,\n",
       "        4.86631779e-01,  4.27785985e-03, -1.48220241e-01,  1.61219992e-01,\n",
       "       -3.73591452e-02, -3.02019091e-02, -4.37856980e-01, -1.00045643e-01,\n",
       "        6.06517717e-01, -2.00983164e-01, -6.55406086e-02,  1.76792676e-01,\n",
       "        2.14701237e-02,  4.72522544e-01, -2.11267508e-01,  2.55805750e-01,\n",
       "       -8.79614886e-02,  2.28670148e-01, -4.69391030e-01,  2.22886051e-01,\n",
       "       -1.28288453e-01, -1.13597875e-01,  8.18052298e-02,  9.97049482e-02,\n",
       "        1.20732660e-01,  7.16256881e-02, -2.61462673e-01,  2.27431744e-01,\n",
       "       -3.28232105e-01, -1.29795891e-01,  2.83294133e-01,  1.20838999e-01,\n",
       "        7.72457614e-02,  5.50748510e-02,  6.00697992e-02,  3.97829836e-01,\n",
       "        3.08128122e-01, -3.78877414e-01, -3.62940732e-02,  1.29797199e-01])"
      ]
     },
     "execution_count": 10,
     "metadata": {},
     "output_type": "execute_result"
    }
   ],
   "source": [
    "article_embedding = df.loc[df[\"id\"]==article_id, \"doc_vector\"].iloc[0]\n",
    "article_embedding"
   ]
  },
  {
   "cell_type": "code",
   "execution_count": 11,
   "metadata": {},
   "outputs": [],
   "source": [
    "# 余弦相似度\n",
    "from scipy.spatial import distance\n",
    "df[\"sim_value\"] = df[\"doc_vector\"].map(lambda x : 1 - distance.cosine(article_embedding, x))"
   ]
  },
  {
   "cell_type": "code",
   "execution_count": 12,
   "metadata": {},
   "outputs": [
    {
     "data": {
      "text/html": [
       "<div>\n",
       "<style scoped>\n",
       "    .dataframe tbody tr th:only-of-type {\n",
       "        vertical-align: middle;\n",
       "    }\n",
       "\n",
       "    .dataframe tbody tr th {\n",
       "        vertical-align: top;\n",
       "    }\n",
       "\n",
       "    .dataframe thead th {\n",
       "        text-align: right;\n",
       "    }\n",
       "</style>\n",
       "<table border=\"1\" class=\"dataframe\">\n",
       "  <thead>\n",
       "    <tr style=\"text-align: right;\">\n",
       "      <th></th>\n",
       "      <th>id</th>\n",
       "      <th>post_title</th>\n",
       "      <th>sim_value</th>\n",
       "    </tr>\n",
       "  </thead>\n",
       "  <tbody>\n",
       "    <tr>\n",
       "      <th>0</th>\n",
       "      <td>78</td>\n",
       "      <td>JavaScript对Select的子元素Option的操作</td>\n",
       "      <td>0.953236</td>\n",
       "    </tr>\n",
       "    <tr>\n",
       "      <th>1</th>\n",
       "      <td>83</td>\n",
       "      <td>当用header方法输出内容时出现“Cannot modify header informa...</td>\n",
       "      <td>0.868788</td>\n",
       "    </tr>\n",
       "    <tr>\n",
       "      <th>2</th>\n",
       "      <td>85</td>\n",
       "      <td>linux下禁止机箱蜂鸣方法</td>\n",
       "      <td>0.783414</td>\n",
       "    </tr>\n",
       "  </tbody>\n",
       "</table>\n",
       "</div>"
      ],
      "text/plain": [
       "   id                                         post_title  sim_value\n",
       "0  78                     JavaScript对Select的子元素Option的操作   0.953236\n",
       "1  83  当用header方法输出内容时出现“Cannot modify header informa...   0.868788\n",
       "2  85                                     linux下禁止机箱蜂鸣方法   0.783414"
      ]
     },
     "execution_count": 12,
     "metadata": {},
     "output_type": "execute_result"
    }
   ],
   "source": [
    "df[[\"id\", \"post_title\", \"sim_value\"]].head(3)"
   ]
  },
  {
   "cell_type": "code",
   "execution_count": 13,
   "metadata": {},
   "outputs": [
    {
     "data": {
      "text/html": [
       "<div>\n",
       "<style scoped>\n",
       "    .dataframe tbody tr th:only-of-type {\n",
       "        vertical-align: middle;\n",
       "    }\n",
       "\n",
       "    .dataframe tbody tr th {\n",
       "        vertical-align: top;\n",
       "    }\n",
       "\n",
       "    .dataframe thead th {\n",
       "        text-align: right;\n",
       "    }\n",
       "</style>\n",
       "<table border=\"1\" class=\"dataframe\">\n",
       "  <thead>\n",
       "    <tr style=\"text-align: right;\">\n",
       "      <th></th>\n",
       "      <th>id</th>\n",
       "      <th>post_title</th>\n",
       "      <th>sim_value</th>\n",
       "    </tr>\n",
       "  </thead>\n",
       "  <tbody>\n",
       "    <tr>\n",
       "      <th>256</th>\n",
       "      <td>2583</td>\n",
       "      <td>Pandas实现数据的合并concat</td>\n",
       "      <td>1.000000</td>\n",
       "    </tr>\n",
       "    <tr>\n",
       "      <th>252</th>\n",
       "      <td>2546</td>\n",
       "      <td>Pandas的axis参数怎么理解？</td>\n",
       "      <td>0.988473</td>\n",
       "    </tr>\n",
       "    <tr>\n",
       "      <th>255</th>\n",
       "      <td>2574</td>\n",
       "      <td>Pandas的Index索引有什么用途？</td>\n",
       "      <td>0.987658</td>\n",
       "    </tr>\n",
       "    <tr>\n",
       "      <th>259</th>\n",
       "      <td>2594</td>\n",
       "      <td>Pandas怎样实现对数据的分组统计？</td>\n",
       "      <td>0.987287</td>\n",
       "    </tr>\n",
       "    <tr>\n",
       "      <th>240</th>\n",
       "      <td>2502</td>\n",
       "      <td>Pandas系列-DataFrame和Series数据结构</td>\n",
       "      <td>0.979710</td>\n",
       "    </tr>\n",
       "    <tr>\n",
       "      <th>239</th>\n",
       "      <td>2499</td>\n",
       "      <td>Pandas系列-读取csv/excel/mysql数据</td>\n",
       "      <td>0.978739</td>\n",
       "    </tr>\n",
       "    <tr>\n",
       "      <th>262</th>\n",
       "      <td>2604</td>\n",
       "      <td>Pandas怎样对每个分组应用apply函数?</td>\n",
       "      <td>0.978439</td>\n",
       "    </tr>\n",
       "    <tr>\n",
       "      <th>258</th>\n",
       "      <td>2591</td>\n",
       "      <td>怎样使用Pandas批量拆分与合并Excel文件？</td>\n",
       "      <td>0.972822</td>\n",
       "    </tr>\n",
       "    <tr>\n",
       "      <th>10</th>\n",
       "      <td>107</td>\n",
       "      <td>PHP输出Excel实例代码</td>\n",
       "      <td>0.970517</td>\n",
       "    </tr>\n",
       "    <tr>\n",
       "      <th>30</th>\n",
       "      <td>151</td>\n",
       "      <td>PHP操作EXCEL相关</td>\n",
       "      <td>0.968934</td>\n",
       "    </tr>\n",
       "  </tbody>\n",
       "</table>\n",
       "</div>"
      ],
      "text/plain": [
       "       id                     post_title  sim_value\n",
       "256  2583            Pandas实现数据的合并concat   1.000000\n",
       "252  2546             Pandas的axis参数怎么理解？   0.988473\n",
       "255  2574           Pandas的Index索引有什么用途？   0.987658\n",
       "259  2594            Pandas怎样实现对数据的分组统计？   0.987287\n",
       "240  2502  Pandas系列-DataFrame和Series数据结构   0.979710\n",
       "239  2499   Pandas系列-读取csv/excel/mysql数据   0.978739\n",
       "262  2604        Pandas怎样对每个分组应用apply函数?   0.978439\n",
       "258  2591      怎样使用Pandas批量拆分与合并Excel文件？   0.972822\n",
       "10    107                 PHP输出Excel实例代码   0.970517\n",
       "30    151                   PHP操作EXCEL相关   0.968934"
      ]
     },
     "execution_count": 13,
     "metadata": {},
     "output_type": "execute_result"
    }
   ],
   "source": [
    "# 按相似度降序排列，查询前10条\n",
    "df.sort_values(by=\"sim_value\", ascending=False)[[\"id\", \"post_title\", \"sim_value\"]].head(10)"
   ]
  },
  {
   "cell_type": "code",
   "execution_count": null,
   "metadata": {},
   "outputs": [],
   "source": []
  }
 ],
 "metadata": {
  "kernelspec": {
   "display_name": "Python 3",
   "language": "python",
   "name": "python3"
  },
  "language_info": {
   "codemirror_mode": {
    "name": "ipython",
    "version": 3
   },
   "file_extension": ".py",
   "mimetype": "text/x-python",
   "name": "python",
   "nbconvert_exporter": "python",
   "pygments_lexer": "ipython3",
   "version": "3.7.6"
  }
 },
 "nbformat": 4,
 "nbformat_minor": 4
}
