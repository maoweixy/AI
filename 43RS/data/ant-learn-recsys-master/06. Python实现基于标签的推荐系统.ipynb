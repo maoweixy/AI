{
 "cells": [
  {
   "cell_type": "markdown",
   "metadata": {},
   "source": [
    "## Python实现基于标签的推荐系统\n",
    "\n",
    "标签：泛指分类、关键词、作者、标签等一切离散的内容特征\n",
    "\n",
    "实现思路：\n",
    "1. 根据用户看过的内容列表，聚合统计出（用户、标签、频次）数据，即每个用户最喜欢的标签\n",
    "2. 根据用户看过的内容列表，聚合统计出（标签、内容、频次）数据，即每个标签最热的内容\n",
    "3. 对每个用户，根据最喜欢的标签取出标签的热榜/最新/人工推荐等列表，加权得到推荐列表"
   ]
  },
  {
   "cell_type": "code",
   "execution_count": 1,
   "metadata": {},
   "outputs": [],
   "source": [
    "# 给这个用户作推荐\n",
    "target_user_id = 1"
   ]
  },
  {
   "cell_type": "markdown",
   "metadata": {},
   "source": [
    "### 1. 读取MovieLens数据集"
   ]
  },
  {
   "cell_type": "code",
   "execution_count": 2,
   "metadata": {},
   "outputs": [],
   "source": [
    "import pandas as pd\n",
    "import numpy as np"
   ]
  },
  {
   "cell_type": "code",
   "execution_count": 3,
   "metadata": {},
   "outputs": [
    {
     "data": {
      "text/html": [
       "<div>\n",
       "<style scoped>\n",
       "    .dataframe tbody tr th:only-of-type {\n",
       "        vertical-align: middle;\n",
       "    }\n",
       "\n",
       "    .dataframe tbody tr th {\n",
       "        vertical-align: top;\n",
       "    }\n",
       "\n",
       "    .dataframe thead th {\n",
       "        text-align: right;\n",
       "    }\n",
       "</style>\n",
       "<table border=\"1\" class=\"dataframe\">\n",
       "  <thead>\n",
       "    <tr style=\"text-align: right;\">\n",
       "      <th></th>\n",
       "      <th>userId</th>\n",
       "      <th>movieId</th>\n",
       "      <th>rating</th>\n",
       "      <th>timestamp</th>\n",
       "      <th>title</th>\n",
       "      <th>genres</th>\n",
       "    </tr>\n",
       "  </thead>\n",
       "  <tbody>\n",
       "    <tr>\n",
       "      <th>0</th>\n",
       "      <td>1</td>\n",
       "      <td>1</td>\n",
       "      <td>4.0</td>\n",
       "      <td>964982703</td>\n",
       "      <td>Toy Story (1995)</td>\n",
       "      <td>Adventure|Animation|Children|Comedy|Fantasy</td>\n",
       "    </tr>\n",
       "    <tr>\n",
       "      <th>1</th>\n",
       "      <td>5</td>\n",
       "      <td>1</td>\n",
       "      <td>4.0</td>\n",
       "      <td>847434962</td>\n",
       "      <td>Toy Story (1995)</td>\n",
       "      <td>Adventure|Animation|Children|Comedy|Fantasy</td>\n",
       "    </tr>\n",
       "    <tr>\n",
       "      <th>2</th>\n",
       "      <td>7</td>\n",
       "      <td>1</td>\n",
       "      <td>4.5</td>\n",
       "      <td>1106635946</td>\n",
       "      <td>Toy Story (1995)</td>\n",
       "      <td>Adventure|Animation|Children|Comedy|Fantasy</td>\n",
       "    </tr>\n",
       "    <tr>\n",
       "      <th>3</th>\n",
       "      <td>15</td>\n",
       "      <td>1</td>\n",
       "      <td>2.5</td>\n",
       "      <td>1510577970</td>\n",
       "      <td>Toy Story (1995)</td>\n",
       "      <td>Adventure|Animation|Children|Comedy|Fantasy</td>\n",
       "    </tr>\n",
       "    <tr>\n",
       "      <th>4</th>\n",
       "      <td>17</td>\n",
       "      <td>1</td>\n",
       "      <td>4.5</td>\n",
       "      <td>1305696483</td>\n",
       "      <td>Toy Story (1995)</td>\n",
       "      <td>Adventure|Animation|Children|Comedy|Fantasy</td>\n",
       "    </tr>\n",
       "  </tbody>\n",
       "</table>\n",
       "</div>"
      ],
      "text/plain": [
       "   userId  movieId  rating   timestamp             title  \\\n",
       "0       1        1     4.0   964982703  Toy Story (1995)   \n",
       "1       5        1     4.0   847434962  Toy Story (1995)   \n",
       "2       7        1     4.5  1106635946  Toy Story (1995)   \n",
       "3      15        1     2.5  1510577970  Toy Story (1995)   \n",
       "4      17        1     4.5  1305696483  Toy Story (1995)   \n",
       "\n",
       "                                        genres  \n",
       "0  Adventure|Animation|Children|Comedy|Fantasy  \n",
       "1  Adventure|Animation|Children|Comedy|Fantasy  \n",
       "2  Adventure|Animation|Children|Comedy|Fantasy  \n",
       "3  Adventure|Animation|Children|Comedy|Fantasy  \n",
       "4  Adventure|Animation|Children|Comedy|Fantasy  "
      ]
     },
     "execution_count": 3,
     "metadata": {},
     "output_type": "execute_result"
    }
   ],
   "source": [
    "df = pd.merge(\n",
    "    left=pd.read_csv(\"./datas/ml-latest-small/ratings.csv\"),\n",
    "    right=pd.read_csv(\"./datas/ml-latest-small/movies.csv\"),\n",
    "    left_on=\"movieId\", right_on=\"movieId\"\n",
    ")\n",
    "df.head()"
   ]
  },
  {
   "cell_type": "markdown",
   "metadata": {},
   "source": [
    "### 2. 计算目标用户最喜欢的标签列表"
   ]
  },
  {
   "cell_type": "code",
   "execution_count": 4,
   "metadata": {},
   "outputs": [
    {
     "data": {
      "text/html": [
       "<div>\n",
       "<style scoped>\n",
       "    .dataframe tbody tr th:only-of-type {\n",
       "        vertical-align: middle;\n",
       "    }\n",
       "\n",
       "    .dataframe tbody tr th {\n",
       "        vertical-align: top;\n",
       "    }\n",
       "\n",
       "    .dataframe thead th {\n",
       "        text-align: right;\n",
       "    }\n",
       "</style>\n",
       "<table border=\"1\" class=\"dataframe\">\n",
       "  <thead>\n",
       "    <tr style=\"text-align: right;\">\n",
       "      <th></th>\n",
       "      <th>userId</th>\n",
       "      <th>movieId</th>\n",
       "      <th>rating</th>\n",
       "      <th>timestamp</th>\n",
       "      <th>title</th>\n",
       "      <th>genres</th>\n",
       "    </tr>\n",
       "  </thead>\n",
       "  <tbody>\n",
       "    <tr>\n",
       "      <th>0</th>\n",
       "      <td>1</td>\n",
       "      <td>1</td>\n",
       "      <td>4.0</td>\n",
       "      <td>964982703</td>\n",
       "      <td>Toy Story (1995)</td>\n",
       "      <td>Adventure|Animation|Children|Comedy|Fantasy</td>\n",
       "    </tr>\n",
       "    <tr>\n",
       "      <th>215</th>\n",
       "      <td>1</td>\n",
       "      <td>3</td>\n",
       "      <td>4.0</td>\n",
       "      <td>964981247</td>\n",
       "      <td>Grumpier Old Men (1995)</td>\n",
       "      <td>Comedy|Romance</td>\n",
       "    </tr>\n",
       "    <tr>\n",
       "      <th>267</th>\n",
       "      <td>1</td>\n",
       "      <td>6</td>\n",
       "      <td>4.0</td>\n",
       "      <td>964982224</td>\n",
       "      <td>Heat (1995)</td>\n",
       "      <td>Action|Crime|Thriller</td>\n",
       "    </tr>\n",
       "    <tr>\n",
       "      <th>369</th>\n",
       "      <td>1</td>\n",
       "      <td>47</td>\n",
       "      <td>5.0</td>\n",
       "      <td>964983815</td>\n",
       "      <td>Seven (a.k.a. Se7en) (1995)</td>\n",
       "      <td>Mystery|Thriller</td>\n",
       "    </tr>\n",
       "    <tr>\n",
       "      <th>572</th>\n",
       "      <td>1</td>\n",
       "      <td>50</td>\n",
       "      <td>5.0</td>\n",
       "      <td>964982931</td>\n",
       "      <td>Usual Suspects, The (1995)</td>\n",
       "      <td>Crime|Mystery|Thriller</td>\n",
       "    </tr>\n",
       "  </tbody>\n",
       "</table>\n",
       "</div>"
      ],
      "text/plain": [
       "     userId  movieId  rating  timestamp                        title  \\\n",
       "0         1        1     4.0  964982703             Toy Story (1995)   \n",
       "215       1        3     4.0  964981247      Grumpier Old Men (1995)   \n",
       "267       1        6     4.0  964982224                  Heat (1995)   \n",
       "369       1       47     5.0  964983815  Seven (a.k.a. Se7en) (1995)   \n",
       "572       1       50     5.0  964982931   Usual Suspects, The (1995)   \n",
       "\n",
       "                                          genres  \n",
       "0    Adventure|Animation|Children|Comedy|Fantasy  \n",
       "215                               Comedy|Romance  \n",
       "267                        Action|Crime|Thriller  \n",
       "369                             Mystery|Thriller  \n",
       "572                       Crime|Mystery|Thriller  "
      ]
     },
     "execution_count": 4,
     "metadata": {},
     "output_type": "execute_result"
    }
   ],
   "source": [
    "df_target_user = df[df[\"userId\"] == target_user_id]\n",
    "df_target_user.head()"
   ]
  },
  {
   "cell_type": "code",
   "execution_count": 5,
   "metadata": {},
   "outputs": [],
   "source": [
    "from collections import defaultdict\n",
    "user_genres = defaultdict(int)"
   ]
  },
  {
   "cell_type": "code",
   "execution_count": 6,
   "metadata": {},
   "outputs": [],
   "source": [
    "# 评分的累加，作为标签的分数\n",
    "for index, row in df_target_user.iterrows():\n",
    "    for genre in row[\"genres\"].split(\"|\"):\n",
    "        user_genres[genre] += row[\"rating\"]"
   ]
  },
  {
   "cell_type": "code",
   "execution_count": 7,
   "metadata": {},
   "outputs": [
    {
     "data": {
      "text/plain": [
       "[('Action', 389.0),\n",
       " ('Adventure', 373.0),\n",
       " ('Comedy', 355.0),\n",
       " ('Drama', 308.0),\n",
       " ('Thriller', 228.0),\n",
       " ('Fantasy', 202.0),\n",
       " ('Crime', 196.0),\n",
       " ('Children', 191.0),\n",
       " ('Sci-Fi', 169.0),\n",
       " ('Animation', 136.0)]"
      ]
     },
     "execution_count": 7,
     "metadata": {},
     "output_type": "execute_result"
    }
   ],
   "source": [
    "sorted(user_genres.items(), key=lambda x: x[1], reverse=True)[:10]"
   ]
  },
  {
   "cell_type": "code",
   "execution_count": 8,
   "metadata": {},
   "outputs": [],
   "source": [
    "# 归一化\n",
    "min_value = min(list(user_genres.values()))\n",
    "max_value = max(list(user_genres.values()))\n",
    "for genre, score in user_genres.items():\n",
    "    user_genres[genre] = (score - min_value) / (max_value-min_value)"
   ]
  },
  {
   "cell_type": "code",
   "execution_count": 9,
   "metadata": {},
   "outputs": [
    {
     "data": {
      "text/plain": [
       "[('Action', 1.0),\n",
       " ('Adventure', 0.9583333333333334),\n",
       " ('Comedy', 0.9114583333333334),\n",
       " ('Drama', 0.7890625),\n",
       " ('Thriller', 0.5807291666666666),\n",
       " ('Fantasy', 0.5130208333333334),\n",
       " ('Crime', 0.4973958333333333),\n",
       " ('Children', 0.484375),\n",
       " ('Sci-Fi', 0.4270833333333333),\n",
       " ('Animation', 0.3411458333333333)]"
      ]
     },
     "execution_count": 9,
     "metadata": {},
     "output_type": "execute_result"
    }
   ],
   "source": [
    "sorted(user_genres.items(), key=lambda x: x[1], reverse=True)[:10]"
   ]
  },
  {
   "cell_type": "markdown",
   "metadata": {},
   "source": [
    "### 3. 计算每个标签下的电影热榜"
   ]
  },
  {
   "cell_type": "code",
   "execution_count": 10,
   "metadata": {},
   "outputs": [],
   "source": [
    "# 格式为：{genre: [movie, score]}\n",
    "genre_hots = defaultdict(dict)"
   ]
  },
  {
   "cell_type": "code",
   "execution_count": 11,
   "metadata": {},
   "outputs": [],
   "source": [
    "# 计算每个电影下的热榜\n",
    "for index, row in df.iterrows():\n",
    "    movie_id = row[\"movieId\"]\n",
    "    for genre in row[\"genres\"].split(\"|\"):\n",
    "        if movie_id not in genre_hots[genre]:\n",
    "            genre_hots[genre][movie_id] = 0.0\n",
    "        genre_hots[genre][movie_id] += row[\"rating\"]"
   ]
  },
  {
   "cell_type": "code",
   "execution_count": 12,
   "metadata": {},
   "outputs": [
    {
     "data": {
      "text/plain": [
       "[(260, 1062.0),\n",
       " (480, 892.5),\n",
       " (1196, 889.5),\n",
       " (1, 843.0),\n",
       " (1198, 841.5),\n",
       " (4993, 813.0),\n",
       " (1210, 811.0),\n",
       " (150, 773.0),\n",
       " (7153, 762.0),\n",
       " (5952, 756.0)]"
      ]
     },
     "execution_count": 12,
     "metadata": {},
     "output_type": "execute_result"
    }
   ],
   "source": [
    "sorted(genre_hots[\"Adventure\"].items(), key=lambda x: x[1], reverse=True)[:10]"
   ]
  },
  {
   "cell_type": "code",
   "execution_count": 13,
   "metadata": {},
   "outputs": [],
   "source": [
    "# 归一化\n",
    "for genre in genre_hots:\n",
    "    min_value = min(list(genre_hots[genre].values()))\n",
    "    max_value = max(list(genre_hots[genre].values()))\n",
    "    for movie_id, rating in genre_hots[genre].items():\n",
    "        genre_hots[genre][movie_id] = (rating - min_value) / (max_value-min_value)"
   ]
  },
  {
   "cell_type": "code",
   "execution_count": 14,
   "metadata": {},
   "outputs": [
    {
     "data": {
      "text/plain": [
       "[(260, 1.0),\n",
       " (480, 0.8403203014601979),\n",
       " (1196, 0.8374941121055111),\n",
       " (1, 0.7936881771078662),\n",
       " (1198, 0.7922750824305228),\n",
       " (4993, 0.7654262835609986),\n",
       " (1210, 0.7635421573245408),\n",
       " (150, 0.7277437588318417),\n",
       " (7153, 0.7173810645313236),\n",
       " (5952, 0.71172868582195)]"
      ]
     },
     "execution_count": 14,
     "metadata": {},
     "output_type": "execute_result"
    }
   ],
   "source": [
    "sorted(genre_hots[\"Adventure\"].items(), key=lambda x: x[1], reverse=True)[:10]"
   ]
  },
  {
   "cell_type": "markdown",
   "metadata": {},
   "source": [
    "### 4. 计算用户喜爱的标签最热的10个电影"
   ]
  },
  {
   "cell_type": "code",
   "execution_count": 15,
   "metadata": {},
   "outputs": [],
   "source": [
    "# {movie_id: score}\n",
    "target_movies = defaultdict(float)"
   ]
  },
  {
   "cell_type": "code",
   "execution_count": 16,
   "metadata": {},
   "outputs": [],
   "source": [
    "for user_genre, user_genre_score in user_genres.items():\n",
    "    for movie, movie_score in genre_hots[user_genre].items():\n",
    "        target_movies[movie] += user_genre_score * movie_score"
   ]
  },
  {
   "cell_type": "code",
   "execution_count": 17,
   "metadata": {},
   "outputs": [
    {
     "data": {
      "text/plain": [
       "[(1, 2.659877754856764),\n",
       " (296, 2.618536103626324),\n",
       " (480, 2.3001570533654525),\n",
       " (260, 2.2586328683834047),\n",
       " (7153, 2.2329593476964504),\n",
       " (4306, 2.207907832512942),\n",
       " (356, 2.2048431748010926),\n",
       " (2959, 2.072269210220652),\n",
       " (588, 2.0223837340176054),\n",
       " (2571, 1.9523546680900619)]"
      ]
     },
     "execution_count": 17,
     "metadata": {},
     "output_type": "execute_result"
    }
   ],
   "source": [
    "sorted(target_movies.items(), key=lambda x: x[1], reverse=True)[:10]"
   ]
  },
  {
   "cell_type": "markdown",
   "metadata": {},
   "source": [
    "### 5. 拼接ID得到电影名称给出最终列表"
   ]
  },
  {
   "cell_type": "code",
   "execution_count": 18,
   "metadata": {},
   "outputs": [],
   "source": [
    "df_target = pd.merge(\n",
    "    left=pd.DataFrame(target_movies.items(), columns=[\"movieId\", \"score\"]),\n",
    "    right=pd.read_csv(\"./datas/ml-latest-small/movies.csv\"),\n",
    "    on=\"movieId\"\n",
    ")"
   ]
  },
  {
   "cell_type": "code",
   "execution_count": 19,
   "metadata": {},
   "outputs": [
    {
     "data": {
      "text/html": [
       "<div>\n",
       "<style scoped>\n",
       "    .dataframe tbody tr th:only-of-type {\n",
       "        vertical-align: middle;\n",
       "    }\n",
       "\n",
       "    .dataframe tbody tr th {\n",
       "        vertical-align: top;\n",
       "    }\n",
       "\n",
       "    .dataframe thead th {\n",
       "        text-align: right;\n",
       "    }\n",
       "</style>\n",
       "<table border=\"1\" class=\"dataframe\">\n",
       "  <thead>\n",
       "    <tr style=\"text-align: right;\">\n",
       "      <th></th>\n",
       "      <th>movieId</th>\n",
       "      <th>score</th>\n",
       "      <th>title</th>\n",
       "      <th>genres</th>\n",
       "    </tr>\n",
       "  </thead>\n",
       "  <tbody>\n",
       "    <tr>\n",
       "      <th>0</th>\n",
       "      <td>1</td>\n",
       "      <td>2.659878</td>\n",
       "      <td>Toy Story (1995)</td>\n",
       "      <td>Adventure|Animation|Children|Comedy|Fantasy</td>\n",
       "    </tr>\n",
       "    <tr>\n",
       "      <th>1840</th>\n",
       "      <td>296</td>\n",
       "      <td>2.618536</td>\n",
       "      <td>Pulp Fiction (1994)</td>\n",
       "      <td>Comedy|Crime|Drama|Thriller</td>\n",
       "    </tr>\n",
       "    <tr>\n",
       "      <th>6</th>\n",
       "      <td>480</td>\n",
       "      <td>2.300157</td>\n",
       "      <td>Jurassic Park (1993)</td>\n",
       "      <td>Action|Adventure|Sci-Fi|Thriller</td>\n",
       "    </tr>\n",
       "    <tr>\n",
       "      <th>3</th>\n",
       "      <td>260</td>\n",
       "      <td>2.258633</td>\n",
       "      <td>Star Wars: Episode IV - A New Hope (1977)</td>\n",
       "      <td>Action|Adventure|Sci-Fi</td>\n",
       "    </tr>\n",
       "    <tr>\n",
       "      <th>165</th>\n",
       "      <td>7153</td>\n",
       "      <td>2.232959</td>\n",
       "      <td>Lord of the Rings: The Return of the King, The...</td>\n",
       "      <td>Action|Adventure|Drama|Fantasy</td>\n",
       "    </tr>\n",
       "    <tr>\n",
       "      <th>148</th>\n",
       "      <td>4306</td>\n",
       "      <td>2.207908</td>\n",
       "      <td>Shrek (2001)</td>\n",
       "      <td>Adventure|Animation|Children|Comedy|Fantasy|Ro...</td>\n",
       "    </tr>\n",
       "    <tr>\n",
       "      <th>1842</th>\n",
       "      <td>356</td>\n",
       "      <td>2.204843</td>\n",
       "      <td>Forrest Gump (1994)</td>\n",
       "      <td>Comedy|Drama|Romance|War</td>\n",
       "    </tr>\n",
       "    <tr>\n",
       "      <th>5668</th>\n",
       "      <td>2959</td>\n",
       "      <td>2.072269</td>\n",
       "      <td>Fight Club (1999)</td>\n",
       "      <td>Action|Crime|Drama|Thriller</td>\n",
       "    </tr>\n",
       "    <tr>\n",
       "      <th>95</th>\n",
       "      <td>588</td>\n",
       "      <td>2.022384</td>\n",
       "      <td>Aladdin (1992)</td>\n",
       "      <td>Adventure|Animation|Children|Comedy|Musical</td>\n",
       "    </tr>\n",
       "    <tr>\n",
       "      <th>5663</th>\n",
       "      <td>2571</td>\n",
       "      <td>1.952355</td>\n",
       "      <td>Matrix, The (1999)</td>\n",
       "      <td>Action|Sci-Fi|Thriller</td>\n",
       "    </tr>\n",
       "  </tbody>\n",
       "</table>\n",
       "</div>"
      ],
      "text/plain": [
       "      movieId     score                                              title  \\\n",
       "0           1  2.659878                                   Toy Story (1995)   \n",
       "1840      296  2.618536                                Pulp Fiction (1994)   \n",
       "6         480  2.300157                               Jurassic Park (1993)   \n",
       "3         260  2.258633          Star Wars: Episode IV - A New Hope (1977)   \n",
       "165      7153  2.232959  Lord of the Rings: The Return of the King, The...   \n",
       "148      4306  2.207908                                       Shrek (2001)   \n",
       "1842      356  2.204843                                Forrest Gump (1994)   \n",
       "5668     2959  2.072269                                  Fight Club (1999)   \n",
       "95        588  2.022384                                     Aladdin (1992)   \n",
       "5663     2571  1.952355                                 Matrix, The (1999)   \n",
       "\n",
       "                                                 genres  \n",
       "0           Adventure|Animation|Children|Comedy|Fantasy  \n",
       "1840                        Comedy|Crime|Drama|Thriller  \n",
       "6                      Action|Adventure|Sci-Fi|Thriller  \n",
       "3                               Action|Adventure|Sci-Fi  \n",
       "165                      Action|Adventure|Drama|Fantasy  \n",
       "148   Adventure|Animation|Children|Comedy|Fantasy|Ro...  \n",
       "1842                           Comedy|Drama|Romance|War  \n",
       "5668                        Action|Crime|Drama|Thriller  \n",
       "95          Adventure|Animation|Children|Comedy|Musical  \n",
       "5663                             Action|Sci-Fi|Thriller  "
      ]
     },
     "execution_count": 19,
     "metadata": {},
     "output_type": "execute_result"
    }
   ],
   "source": [
    "df_target.sort_values(by=\"score\", ascending=False).head(10)"
   ]
  },
  {
   "cell_type": "code",
   "execution_count": null,
   "metadata": {},
   "outputs": [],
   "source": []
  }
 ],
 "metadata": {
  "kernelspec": {
   "display_name": "Python 3",
   "language": "python",
   "name": "python3"
  },
  "language_info": {
   "codemirror_mode": {
    "name": "ipython",
    "version": 3
   },
   "file_extension": ".py",
   "mimetype": "text/x-python",
   "name": "python",
   "nbconvert_exporter": "python",
   "pygments_lexer": "ipython3",
   "version": "3.7.6"
  }
 },
 "nbformat": 4,
 "nbformat_minor": 4
}
