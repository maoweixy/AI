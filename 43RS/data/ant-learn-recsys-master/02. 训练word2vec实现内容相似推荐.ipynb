{
 "cells": [
  {
   "cell_type": "markdown",
   "metadata": {},
   "source": [
    "## PySpark训练word2vec实现内容相似推荐\n",
    "\n",
    "实现步骤：\n",
    "1. 获取文章列表数据，包括ID、标题、内容\n",
    "2. 使用jieba实现中文分词\n",
    "3. 送入pyspark实现word2vec的训练，得到文章向量\n",
    "4. 对于输入的ID，计算最相似的文章列表"
   ]
  },
  {
   "cell_type": "markdown",
   "metadata": {},
   "source": [
    "### 1. 获取数据"
   ]
  },
  {
   "cell_type": "code",
   "execution_count": 1,
   "metadata": {},
   "outputs": [],
   "source": [
    "import pandas as pd"
   ]
  },
  {
   "cell_type": "code",
   "execution_count": 2,
   "metadata": {},
   "outputs": [],
   "source": [
    "import json"
   ]
  },
  {
   "cell_type": "code",
   "execution_count": 3,
   "metadata": {},
   "outputs": [],
   "source": [
    "# SELECT id,post_title,post_content FROM `wp_posts` WHERE post_status='publish' and post_type='post'\n",
    "with open(\"./datas/wp_posts.json\") as fin:\n",
    "    data = json.loads(fin.read())"
   ]
  },
  {
   "cell_type": "code",
   "execution_count": 4,
   "metadata": {},
   "outputs": [
    {
     "data": {
      "text/html": [
       "<div>\n",
       "<style scoped>\n",
       "    .dataframe tbody tr th:only-of-type {\n",
       "        vertical-align: middle;\n",
       "    }\n",
       "\n",
       "    .dataframe tbody tr th {\n",
       "        vertical-align: top;\n",
       "    }\n",
       "\n",
       "    .dataframe thead th {\n",
       "        text-align: right;\n",
       "    }\n",
       "</style>\n",
       "<table border=\"1\" class=\"dataframe\">\n",
       "  <thead>\n",
       "    <tr style=\"text-align: right;\">\n",
       "      <th></th>\n",
       "      <th>id</th>\n",
       "      <th>post_title</th>\n",
       "      <th>post_content</th>\n",
       "    </tr>\n",
       "  </thead>\n",
       "  <tbody>\n",
       "    <tr>\n",
       "      <th>0</th>\n",
       "      <td>78</td>\n",
       "      <td>JavaScript对Select的子元素Option的操作</td>\n",
       "      <td>&lt;ul&gt;\\r\\n\\t&lt;li&gt;\\r\\n&lt;h3 style=\"color: red;\"&gt;java...</td>\n",
       "    </tr>\n",
       "    <tr>\n",
       "      <th>1</th>\n",
       "      <td>83</td>\n",
       "      <td>当用header方法输出内容时出现“Cannot modify header informa...</td>\n",
       "      <td>&lt;h3&gt;&amp;nbsp;&amp;nbsp;&amp;nbsp; 解决方法有2种：&lt;/h3&gt;\\r\\n&lt;ol&gt;\\r...</td>\n",
       "    </tr>\n",
       "    <tr>\n",
       "      <th>2</th>\n",
       "      <td>85</td>\n",
       "      <td>linux下禁止机箱蜂鸣方法</td>\n",
       "      <td>1、在图像界面下 ，注意，是图形界面下，即使在图像界面下按快捷键出现的虚拟终端里\\r\\n\\r...</td>\n",
       "    </tr>\n",
       "  </tbody>\n",
       "</table>\n",
       "</div>"
      ],
      "text/plain": [
       "   id                                         post_title  \\\n",
       "0  78                     JavaScript对Select的子元素Option的操作   \n",
       "1  83  当用header方法输出内容时出现“Cannot modify header informa...   \n",
       "2  85                                     linux下禁止机箱蜂鸣方法   \n",
       "\n",
       "                                        post_content  \n",
       "0  <ul>\\r\\n\\t<li>\\r\\n<h3 style=\"color: red;\">java...  \n",
       "1  <h3>&nbsp;&nbsp;&nbsp; 解决方法有2种：</h3>\\r\\n<ol>\\r...  \n",
       "2  1、在图像界面下 ，注意，是图形界面下，即使在图像界面下按快捷键出现的虚拟终端里\\r\\n\\r...  "
      ]
     },
     "execution_count": 4,
     "metadata": {},
     "output_type": "execute_result"
    }
   ],
   "source": [
    "df = pd.DataFrame(data[2][\"data\"])\n",
    "df.head(3)"
   ]
  },
  {
   "cell_type": "markdown",
   "metadata": {},
   "source": [
    "#### 把网页内容的HTML去除"
   ]
  },
  {
   "cell_type": "code",
   "execution_count": 5,
   "metadata": {},
   "outputs": [],
   "source": [
    "import re \n",
    "from bs4 import BeautifulSoup\n",
    "\n",
    "def clean_post_cont(x):\n",
    "    soup = BeautifulSoup(x, 'html.parser')\n",
    "    result = soup.get_text()\n",
    "    return re.sub(r\"\\r|\\n|\\t\", \"\", result)\n",
    "\n",
    "df[\"post_content\"] = df[\"post_content\"].map(clean_post_cont)"
   ]
  },
  {
   "cell_type": "code",
   "execution_count": 6,
   "metadata": {},
   "outputs": [
    {
     "data": {
      "text/html": [
       "<div>\n",
       "<style scoped>\n",
       "    .dataframe tbody tr th:only-of-type {\n",
       "        vertical-align: middle;\n",
       "    }\n",
       "\n",
       "    .dataframe tbody tr th {\n",
       "        vertical-align: top;\n",
       "    }\n",
       "\n",
       "    .dataframe thead th {\n",
       "        text-align: right;\n",
       "    }\n",
       "</style>\n",
       "<table border=\"1\" class=\"dataframe\">\n",
       "  <thead>\n",
       "    <tr style=\"text-align: right;\">\n",
       "      <th></th>\n",
       "      <th>id</th>\n",
       "      <th>post_title</th>\n",
       "      <th>post_content</th>\n",
       "    </tr>\n",
       "  </thead>\n",
       "  <tbody>\n",
       "    <tr>\n",
       "      <th>0</th>\n",
       "      <td>78</td>\n",
       "      <td>JavaScript对Select的子元素Option的操作</td>\n",
       "      <td>javascript_删除所有select下面的option的方法//增加之前删除所有opt...</td>\n",
       "    </tr>\n",
       "    <tr>\n",
       "      <th>1</th>\n",
       "      <td>83</td>\n",
       "      <td>当用header方法输出内容时出现“Cannot modify header informa...</td>\n",
       "      <td>解决方法有2种：使用ultraEditor打开该文件，然后变成utf-8编码，就会发...</td>\n",
       "    </tr>\n",
       "    <tr>\n",
       "      <th>2</th>\n",
       "      <td>85</td>\n",
       "      <td>linux下禁止机箱蜂鸣方法</td>\n",
       "      <td>1、在图像界面下 ，注意，是图形界面下，即使在图像界面下按快捷键出现的虚拟终端里用xset ...</td>\n",
       "    </tr>\n",
       "  </tbody>\n",
       "</table>\n",
       "</div>"
      ],
      "text/plain": [
       "   id                                         post_title  \\\n",
       "0  78                     JavaScript对Select的子元素Option的操作   \n",
       "1  83  当用header方法输出内容时出现“Cannot modify header informa...   \n",
       "2  85                                     linux下禁止机箱蜂鸣方法   \n",
       "\n",
       "                                        post_content  \n",
       "0  javascript_删除所有select下面的option的方法//增加之前删除所有opt...  \n",
       "1      解决方法有2种：使用ultraEditor打开该文件，然后变成utf-8编码，就会发...  \n",
       "2  1、在图像界面下 ，注意，是图形界面下，即使在图像界面下按快捷键出现的虚拟终端里用xset ...  "
      ]
     },
     "execution_count": 6,
     "metadata": {},
     "output_type": "execute_result"
    }
   ],
   "source": [
    "df.head(3)"
   ]
  },
  {
   "cell_type": "markdown",
   "metadata": {},
   "source": [
    "### 2. 使用jieba实现中文分词\n",
    "\n",
    "pip install jieba"
   ]
  },
  {
   "cell_type": "code",
   "execution_count": 7,
   "metadata": {},
   "outputs": [],
   "source": [
    "import jieba"
   ]
  },
  {
   "cell_type": "code",
   "execution_count": 8,
   "metadata": {},
   "outputs": [
    {
     "name": "stderr",
     "output_type": "stream",
     "text": [
      "Building prefix dict from the default dictionary ...\n",
      "Loading model from cache /tmp/jieba.cache\n",
      "Loading model cost 0.731 seconds.\n",
      "Prefix dict has been built successfully.\n"
     ]
    }
   ],
   "source": [
    "def do_cut_words(param_df):\n",
    "    # 标题加上关键词，是整个待分词的句子\n",
    "    sentence = param_df[\"post_title\"]+\",\"+(param_df[\"post_content\"])\n",
    "    # 调用分词\n",
    "    words = list(jieba.cut(sentence))\n",
    "    # 做过滤，变成小写\n",
    "    result = []\n",
    "    for word in words:\n",
    "        if not word or len(word)==0 or len(word)==1: \n",
    "            continue\n",
    "        word = word.lower()\n",
    "        result.append(word)\n",
    "    return \" \".join(result)\n",
    "\n",
    "df[\"words\"] = df.apply(do_cut_words, axis=1)"
   ]
  },
  {
   "cell_type": "code",
   "execution_count": 9,
   "metadata": {},
   "outputs": [
    {
     "data": {
      "text/html": [
       "<div>\n",
       "<style scoped>\n",
       "    .dataframe tbody tr th:only-of-type {\n",
       "        vertical-align: middle;\n",
       "    }\n",
       "\n",
       "    .dataframe tbody tr th {\n",
       "        vertical-align: top;\n",
       "    }\n",
       "\n",
       "    .dataframe thead th {\n",
       "        text-align: right;\n",
       "    }\n",
       "</style>\n",
       "<table border=\"1\" class=\"dataframe\">\n",
       "  <thead>\n",
       "    <tr style=\"text-align: right;\">\n",
       "      <th></th>\n",
       "      <th>id</th>\n",
       "      <th>post_title</th>\n",
       "      <th>post_content</th>\n",
       "      <th>words</th>\n",
       "    </tr>\n",
       "  </thead>\n",
       "  <tbody>\n",
       "    <tr>\n",
       "      <th>0</th>\n",
       "      <td>78</td>\n",
       "      <td>JavaScript对Select的子元素Option的操作</td>\n",
       "      <td>javascript_删除所有select下面的option的方法//增加之前删除所有opt...</td>\n",
       "      <td>javascript select 元素 option 操作 javascript 删除 所...</td>\n",
       "    </tr>\n",
       "    <tr>\n",
       "      <th>1</th>\n",
       "      <td>83</td>\n",
       "      <td>当用header方法输出内容时出现“Cannot modify header informa...</td>\n",
       "      <td>解决方法有2种：使用ultraEditor打开该文件，然后变成utf-8编码，就会发...</td>\n",
       "      <td>当用 header 方法 输出 内容 出现 cannot modify header inf...</td>\n",
       "    </tr>\n",
       "    <tr>\n",
       "      <th>2</th>\n",
       "      <td>85</td>\n",
       "      <td>linux下禁止机箱蜂鸣方法</td>\n",
       "      <td>1、在图像界面下 ，注意，是图形界面下，即使在图像界面下按快捷键出现的虚拟终端里用xset ...</td>\n",
       "      <td>linux 禁止 机箱 蜂鸣 方法 图像 界面 注意 图形界面 即使 图像 界面 快捷键 出...</td>\n",
       "    </tr>\n",
       "    <tr>\n",
       "      <th>3</th>\n",
       "      <td>87</td>\n",
       "      <td>硬盘分区表丢失、修复大事记--分区表修复利器testdisk</td>\n",
       "      <td>今天是2009年11月14日，就在刚才，我找回了前几天丢失分区表的硬盘分区，特此记录。事件起...</td>\n",
       "      <td>硬盘分区 丢失 修复 大事记 -- 分区表 修复 利器 testdisk 今天 2009 1...</td>\n",
       "    </tr>\n",
       "    <tr>\n",
       "      <th>4</th>\n",
       "      <td>91</td>\n",
       "      <td>vi编辑器命令</td>\n",
       "      <td>vi编辑器的文字说明模式：命令模式，编辑模式，末行模式。切换方式：命令模式→i→编辑模式，编...</td>\n",
       "      <td>vi 编辑器 命令 vi 编辑器 文字说明 模式 命令 模式 编辑 模式 末行 模式 切换 ...</td>\n",
       "    </tr>\n",
       "  </tbody>\n",
       "</table>\n",
       "</div>"
      ],
      "text/plain": [
       "   id                                         post_title  \\\n",
       "0  78                     JavaScript对Select的子元素Option的操作   \n",
       "1  83  当用header方法输出内容时出现“Cannot modify header informa...   \n",
       "2  85                                     linux下禁止机箱蜂鸣方法   \n",
       "3  87                     硬盘分区表丢失、修复大事记--分区表修复利器testdisk   \n",
       "4  91                                            vi编辑器命令   \n",
       "\n",
       "                                        post_content  \\\n",
       "0  javascript_删除所有select下面的option的方法//增加之前删除所有opt...   \n",
       "1      解决方法有2种：使用ultraEditor打开该文件，然后变成utf-8编码，就会发...   \n",
       "2  1、在图像界面下 ，注意，是图形界面下，即使在图像界面下按快捷键出现的虚拟终端里用xset ...   \n",
       "3  今天是2009年11月14日，就在刚才，我找回了前几天丢失分区表的硬盘分区，特此记录。事件起...   \n",
       "4  vi编辑器的文字说明模式：命令模式，编辑模式，末行模式。切换方式：命令模式→i→编辑模式，编...   \n",
       "\n",
       "                                               words  \n",
       "0  javascript select 元素 option 操作 javascript 删除 所...  \n",
       "1  当用 header 方法 输出 内容 出现 cannot modify header inf...  \n",
       "2  linux 禁止 机箱 蜂鸣 方法 图像 界面 注意 图形界面 即使 图像 界面 快捷键 出...  \n",
       "3  硬盘分区 丢失 修复 大事记 -- 分区表 修复 利器 testdisk 今天 2009 1...  \n",
       "4  vi 编辑器 命令 vi 编辑器 文字说明 模式 命令 模式 编辑 模式 末行 模式 切换 ...  "
      ]
     },
     "execution_count": 9,
     "metadata": {},
     "output_type": "execute_result"
    }
   ],
   "source": [
    "df.head(5)"
   ]
  },
  {
   "cell_type": "code",
   "execution_count": 10,
   "metadata": {},
   "outputs": [],
   "source": [
    "# 保存成CSV\n",
    "df[[\"id\", \"post_title\", \"words\"]].to_csv(\"./datas/crazyant_blog_articles_wordsegs.csv\", index=False)"
   ]
  },
  {
   "cell_type": "markdown",
   "metadata": {},
   "source": [
    "### 3. 使用pyspark训练word2vec"
   ]
  },
  {
   "cell_type": "code",
   "execution_count": 11,
   "metadata": {},
   "outputs": [],
   "source": [
    "import findspark\n",
    "findspark.init()\n",
    "\n",
    "from pyspark.sql import SparkSession\n",
    "spark = SparkSession \\\n",
    "    .builder \\\n",
    "    .appName(\"test pyspark\") \\\n",
    "    .getOrCreate()\n",
    "\n",
    "sc = spark.sparkContext"
   ]
  },
  {
   "cell_type": "markdown",
   "metadata": {},
   "source": [
    "#### Pyspark读取CSV数据"
   ]
  },
  {
   "cell_type": "code",
   "execution_count": 12,
   "metadata": {},
   "outputs": [
    {
     "name": "stdout",
     "output_type": "stream",
     "text": [
      "+---+-----------------------------------+-------------------------------+\n",
      "| id|                         post_title|                          words|\n",
      "+---+-----------------------------------+-------------------------------+\n",
      "| 78|              JavaScript对Select...|           javascript select...|\n",
      "| 83|    当用header方法输出内容时出现...|    当用 header 方法 输出 内...|\n",
      "| 85|            linux下禁止机箱蜂鸣方法|   linux 禁止 机箱 蜂鸣 方法...|\n",
      "| 87|硬盘分区表丢失、修复大事记--分区...|硬盘分区 丢失 修复 大事记 --...|\n",
      "| 91|                       vi编辑器命令|   vi 编辑器 命令 vi 编辑器 ...|\n",
      "+---+-----------------------------------+-------------------------------+\n",
      "only showing top 5 rows\n",
      "\n"
     ]
    }
   ],
   "source": [
    "df = spark.read.csv(\"./datas/crazyant_blog_articles_wordsegs.csv\", header=True)\n",
    "df.show(5)"
   ]
  },
  {
   "cell_type": "code",
   "execution_count": 13,
   "metadata": {},
   "outputs": [],
   "source": [
    "from pyspark.sql import functions as F\n",
    "from pyspark.sql import types as T"
   ]
  },
  {
   "cell_type": "code",
   "execution_count": 14,
   "metadata": {},
   "outputs": [],
   "source": [
    "# 把非常的字符串格式变成LIST形式\n",
    "df = df.withColumn('words_split', F.split(df.words, \" \"))"
   ]
  },
  {
   "cell_type": "markdown",
   "metadata": {},
   "source": [
    "#### 实现word2vec的训练与转换"
   ]
  },
  {
   "cell_type": "code",
   "execution_count": 15,
   "metadata": {},
   "outputs": [],
   "source": [
    "# https://spark.apache.org/docs/2.4.6/ml-features.html#word2vec\n",
    "\n",
    "from pyspark.ml.feature import Word2Vec\n",
    "\n",
    "word2Vec = Word2Vec(\n",
    "    vectorSize=5, \n",
    "    minCount=0, \n",
    "    inputCol=\"words_split\", \n",
    "    outputCol=\"word2vec\")\n",
    "\n",
    "model = word2Vec.fit(df)\n",
    "\n",
    "# 注意这一步，会得到整个doc的word embedding\n",
    "df_word2vec = model.transform(df)"
   ]
  },
  {
   "cell_type": "code",
   "execution_count": 16,
   "metadata": {
    "scrolled": true
   },
   "outputs": [
    {
     "name": "stdout",
     "output_type": "stream",
     "text": [
      "root\n",
      " |-- id: string (nullable = true)\n",
      " |-- post_title: string (nullable = true)\n",
      " |-- words: string (nullable = true)\n",
      " |-- words_split: array (nullable = true)\n",
      " |    |-- element: string (containsNull = true)\n",
      " |-- word2vec: vector (nullable = true)\n",
      "\n"
     ]
    }
   ],
   "source": [
    "df_word2vec.printSchema()"
   ]
  },
  {
   "cell_type": "code",
   "execution_count": 17,
   "metadata": {},
   "outputs": [
    {
     "name": "stdout",
     "output_type": "stream",
     "text": [
      "+-------------------------------------------------------------------------------------------------------+\n",
      "|word2vec                                                                                               |\n",
      "+-------------------------------------------------------------------------------------------------------+\n",
      "|[-0.06689483870158566,-0.31063375444468727,0.09132219613580914,-0.2524164506121651,0.2576837945949532] |\n",
      "|[-0.09172025156525396,0.009816996645318663,0.19234123595467792,0.20329144122306167,0.11286570988141183]|\n",
      "|[-0.09057465753391046,0.004765861371362751,0.24302226597633722,0.1654780033594844,0.12196611434178935] |\n",
      "+-------------------------------------------------------------------------------------------------------+\n",
      "only showing top 3 rows\n",
      "\n"
     ]
    }
   ],
   "source": [
    "df_word2vec.select(\"word2vec\").show(3, truncate=False)"
   ]
  },
  {
   "cell_type": "code",
   "execution_count": 18,
   "metadata": {},
   "outputs": [],
   "source": [
    "df_word2vec.select(\"id\", \"post_title\", \"word2vec\") \\\n",
    "           .toPandas() \\\n",
    "           .to_csv('./datas/crazyant_blog_articles_word2vec.csv', index=False)"
   ]
  },
  {
   "cell_type": "markdown",
   "metadata": {},
   "source": [
    "### 4. 对于给定文章算出最相似的10篇文章"
   ]
  },
  {
   "cell_type": "code",
   "execution_count": 19,
   "metadata": {},
   "outputs": [
    {
     "data": {
      "text/html": [
       "<div>\n",
       "<style scoped>\n",
       "    .dataframe tbody tr th:only-of-type {\n",
       "        vertical-align: middle;\n",
       "    }\n",
       "\n",
       "    .dataframe tbody tr th {\n",
       "        vertical-align: top;\n",
       "    }\n",
       "\n",
       "    .dataframe thead th {\n",
       "        text-align: right;\n",
       "    }\n",
       "</style>\n",
       "<table border=\"1\" class=\"dataframe\">\n",
       "  <thead>\n",
       "    <tr style=\"text-align: right;\">\n",
       "      <th></th>\n",
       "      <th>id</th>\n",
       "      <th>post_title</th>\n",
       "      <th>word2vec</th>\n",
       "    </tr>\n",
       "  </thead>\n",
       "  <tbody>\n",
       "    <tr>\n",
       "      <th>0</th>\n",
       "      <td>78</td>\n",
       "      <td>JavaScript对Select的子元素Option的操作</td>\n",
       "      <td>[-0.06689483870158566,-0.31063375444468727,0.0...</td>\n",
       "    </tr>\n",
       "    <tr>\n",
       "      <th>1</th>\n",
       "      <td>83</td>\n",
       "      <td>当用header方法输出内容时出现“Cannot modify header informa...</td>\n",
       "      <td>[-0.09172025156525396,0.009816996645318663,0.1...</td>\n",
       "    </tr>\n",
       "    <tr>\n",
       "      <th>2</th>\n",
       "      <td>85</td>\n",
       "      <td>linux下禁止机箱蜂鸣方法</td>\n",
       "      <td>[-0.09057465753391046,0.004765861371362751,0.2...</td>\n",
       "    </tr>\n",
       "  </tbody>\n",
       "</table>\n",
       "</div>"
      ],
      "text/plain": [
       "   id                                         post_title  \\\n",
       "0  78                     JavaScript对Select的子元素Option的操作   \n",
       "1  83  当用header方法输出内容时出现“Cannot modify header informa...   \n",
       "2  85                                     linux下禁止机箱蜂鸣方法   \n",
       "\n",
       "                                            word2vec  \n",
       "0  [-0.06689483870158566,-0.31063375444468727,0.0...  \n",
       "1  [-0.09172025156525396,0.009816996645318663,0.1...  \n",
       "2  [-0.09057465753391046,0.004765861371362751,0.2...  "
      ]
     },
     "execution_count": 19,
     "metadata": {},
     "output_type": "execute_result"
    }
   ],
   "source": [
    "df = pd.read_csv(\"./datas/crazyant_blog_articles_word2vec.csv\")\n",
    "df.head(3)"
   ]
  },
  {
   "cell_type": "code",
   "execution_count": 20,
   "metadata": {},
   "outputs": [],
   "source": [
    "import numpy as np\n",
    "import json"
   ]
  },
  {
   "cell_type": "code",
   "execution_count": 21,
   "metadata": {},
   "outputs": [],
   "source": [
    "df[\"word2vec\"] = df[\"word2vec\"].map(lambda x : np.array(json.loads(x)))"
   ]
  },
  {
   "cell_type": "code",
   "execution_count": 22,
   "metadata": {},
   "outputs": [
    {
     "data": {
      "text/html": [
       "<div>\n",
       "<style scoped>\n",
       "    .dataframe tbody tr th:only-of-type {\n",
       "        vertical-align: middle;\n",
       "    }\n",
       "\n",
       "    .dataframe tbody tr th {\n",
       "        vertical-align: top;\n",
       "    }\n",
       "\n",
       "    .dataframe thead th {\n",
       "        text-align: right;\n",
       "    }\n",
       "</style>\n",
       "<table border=\"1\" class=\"dataframe\">\n",
       "  <thead>\n",
       "    <tr style=\"text-align: right;\">\n",
       "      <th></th>\n",
       "      <th>id</th>\n",
       "      <th>post_title</th>\n",
       "      <th>word2vec</th>\n",
       "    </tr>\n",
       "  </thead>\n",
       "  <tbody>\n",
       "    <tr>\n",
       "      <th>0</th>\n",
       "      <td>78</td>\n",
       "      <td>JavaScript对Select的子元素Option的操作</td>\n",
       "      <td>[-0.06689483870158566, -0.31063375444468727, 0...</td>\n",
       "    </tr>\n",
       "    <tr>\n",
       "      <th>1</th>\n",
       "      <td>83</td>\n",
       "      <td>当用header方法输出内容时出现“Cannot modify header informa...</td>\n",
       "      <td>[-0.09172025156525396, 0.009816996645318663, 0...</td>\n",
       "    </tr>\n",
       "    <tr>\n",
       "      <th>2</th>\n",
       "      <td>85</td>\n",
       "      <td>linux下禁止机箱蜂鸣方法</td>\n",
       "      <td>[-0.09057465753391046, 0.004765861371362751, 0...</td>\n",
       "    </tr>\n",
       "  </tbody>\n",
       "</table>\n",
       "</div>"
      ],
      "text/plain": [
       "   id                                         post_title  \\\n",
       "0  78                     JavaScript对Select的子元素Option的操作   \n",
       "1  83  当用header方法输出内容时出现“Cannot modify header informa...   \n",
       "2  85                                     linux下禁止机箱蜂鸣方法   \n",
       "\n",
       "                                            word2vec  \n",
       "0  [-0.06689483870158566, -0.31063375444468727, 0...  \n",
       "1  [-0.09172025156525396, 0.009816996645318663, 0...  \n",
       "2  [-0.09057465753391046, 0.004765861371362751, 0...  "
      ]
     },
     "execution_count": 22,
     "metadata": {},
     "output_type": "execute_result"
    }
   ],
   "source": [
    "df.head(3)"
   ]
  },
  {
   "cell_type": "code",
   "execution_count": 28,
   "metadata": {},
   "outputs": [
    {
     "data": {
      "text/html": [
       "<div>\n",
       "<style scoped>\n",
       "    .dataframe tbody tr th:only-of-type {\n",
       "        vertical-align: middle;\n",
       "    }\n",
       "\n",
       "    .dataframe tbody tr th {\n",
       "        vertical-align: top;\n",
       "    }\n",
       "\n",
       "    .dataframe thead th {\n",
       "        text-align: right;\n",
       "    }\n",
       "</style>\n",
       "<table border=\"1\" class=\"dataframe\">\n",
       "  <thead>\n",
       "    <tr style=\"text-align: right;\">\n",
       "      <th></th>\n",
       "      <th>id</th>\n",
       "      <th>post_title</th>\n",
       "      <th>word2vec</th>\n",
       "      <th>sim_value</th>\n",
       "    </tr>\n",
       "  </thead>\n",
       "  <tbody>\n",
       "    <tr>\n",
       "      <th>78</th>\n",
       "      <td>581</td>\n",
       "      <td>PHP对文件的操作总结</td>\n",
       "      <td>[-0.0007125509248077937, -0.019375492545679725...</td>\n",
       "      <td>-0.844729</td>\n",
       "    </tr>\n",
       "  </tbody>\n",
       "</table>\n",
       "</div>"
      ],
      "text/plain": [
       "     id   post_title                                           word2vec  \\\n",
       "78  581  PHP对文件的操作总结  [-0.0007125509248077937, -0.019375492545679725...   \n",
       "\n",
       "    sim_value  \n",
       "78  -0.844729  "
      ]
     },
     "execution_count": 28,
     "metadata": {},
     "output_type": "execute_result"
    }
   ],
   "source": [
    "# 随便挑选一篇文章ID，2583：pandas，581：PHP\n",
    "article_id = 581\n",
    "df.loc[df[\"id\"]==article_id]"
   ]
  },
  {
   "cell_type": "code",
   "execution_count": 29,
   "metadata": {},
   "outputs": [
    {
     "data": {
      "text/plain": [
       "array([-0.00071255, -0.01937549,  0.15768537,  0.16893182,  0.21808635])"
      ]
     },
     "execution_count": 29,
     "metadata": {},
     "output_type": "execute_result"
    }
   ],
   "source": [
    "article_embedding = df.loc[df[\"id\"]==article_id, \"word2vec\"].iloc[0]\n",
    "article_embedding"
   ]
  },
  {
   "cell_type": "code",
   "execution_count": 30,
   "metadata": {},
   "outputs": [],
   "source": [
    "# 余弦相似度\n",
    "from scipy.spatial import distance\n",
    "df[\"sim_value\"] = df[\"word2vec\"].map(lambda x : 1 - distance.cosine(article_embedding, x))"
   ]
  },
  {
   "cell_type": "code",
   "execution_count": 31,
   "metadata": {},
   "outputs": [
    {
     "data": {
      "text/html": [
       "<div>\n",
       "<style scoped>\n",
       "    .dataframe tbody tr th:only-of-type {\n",
       "        vertical-align: middle;\n",
       "    }\n",
       "\n",
       "    .dataframe tbody tr th {\n",
       "        vertical-align: top;\n",
       "    }\n",
       "\n",
       "    .dataframe thead th {\n",
       "        text-align: right;\n",
       "    }\n",
       "</style>\n",
       "<table border=\"1\" class=\"dataframe\">\n",
       "  <thead>\n",
       "    <tr style=\"text-align: right;\">\n",
       "      <th></th>\n",
       "      <th>id</th>\n",
       "      <th>post_title</th>\n",
       "      <th>sim_value</th>\n",
       "    </tr>\n",
       "  </thead>\n",
       "  <tbody>\n",
       "    <tr>\n",
       "      <th>0</th>\n",
       "      <td>78</td>\n",
       "      <td>JavaScript对Select的子元素Option的操作</td>\n",
       "      <td>0.218421</td>\n",
       "    </tr>\n",
       "    <tr>\n",
       "      <th>1</th>\n",
       "      <td>83</td>\n",
       "      <td>当用header方法输出内容时出现“Cannot modify header informa...</td>\n",
       "      <td>0.887608</td>\n",
       "    </tr>\n",
       "    <tr>\n",
       "      <th>2</th>\n",
       "      <td>85</td>\n",
       "      <td>linux下禁止机箱蜂鸣方法</td>\n",
       "      <td>0.881212</td>\n",
       "    </tr>\n",
       "  </tbody>\n",
       "</table>\n",
       "</div>"
      ],
      "text/plain": [
       "   id                                         post_title  sim_value\n",
       "0  78                     JavaScript对Select的子元素Option的操作   0.218421\n",
       "1  83  当用header方法输出内容时出现“Cannot modify header informa...   0.887608\n",
       "2  85                                     linux下禁止机箱蜂鸣方法   0.881212"
      ]
     },
     "execution_count": 31,
     "metadata": {},
     "output_type": "execute_result"
    }
   ],
   "source": [
    "df[[\"id\", \"post_title\", \"sim_value\"]].head(3)"
   ]
  },
  {
   "cell_type": "code",
   "execution_count": 32,
   "metadata": {},
   "outputs": [
    {
     "data": {
      "text/html": [
       "<div>\n",
       "<style scoped>\n",
       "    .dataframe tbody tr th:only-of-type {\n",
       "        vertical-align: middle;\n",
       "    }\n",
       "\n",
       "    .dataframe tbody tr th {\n",
       "        vertical-align: top;\n",
       "    }\n",
       "\n",
       "    .dataframe thead th {\n",
       "        text-align: right;\n",
       "    }\n",
       "</style>\n",
       "<table border=\"1\" class=\"dataframe\">\n",
       "  <thead>\n",
       "    <tr style=\"text-align: right;\">\n",
       "      <th></th>\n",
       "      <th>id</th>\n",
       "      <th>post_title</th>\n",
       "      <th>word2vec</th>\n",
       "      <th>sim_value</th>\n",
       "    </tr>\n",
       "  </thead>\n",
       "  <tbody>\n",
       "    <tr>\n",
       "      <th>78</th>\n",
       "      <td>581</td>\n",
       "      <td>PHP对文件的操作总结</td>\n",
       "      <td>[-0.0007125509248077937, -0.019375492545679725...</td>\n",
       "      <td>1.000000</td>\n",
       "    </tr>\n",
       "    <tr>\n",
       "      <th>131</th>\n",
       "      <td>1057</td>\n",
       "      <td>Magento获取指定分类下的所有子分类信息</td>\n",
       "      <td>[0.0023514057645497226, 0.015581226250487228, ...</td>\n",
       "      <td>0.989693</td>\n",
       "    </tr>\n",
       "    <tr>\n",
       "      <th>97</th>\n",
       "      <td>724</td>\n",
       "      <td>Python关于apply的知识</td>\n",
       "      <td>[-0.016336282122112508, 0.021025621154458843, ...</td>\n",
       "      <td>0.986838</td>\n",
       "    </tr>\n",
       "    <tr>\n",
       "      <th>77</th>\n",
       "      <td>576</td>\n",
       "      <td>PHP操作符可变变量测试变量等总结</td>\n",
       "      <td>[-0.011872579748280342, -0.019191751616759557,...</td>\n",
       "      <td>0.973529</td>\n",
       "    </tr>\n",
       "    <tr>\n",
       "      <th>182</th>\n",
       "      <td>1703</td>\n",
       "      <td>Java怎样创建两个KEY（key-pair）的MAP</td>\n",
       "      <td>[0.02837977321652619, 0.0177825763158194, 0.07...</td>\n",
       "      <td>0.963872</td>\n",
       "    </tr>\n",
       "    <tr>\n",
       "      <th>25</th>\n",
       "      <td>138</td>\n",
       "      <td>获取服务器传来的数据-必须用JS去空格</td>\n",
       "      <td>[-0.08882668862100114, -0.020467974797620907, ...</td>\n",
       "      <td>0.963370</td>\n",
       "    </tr>\n",
       "    <tr>\n",
       "      <th>120</th>\n",
       "      <td>930</td>\n",
       "      <td>PHP和MySQL处理树状、分级、无限分类、分层数据的方法</td>\n",
       "      <td>[0.03533486779765854, 0.009575359927538184, 0....</td>\n",
       "      <td>0.958006</td>\n",
       "    </tr>\n",
       "    <tr>\n",
       "      <th>9</th>\n",
       "      <td>105</td>\n",
       "      <td>PHP安全笔记</td>\n",
       "      <td>[-0.027503433840624262, -0.025421138406898674,...</td>\n",
       "      <td>0.951645</td>\n",
       "    </tr>\n",
       "    <tr>\n",
       "      <th>47</th>\n",
       "      <td>236</td>\n",
       "      <td>C++数组类型学习笔记</td>\n",
       "      <td>[-0.01885643251955992, 0.004926461203636049, 0...</td>\n",
       "      <td>0.948503</td>\n",
       "    </tr>\n",
       "    <tr>\n",
       "      <th>89</th>\n",
       "      <td>675</td>\n",
       "      <td>数据采集必备知识-php计划任务的实现</td>\n",
       "      <td>[-0.0685060779376628, 0.011630317228794181, 0....</td>\n",
       "      <td>0.945682</td>\n",
       "    </tr>\n",
       "  </tbody>\n",
       "</table>\n",
       "</div>"
      ],
      "text/plain": [
       "       id                     post_title  \\\n",
       "78    581                    PHP对文件的操作总结   \n",
       "131  1057         Magento获取指定分类下的所有子分类信息   \n",
       "97    724               Python关于apply的知识   \n",
       "77    576              PHP操作符可变变量测试变量等总结   \n",
       "182  1703    Java怎样创建两个KEY（key-pair）的MAP   \n",
       "25    138            获取服务器传来的数据-必须用JS去空格   \n",
       "120   930  PHP和MySQL处理树状、分级、无限分类、分层数据的方法   \n",
       "9     105                        PHP安全笔记   \n",
       "47    236                    C++数组类型学习笔记   \n",
       "89    675            数据采集必备知识-php计划任务的实现   \n",
       "\n",
       "                                              word2vec  sim_value  \n",
       "78   [-0.0007125509248077937, -0.019375492545679725...   1.000000  \n",
       "131  [0.0023514057645497226, 0.015581226250487228, ...   0.989693  \n",
       "97   [-0.016336282122112508, 0.021025621154458843, ...   0.986838  \n",
       "77   [-0.011872579748280342, -0.019191751616759557,...   0.973529  \n",
       "182  [0.02837977321652619, 0.0177825763158194, 0.07...   0.963872  \n",
       "25   [-0.08882668862100114, -0.020467974797620907, ...   0.963370  \n",
       "120  [0.03533486779765854, 0.009575359927538184, 0....   0.958006  \n",
       "9    [-0.027503433840624262, -0.025421138406898674,...   0.951645  \n",
       "47   [-0.01885643251955992, 0.004926461203636049, 0...   0.948503  \n",
       "89   [-0.0685060779376628, 0.011630317228794181, 0....   0.945682  "
      ]
     },
     "execution_count": 32,
     "metadata": {},
     "output_type": "execute_result"
    }
   ],
   "source": [
    "# 按相似度降序排列，查询前10条\n",
    "df.sort_values(by=\"sim_value\", ascending=False).head(10)"
   ]
  },
  {
   "cell_type": "code",
   "execution_count": null,
   "metadata": {},
   "outputs": [],
   "source": []
  }
 ],
 "metadata": {
  "kernelspec": {
   "display_name": "Python 3",
   "language": "python",
   "name": "python3"
  },
  "language_info": {
   "codemirror_mode": {
    "name": "ipython",
    "version": 3
   },
   "file_extension": ".py",
   "mimetype": "text/x-python",
   "name": "python",
   "nbconvert_exporter": "python",
   "pygments_lexer": "ipython3",
   "version": "3.7.6"
  }
 },
 "nbformat": 4,
 "nbformat_minor": 4
}
