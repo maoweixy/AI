{
 "cells": [
  {
   "cell_type": "code",
   "execution_count": 1,
   "metadata": {
    "ExecuteTime": {
     "end_time": "2020-10-18T02:44:02.102342Z",
     "start_time": "2020-10-18T02:43:59.765111Z"
    }
   },
   "outputs": [],
   "source": [
    "# package imports\n",
    "from  datetime import datetime, timedelta\n",
    "\n",
    "import os, sys\n",
    "import pandas as pd\n",
    "import numpy as np \n",
    "from IPython.core.interactiveshell import InteractiveShell\n",
    "InteractiveShell.ast_node_interactivity = \"all\"\n",
    "\n",
    "import matplotlib.pyplot as plt\n",
    "%matplotlib inline\n",
    "\n",
    "#显示所有列\n",
    "pd.set_option('display.max_columns', None)\n",
    "#显示所有行\n",
    "pd.set_option('display.max_rows', None)\n",
    "#设置value的显示长度为100，默认为50\n",
    "pd.set_option('max_colwidth',100)\n",
    "\n",
    "np.random.seed(2020)"
   ]
  },
  {
   "cell_type": "code",
   "execution_count": 3,
   "metadata": {
    "ExecuteTime": {
     "end_time": "2020-10-08T08:39:47.899474Z",
     "start_time": "2020-10-08T08:39:47.896232Z"
    }
   },
   "outputs": [],
   "source": [
    "data_dir = '../dataset/Yelp/'\n",
    "size_file = data_dir + 'Yelp_size.txt'\n",
    "train_file = data_dir + 'Yelp_train.txt'\n",
    "test_file = data_dir + 'Yelp_test.txt'\n",
    "poi_file = data_dir + 'Yelp_poi_coos.txt'\n",
    "cat_file = data_dir + 'Yelp_poi_categories.txt'"
   ]
  },
  {
   "cell_type": "code",
   "execution_count": null,
   "metadata": {},
   "outputs": [],
   "source": []
  },
  {
   "cell_type": "code",
   "execution_count": 5,
   "metadata": {
    "ExecuteTime": {
     "end_time": "2020-10-08T08:40:27.561868Z",
     "start_time": "2020-10-08T08:40:27.549845Z"
    }
   },
   "outputs": [
    {
     "data": {
      "text/plain": [
       "'30887'"
      ]
     },
     "execution_count": 5,
     "metadata": {},
     "output_type": "execute_result"
    }
   ],
   "source": [
    "user_num, poi_num, cat_num = open(size_file, 'r').readlines()[0].strip('\\n').split()\n",
    "user_num"
   ]
  },
  {
   "cell_type": "code",
   "execution_count": null,
   "metadata": {
    "ExecuteTime": {
     "end_time": "2020-10-08T12:52:10.175019Z",
     "start_time": "2020-10-08T12:52:09.193368Z"
    }
   },
   "outputs": [],
   "source": [
    "def readFile(filename):\n",
    "    t1=time.time()\n",
    "    contents_lines=[]\n",
    "    f=open(filename,\"r\")\n",
    "    contents_lines=f.readlines()\n",
    "    f.close()\n",
    "    t2=time.time()\n",
    "    print (\"cost:\",t2-t1)\n",
    "    return contents_lines\n",
    "\n",
    "def getRatingInformation(ratings):\n",
    "    t1=time.time()\n",
    "    rates=[]\n",
    "    for line in ratings:\n",
    "        rate=line.split(\"\\t\")\n",
    "        rates.append([float(rate[0]),float(rate[1]),float(rate[2])])\n",
    "    t2=time.time()\n",
    "    print (\"cost:\",t2-t1)\n",
    "    return rates\n",
    "\n",
    "\n",
    "\n",
    "test_contents = readFile(train_file)\n",
    "test_rates = getRatingInformation(test_contents)\n",
    "test_rates"
   ]
  },
  {
   "cell_type": "code",
   "execution_count": 2,
   "metadata": {
    "ExecuteTime": {
     "end_time": "2020-10-19T12:30:11.854381Z",
     "start_time": "2020-10-19T12:30:11.005246Z"
    }
   },
   "outputs": [
    {
     "data": {
      "text/plain": [
       "array([[0.        , 0.46880684],\n",
       "       [0.55699523, 0.3894146 ],\n",
       "       [1.00331638, 0.41925352],\n",
       "       [1.6733999 , 0.22926926],\n",
       "       [2.34349311, 0.03927954],\n",
       "       [2.78981512, 0.06911798]])"
      ]
     },
     "execution_count": 2,
     "metadata": {},
     "output_type": "execute_result"
    },
    {
     "data": {
      "text/plain": [
       "array([[2.09783018, 0.30560234],\n",
       "       [2.13443044, 2.13171694]])"
      ]
     },
     "execution_count": 2,
     "metadata": {},
     "output_type": "execute_result"
    }
   ],
   "source": [
    "import numpy as np\n",
    "X = np.array([[1, 1], [2, 1], [3, 1.2], [4, 1], [5, 0.8], [6, 1]])\n",
    "from sklearn.decomposition import NMF\n",
    "model = NMF(n_components=2, init='random', random_state=0)\n",
    "W = model.fit_transform(X)\n",
    "H = model.components_\n",
    "W\n",
    "H"
   ]
  },
  {
   "cell_type": "code",
   "execution_count": null,
   "metadata": {},
   "outputs": [],
   "source": []
  }
 ],
 "metadata": {
  "kernelspec": {
   "display_name": "Python 3",
   "language": "python",
   "name": "python3"
  },
  "language_info": {
   "codemirror_mode": {
    "name": "ipython",
    "version": 3
   },
   "file_extension": ".py",
   "mimetype": "text/x-python",
   "name": "python",
   "nbconvert_exporter": "python",
   "pygments_lexer": "ipython3",
   "version": "3.7.6"
  },
  "toc": {
   "base_numbering": 1,
   "nav_menu": {},
   "number_sections": true,
   "sideBar": true,
   "skip_h1_title": false,
   "title_cell": "Table of Contents",
   "title_sidebar": "Contents",
   "toc_cell": false,
   "toc_position": {},
   "toc_section_display": true,
   "toc_window_display": true
  }
 },
 "nbformat": 4,
 "nbformat_minor": 4
}
