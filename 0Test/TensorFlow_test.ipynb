{
 "cells": [
  {
   "cell_type": "code",
   "execution_count": 30,
   "metadata": {},
   "outputs": [],
   "source": [
    "# package imports\n",
    "import pandas as pd\n",
    "import numpy as np \n",
    "from IPython.core.interactiveshell import InteractiveShell\n",
    "InteractiveShell.ast_node_interactivity = \"all\"\n",
    "\n",
    "import matplotlib.pyplot as plt\n",
    "%matplotlib inline\n",
    "\n",
    "import tensorflow as tf\n",
    "from tensorflow import keras"
   ]
  },
  {
   "cell_type": "markdown",
   "metadata": {},
   "source": [
    "# 数据\n",
    "数值（主要用这个）、字符串、布尔"
   ]
  },
  {
   "cell_type": "markdown",
   "metadata": {},
   "source": [
    "## 数值类型"
   ]
  },
  {
   "cell_type": "code",
   "execution_count": 16,
   "metadata": {},
   "outputs": [
    {
     "data": {
      "text/plain": [
       "<tf.Tensor: id=25, shape=(), dtype=float32, numpy=1.2>"
      ]
     },
     "execution_count": 16,
     "metadata": {},
     "output_type": "execute_result"
    },
    {
     "data": {
      "text/plain": [
       "<tf.Tensor: id=26, shape=(3,), dtype=float32, numpy=array([1. , 2. , 3.3], dtype=float32)>"
      ]
     },
     "execution_count": 16,
     "metadata": {},
     "output_type": "execute_result"
    },
    {
     "data": {
      "text/plain": [
       "<tf.Tensor: id=27, shape=(), dtype=string, numpy=b'maowei'>"
      ]
     },
     "execution_count": 16,
     "metadata": {},
     "output_type": "execute_result"
    },
    {
     "data": {
      "text/plain": [
       "<tf.Tensor: id=28, shape=(), dtype=bool, numpy=True>"
      ]
     },
     "execution_count": 16,
     "metadata": {},
     "output_type": "execute_result"
    }
   ],
   "source": [
    "num = tf.constant(1.2)\n",
    "num\n",
    "num = tf.constant([1,2.,3.3])\n",
    "num\n",
    "\n",
    "str = tf.constant('maowei')\n",
    "str\n",
    "\n",
    "boo = tf.constant(True)\n",
    "boo"
   ]
  },
  {
   "cell_type": "markdown",
   "metadata": {},
   "source": [
    "## 类型转换"
   ]
  },
  {
   "cell_type": "markdown",
   "metadata": {
    "toc-hr-collapsed": false
   },
   "source": [
    "## 数据操作"
   ]
  },
  {
   "cell_type": "markdown",
   "metadata": {},
   "source": [
    "### 创建"
   ]
  },
  {
   "cell_type": "code",
   "execution_count": 18,
   "metadata": {},
   "outputs": [
    {
     "data": {
      "text/plain": [
       "<tf.Tensor: id=36, shape=(5,), dtype=int32, numpy=array([94, 53, 50, 58, 82], dtype=int32)>"
      ]
     },
     "execution_count": 18,
     "metadata": {},
     "output_type": "execute_result"
    }
   ],
   "source": [
    "tf.random.uniform([5],maxval=100,dtype=tf.int32)"
   ]
  },
  {
   "cell_type": "code",
   "execution_count": 21,
   "metadata": {
    "collapsed": true,
    "jupyter": {
     "outputs_hidden": true
    }
   },
   "outputs": [
    {
     "data": {
      "text/plain": [
       "[<tf.Variable 'dense_2/kernel:0' shape=(784, 512) dtype=float32, numpy=\n",
       " array([[ 0.04984554,  0.04712541,  0.03975577, ...,  0.02985692,\n",
       "         -0.05768434, -0.01323285],\n",
       "        [-0.06009118,  0.0496932 ,  0.0340799 , ..., -0.01568665,\n",
       "          0.02476484, -0.011956  ],\n",
       "        [ 0.0121459 , -0.0022179 , -0.06405416, ...,  0.01963593,\n",
       "         -0.04445248,  0.00130545],\n",
       "        ...,\n",
       "        [ 0.02898338,  0.00032837, -0.01014856, ...,  0.02102096,\n",
       "         -0.01813108,  0.02801073],\n",
       "        [ 0.05427015, -0.03215735, -0.05066388, ..., -0.05369793,\n",
       "         -0.01244892,  0.03419153],\n",
       "        [-0.04729349,  0.02228568, -0.05532363, ..., -0.0495715 ,\n",
       "         -0.04757553,  0.05096141]], dtype=float32)>,\n",
       " <tf.Variable 'dense_2/bias:0' shape=(512,) dtype=float32, numpy=\n",
       " array([0., 0., 0., 0., 0., 0., 0., 0., 0., 0., 0., 0., 0., 0., 0., 0., 0.,\n",
       "        0., 0., 0., 0., 0., 0., 0., 0., 0., 0., 0., 0., 0., 0., 0., 0., 0.,\n",
       "        0., 0., 0., 0., 0., 0., 0., 0., 0., 0., 0., 0., 0., 0., 0., 0., 0.,\n",
       "        0., 0., 0., 0., 0., 0., 0., 0., 0., 0., 0., 0., 0., 0., 0., 0., 0.,\n",
       "        0., 0., 0., 0., 0., 0., 0., 0., 0., 0., 0., 0., 0., 0., 0., 0., 0.,\n",
       "        0., 0., 0., 0., 0., 0., 0., 0., 0., 0., 0., 0., 0., 0., 0., 0., 0.,\n",
       "        0., 0., 0., 0., 0., 0., 0., 0., 0., 0., 0., 0., 0., 0., 0., 0., 0.,\n",
       "        0., 0., 0., 0., 0., 0., 0., 0., 0., 0., 0., 0., 0., 0., 0., 0., 0.,\n",
       "        0., 0., 0., 0., 0., 0., 0., 0., 0., 0., 0., 0., 0., 0., 0., 0., 0.,\n",
       "        0., 0., 0., 0., 0., 0., 0., 0., 0., 0., 0., 0., 0., 0., 0., 0., 0.,\n",
       "        0., 0., 0., 0., 0., 0., 0., 0., 0., 0., 0., 0., 0., 0., 0., 0., 0.,\n",
       "        0., 0., 0., 0., 0., 0., 0., 0., 0., 0., 0., 0., 0., 0., 0., 0., 0.,\n",
       "        0., 0., 0., 0., 0., 0., 0., 0., 0., 0., 0., 0., 0., 0., 0., 0., 0.,\n",
       "        0., 0., 0., 0., 0., 0., 0., 0., 0., 0., 0., 0., 0., 0., 0., 0., 0.,\n",
       "        0., 0., 0., 0., 0., 0., 0., 0., 0., 0., 0., 0., 0., 0., 0., 0., 0.,\n",
       "        0., 0., 0., 0., 0., 0., 0., 0., 0., 0., 0., 0., 0., 0., 0., 0., 0.,\n",
       "        0., 0., 0., 0., 0., 0., 0., 0., 0., 0., 0., 0., 0., 0., 0., 0., 0.,\n",
       "        0., 0., 0., 0., 0., 0., 0., 0., 0., 0., 0., 0., 0., 0., 0., 0., 0.,\n",
       "        0., 0., 0., 0., 0., 0., 0., 0., 0., 0., 0., 0., 0., 0., 0., 0., 0.,\n",
       "        0., 0., 0., 0., 0., 0., 0., 0., 0., 0., 0., 0., 0., 0., 0., 0., 0.,\n",
       "        0., 0., 0., 0., 0., 0., 0., 0., 0., 0., 0., 0., 0., 0., 0., 0., 0.,\n",
       "        0., 0., 0., 0., 0., 0., 0., 0., 0., 0., 0., 0., 0., 0., 0., 0., 0.,\n",
       "        0., 0., 0., 0., 0., 0., 0., 0., 0., 0., 0., 0., 0., 0., 0., 0., 0.,\n",
       "        0., 0., 0., 0., 0., 0., 0., 0., 0., 0., 0., 0., 0., 0., 0., 0., 0.,\n",
       "        0., 0., 0., 0., 0., 0., 0., 0., 0., 0., 0., 0., 0., 0., 0., 0., 0.,\n",
       "        0., 0., 0., 0., 0., 0., 0., 0., 0., 0., 0., 0., 0., 0., 0., 0., 0.,\n",
       "        0., 0., 0., 0., 0., 0., 0., 0., 0., 0., 0., 0., 0., 0., 0., 0., 0.,\n",
       "        0., 0., 0., 0., 0., 0., 0., 0., 0., 0., 0., 0., 0., 0., 0., 0., 0.,\n",
       "        0., 0., 0., 0., 0., 0., 0., 0., 0., 0., 0., 0., 0., 0., 0., 0., 0.,\n",
       "        0., 0., 0., 0., 0., 0., 0., 0., 0., 0., 0., 0., 0., 0., 0., 0., 0.,\n",
       "        0., 0.], dtype=float32)>]"
      ]
     },
     "execution_count": 21,
     "metadata": {},
     "output_type": "execute_result"
    }
   ],
   "source": [
    "from tensorflow.keras import layers # 导入层模块\n",
    "x = tf.random.normal([4,28*28])\n",
    "# 创建全连接层，指定输出节点数和激活函数\n",
    "fc = layers.Dense(512, activation=tf.nn.relu)\n",
    "h = fc(x)\n",
    "fc.variables"
   ]
  },
  {
   "cell_type": "code",
   "execution_count": 23,
   "metadata": {},
   "outputs": [
    {
     "data": {
      "text/plain": [
       "<tf.Tensor: id=142, shape=(3,), dtype=float32, numpy=array([0.33333334, 0.33333334, 0.33333334], dtype=float32)>"
      ]
     },
     "execution_count": 23,
     "metadata": {},
     "output_type": "execute_result"
    }
   ],
   "source": [
    "z = tf.constant([1.,1.,1.])\n",
    "tf.nn.softmax(z)"
   ]
  },
  {
   "cell_type": "code",
   "execution_count": 25,
   "metadata": {},
   "outputs": [
    {
     "data": {
      "text/plain": [
       "<tf.Tensor: id=152, shape=(2, 10), dtype=float32, numpy=\n",
       "array([[0., 1., 0., 0., 0., 0., 0., 0., 0., 0.],\n",
       "       [0., 0., 0., 1., 0., 0., 0., 0., 0., 0.]], dtype=float32)>"
      ]
     },
     "execution_count": 25,
     "metadata": {},
     "output_type": "execute_result"
    }
   ],
   "source": [
    "y_onehot = tf.constant([1,3]) # 构造真实值\n",
    "y_onehot = tf.one_hot(y_onehot, depth=10)\n",
    "y_onehot"
   ]
  },
  {
   "cell_type": "code",
   "execution_count": 29,
   "metadata": {
    "collapsed": true,
    "jupyter": {
     "outputs_hidden": true
    }
   },
   "outputs": [
    {
     "data": {
      "text/plain": [
       "<tf.Tensor: id=173, shape=(32, 1), dtype=int32, numpy=\n",
       "array([[3],\n",
       "       [7],\n",
       "       [0],\n",
       "       [0],\n",
       "       [2],\n",
       "       [7],\n",
       "       [5],\n",
       "       [7],\n",
       "       [8],\n",
       "       [2],\n",
       "       [4],\n",
       "       [4],\n",
       "       [6],\n",
       "       [6],\n",
       "       [5],\n",
       "       [9],\n",
       "       [1],\n",
       "       [7],\n",
       "       [1],\n",
       "       [7],\n",
       "       [3],\n",
       "       [1],\n",
       "       [1],\n",
       "       [5],\n",
       "       [1],\n",
       "       [4],\n",
       "       [1],\n",
       "       [2],\n",
       "       [8],\n",
       "       [7],\n",
       "       [3],\n",
       "       [5]], dtype=int32)>"
      ]
     },
     "execution_count": 29,
     "metadata": {},
     "output_type": "execute_result"
    },
    {
     "data": {
      "text/plain": [
       "<tf.Tensor: id=175, shape=(2, 32, 4), dtype=int32, numpy=\n",
       "array([[[3, 3, 3, 3],\n",
       "        [7, 7, 7, 7],\n",
       "        [0, 0, 0, 0],\n",
       "        [0, 0, 0, 0],\n",
       "        [2, 2, 2, 2],\n",
       "        [7, 7, 7, 7],\n",
       "        [5, 5, 5, 5],\n",
       "        [7, 7, 7, 7],\n",
       "        [8, 8, 8, 8],\n",
       "        [2, 2, 2, 2],\n",
       "        [4, 4, 4, 4],\n",
       "        [4, 4, 4, 4],\n",
       "        [6, 6, 6, 6],\n",
       "        [6, 6, 6, 6],\n",
       "        [5, 5, 5, 5],\n",
       "        [9, 9, 9, 9],\n",
       "        [1, 1, 1, 1],\n",
       "        [7, 7, 7, 7],\n",
       "        [1, 1, 1, 1],\n",
       "        [7, 7, 7, 7],\n",
       "        [3, 3, 3, 3],\n",
       "        [1, 1, 1, 1],\n",
       "        [1, 1, 1, 1],\n",
       "        [5, 5, 5, 5],\n",
       "        [1, 1, 1, 1],\n",
       "        [4, 4, 4, 4],\n",
       "        [1, 1, 1, 1],\n",
       "        [2, 2, 2, 2],\n",
       "        [8, 8, 8, 8],\n",
       "        [7, 7, 7, 7],\n",
       "        [3, 3, 3, 3],\n",
       "        [5, 5, 5, 5]],\n",
       "\n",
       "       [[3, 3, 3, 3],\n",
       "        [7, 7, 7, 7],\n",
       "        [0, 0, 0, 0],\n",
       "        [0, 0, 0, 0],\n",
       "        [2, 2, 2, 2],\n",
       "        [7, 7, 7, 7],\n",
       "        [5, 5, 5, 5],\n",
       "        [7, 7, 7, 7],\n",
       "        [8, 8, 8, 8],\n",
       "        [2, 2, 2, 2],\n",
       "        [4, 4, 4, 4],\n",
       "        [4, 4, 4, 4],\n",
       "        [6, 6, 6, 6],\n",
       "        [6, 6, 6, 6],\n",
       "        [5, 5, 5, 5],\n",
       "        [9, 9, 9, 9],\n",
       "        [1, 1, 1, 1],\n",
       "        [7, 7, 7, 7],\n",
       "        [1, 1, 1, 1],\n",
       "        [7, 7, 7, 7],\n",
       "        [3, 3, 3, 3],\n",
       "        [1, 1, 1, 1],\n",
       "        [1, 1, 1, 1],\n",
       "        [5, 5, 5, 5],\n",
       "        [1, 1, 1, 1],\n",
       "        [4, 4, 4, 4],\n",
       "        [1, 1, 1, 1],\n",
       "        [2, 2, 2, 2],\n",
       "        [8, 8, 8, 8],\n",
       "        [7, 7, 7, 7],\n",
       "        [3, 3, 3, 3],\n",
       "        [5, 5, 5, 5]]], dtype=int32)>"
      ]
     },
     "execution_count": 29,
     "metadata": {},
     "output_type": "execute_result"
    }
   ],
   "source": [
    "A = tf.random.uniform([32,1],maxval=10,dtype=tf.int32)# 创建矩阵\n",
    "A\n",
    "B =  tf.broadcast_to(A, [2,32,4])# 扩展为 4D 张量\n",
    "B"
   ]
  },
  {
   "cell_type": "markdown",
   "metadata": {},
   "source": [
    "# kears接口"
   ]
  },
  {
   "cell_type": "code",
   "execution_count": 31,
   "metadata": {},
   "outputs": [],
   "source": [
    "from tensorflow.keras import layers, Sequential"
   ]
  },
  {
   "cell_type": "code",
   "execution_count": 34,
   "metadata": {},
   "outputs": [
    {
     "name": "stdout",
     "output_type": "stream",
     "text": [
      "Model: \"sequential_2\"\n",
      "_________________________________________________________________\n",
      "Layer (type)                 Output Shape              Param #   \n",
      "=================================================================\n",
      "dense_7 (Dense)              multiple                  15        \n",
      "_________________________________________________________________\n",
      "re_lu_4 (ReLU)               multiple                  0         \n",
      "_________________________________________________________________\n",
      "dense_8 (Dense)              multiple                  8         \n",
      "_________________________________________________________________\n",
      "re_lu_5 (ReLU)               multiple                  0         \n",
      "=================================================================\n",
      "Total params: 23\n",
      "Trainable params: 23\n",
      "Non-trainable params: 0\n",
      "_________________________________________________________________\n"
     ]
    }
   ],
   "source": [
    "network = Sequential([ # 封装为一个网络\n",
    "\n",
    "layers.Dense(3, activation=None), # 全连接层，此处不使用激活函数\n",
    "\n",
    "layers.ReLU(),#激活函数层\n",
    "\n",
    "layers.Dense(2, activation=None), # 全连接层，此处不使用激活函数\n",
    "\n",
    "layers.ReLU() #激活函数层\n",
    "\n",
    "])\n",
    "\n",
    "network.build(input_shape=(4, 4))\n",
    "network.summary()"
   ]
  },
  {
   "cell_type": "code",
   "execution_count": null,
   "metadata": {},
   "outputs": [],
   "source": []
  }
 ],
 "metadata": {
  "kernelspec": {
   "display_name": "Python 3",
   "language": "python",
   "name": "python3"
  },
  "language_info": {
   "codemirror_mode": {
    "name": "ipython",
    "version": 3
   },
   "file_extension": ".py",
   "mimetype": "text/x-python",
   "name": "python",
   "nbconvert_exporter": "python",
   "pygments_lexer": "ipython3",
   "version": "3.7.6"
  },
  "toc-autonumbering": true
 },
 "nbformat": 4,
 "nbformat_minor": 4
}
