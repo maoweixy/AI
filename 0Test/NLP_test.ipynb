{
 "cells": [
  {
   "cell_type": "code",
   "execution_count": 5,
   "metadata": {},
   "outputs": [],
   "source": [
    "import tensorflow as tf\n",
    "from tensorflow import keras\n",
    "from tensorflow.keras import layers\n",
    "\n",
    "# import tensorflow_datasets as tfds\n"
   ]
  },
  {
   "cell_type": "code",
   "execution_count": 10,
   "metadata": {},
   "outputs": [
    {
     "data": {
      "text/plain": [
       "array([[[ 0.0111839 ,  0.02180843,  0.04219544,  0.01578913,\n",
       "          0.02054564],\n",
       "        [-0.04402554,  0.00548603, -0.02526723,  0.03031888,\n",
       "         -0.03300706],\n",
       "        [-0.04402554,  0.00548603, -0.02526723,  0.03031888,\n",
       "         -0.03300706]],\n",
       "\n",
       "       [[-0.04402554,  0.00548603, -0.02526723,  0.03031888,\n",
       "         -0.03300706],\n",
       "        [ 0.0111839 ,  0.02180843,  0.04219544,  0.01578913,\n",
       "          0.02054564],\n",
       "        [-0.04402554,  0.00548603, -0.02526723,  0.03031888,\n",
       "         -0.03300706]]], dtype=float32)"
      ]
     },
     "execution_count": 10,
     "metadata": {},
     "output_type": "execute_result"
    }
   ],
   "source": [
    "embedding_layer = layers.Embedding(1000, 5)\n",
    "# result = embedding_layer(tf.constant([1,2,3]))\n",
    "result = embedding_layer(tf.constant([[1,0,0],[0,1,0]]))\n",
    "result.numpy()\n",
    "# result.shape"
   ]
  },
  {
   "cell_type": "code",
   "execution_count": null,
   "metadata": {},
   "outputs": [],
   "source": []
  }
 ],
 "metadata": {
  "kernelspec": {
   "display_name": "Python 3",
   "language": "python",
   "name": "python3"
  },
  "language_info": {
   "codemirror_mode": {
    "name": "ipython",
    "version": 3
   },
   "file_extension": ".py",
   "mimetype": "text/x-python",
   "name": "python",
   "nbconvert_exporter": "python",
   "pygments_lexer": "ipython3",
   "version": "3.7.6"
  }
 },
 "nbformat": 4,
 "nbformat_minor": 4
}
